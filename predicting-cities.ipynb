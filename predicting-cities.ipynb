{
 "cells": [
  {
   "cell_type": "code",
   "execution_count": 1,
   "metadata": {
    "colab": {
     "base_uri": "https://localhost:8080/"
    },
    "id": "iXQfUTayFg2l",
    "outputId": "140f2379-a732-4dda-ab2a-0a0b077959fc"
   },
   "outputs": [
    {
     "name": "stderr",
     "output_type": "stream",
     "text": [
      "/vol/bitbucket/wwc4618/venv/lib/python3.8/site-packages/geopandas/_compat.py:111: UserWarning: The Shapely GEOS version (3.10.2-CAPI-1.16.0) is incompatible with the GEOS version PyGEOS was compiled with (3.10.1-CAPI-1.16.0). Conversions between both will be slow.\n",
      "  warnings.warn(\n"
     ]
    },
    {
     "name": "stdout",
     "output_type": "stream",
     "text": [
      "Wed May 25 23:19:14 2022       \n",
      "+-----------------------------------------------------------------------------+\n",
      "| NVIDIA-SMI 470.103.01   Driver Version: 470.103.01   CUDA Version: 11.4     |\n",
      "|-------------------------------+----------------------+----------------------+\n",
      "| GPU  Name        Persistence-M| Bus-Id        Disp.A | Volatile Uncorr. ECC |\n",
      "| Fan  Temp  Perf  Pwr:Usage/Cap|         Memory-Usage | GPU-Util  Compute M. |\n",
      "|                               |                      |               MIG M. |\n",
      "|===============================+======================+======================|\n",
      "|   0  NVIDIA GeForce ...  Off  | 00000000:21:00.0 Off |                  N/A |\n",
      "| 33%   48C    P2    68W / 250W |   7991MiB / 11019MiB |      0%      Default |\n",
      "|                               |                      |                  N/A |\n",
      "+-------------------------------+----------------------+----------------------+\n",
      "                                                                               \n",
      "+-----------------------------------------------------------------------------+\n",
      "| Processes:                                                                  |\n",
      "|  GPU   GI   CI        PID   Type   Process name                  GPU Memory |\n",
      "|        ID   ID                                                   Usage      |\n",
      "|=============================================================================|\n",
      "|    0   N/A  N/A   3420116      C   ...8/dl_cw_pyenv/bin/python3     1187MiB |\n",
      "|    0   N/A  N/A   3507543      C   ...8/dl_cw_pyenv/bin/python3     1187MiB |\n",
      "|    0   N/A  N/A   4156201      G   /usr/lib/xorg/Xorg                 75MiB |\n",
      "+-----------------------------------------------------------------------------+\n"
     ]
    }
   ],
   "source": [
    "import torch\n",
    "import torch.nn as nn\n",
    "import torch.nn.functional as F\n",
    "import matplotlib.pyplot as plt\n",
    "import seaborn as sns\n",
    "sns.set_theme(color_codes=True)\n",
    "import numpy as np\n",
    "import math\n",
    "import torch_geometric\n",
    "import pandas as pd\n",
    "import geopandas as gpd\n",
    "import momepy\n",
    "\n",
    "import networkx as nx\n",
    "import networkx.algorithms.community as nx_comm\n",
    "from sklearn.cluster import KMeans\n",
    "\n",
    "from utils.load_data import load_city_cluster_df, load_gva_df, load_deprivation_df\n",
    "from utils.load_geodata import load_gdf, load_graph\n",
    "from utils.constants import project_root, dataset_root\n",
    "from utils.constants import rank_fields, log_fields, all_feature_fields, included_places\n",
    "\n",
    "device = torch.device('cuda' if torch.cuda.is_available() else 'cpu')\n",
    "!nvidia-smi"
   ]
  },
  {
   "cell_type": "markdown",
   "metadata": {},
   "source": [
    "# Dataset Construction"
   ]
  },
  {
   "cell_type": "code",
   "execution_count": 2,
   "metadata": {
    "colab": {
     "base_uri": "https://localhost:8080/"
    },
    "id": "F0lkjKOX9KP9",
    "outputId": "cc223d13-efbd-429e-ea30-1653d77a4eee"
   },
   "outputs": [],
   "source": [
    "# training_places = ['Coventry'] # for testing\n",
    "training_places = ['Leeds', 'Cambridge', 'Coventry', 'Bristol', 'Leicester', 'Glasgow']\n",
    "# training_places = [full_dataset_label]\n",
    "test_places = ['Leeds', 'Manchester', 'Sheffield', 'Liverpool', 'Edinburgh', 'Wales']\n",
    "true_inductive = ['nashville indiana', 'belfast', 'manhattan', 'singapore', 'tokyo']\n",
    "\n",
    "\n",
    "# Projection\n",
    "from pyproj import CRS, Transformer\n",
    "crs_proj = CRS.from_epsg(27700)\n",
    "crs_4326 = CRS(\"WGS84\")\n",
    "transformer = Transformer.from_crs(crs_4326, crs_proj)\n",
    "\n",
    "def proj_and_reorder_bounds(bbox):\n",
    "  S, W, N, E = bbox\n",
    "  [S, N], [W, E] = transformer.transform([S, N], [W, E])\n",
    "  return (S, W, N, E)\n"
   ]
  },
  {
   "cell_type": "code",
   "execution_count": 3,
   "metadata": {
    "colab": {
     "base_uri": "https://localhost:8080/",
     "height": 982
    },
    "id": "8tKbyZGIE_8i",
    "outputId": "8307f1d2-0344-46cc-d09a-19c7e703d215"
   },
   "outputs": [],
   "source": [
    "from shapely.geometry import LineString\n",
    "\n",
    "# Data processing parameters\n",
    "radii = { # metres\n",
    "    '2km': 2000,\n",
    "    '10km': 10000,\n",
    "    '100km': 100000\n",
    "}\n",
    "radius = '2km' # for larger radii either turn off boundary masking or widen bbox\n",
    "modifier = 'rank'\n",
    "geoms = 2\n",
    "classes = 0\n",
    "\n",
    "def add_boundary_mask(gdf, place, rad, verbose=False):\n",
    "    \"\"\"Add flag column to indicate geometries within 'rad' of the bounding box\n",
    "       No masking if loading full dataset\"\"\"\n",
    "    if place == full_dataset_label:\n",
    "        s = True\n",
    "        masked_count = 0\n",
    "    else:\n",
    "        if place in bboxes:\n",
    "            # Use defined boundaries\n",
    "            S, W, N, E = proj_and_reorder_bounds(bboxes[place])\n",
    "        else:\n",
    "            # Use total bounds (For osmnx-loaded graphs)\n",
    "            W, S, E, N = gdf.geometry.total_bounds\n",
    "        boundary_line = LineString([(S, W), (N, W), (N, E), (S, E), (S, W)])\n",
    "        boundary = boundary_line.buffer(radii[rad])\n",
    "        s = gdf.geometry.disjoint(boundary)\n",
    "        masked_count = gdf.size - s.sum()\n",
    "    if verbose:\n",
    "        print(f'Masking {masked_count} out of {gdf.size} geometries within boundary buffer')\n",
    "    gdf['boundary_mask'] = s\n"
   ]
  },
  {
   "cell_type": "markdown",
   "metadata": {
    "id": "aJAhcotL7n8J"
   },
   "source": [
    "# Construct SSx Graph dataset"
   ]
  },
  {
   "cell_type": "code",
   "execution_count": null,
   "metadata": {
    "colab": {
     "base_uri": "https://localhost:8080/"
    },
    "id": "jTKO9ZGc0J40",
    "outputId": "fbe0c8c6-780a-4548-d791-2a3b3b5fd04d"
   },
   "outputs": [],
   "source": [
    "import os\n",
    "import os.path as osp\n",
    "from itertools import chain\n",
    "from virtual_node import VirtualNode\n",
    "from torch_geometric.utils.convert import from_networkx\n",
    "from torch_geometric.transforms import OneHotDegree, NormalizeFeatures\n",
    "from torch_geometric.data import Batch, InMemoryDataset, download_url, extract_zip\n",
    "\n",
    "# For one hot encoding of node degrees\n",
    "max_deg = 16\n",
    "\n",
    "def process_graph(g, feature_fields=[]):\n",
    "    node_fields = set(chain.from_iterable(d.keys() for *_, d in g.nodes(data=True)))\n",
    "    to_delete_fields = [field for field in node_fields if field not in feature_fields]\n",
    "    for _, d in g.nodes(data=True):\n",
    "        # remove non float-attributes\n",
    "        for attr in to_delete_fields:\n",
    "            del d[attr]\n",
    "    return g\n",
    "\n",
    "def print_graph_properties(g):\n",
    "    # Gather some statistics about the graph.\n",
    "    print(f'Number of nodes: {g.num_nodes}')\n",
    "    print(f'Number of edges: {g.num_edges}')\n",
    "    print(f'Average node degree: {g.num_edges / g.num_nodes:.2f}')\n",
    "    print(f'Number of training nodes: {g.train_mask.sum()}')\n",
    "    print(f'Training node label rate: {int(g.train_mask.sum()) / g.num_nodes:.2f}')\n",
    "    print(f'Has isolated nodes: {g.has_isolated_nodes()}')\n",
    "    print(f'Has self-loops: {g.has_self_loops()}')\n",
    "    print(f'Is undirected: {g.is_undirected()}')\n",
    "\n",
    "def load_graphs(df, la_col_name, virtual_node=False,\n",
    "                feature_fields=[], target_attrs=[]):\n",
    "    print('Test')\n",
    "    data_list = []\n",
    "    la_names = df[la_col_name].unique()\n",
    "    for place in included_places:\n",
    "        if place in la_names:\n",
    "            g = load_graph(place, feature_fields, verbose=True)\n",
    "            \n",
    "            # Normalize node features\n",
    "            g = NormalizeFeatures()(g)\n",
    "            \n",
    "            # Add virtual node\n",
    "            if virtual_node:\n",
    "                g = VirtualNode()(g)\n",
    "            \n",
    "            # One hot encode degree if no node features\n",
    "            if g.num_node_features == 0:\n",
    "                g = OneHotDegree(max_deg)(g)\n",
    "            \n",
    "            # Get row corresponding to place\n",
    "            row = df.query(f'`{la_col_name}` == \"{place}\"')\n",
    "\n",
    "            # Obtain target attribute(s)\n",
    "            ys = []\n",
    "            for target in target_attrs:\n",
    "                ys.append(row.iloc[0][target])\n",
    "            \n",
    "            # Set graph target attribute\n",
    "            g.y = torch.tensor([ys])\n",
    "            data_list.append(g)\n",
    "    return data_list\n"
   ]
  },
  {
   "cell_type": "code",
   "execution_count": null,
   "metadata": {},
   "outputs": [
    {
     "name": "stderr",
     "output_type": "stream",
     "text": [
      "/homes/wwc4618/predicting-choice/utils/remove_false_nodes.py:97: FutureWarning: The frame.append method is deprecated and will be removed from pandas in a future version. Use pandas.concat instead.\n",
      "  return df.append(\n"
     ]
    },
    {
     "name": "stdout",
     "output_type": "stream",
     "text": [
      "69680 geometries retrieved from Caerphilly\n",
      "Generated graph with 2550 nodes and 3363 edges\n",
      "Node features: ['metres', 'choice2km', 'nodecount2km', 'integration2km', 'choice10km', 'nodecount10km', 'integration10km', 'choice100km', 'nodecount100km', 'integration100km', 'choice2kmrank', 'choice10kmrank', 'integration10kmrank', 'integration2kmrank', 'choice2kmlog', 'choice10kmlog', 'choice100kmlog', 'x', 'y']\n",
      "Node target: None\n",
      "Edge attributes: {'u', 'v'}\n",
      "Loading graph of Ribble Valley with key ('Ribble Valley', \"['metres', 'choice2km', 'nodecount2km', 'integration2km', 'choice10km', 'nodecount10km', 'integration10km', 'choice100km', 'nodecount100km', 'integration100km', 'choice2kmrank', 'choice10kmrank', 'integration10kmrank', 'integration2kmrank', 'choice2kmlog', 'choice10kmlog', 'choice100kmlog']\", None, 'primal', 'False', True, 50, False)...\n",
      "Loading Ribble Valley from SSx\n"
     ]
    },
    {
     "name": "stderr",
     "output_type": "stream",
     "text": [
      "/homes/wwc4618/predicting-choice/utils/remove_false_nodes.py:97: FutureWarning: The frame.append method is deprecated and will be removed from pandas in a future version. Use pandas.concat instead.\n",
      "  return df.append(\n"
     ]
    },
    {
     "name": "stdout",
     "output_type": "stream",
     "text": [
      "27220 geometries retrieved from Ribble Valley\n",
      "Generated graph with 1013 nodes and 1329 edges\n",
      "Node features: ['metres', 'choice2km', 'nodecount2km', 'integration2km', 'choice10km', 'nodecount10km', 'integration10km', 'choice100km', 'nodecount100km', 'integration100km', 'choice2kmrank', 'choice10kmrank', 'integration10kmrank', 'integration2kmrank', 'choice2kmlog', 'choice10kmlog', 'choice100kmlog', 'x', 'y']\n",
      "Node target: None\n",
      "Edge attributes: {'u', 'v'}\n",
      "Loading graph of The Vale of Glamorgan with key ('The Vale of Glamorgan', \"['metres', 'choice2km', 'nodecount2km', 'integration2km', 'choice10km', 'nodecount10km', 'integration10km', 'choice100km', 'nodecount100km', 'integration100km', 'choice2kmrank', 'choice10kmrank', 'integration10kmrank', 'integration2kmrank', 'choice2kmlog', 'choice10kmlog', 'choice100kmlog']\", None, 'primal', 'False', True, 50, False)...\n",
      "Loading The Vale of Glamorgan from SSx\n"
     ]
    },
    {
     "name": "stderr",
     "output_type": "stream",
     "text": [
      "/homes/wwc4618/predicting-choice/utils/remove_false_nodes.py:97: FutureWarning: The frame.append method is deprecated and will be removed from pandas in a future version. Use pandas.concat instead.\n",
      "  return df.append(\n"
     ]
    },
    {
     "name": "stdout",
     "output_type": "stream",
     "text": [
      "55220 geometries retrieved from The Vale of Glamorgan\n",
      "Generated graph with 1972 nodes and 2701 edges\n",
      "Node features: ['metres', 'choice2km', 'nodecount2km', 'integration2km', 'choice10km', 'nodecount10km', 'integration10km', 'choice100km', 'nodecount100km', 'integration100km', 'choice2kmrank', 'choice10kmrank', 'integration10kmrank', 'integration2kmrank', 'choice2kmlog', 'choice10kmlog', 'choice100kmlog', 'x', 'y']\n",
      "Node target: None\n",
      "Edge attributes: {'u', 'v'}\n",
      "Loading graph of Bridgend with key ('Bridgend', \"['metres', 'choice2km', 'nodecount2km', 'integration2km', 'choice10km', 'nodecount10km', 'integration10km', 'choice100km', 'nodecount100km', 'integration100km', 'choice2kmrank', 'choice10kmrank', 'integration10kmrank', 'integration2kmrank', 'choice2kmlog', 'choice10kmlog', 'choice100kmlog']\", None, 'primal', 'False', True, 50, False)...\n",
      "Loading Bridgend from SSx\n"
     ]
    },
    {
     "name": "stderr",
     "output_type": "stream",
     "text": [
      "/homes/wwc4618/predicting-choice/utils/remove_false_nodes.py:97: FutureWarning: The frame.append method is deprecated and will be removed from pandas in a future version. Use pandas.concat instead.\n",
      "  return df.append(\n"
     ]
    },
    {
     "name": "stdout",
     "output_type": "stream",
     "text": [
      "52900 geometries retrieved from Bridgend\n",
      "Generated graph with 1918 nodes and 2529 edges\n",
      "Node features: ['metres', 'choice2km', 'nodecount2km', 'integration2km', 'choice10km', 'nodecount10km', 'integration10km', 'choice100km', 'nodecount100km', 'integration100km', 'choice2kmrank', 'choice10kmrank', 'integration10kmrank', 'integration2kmrank', 'choice2kmlog', 'choice10kmlog', 'choice100kmlog', 'x', 'y']\n",
      "Node target: None\n",
      "Edge attributes: {'u', 'v'}\n",
      "Loading graph of Neath Port Talbot with key ('Neath Port Talbot', \"['metres', 'choice2km', 'nodecount2km', 'integration2km', 'choice10km', 'nodecount10km', 'integration10km', 'choice100km', 'nodecount100km', 'integration100km', 'choice2kmrank', 'choice10kmrank', 'integration10kmrank', 'integration2kmrank', 'choice2kmlog', 'choice10kmlog', 'choice100kmlog']\", None, 'primal', 'False', True, 50, False)...\n",
      "Loading Neath Port Talbot from SSx\n"
     ]
    },
    {
     "name": "stderr",
     "output_type": "stream",
     "text": [
      "/homes/wwc4618/predicting-choice/utils/remove_false_nodes.py:97: FutureWarning: The frame.append method is deprecated and will be removed from pandas in a future version. Use pandas.concat instead.\n",
      "  return df.append(\n"
     ]
    },
    {
     "name": "stdout",
     "output_type": "stream",
     "text": [
      "58520 geometries retrieved from Neath Port Talbot\n",
      "Generated graph with 2155 nodes and 2852 edges\n",
      "Node features: ['metres', 'choice2km', 'nodecount2km', 'integration2km', 'choice10km', 'nodecount10km', 'integration10km', 'choice100km', 'nodecount100km', 'integration100km', 'choice2kmrank', 'choice10kmrank', 'integration10kmrank', 'integration2kmrank', 'choice2kmlog', 'choice10kmlog', 'choice100kmlog', 'x', 'y']\n",
      "Node target: None\n",
      "Edge attributes: {'u', 'v'}\n",
      "Loading graph of Merthyr Tydfil with key ('Merthyr Tydfil', \"['metres', 'choice2km', 'nodecount2km', 'integration2km', 'choice10km', 'nodecount10km', 'integration10km', 'choice100km', 'nodecount100km', 'integration100km', 'choice2kmrank', 'choice10kmrank', 'integration10kmrank', 'integration2kmrank', 'choice2kmlog', 'choice10kmlog', 'choice100kmlog']\", None, 'primal', 'False', True, 50, False)...\n",
      "Loading Merthyr Tydfil from SSx\n"
     ]
    },
    {
     "name": "stderr",
     "output_type": "stream",
     "text": [
      "/homes/wwc4618/predicting-choice/utils/remove_false_nodes.py:97: FutureWarning: The frame.append method is deprecated and will be removed from pandas in a future version. Use pandas.concat instead.\n",
      "  return df.append(\n"
     ]
    },
    {
     "name": "stdout",
     "output_type": "stream",
     "text": [
      "26100 geometries retrieved from Merthyr Tydfil\n",
      "Generated graph with 954 nodes and 1260 edges\n",
      "Node features: ['metres', 'choice2km', 'nodecount2km', 'integration2km', 'choice10km', 'nodecount10km', 'integration10km', 'choice100km', 'nodecount100km', 'integration100km', 'choice2kmrank', 'choice10kmrank', 'integration10kmrank', 'integration2kmrank', 'choice2kmlog', 'choice10kmlog', 'choice100kmlog', 'x', 'y']\n",
      "Node target: None\n",
      "Edge attributes: {'u', 'v'}\n",
      "Loading graph of Swansea with key ('Swansea', \"['metres', 'choice2km', 'nodecount2km', 'integration2km', 'choice10km', 'nodecount10km', 'integration10km', 'choice100km', 'nodecount100km', 'integration100km', 'choice2kmrank', 'choice10kmrank', 'integration10kmrank', 'integration2kmrank', 'choice2kmlog', 'choice10kmlog', 'choice100kmlog']\", None, 'primal', 'False', True, 50, False)...\n",
      "Loading Swansea from SSx\n"
     ]
    },
    {
     "name": "stderr",
     "output_type": "stream",
     "text": [
      "/homes/wwc4618/predicting-choice/utils/remove_false_nodes.py:97: FutureWarning: The frame.append method is deprecated and will be removed from pandas in a future version. Use pandas.concat instead.\n",
      "  return df.append(\n"
     ]
    },
    {
     "name": "stdout",
     "output_type": "stream",
     "text": [
      "81300 geometries retrieved from Swansea\n",
      "Generated graph with 2960 nodes and 3979 edges\n",
      "Node features: ['metres', 'choice2km', 'nodecount2km', 'integration2km', 'choice10km', 'nodecount10km', 'integration10km', 'choice100km', 'nodecount100km', 'integration100km', 'choice2kmrank', 'choice10kmrank', 'integration10kmrank', 'integration2kmrank', 'choice2kmlog', 'choice10kmlog', 'choice100kmlog', 'x', 'y']\n",
      "Node target: None\n",
      "Edge attributes: {'u', 'v'}\n",
      "Loading graph of Cardiff with key ('Cardiff', \"['metres', 'choice2km', 'nodecount2km', 'integration2km', 'choice10km', 'nodecount10km', 'integration10km', 'choice100km', 'nodecount100km', 'integration100km', 'choice2kmrank', 'choice10kmrank', 'integration10kmrank', 'integration2kmrank', 'choice2kmlog', 'choice10kmlog', 'choice100kmlog']\", None, 'primal', 'False', True, 50, False)...\n",
      "Loading Cardiff from SSx\n"
     ]
    },
    {
     "name": "stderr",
     "output_type": "stream",
     "text": [
      "/homes/wwc4618/predicting-choice/utils/remove_false_nodes.py:97: FutureWarning: The frame.append method is deprecated and will be removed from pandas in a future version. Use pandas.concat instead.\n",
      "  return df.append(\n"
     ]
    },
    {
     "name": "stdout",
     "output_type": "stream",
     "text": [
      "95220 geometries retrieved from Cardiff\n",
      "Generated graph with 3363 nodes and 4637 edges\n",
      "Node features: ['metres', 'choice2km', 'nodecount2km', 'integration2km', 'choice10km', 'nodecount10km', 'integration10km', 'choice100km', 'nodecount100km', 'integration100km', 'choice2kmrank', 'choice10kmrank', 'integration10kmrank', 'integration2kmrank', 'choice2kmlog', 'choice10kmlog', 'choice100kmlog', 'x', 'y']\n",
      "Node target: None\n",
      "Edge attributes: {'u', 'v'}\n",
      "Loading graph of Blaenau Gwent with key ('Blaenau Gwent', \"['metres', 'choice2km', 'nodecount2km', 'integration2km', 'choice10km', 'nodecount10km', 'integration10km', 'choice100km', 'nodecount100km', 'integration100km', 'choice2kmrank', 'choice10kmrank', 'integration10kmrank', 'integration2kmrank', 'choice2kmlog', 'choice10kmlog', 'choice100kmlog']\", None, 'primal', 'False', True, 50, False)...\n",
      "Loading Blaenau Gwent from SSx\n"
     ]
    },
    {
     "name": "stderr",
     "output_type": "stream",
     "text": [
      "/homes/wwc4618/predicting-choice/utils/remove_false_nodes.py:97: FutureWarning: The frame.append method is deprecated and will be removed from pandas in a future version. Use pandas.concat instead.\n",
      "  return df.append(\n"
     ]
    },
    {
     "name": "stdout",
     "output_type": "stream",
     "text": [
      "33240 geometries retrieved from Blaenau Gwent\n",
      "Generated graph with 1162 nodes and 1620 edges\n",
      "Node features: ['metres', 'choice2km', 'nodecount2km', 'integration2km', 'choice10km', 'nodecount10km', 'integration10km', 'choice100km', 'nodecount100km', 'integration100km', 'choice2kmrank', 'choice10kmrank', 'integration10kmrank', 'integration2kmrank', 'choice2kmlog', 'choice10kmlog', 'choice100kmlog', 'x', 'y']\n",
      "Node target: None\n",
      "Edge attributes: {'u', 'v'}\n",
      "Loading graph of Newport with key ('Newport', \"['metres', 'choice2km', 'nodecount2km', 'integration2km', 'choice10km', 'nodecount10km', 'integration10km', 'choice100km', 'nodecount100km', 'integration100km', 'choice2kmrank', 'choice10kmrank', 'integration10kmrank', 'integration2kmrank', 'choice2kmlog', 'choice10kmlog', 'choice100kmlog']\", None, 'primal', 'False', True, 50, False)...\n",
      "Loading Newport from SSx\n"
     ]
    },
    {
     "name": "stderr",
     "output_type": "stream",
     "text": [
      "/homes/wwc4618/predicting-choice/utils/remove_false_nodes.py:97: FutureWarning: The frame.append method is deprecated and will be removed from pandas in a future version. Use pandas.concat instead.\n",
      "  return df.append(\n"
     ]
    },
    {
     "name": "stdout",
     "output_type": "stream",
     "text": [
      "48020 geometries retrieved from Newport\n",
      "Generated graph with 1744 nodes and 2323 edges\n",
      "Node features: ['metres', 'choice2km', 'nodecount2km', 'integration2km', 'choice10km', 'nodecount10km', 'integration10km', 'choice100km', 'nodecount100km', 'integration100km', 'choice2kmrank', 'choice10kmrank', 'integration10kmrank', 'integration2kmrank', 'choice2kmlog', 'choice10kmlog', 'choice100kmlog', 'x', 'y']\n",
      "Node target: None\n",
      "Edge attributes: {'u', 'v'}\n",
      "Loading graph of Hyndburn with key ('Hyndburn', \"['metres', 'choice2km', 'nodecount2km', 'integration2km', 'choice10km', 'nodecount10km', 'integration10km', 'choice100km', 'nodecount100km', 'integration100km', 'choice2kmrank', 'choice10kmrank', 'integration10kmrank', 'integration2kmrank', 'choice2kmlog', 'choice10kmlog', 'choice100kmlog']\", None, 'primal', 'False', True, 50, False)...\n",
      "Loading Hyndburn from SSx\n"
     ]
    },
    {
     "name": "stderr",
     "output_type": "stream",
     "text": [
      "/homes/wwc4618/predicting-choice/utils/remove_false_nodes.py:97: FutureWarning: The frame.append method is deprecated and will be removed from pandas in a future version. Use pandas.concat instead.\n",
      "  return df.append(\n"
     ]
    },
    {
     "name": "stdout",
     "output_type": "stream",
     "text": [
      "40220 geometries retrieved from Hyndburn\n",
      "Generated graph with 1350 nodes and 1959 edges\n",
      "Node features: ['metres', 'choice2km', 'nodecount2km', 'integration2km', 'choice10km', 'nodecount10km', 'integration10km', 'choice100km', 'nodecount100km', 'integration100km', 'choice2kmrank', 'choice10kmrank', 'integration10kmrank', 'integration2kmrank', 'choice2kmlog', 'choice10kmlog', 'choice100kmlog', 'x', 'y']\n",
      "Node target: None\n",
      "Edge attributes: {'u', 'v'}\n",
      "Loading graph of Torfaen with key ('Torfaen', \"['metres', 'choice2km', 'nodecount2km', 'integration2km', 'choice10km', 'nodecount10km', 'integration10km', 'choice100km', 'nodecount100km', 'integration100km', 'choice2kmrank', 'choice10kmrank', 'integration10kmrank', 'integration2kmrank', 'choice2kmlog', 'choice10kmlog', 'choice100kmlog']\", None, 'primal', 'False', True, 50, False)...\n",
      "Loading Torfaen from SSx\n"
     ]
    },
    {
     "name": "stderr",
     "output_type": "stream",
     "text": [
      "/homes/wwc4618/predicting-choice/utils/remove_false_nodes.py:97: FutureWarning: The frame.append method is deprecated and will be removed from pandas in a future version. Use pandas.concat instead.\n",
      "  return df.append(\n"
     ]
    },
    {
     "name": "stdout",
     "output_type": "stream",
     "text": [
      "33840 geometries retrieved from Torfaen\n",
      "Generated graph with 1232 nodes and 1626 edges\n",
      "Node features: ['metres', 'choice2km', 'nodecount2km', 'integration2km', 'choice10km', 'nodecount10km', 'integration10km', 'choice100km', 'nodecount100km', 'integration100km', 'choice2kmrank', 'choice10kmrank', 'integration10kmrank', 'integration2kmrank', 'choice2kmlog', 'choice10kmlog', 'choice100kmlog', 'x', 'y']\n",
      "Node target: None\n",
      "Edge attributes: {'u', 'v'}\n",
      "Loading graph of East Hertfordshire with key ('East Hertfordshire', \"['metres', 'choice2km', 'nodecount2km', 'integration2km', 'choice10km', 'nodecount10km', 'integration10km', 'choice100km', 'nodecount100km', 'integration100km', 'choice2kmrank', 'choice10kmrank', 'integration10kmrank', 'integration2kmrank', 'choice2kmlog', 'choice10kmlog', 'choice100kmlog']\", None, 'primal', 'False', True, 50, False)...\n",
      "Loading East Hertfordshire from SSx\n"
     ]
    },
    {
     "name": "stderr",
     "output_type": "stream",
     "text": [
      "/homes/wwc4618/predicting-choice/utils/remove_false_nodes.py:97: FutureWarning: The frame.append method is deprecated and will be removed from pandas in a future version. Use pandas.concat instead.\n",
      "  return df.append(\n"
     ]
    },
    {
     "name": "stdout",
     "output_type": "stream",
     "text": [
      "43820 geometries retrieved from East Hertfordshire\n",
      "Generated graph with 1682 nodes and 2120 edges\n",
      "Node features: ['metres', 'choice2km', 'nodecount2km', 'integration2km', 'choice10km', 'nodecount10km', 'integration10km', 'choice100km', 'nodecount100km', 'integration100km', 'choice2kmrank', 'choice10kmrank', 'integration10kmrank', 'integration2kmrank', 'choice2kmlog', 'choice10kmlog', 'choice100kmlog', 'x', 'y']\n",
      "Node target: None\n",
      "Edge attributes: {'u', 'v'}\n",
      "Loading graph of Stevenage with key ('Stevenage', \"['metres', 'choice2km', 'nodecount2km', 'integration2km', 'choice10km', 'nodecount10km', 'integration10km', 'choice100km', 'nodecount100km', 'integration100km', 'choice2kmrank', 'choice10kmrank', 'integration10kmrank', 'integration2kmrank', 'choice2kmlog', 'choice10kmlog', 'choice100kmlog']\", None, 'primal', 'False', True, 50, False)...\n",
      "Loading Stevenage from SSx\n"
     ]
    },
    {
     "name": "stderr",
     "output_type": "stream",
     "text": [
      "/homes/wwc4618/predicting-choice/utils/remove_false_nodes.py:97: FutureWarning: The frame.append method is deprecated and will be removed from pandas in a future version. Use pandas.concat instead.\n",
      "  return df.append(\n"
     ]
    },
    {
     "name": "stdout",
     "output_type": "stream",
     "text": [
      "18400 geometries retrieved from Stevenage\n",
      "Generated graph with 678 nodes and 881 edges\n",
      "Node features: ['metres', 'choice2km', 'nodecount2km', 'integration2km', 'choice10km', 'nodecount10km', 'integration10km', 'choice100km', 'nodecount100km', 'integration100km', 'choice2kmrank', 'choice10kmrank', 'integration10kmrank', 'integration2kmrank', 'choice2kmlog', 'choice10kmlog', 'choice100kmlog', 'x', 'y']\n",
      "Node target: None\n",
      "Edge attributes: {'u', 'v'}\n",
      "Loading graph of Uttlesford with key ('Uttlesford', \"['metres', 'choice2km', 'nodecount2km', 'integration2km', 'choice10km', 'nodecount10km', 'integration10km', 'choice100km', 'nodecount100km', 'integration100km', 'choice2kmrank', 'choice10kmrank', 'integration10kmrank', 'integration2kmrank', 'choice2kmlog', 'choice10kmlog', 'choice100kmlog']\", None, 'primal', 'False', True, 50, False)...\n",
      "Loading Uttlesford from SSx\n"
     ]
    },
    {
     "name": "stderr",
     "output_type": "stream",
     "text": [
      "/homes/wwc4618/predicting-choice/utils/remove_false_nodes.py:97: FutureWarning: The frame.append method is deprecated and will be removed from pandas in a future version. Use pandas.concat instead.\n",
      "  return df.append(\n"
     ]
    },
    {
     "name": "stdout",
     "output_type": "stream",
     "text": [
      "37580 geometries retrieved from Uttlesford\n",
      "Generated graph with 1479 nodes and 1828 edges\n",
      "Node features: ['metres', 'choice2km', 'nodecount2km', 'integration2km', 'choice10km', 'nodecount10km', 'integration10km', 'choice100km', 'nodecount100km', 'integration100km', 'choice2kmrank', 'choice10kmrank', 'integration10kmrank', 'integration2kmrank', 'choice2kmlog', 'choice10kmlog', 'choice100kmlog', 'x', 'y']\n",
      "Node target: None\n",
      "Edge attributes: {'u', 'v'}\n",
      "Loading graph of St Albans with key ('St Albans', \"['metres', 'choice2km', 'nodecount2km', 'integration2km', 'choice10km', 'nodecount10km', 'integration10km', 'choice100km', 'nodecount100km', 'integration100km', 'choice2kmrank', 'choice10kmrank', 'integration10kmrank', 'integration2kmrank', 'choice2kmlog', 'choice10kmlog', 'choice100kmlog']\", None, 'primal', 'False', True, 50, False)...\n",
      "Loading St Albans from SSx\n"
     ]
    },
    {
     "name": "stderr",
     "output_type": "stream",
     "text": [
      "/homes/wwc4618/predicting-choice/utils/remove_false_nodes.py:97: FutureWarning: The frame.append method is deprecated and will be removed from pandas in a future version. Use pandas.concat instead.\n",
      "  return df.append(\n"
     ]
    },
    {
     "name": "stdout",
     "output_type": "stream",
     "text": [
      "44540 geometries retrieved from St Albans\n",
      "Generated graph with 1606 nodes and 2155 edges\n",
      "Node features: ['metres', 'choice2km', 'nodecount2km', 'integration2km', 'choice10km', 'nodecount10km', 'integration10km', 'choice100km', 'nodecount100km', 'integration100km', 'choice2kmrank', 'choice10kmrank', 'integration10kmrank', 'integration2kmrank', 'choice2kmlog', 'choice10kmlog', 'choice100kmlog', 'x', 'y']\n",
      "Node target: None\n",
      "Edge attributes: {'u', 'v'}\n",
      "Loading graph of East Lindsey with key ('East Lindsey', \"['metres', 'choice2km', 'nodecount2km', 'integration2km', 'choice10km', 'nodecount10km', 'integration10km', 'choice100km', 'nodecount100km', 'integration100km', 'choice2kmrank', 'choice10kmrank', 'integration10kmrank', 'integration2kmrank', 'choice2kmlog', 'choice10kmlog', 'choice100kmlog']\", None, 'primal', 'False', True, 50, False)...\n",
      "Loading East Lindsey from SSx\n"
     ]
    },
    {
     "name": "stderr",
     "output_type": "stream",
     "text": [
      "/homes/wwc4618/predicting-choice/utils/remove_false_nodes.py:97: FutureWarning: The frame.append method is deprecated and will be removed from pandas in a future version. Use pandas.concat instead.\n",
      "  return df.append(\n"
     ]
    },
    {
     "name": "stdout",
     "output_type": "stream",
     "text": [
      "74060 geometries retrieved from East Lindsey\n",
      "Generated graph with 2752 nodes and 3630 edges\n",
      "Node features: ['metres', 'choice2km', 'nodecount2km', 'integration2km', 'choice10km', 'nodecount10km', 'integration10km', 'choice100km', 'nodecount100km', 'integration100km', 'choice2kmrank', 'choice10kmrank', 'integration10kmrank', 'integration2kmrank', 'choice2kmlog', 'choice10kmlog', 'choice100kmlog', 'x', 'y']\n",
      "Node target: None\n",
      "Edge attributes: {'u', 'v'}\n",
      "Loading graph of Colchester with key ('Colchester', \"['metres', 'choice2km', 'nodecount2km', 'integration2km', 'choice10km', 'nodecount10km', 'integration10km', 'choice100km', 'nodecount100km', 'integration100km', 'choice2kmrank', 'choice10kmrank', 'integration10kmrank', 'integration2kmrank', 'choice2kmlog', 'choice10kmlog', 'choice100kmlog']\", None, 'primal', 'False', True, 50, False)...\n",
      "Loading Colchester from SSx\n"
     ]
    },
    {
     "name": "stderr",
     "output_type": "stream",
     "text": [
      "/homes/wwc4618/predicting-choice/utils/remove_false_nodes.py:97: FutureWarning: The frame.append method is deprecated and will be removed from pandas in a future version. Use pandas.concat instead.\n",
      "  return df.append(\n"
     ]
    },
    {
     "name": "stdout",
     "output_type": "stream",
     "text": [
      "52160 geometries retrieved from Colchester\n",
      "Generated graph with 1935 nodes and 2520 edges\n",
      "Node features: ['metres', 'choice2km', 'nodecount2km', 'integration2km', 'choice10km', 'nodecount10km', 'integration10km', 'choice100km', 'nodecount100km', 'integration100km', 'choice2kmrank', 'choice10kmrank', 'integration10kmrank', 'integration2kmrank', 'choice2kmlog', 'choice10kmlog', 'choice100kmlog', 'x', 'y']\n",
      "Node target: None\n",
      "Edge attributes: {'u', 'v'}\n",
      "Loading graph of East Northamptonshire with key ('East Northamptonshire', \"['metres', 'choice2km', 'nodecount2km', 'integration2km', 'choice10km', 'nodecount10km', 'integration10km', 'choice100km', 'nodecount100km', 'integration100km', 'choice2kmrank', 'choice10kmrank', 'integration10kmrank', 'integration2kmrank', 'choice2kmlog', 'choice10kmlog', 'choice100kmlog']\", None, 'primal', 'False', True, 50, False)...\n",
      "Loading East Northamptonshire from SSx\n"
     ]
    },
    {
     "name": "stderr",
     "output_type": "stream",
     "text": [
      "/homes/wwc4618/predicting-choice/utils/remove_false_nodes.py:97: FutureWarning: The frame.append method is deprecated and will be removed from pandas in a future version. Use pandas.concat instead.\n",
      "  return df.append(\n"
     ]
    },
    {
     "name": "stdout",
     "output_type": "stream",
     "text": [
      "28700 geometries retrieved from East Northamptonshire\n",
      "Generated graph with 1058 nodes and 1400 edges\n",
      "Node features: ['metres', 'choice2km', 'nodecount2km', 'integration2km', 'choice10km', 'nodecount10km', 'integration10km', 'choice100km', 'nodecount100km', 'integration100km', 'choice2kmrank', 'choice10kmrank', 'integration10kmrank', 'integration2kmrank', 'choice2kmlog', 'choice10kmlog', 'choice100kmlog', 'x', 'y']\n",
      "Node target: None\n",
      "Edge attributes: {'u', 'v'}\n",
      "Loading graph of Central Bedfordshire with key ('Central Bedfordshire', \"['metres', 'choice2km', 'nodecount2km', 'integration2km', 'choice10km', 'nodecount10km', 'integration10km', 'choice100km', 'nodecount100km', 'integration100km', 'choice2kmrank', 'choice10kmrank', 'integration10kmrank', 'integration2kmrank', 'choice2kmlog', 'choice10kmlog', 'choice100kmlog']\", None, 'primal', 'False', True, 50, False)...\n",
      "Loading Central Bedfordshire from SSx\n"
     ]
    },
    {
     "name": "stderr",
     "output_type": "stream",
     "text": [
      "/homes/wwc4618/predicting-choice/utils/remove_false_nodes.py:97: FutureWarning: The frame.append method is deprecated and will be removed from pandas in a future version. Use pandas.concat instead.\n",
      "  return df.append(\n"
     ]
    },
    {
     "name": "stdout",
     "output_type": "stream",
     "text": [
      "67240 geometries retrieved from Central Bedfordshire\n",
      "Generated graph with 2571 nodes and 3247 edges\n",
      "Node features: ['metres', 'choice2km', 'nodecount2km', 'integration2km', 'choice10km', 'nodecount10km', 'integration10km', 'choice100km', 'nodecount100km', 'integration100km', 'choice2kmrank', 'choice10kmrank', 'integration10kmrank', 'integration2kmrank', 'choice2kmlog', 'choice10kmlog', 'choice100kmlog', 'x', 'y']\n",
      "Node target: None\n",
      "Edge attributes: {'u', 'v'}\n",
      "Loading graph of Babergh with key ('Babergh', \"['metres', 'choice2km', 'nodecount2km', 'integration2km', 'choice10km', 'nodecount10km', 'integration10km', 'choice100km', 'nodecount100km', 'integration100km', 'choice2kmrank', 'choice10kmrank', 'integration10kmrank', 'integration2kmrank', 'choice2kmlog', 'choice10kmlog', 'choice100kmlog']\", None, 'primal', 'False', True, 50, False)...\n",
      "Loading Babergh from SSx\n"
     ]
    },
    {
     "name": "stderr",
     "output_type": "stream",
     "text": [
      "/homes/wwc4618/predicting-choice/utils/remove_false_nodes.py:97: FutureWarning: The frame.append method is deprecated and will be removed from pandas in a future version. Use pandas.concat instead.\n",
      "  return df.append(\n"
     ]
    },
    {
     "name": "stdout",
     "output_type": "stream",
     "text": [
      "40500 geometries retrieved from Babergh\n",
      "Generated graph with 1556 nodes and 1976 edges\n",
      "Node features: ['metres', 'choice2km', 'nodecount2km', 'integration2km', 'choice10km', 'nodecount10km', 'integration10km', 'choice100km', 'nodecount100km', 'integration100km', 'choice2kmrank', 'choice10kmrank', 'integration10kmrank', 'integration2kmrank', 'choice2kmlog', 'choice10kmlog', 'choice100kmlog', 'x', 'y']\n",
      "Node target: None\n",
      "Edge attributes: {'u', 'v'}\n",
      "Loading graph of Braintree with key ('Braintree', \"['metres', 'choice2km', 'nodecount2km', 'integration2km', 'choice10km', 'nodecount10km', 'integration10km', 'choice100km', 'nodecount100km', 'integration100km', 'choice2kmrank', 'choice10kmrank', 'integration10kmrank', 'integration2kmrank', 'choice2kmlog', 'choice10kmlog', 'choice100kmlog']\", None, 'primal', 'False', True, 50, False)...\n",
      "Loading Braintree from SSx\n"
     ]
    },
    {
     "name": "stderr",
     "output_type": "stream",
     "text": [
      "/homes/wwc4618/predicting-choice/utils/remove_false_nodes.py:97: FutureWarning: The frame.append method is deprecated and will be removed from pandas in a future version. Use pandas.concat instead.\n",
      "  return df.append(\n"
     ]
    },
    {
     "name": "stdout",
     "output_type": "stream",
     "text": [
      "51520 geometries retrieved from Braintree\n",
      "Generated graph with 1977 nodes and 2510 edges\n",
      "Node features: ['metres', 'choice2km', 'nodecount2km', 'integration2km', 'choice10km', 'nodecount10km', 'integration10km', 'choice100km', 'nodecount100km', 'integration100km', 'choice2kmrank', 'choice10kmrank', 'integration10kmrank', 'integration2kmrank', 'choice2kmlog', 'choice10kmlog', 'choice100kmlog', 'x', 'y']\n",
      "Node target: None\n",
      "Edge attributes: {'u', 'v'}\n",
      "Loading graph of Huntingdonshire with key ('Huntingdonshire', \"['metres', 'choice2km', 'nodecount2km', 'integration2km', 'choice10km', 'nodecount10km', 'integration10km', 'choice100km', 'nodecount100km', 'integration100km', 'choice2kmrank', 'choice10kmrank', 'integration10kmrank', 'integration2kmrank', 'choice2kmlog', 'choice10kmlog', 'choice100kmlog']\", None, 'primal', 'False', True, 50, False)...\n",
      "Loading Huntingdonshire from SSx\n"
     ]
    },
    {
     "name": "stderr",
     "output_type": "stream",
     "text": [
      "/homes/wwc4618/predicting-choice/utils/remove_false_nodes.py:97: FutureWarning: The frame.append method is deprecated and will be removed from pandas in a future version. Use pandas.concat instead.\n",
      "  return df.append(\n"
     ]
    },
    {
     "name": "stdout",
     "output_type": "stream",
     "text": [
      "55580 geometries retrieved from Huntingdonshire\n",
      "Generated graph with 2163 nodes and 2696 edges\n",
      "Node features: ['metres', 'choice2km', 'nodecount2km', 'integration2km', 'choice10km', 'nodecount10km', 'integration10km', 'choice100km', 'nodecount100km', 'integration100km', 'choice2kmrank', 'choice10kmrank', 'integration10kmrank', 'integration2kmrank', 'choice2kmlog', 'choice10kmlog', 'choice100kmlog', 'x', 'y']\n",
      "Node target: None\n",
      "Edge attributes: {'u', 'v'}\n",
      "Loading graph of Suffolk Coastal with key ('Suffolk Coastal', \"['metres', 'choice2km', 'nodecount2km', 'integration2km', 'choice10km', 'nodecount10km', 'integration10km', 'choice100km', 'nodecount100km', 'integration100km', 'choice2kmrank', 'choice10kmrank', 'integration10kmrank', 'integration2kmrank', 'choice2kmlog', 'choice10kmlog', 'choice100kmlog']\", None, 'primal', 'False', True, 50, False)...\n",
      "Loading Suffolk Coastal from SSx\n"
     ]
    },
    {
     "name": "stderr",
     "output_type": "stream",
     "text": [
      "/homes/wwc4618/predicting-choice/utils/remove_false_nodes.py:97: FutureWarning: The frame.append method is deprecated and will be removed from pandas in a future version. Use pandas.concat instead.\n",
      "  return df.append(\n"
     ]
    },
    {
     "name": "stdout",
     "output_type": "stream",
     "text": [
      "64000 geometries retrieved from Suffolk Coastal\n",
      "Generated graph with 2363 nodes and 3147 edges\n",
      "Node features: ['metres', 'choice2km', 'nodecount2km', 'integration2km', 'choice10km', 'nodecount10km', 'integration10km', 'choice100km', 'nodecount100km', 'integration100km', 'choice2kmrank', 'choice10kmrank', 'integration10kmrank', 'integration2kmrank', 'choice2kmlog', 'choice10kmlog', 'choice100kmlog', 'x', 'y']\n",
      "Node target: None\n",
      "Edge attributes: {'u', 'v'}\n",
      "Loading graph of Ipswich with key ('Ipswich', \"['metres', 'choice2km', 'nodecount2km', 'integration2km', 'choice10km', 'nodecount10km', 'integration10km', 'choice100km', 'nodecount100km', 'integration100km', 'choice2kmrank', 'choice10kmrank', 'integration10kmrank', 'integration2kmrank', 'choice2kmlog', 'choice10kmlog', 'choice100kmlog']\", None, 'primal', 'False', True, 50, False)...\n",
      "Loading Ipswich from SSx\n"
     ]
    },
    {
     "name": "stderr",
     "output_type": "stream",
     "text": [
      "/homes/wwc4618/predicting-choice/utils/remove_false_nodes.py:97: FutureWarning: The frame.append method is deprecated and will be removed from pandas in a future version. Use pandas.concat instead.\n",
      "  return df.append(\n"
     ]
    },
    {
     "name": "stdout",
     "output_type": "stream",
     "text": [
      "41020 geometries retrieved from Ipswich\n",
      "Generated graph with 1417 nodes and 2012 edges\n",
      "Node features: ['metres', 'choice2km', 'nodecount2km', 'integration2km', 'choice10km', 'nodecount10km', 'integration10km', 'choice100km', 'nodecount100km', 'integration100km', 'choice2kmrank', 'choice10kmrank', 'integration10kmrank', 'integration2kmrank', 'choice2kmlog', 'choice10kmlog', 'choice100kmlog', 'x', 'y']\n",
      "Node target: None\n",
      "Edge attributes: {'u', 'v'}\n",
      "Loading graph of Peterborough with key ('Peterborough', \"['metres', 'choice2km', 'nodecount2km', 'integration2km', 'choice10km', 'nodecount10km', 'integration10km', 'choice100km', 'nodecount100km', 'integration100km', 'choice2kmrank', 'choice10kmrank', 'integration10kmrank', 'integration2kmrank', 'choice2kmlog', 'choice10kmlog', 'choice100kmlog']\", None, 'primal', 'False', True, 50, False)...\n",
      "Loading Peterborough from SSx\n"
     ]
    },
    {
     "name": "stderr",
     "output_type": "stream",
     "text": [
      "/homes/wwc4618/predicting-choice/utils/remove_false_nodes.py:97: FutureWarning: The frame.append method is deprecated and will be removed from pandas in a future version. Use pandas.concat instead.\n",
      "  return df.append(\n"
     ]
    },
    {
     "name": "stdout",
     "output_type": "stream",
     "text": [
      "53760 geometries retrieved from Peterborough\n",
      "Generated graph with 2016 nodes and 2619 edges\n",
      "Node features: ['metres', 'choice2km', 'nodecount2km', 'integration2km', 'choice10km', 'nodecount10km', 'integration10km', 'choice100km', 'nodecount100km', 'integration100km', 'choice2kmrank', 'choice10kmrank', 'integration10kmrank', 'integration2kmrank', 'choice2kmlog', 'choice10kmlog', 'choice100kmlog', 'x', 'y']\n",
      "Node target: None\n",
      "Edge attributes: {'u', 'v'}\n",
      "Loading graph of South Holland with key ('South Holland', \"['metres', 'choice2km', 'nodecount2km', 'integration2km', 'choice10km', 'nodecount10km', 'integration10km', 'choice100km', 'nodecount100km', 'integration100km', 'choice2kmrank', 'choice10kmrank', 'integration10kmrank', 'integration2kmrank', 'choice2kmlog', 'choice10kmlog', 'choice100kmlog']\", None, 'primal', 'False', True, 50, False)...\n",
      "Loading South Holland from SSx\n"
     ]
    },
    {
     "name": "stderr",
     "output_type": "stream",
     "text": [
      "/homes/wwc4618/predicting-choice/utils/remove_false_nodes.py:97: FutureWarning: The frame.append method is deprecated and will be removed from pandas in a future version. Use pandas.concat instead.\n",
      "  return df.append(\n"
     ]
    },
    {
     "name": "stdout",
     "output_type": "stream",
     "text": [
      "44880 geometries retrieved from South Holland\n",
      "Generated graph with 1666 nodes and 2207 edges\n",
      "Node features: ['metres', 'choice2km', 'nodecount2km', 'integration2km', 'choice10km', 'nodecount10km', 'integration10km', 'choice100km', 'nodecount100km', 'integration100km', 'choice2kmrank', 'choice10kmrank', 'integration10kmrank', 'integration2kmrank', 'choice2kmlog', 'choice10kmlog', 'choice100kmlog', 'x', 'y']\n",
      "Node target: None\n",
      "Edge attributes: {'u', 'v'}\n",
      "Loading graph of Welwyn Hatfield with key ('Welwyn Hatfield', \"['metres', 'choice2km', 'nodecount2km', 'integration2km', 'choice10km', 'nodecount10km', 'integration10km', 'choice100km', 'nodecount100km', 'integration100km', 'choice2kmrank', 'choice10kmrank', 'integration10kmrank', 'integration2kmrank', 'choice2kmlog', 'choice10kmlog', 'choice100kmlog']\", None, 'primal', 'False', True, 50, False)...\n",
      "Loading Welwyn Hatfield from SSx\n"
     ]
    },
    {
     "name": "stderr",
     "output_type": "stream",
     "text": [
      "/homes/wwc4618/predicting-choice/utils/remove_false_nodes.py:97: FutureWarning: The frame.append method is deprecated and will be removed from pandas in a future version. Use pandas.concat instead.\n",
      "  return df.append(\n"
     ]
    },
    {
     "name": "stdout",
     "output_type": "stream",
     "text": [
      "32660 geometries retrieved from Welwyn Hatfield\n",
      "Generated graph with 1172 nodes and 1555 edges\n",
      "Node features: ['metres', 'choice2km', 'nodecount2km', 'integration2km', 'choice10km', 'nodecount10km', 'integration10km', 'choice100km', 'nodecount100km', 'integration100km', 'choice2kmrank', 'choice10kmrank', 'integration10kmrank', 'integration2kmrank', 'choice2kmlog', 'choice10kmlog', 'choice100kmlog', 'x', 'y']\n",
      "Node target: None\n",
      "Edge attributes: {'u', 'v'}\n",
      "Loading graph of Boston with key ('Boston', \"['metres', 'choice2km', 'nodecount2km', 'integration2km', 'choice10km', 'nodecount10km', 'integration10km', 'choice100km', 'nodecount100km', 'integration100km', 'choice2kmrank', 'choice10kmrank', 'integration10kmrank', 'integration2kmrank', 'choice2kmlog', 'choice10kmlog', 'choice100kmlog']\", None, 'primal', 'False', True, 50, False)...\n",
      "Loading Boston from SSx\n"
     ]
    },
    {
     "name": "stderr",
     "output_type": "stream",
     "text": [
      "/homes/wwc4618/predicting-choice/utils/remove_false_nodes.py:97: FutureWarning: The frame.append method is deprecated and will be removed from pandas in a future version. Use pandas.concat instead.\n",
      "  return df.append(\n"
     ]
    },
    {
     "name": "stdout",
     "output_type": "stream",
     "text": [
      "33020 geometries retrieved from Boston\n",
      "Generated graph with 1213 nodes and 1617 edges\n",
      "Node features: ['metres', 'choice2km', 'nodecount2km', 'integration2km', 'choice10km', 'nodecount10km', 'integration10km', 'choice100km', 'nodecount100km', 'integration100km', 'choice2kmrank', 'choice10kmrank', 'integration10kmrank', 'integration2kmrank', 'choice2kmlog', 'choice10kmlog', 'choice100kmlog', 'x', 'y']\n",
      "Node target: None\n",
      "Edge attributes: {'u', 'v'}\n",
      "Loading graph of Watford with key ('Watford', \"['metres', 'choice2km', 'nodecount2km', 'integration2km', 'choice10km', 'nodecount10km', 'integration10km', 'choice100km', 'nodecount100km', 'integration100km', 'choice2kmrank', 'choice10kmrank', 'integration10kmrank', 'integration2kmrank', 'choice2kmlog', 'choice10kmlog', 'choice100kmlog']\", None, 'primal', 'False', True, 50, False)...\n",
      "Loading Watford from SSx\n"
     ]
    },
    {
     "name": "stderr",
     "output_type": "stream",
     "text": [
      "/homes/wwc4618/predicting-choice/utils/remove_false_nodes.py:97: FutureWarning: The frame.append method is deprecated and will be removed from pandas in a future version. Use pandas.concat instead.\n",
      "  return df.append(\n"
     ]
    },
    {
     "name": "stdout",
     "output_type": "stream",
     "text": [
      "20420 geometries retrieved from Watford\n",
      "Generated graph with 711 nodes and 977 edges\n",
      "Node features: ['metres', 'choice2km', 'nodecount2km', 'integration2km', 'choice10km', 'nodecount10km', 'integration10km', 'choice100km', 'nodecount100km', 'integration100km', 'choice2kmrank', 'choice10kmrank', 'integration10kmrank', 'integration2kmrank', 'choice2kmlog', 'choice10kmlog', 'choice100kmlog', 'x', 'y']\n",
      "Node target: None\n",
      "Edge attributes: {'u', 'v'}\n",
      "Loading graph of Maldon with key ('Maldon', \"['metres', 'choice2km', 'nodecount2km', 'integration2km', 'choice10km', 'nodecount10km', 'integration10km', 'choice100km', 'nodecount100km', 'integration100km', 'choice2kmrank', 'choice10kmrank', 'integration10kmrank', 'integration2kmrank', 'choice2kmlog', 'choice10kmlog', 'choice100kmlog']\", None, 'primal', 'False', True, 50, False)...\n",
      "Loading Maldon from SSx\n"
     ]
    },
    {
     "name": "stderr",
     "output_type": "stream",
     "text": [
      "/homes/wwc4618/predicting-choice/utils/remove_false_nodes.py:97: FutureWarning: The frame.append method is deprecated and will be removed from pandas in a future version. Use pandas.concat instead.\n",
      "  return df.append(\n"
     ]
    },
    {
     "name": "stdout",
     "output_type": "stream",
     "text": [
      "22080 geometries retrieved from Maldon\n",
      "Generated graph with 855 nodes and 1075 edges\n",
      "Node features: ['metres', 'choice2km', 'nodecount2km', 'integration2km', 'choice10km', 'nodecount10km', 'integration10km', 'choice100km', 'nodecount100km', 'integration100km', 'choice2kmrank', 'choice10kmrank', 'integration10kmrank', 'integration2kmrank', 'choice2kmlog', 'choice10kmlog', 'choice100kmlog', 'x', 'y']\n",
      "Node target: None\n",
      "Edge attributes: {'u', 'v'}\n",
      "Loading graph of South Cambridgeshire with key ('South Cambridgeshire', \"['metres', 'choice2km', 'nodecount2km', 'integration2km', 'choice10km', 'nodecount10km', 'integration10km', 'choice100km', 'nodecount100km', 'integration100km', 'choice2kmrank', 'choice10kmrank', 'integration10kmrank', 'integration2kmrank', 'choice2kmlog', 'choice10kmlog', 'choice100kmlog']\", None, 'primal', 'False', True, 50, False)...\n",
      "Loading South Cambridgeshire from SSx\n"
     ]
    },
    {
     "name": "stderr",
     "output_type": "stream",
     "text": [
      "/homes/wwc4618/predicting-choice/utils/remove_false_nodes.py:97: FutureWarning: The frame.append method is deprecated and will be removed from pandas in a future version. Use pandas.concat instead.\n",
      "  return df.append(\n"
     ]
    },
    {
     "name": "stdout",
     "output_type": "stream",
     "text": [
      "47400 geometries retrieved from South Cambridgeshire\n",
      "Generated graph with 1870 nodes and 2289 edges\n",
      "Node features: ['metres', 'choice2km', 'nodecount2km', 'integration2km', 'choice10km', 'nodecount10km', 'integration10km', 'choice100km', 'nodecount100km', 'integration100km', 'choice2kmrank', 'choice10kmrank', 'integration10kmrank', 'integration2kmrank', 'choice2kmlog', 'choice10kmlog', 'choice100kmlog', 'x', 'y']\n",
      "Node target: None\n",
      "Edge attributes: {'u', 'v'}\n",
      "Loading graph of Hertsmere with key ('Hertsmere', \"['metres', 'choice2km', 'nodecount2km', 'integration2km', 'choice10km', 'nodecount10km', 'integration10km', 'choice100km', 'nodecount100km', 'integration100km', 'choice2kmrank', 'choice10kmrank', 'integration10kmrank', 'integration2kmrank', 'choice2kmlog', 'choice10kmlog', 'choice100kmlog']\", None, 'primal', 'False', True, 50, False)...\n",
      "Loading Hertsmere from SSx\n"
     ]
    },
    {
     "name": "stderr",
     "output_type": "stream",
     "text": [
      "/homes/wwc4618/predicting-choice/utils/remove_false_nodes.py:97: FutureWarning: The frame.append method is deprecated and will be removed from pandas in a future version. Use pandas.concat instead.\n",
      "  return df.append(\n"
     ]
    },
    {
     "name": "stdout",
     "output_type": "stream",
     "text": [
      "28540 geometries retrieved from Hertsmere\n",
      "Generated graph with 1015 nodes and 1389 edges\n",
      "Node features: ['metres', 'choice2km', 'nodecount2km', 'integration2km', 'choice10km', 'nodecount10km', 'integration10km', 'choice100km', 'nodecount100km', 'integration100km', 'choice2kmrank', 'choice10kmrank', 'integration10kmrank', 'integration2kmrank', 'choice2kmlog', 'choice10kmlog', 'choice100kmlog', 'x', 'y']\n",
      "Node target: None\n",
      "Edge attributes: {'u', 'v'}\n",
      "Loading graph of Three Rivers with key ('Three Rivers', \"['metres', 'choice2km', 'nodecount2km', 'integration2km', 'choice10km', 'nodecount10km', 'integration10km', 'choice100km', 'nodecount100km', 'integration100km', 'choice2kmrank', 'choice10kmrank', 'integration10kmrank', 'integration2kmrank', 'choice2kmlog', 'choice10kmlog', 'choice100kmlog']\", None, 'primal', 'False', True, 50, False)...\n",
      "Loading Three Rivers from SSx\n"
     ]
    },
    {
     "name": "stderr",
     "output_type": "stream",
     "text": [
      "/homes/wwc4618/predicting-choice/utils/remove_false_nodes.py:97: FutureWarning: The frame.append method is deprecated and will be removed from pandas in a future version. Use pandas.concat instead.\n",
      "  return df.append(\n"
     ]
    },
    {
     "name": "stdout",
     "output_type": "stream",
     "text": [
      "25740 geometries retrieved from Three Rivers\n",
      "Generated graph with 926 nodes and 1214 edges\n",
      "Node features: ['metres', 'choice2km', 'nodecount2km', 'integration2km', 'choice10km', 'nodecount10km', 'integration10km', 'choice100km', 'nodecount100km', 'integration100km', 'choice2kmrank', 'choice10kmrank', 'integration10kmrank', 'integration2kmrank', 'choice2kmlog', 'choice10kmlog', 'choice100kmlog', 'x', 'y']\n",
      "Node target: None\n",
      "Edge attributes: {'u', 'v'}\n",
      "Loading graph of Bedford with key ('Bedford', \"['metres', 'choice2km', 'nodecount2km', 'integration2km', 'choice10km', 'nodecount10km', 'integration10km', 'choice100km', 'nodecount100km', 'integration100km', 'choice2kmrank', 'choice10kmrank', 'integration10kmrank', 'integration2kmrank', 'choice2kmlog', 'choice10kmlog', 'choice100kmlog']\", None, 'primal', 'False', True, 50, False)...\n",
      "Loading Bedford from SSx\n"
     ]
    },
    {
     "name": "stderr",
     "output_type": "stream",
     "text": [
      "/homes/wwc4618/predicting-choice/utils/remove_false_nodes.py:97: FutureWarning: The frame.append method is deprecated and will be removed from pandas in a future version. Use pandas.concat instead.\n",
      "  return df.append(\n"
     ]
    },
    {
     "name": "stdout",
     "output_type": "stream",
     "text": [
      "46860 geometries retrieved from Bedford\n",
      "Generated graph with 1727 nodes and 2257 edges\n",
      "Node features: ['metres', 'choice2km', 'nodecount2km', 'integration2km', 'choice10km', 'nodecount10km', 'integration10km', 'choice100km', 'nodecount100km', 'integration100km', 'choice2kmrank', 'choice10kmrank', 'integration10kmrank', 'integration2kmrank', 'choice2kmlog', 'choice10kmlog', 'choice100kmlog', 'x', 'y']\n",
      "Node target: None\n",
      "Edge attributes: {'u', 'v'}\n",
      "Loading graph of Brentwood with key ('Brentwood', \"['metres', 'choice2km', 'nodecount2km', 'integration2km', 'choice10km', 'nodecount10km', 'integration10km', 'choice100km', 'nodecount100km', 'integration100km', 'choice2kmrank', 'choice10kmrank', 'integration10kmrank', 'integration2kmrank', 'choice2kmlog', 'choice10kmlog', 'choice100kmlog']\", None, 'primal', 'False', True, 50, False)...\n",
      "Loading Brentwood from SSx\n"
     ]
    },
    {
     "name": "stderr",
     "output_type": "stream",
     "text": [
      "/homes/wwc4618/predicting-choice/utils/remove_false_nodes.py:97: FutureWarning: The frame.append method is deprecated and will be removed from pandas in a future version. Use pandas.concat instead.\n",
      "  return df.append(\n"
     ]
    },
    {
     "name": "stdout",
     "output_type": "stream",
     "text": [
      "24440 geometries retrieved from Brentwood\n",
      "Generated graph with 912 nodes and 1189 edges\n",
      "Node features: ['metres', 'choice2km', 'nodecount2km', 'integration2km', 'choice10km', 'nodecount10km', 'integration10km', 'choice100km', 'nodecount100km', 'integration100km', 'choice2kmrank', 'choice10kmrank', 'integration10kmrank', 'integration2kmrank', 'choice2kmlog', 'choice10kmlog', 'choice100kmlog', 'x', 'y']\n",
      "Node target: None\n",
      "Edge attributes: {'u', 'v'}\n",
      "Loading graph of North Hertfordshire with key ('North Hertfordshire', \"['metres', 'choice2km', 'nodecount2km', 'integration2km', 'choice10km', 'nodecount10km', 'integration10km', 'choice100km', 'nodecount100km', 'integration100km', 'choice2kmrank', 'choice10kmrank', 'integration10kmrank', 'integration2kmrank', 'choice2kmlog', 'choice10kmlog', 'choice100kmlog']\", None, 'primal', 'False', True, 50, False)...\n",
      "Loading North Hertfordshire from SSx\n"
     ]
    },
    {
     "name": "stderr",
     "output_type": "stream",
     "text": [
      "/homes/wwc4618/predicting-choice/utils/remove_false_nodes.py:97: FutureWarning: The frame.append method is deprecated and will be removed from pandas in a future version. Use pandas.concat instead.\n",
      "  return df.append(\n"
     ]
    },
    {
     "name": "stdout",
     "output_type": "stream",
     "text": [
      "41140 geometries retrieved from North Hertfordshire\n",
      "Generated graph with 1460 nodes and 1921 edges\n",
      "Node features: ['metres', 'choice2km', 'nodecount2km', 'integration2km', 'choice10km', 'nodecount10km', 'integration10km', 'choice100km', 'nodecount100km', 'integration100km', 'choice2kmrank', 'choice10kmrank', 'integration10kmrank', 'integration2kmrank', 'choice2kmlog', 'choice10kmlog', 'choice100kmlog', 'x', 'y']\n",
      "Node target: None\n",
      "Edge attributes: {'u', 'v'}\n",
      "Loading graph of Cambridge with key ('Cambridge', \"['metres', 'choice2km', 'nodecount2km', 'integration2km', 'choice10km', 'nodecount10km', 'integration10km', 'choice100km', 'nodecount100km', 'integration100km', 'choice2kmrank', 'choice10kmrank', 'integration10kmrank', 'integration2kmrank', 'choice2kmlog', 'choice10kmlog', 'choice100kmlog']\", None, 'primal', 'False', True, 50, False)...\n",
      "Loading Cambridge from SSx\n"
     ]
    },
    {
     "name": "stderr",
     "output_type": "stream",
     "text": [
      "/homes/wwc4618/predicting-choice/utils/remove_false_nodes.py:97: FutureWarning: The frame.append method is deprecated and will be removed from pandas in a future version. Use pandas.concat instead.\n",
      "  return df.append(\n"
     ]
    },
    {
     "name": "stdout",
     "output_type": "stream",
     "text": [
      "25020 geometries retrieved from Cambridge\n",
      "Generated graph with 906 nodes and 1181 edges\n",
      "Node features: ['metres', 'choice2km', 'nodecount2km', 'integration2km', 'choice10km', 'nodecount10km', 'integration10km', 'choice100km', 'nodecount100km', 'integration100km', 'choice2kmrank', 'choice10kmrank', 'integration10kmrank', 'integration2kmrank', 'choice2kmlog', 'choice10kmlog', 'choice100kmlog', 'x', 'y']\n",
      "Node target: None\n",
      "Edge attributes: {'u', 'v'}\n",
      "Loading graph of Basildon with key ('Basildon', \"['metres', 'choice2km', 'nodecount2km', 'integration2km', 'choice10km', 'nodecount10km', 'integration10km', 'choice100km', 'nodecount100km', 'integration100km', 'choice2kmrank', 'choice10kmrank', 'integration10kmrank', 'integration2kmrank', 'choice2kmlog', 'choice10kmlog', 'choice100kmlog']\", None, 'primal', 'False', True, 50, False)...\n",
      "Loading Basildon from SSx\n"
     ]
    },
    {
     "name": "stderr",
     "output_type": "stream",
     "text": [
      "/homes/wwc4618/predicting-choice/utils/remove_false_nodes.py:97: FutureWarning: The frame.append method is deprecated and will be removed from pandas in a future version. Use pandas.concat instead.\n",
      "  return df.append(\n"
     ]
    },
    {
     "name": "stdout",
     "output_type": "stream",
     "text": [
      "39400 geometries retrieved from Basildon\n",
      "Generated graph with 1521 nodes and 1915 edges\n",
      "Node features: ['metres', 'choice2km', 'nodecount2km', 'integration2km', 'choice10km', 'nodecount10km', 'integration10km', 'choice100km', 'nodecount100km', 'integration100km', 'choice2kmrank', 'choice10kmrank', 'integration10kmrank', 'integration2kmrank', 'choice2kmlog', 'choice10kmlog', 'choice100kmlog', 'x', 'y']\n",
      "Node target: None\n",
      "Edge attributes: {'u', 'v'}\n",
      "Loading graph of Harlow with key ('Harlow', \"['metres', 'choice2km', 'nodecount2km', 'integration2km', 'choice10km', 'nodecount10km', 'integration10km', 'choice100km', 'nodecount100km', 'integration100km', 'choice2kmrank', 'choice10kmrank', 'integration10kmrank', 'integration2kmrank', 'choice2kmlog', 'choice10kmlog', 'choice100kmlog']\", None, 'primal', 'False', True, 50, False)...\n",
      "Loading Harlow from SSx\n"
     ]
    },
    {
     "name": "stderr",
     "output_type": "stream",
     "text": [
      "/homes/wwc4618/predicting-choice/utils/remove_false_nodes.py:97: FutureWarning: The frame.append method is deprecated and will be removed from pandas in a future version. Use pandas.concat instead.\n",
      "  return df.append(\n"
     ]
    },
    {
     "name": "stdout",
     "output_type": "stream",
     "text": [
      "19920 geometries retrieved from Harlow\n",
      "Generated graph with 742 nodes and 948 edges\n",
      "Node features: ['metres', 'choice2km', 'nodecount2km', 'integration2km', 'choice10km', 'nodecount10km', 'integration10km', 'choice100km', 'nodecount100km', 'integration100km', 'choice2kmrank', 'choice10kmrank', 'integration10kmrank', 'integration2kmrank', 'choice2kmlog', 'choice10kmlog', 'choice100kmlog', 'x', 'y']\n",
      "Node target: None\n",
      "Edge attributes: {'u', 'v'}\n",
      "Loading graph of Chelmsford with key ('Chelmsford', \"['metres', 'choice2km', 'nodecount2km', 'integration2km', 'choice10km', 'nodecount10km', 'integration10km', 'choice100km', 'nodecount100km', 'integration100km', 'choice2kmrank', 'choice10kmrank', 'integration10kmrank', 'integration2kmrank', 'choice2kmlog', 'choice10kmlog', 'choice100kmlog']\", None, 'primal', 'False', True, 50, False)...\n",
      "Loading Chelmsford from SSx\n"
     ]
    },
    {
     "name": "stderr",
     "output_type": "stream",
     "text": [
      "/homes/wwc4618/predicting-choice/utils/remove_false_nodes.py:97: FutureWarning: The frame.append method is deprecated and will be removed from pandas in a future version. Use pandas.concat instead.\n",
      "  return df.append(\n"
     ]
    },
    {
     "name": "stdout",
     "output_type": "stream",
     "text": [
      "49260 geometries retrieved from Chelmsford\n",
      "Generated graph with 1855 nodes and 2389 edges\n",
      "Node features: ['metres', 'choice2km', 'nodecount2km', 'integration2km', 'choice10km', 'nodecount10km', 'integration10km', 'choice100km', 'nodecount100km', 'integration100km', 'choice2kmrank', 'choice10kmrank', 'integration10kmrank', 'integration2kmrank', 'choice2kmlog', 'choice10kmlog', 'choice100kmlog', 'x', 'y']\n",
      "Node target: None\n",
      "Edge attributes: {'u', 'v'}\n",
      "Loading graph of Tendring with key ('Tendring', \"['metres', 'choice2km', 'nodecount2km', 'integration2km', 'choice10km', 'nodecount10km', 'integration10km', 'choice100km', 'nodecount100km', 'integration100km', 'choice2kmrank', 'choice10kmrank', 'integration10kmrank', 'integration2kmrank', 'choice2kmlog', 'choice10kmlog', 'choice100kmlog']\", None, 'primal', 'False', True, 50, False)...\n",
      "Loading Tendring from SSx\n"
     ]
    },
    {
     "name": "stderr",
     "output_type": "stream",
     "text": [
      "/homes/wwc4618/predicting-choice/utils/remove_false_nodes.py:97: FutureWarning: The frame.append method is deprecated and will be removed from pandas in a future version. Use pandas.concat instead.\n",
      "  return df.append(\n"
     ]
    },
    {
     "name": "stdout",
     "output_type": "stream",
     "text": [
      "54440 geometries retrieved from Tendring\n",
      "Generated graph with 1945 nodes and 2661 edges\n",
      "Node features: ['metres', 'choice2km', 'nodecount2km', 'integration2km', 'choice10km', 'nodecount10km', 'integration10km', 'choice100km', 'nodecount100km', 'integration100km', 'choice2kmrank', 'choice10kmrank', 'integration10kmrank', 'integration2kmrank', 'choice2kmlog', 'choice10kmlog', 'choice100kmlog', 'x', 'y']\n",
      "Node target: None\n",
      "Edge attributes: {'u', 'v'}\n",
      "Loading graph of Dacorum with key ('Dacorum', \"['metres', 'choice2km', 'nodecount2km', 'integration2km', 'choice10km', 'nodecount10km', 'integration10km', 'choice100km', 'nodecount100km', 'integration100km', 'choice2kmrank', 'choice10kmrank', 'integration10kmrank', 'integration2kmrank', 'choice2kmlog', 'choice10kmlog', 'choice100kmlog']\", None, 'primal', 'False', True, 50, False)...\n",
      "Loading Dacorum from SSx\n"
     ]
    },
    {
     "name": "stderr",
     "output_type": "stream",
     "text": [
      "/homes/wwc4618/predicting-choice/utils/remove_false_nodes.py:97: FutureWarning: The frame.append method is deprecated and will be removed from pandas in a future version. Use pandas.concat instead.\n",
      "  return df.append(\n"
     ]
    },
    {
     "name": "stdout",
     "output_type": "stream",
     "text": [
      "43580 geometries retrieved from Dacorum\n",
      "Generated graph with 1584 nodes and 2120 edges\n",
      "Node features: ['metres', 'choice2km', 'nodecount2km', 'integration2km', 'choice10km', 'nodecount10km', 'integration10km', 'choice100km', 'nodecount100km', 'integration100km', 'choice2kmrank', 'choice10kmrank', 'integration10kmrank', 'integration2kmrank', 'choice2kmlog', 'choice10kmlog', 'choice100kmlog', 'x', 'y']\n",
      "Node target: None\n",
      "Edge attributes: {'u', 'v'}\n",
      "Loading graph of Luton with key ('Luton', \"['metres', 'choice2km', 'nodecount2km', 'integration2km', 'choice10km', 'nodecount10km', 'integration10km', 'choice100km', 'nodecount100km', 'integration100km', 'choice2kmrank', 'choice10kmrank', 'integration10kmrank', 'integration2kmrank', 'choice2kmlog', 'choice10kmlog', 'choice100kmlog']\", None, 'primal', 'False', True, 50, False)...\n",
      "Loading Luton from SSx\n"
     ]
    },
    {
     "name": "stderr",
     "output_type": "stream",
     "text": [
      "/homes/wwc4618/predicting-choice/utils/remove_false_nodes.py:97: FutureWarning: The frame.append method is deprecated and will be removed from pandas in a future version. Use pandas.concat instead.\n",
      "  return df.append(\n"
     ]
    },
    {
     "name": "stdout",
     "output_type": "stream",
     "text": [
      "41260 geometries retrieved from Luton\n",
      "Generated graph with 1440 nodes and 2018 edges\n",
      "Node features: ['metres', 'choice2km', 'nodecount2km', 'integration2km', 'choice10km', 'nodecount10km', 'integration10km', 'choice100km', 'nodecount100km', 'integration100km', 'choice2kmrank', 'choice10kmrank', 'integration10kmrank', 'integration2kmrank', 'choice2kmlog', 'choice10kmlog', 'choice100kmlog', 'x', 'y']\n",
      "Node target: None\n",
      "Edge attributes: {'u', 'v'}\n",
      "Loading graph of Harrow with key ('Harrow', \"['metres', 'choice2km', 'nodecount2km', 'integration2km', 'choice10km', 'nodecount10km', 'integration10km', 'choice100km', 'nodecount100km', 'integration100km', 'choice2kmrank', 'choice10kmrank', 'integration10kmrank', 'integration2kmrank', 'choice2kmlog', 'choice10kmlog', 'choice100kmlog']\", None, 'primal', 'False', True, 50, False)...\n",
      "Loading Harrow from SSx\n"
     ]
    },
    {
     "name": "stderr",
     "output_type": "stream",
     "text": [
      "/homes/wwc4618/predicting-choice/utils/remove_false_nodes.py:97: FutureWarning: The frame.append method is deprecated and will be removed from pandas in a future version. Use pandas.concat instead.\n",
      "  return df.append(\n"
     ]
    },
    {
     "name": "stdout",
     "output_type": "stream",
     "text": [
      "48980 geometries retrieved from Harrow\n",
      "Generated graph with 1649 nodes and 2319 edges\n",
      "Node features: ['metres', 'choice2km', 'nodecount2km', 'integration2km', 'choice10km', 'nodecount10km', 'integration10km', 'choice100km', 'nodecount100km', 'integration100km', 'choice2kmrank', 'choice10kmrank', 'integration10kmrank', 'integration2kmrank', 'choice2kmlog', 'choice10kmlog', 'choice100kmlog', 'x', 'y']\n",
      "Node target: None\n",
      "Edge attributes: {'u', 'v'}\n",
      "Loading graph of Havering with key ('Havering', \"['metres', 'choice2km', 'nodecount2km', 'integration2km', 'choice10km', 'nodecount10km', 'integration10km', 'choice100km', 'nodecount100km', 'integration100km', 'choice2kmrank', 'choice10kmrank', 'integration10kmrank', 'integration2kmrank', 'choice2kmlog', 'choice10kmlog', 'choice100kmlog']\", None, 'primal', 'False', True, 50, False)...\n",
      "Loading Havering from SSx\n"
     ]
    },
    {
     "name": "stderr",
     "output_type": "stream",
     "text": [
      "/homes/wwc4618/predicting-choice/utils/remove_false_nodes.py:97: FutureWarning: The frame.append method is deprecated and will be removed from pandas in a future version. Use pandas.concat instead.\n",
      "  return df.append(\n"
     ]
    },
    {
     "name": "stdout",
     "output_type": "stream",
     "text": [
      "56100 geometries retrieved from Havering\n",
      "Generated graph with 1967 nodes and 2745 edges\n",
      "Node features: ['metres', 'choice2km', 'nodecount2km', 'integration2km', 'choice10km', 'nodecount10km', 'integration10km', 'choice100km', 'nodecount100km', 'integration100km', 'choice2kmrank', 'choice10kmrank', 'integration10kmrank', 'integration2kmrank', 'choice2kmlog', 'choice10kmlog', 'choice100kmlog', 'x', 'y']\n",
      "Node target: None\n",
      "Edge attributes: {'u', 'v'}\n",
      "Loading graph of Islington with key ('Islington', \"['metres', 'choice2km', 'nodecount2km', 'integration2km', 'choice10km', 'nodecount10km', 'integration10km', 'choice100km', 'nodecount100km', 'integration100km', 'choice2kmrank', 'choice10kmrank', 'integration10kmrank', 'integration2kmrank', 'choice2kmlog', 'choice10kmlog', 'choice100kmlog']\", None, 'primal', 'False', True, 50, False)...\n",
      "Loading Islington from SSx\n"
     ]
    },
    {
     "name": "stderr",
     "output_type": "stream",
     "text": [
      "/homes/wwc4618/predicting-choice/utils/remove_false_nodes.py:97: FutureWarning: The frame.append method is deprecated and will be removed from pandas in a future version. Use pandas.concat instead.\n",
      "  return df.append(\n"
     ]
    },
    {
     "name": "stdout",
     "output_type": "stream",
     "text": [
      "37560 geometries retrieved from Islington\n",
      "Generated graph with 1256 nodes and 1832 edges\n",
      "Node features: ['metres', 'choice2km', 'nodecount2km', 'integration2km', 'choice10km', 'nodecount10km', 'integration10km', 'choice100km', 'nodecount100km', 'integration100km', 'choice2kmrank', 'choice10kmrank', 'integration10kmrank', 'integration2kmrank', 'choice2kmlog', 'choice10kmlog', 'choice100kmlog', 'x', 'y']\n",
      "Node target: None\n",
      "Edge attributes: {'u', 'v'}\n",
      "Loading graph of Brent with key ('Brent', \"['metres', 'choice2km', 'nodecount2km', 'integration2km', 'choice10km', 'nodecount10km', 'integration10km', 'choice100km', 'nodecount100km', 'integration100km', 'choice2kmrank', 'choice10kmrank', 'integration10kmrank', 'integration2kmrank', 'choice2kmlog', 'choice10kmlog', 'choice100kmlog']\", None, 'primal', 'False', True, 50, False)...\n",
      "Loading Brent from SSx\n"
     ]
    },
    {
     "name": "stderr",
     "output_type": "stream",
     "text": [
      "/homes/wwc4618/predicting-choice/utils/remove_false_nodes.py:97: FutureWarning: The frame.append method is deprecated and will be removed from pandas in a future version. Use pandas.concat instead.\n",
      "  return df.append(\n"
     ]
    },
    {
     "name": "stdout",
     "output_type": "stream",
     "text": [
      "53460 geometries retrieved from Brent\n",
      "Generated graph with 1810 nodes and 2582 edges\n",
      "Node features: ['metres', 'choice2km', 'nodecount2km', 'integration2km', 'choice10km', 'nodecount10km', 'integration10km', 'choice100km', 'nodecount100km', 'integration100km', 'choice2kmrank', 'choice10kmrank', 'integration10kmrank', 'integration2kmrank', 'choice2kmlog', 'choice10kmlog', 'choice100kmlog', 'x', 'y']\n",
      "Node target: None\n",
      "Edge attributes: {'u', 'v'}\n",
      "Loading graph of Greenwich with key ('Greenwich', \"['metres', 'choice2km', 'nodecount2km', 'integration2km', 'choice10km', 'nodecount10km', 'integration10km', 'choice100km', 'nodecount100km', 'integration100km', 'choice2kmrank', 'choice10kmrank', 'integration10kmrank', 'integration2kmrank', 'choice2kmlog', 'choice10kmlog', 'choice100kmlog']\", None, 'primal', 'False', True, 50, False)...\n",
      "Loading Greenwich from SSx\n"
     ]
    },
    {
     "name": "stderr",
     "output_type": "stream",
     "text": [
      "/homes/wwc4618/predicting-choice/utils/remove_false_nodes.py:97: FutureWarning: The frame.append method is deprecated and will be removed from pandas in a future version. Use pandas.concat instead.\n",
      "  return df.append(\n"
     ]
    },
    {
     "name": "stdout",
     "output_type": "stream",
     "text": [
      "56500 geometries retrieved from Greenwich\n",
      "Generated graph with 1894 nodes and 2717 edges\n",
      "Node features: ['metres', 'choice2km', 'nodecount2km', 'integration2km', 'choice10km', 'nodecount10km', 'integration10km', 'choice100km', 'nodecount100km', 'integration100km', 'choice2kmrank', 'choice10kmrank', 'integration10kmrank', 'integration2kmrank', 'choice2kmlog', 'choice10kmlog', 'choice100kmlog', 'x', 'y']\n",
      "Node target: None\n",
      "Edge attributes: {'u', 'v'}\n",
      "Loading graph of Castle Point with key ('Castle Point', \"['metres', 'choice2km', 'nodecount2km', 'integration2km', 'choice10km', 'nodecount10km', 'integration10km', 'choice100km', 'nodecount100km', 'integration100km', 'choice2kmrank', 'choice10kmrank', 'integration10kmrank', 'integration2kmrank', 'choice2kmlog', 'choice10kmlog', 'choice100kmlog']\", None, 'primal', 'False', True, 50, False)...\n",
      "Loading Castle Point from SSx\n"
     ]
    },
    {
     "name": "stderr",
     "output_type": "stream",
     "text": [
      "/homes/wwc4618/predicting-choice/utils/remove_false_nodes.py:97: FutureWarning: The frame.append method is deprecated and will be removed from pandas in a future version. Use pandas.concat instead.\n",
      "  return df.append(\n"
     ]
    },
    {
     "name": "stdout",
     "output_type": "stream",
     "text": [
      "27220 geometries retrieved from Castle Point\n",
      "Generated graph with 966 nodes and 1326 edges\n",
      "Node features: ['metres', 'choice2km', 'nodecount2km', 'integration2km', 'choice10km', 'nodecount10km', 'integration10km', 'choice100km', 'nodecount100km', 'integration100km', 'choice2kmrank', 'choice10kmrank', 'integration10kmrank', 'integration2kmrank', 'choice2kmlog', 'choice10kmlog', 'choice100kmlog', 'x', 'y']\n",
      "Node target: None\n",
      "Edge attributes: {'u', 'v'}\n",
      "Loading graph of Aylesbury Vale with key ('Aylesbury Vale', \"['metres', 'choice2km', 'nodecount2km', 'integration2km', 'choice10km', 'nodecount10km', 'integration10km', 'choice100km', 'nodecount100km', 'integration100km', 'choice2kmrank', 'choice10kmrank', 'integration10kmrank', 'integration2kmrank', 'choice2kmlog', 'choice10kmlog', 'choice100kmlog']\", None, 'primal', 'False', True, 50, False)...\n",
      "Loading Aylesbury Vale from SSx\n"
     ]
    },
    {
     "name": "stderr",
     "output_type": "stream",
     "text": [
      "/homes/wwc4618/predicting-choice/utils/remove_false_nodes.py:97: FutureWarning: The frame.append method is deprecated and will be removed from pandas in a future version. Use pandas.concat instead.\n",
      "  return df.append(\n"
     ]
    },
    {
     "name": "stdout",
     "output_type": "stream",
     "text": [
      "54800 geometries retrieved from Aylesbury Vale\n",
      "Generated graph with 2082 nodes and 2645 edges\n",
      "Node features: ['metres', 'choice2km', 'nodecount2km', 'integration2km', 'choice10km', 'nodecount10km', 'integration10km', 'choice100km', 'nodecount100km', 'integration100km', 'choice2kmrank', 'choice10kmrank', 'integration10kmrank', 'integration2kmrank', 'choice2kmlog', 'choice10kmlog', 'choice100kmlog', 'x', 'y']\n",
      "Node target: None\n",
      "Edge attributes: {'u', 'v'}\n",
      "Loading graph of Milton Keynes with key ('Milton Keynes', \"['metres', 'choice2km', 'nodecount2km', 'integration2km', 'choice10km', 'nodecount10km', 'integration10km', 'choice100km', 'nodecount100km', 'integration100km', 'choice2kmrank', 'choice10kmrank', 'integration10kmrank', 'integration2kmrank', 'choice2kmlog', 'choice10kmlog', 'choice100kmlog']\", None, 'primal', 'False', True, 50, False)...\n",
      "Loading Milton Keynes from SSx\n"
     ]
    },
    {
     "name": "stderr",
     "output_type": "stream",
     "text": [
      "/homes/wwc4618/predicting-choice/utils/remove_false_nodes.py:97: FutureWarning: The frame.append method is deprecated and will be removed from pandas in a future version. Use pandas.concat instead.\n",
      "  return df.append(\n"
     ]
    },
    {
     "name": "stdout",
     "output_type": "stream",
     "text": [
      "75880 geometries retrieved from Milton Keynes\n",
      "Generated graph with 2710 nodes and 3692 edges\n",
      "Node features: ['metres', 'choice2km', 'nodecount2km', 'integration2km', 'choice10km', 'nodecount10km', 'integration10km', 'choice100km', 'nodecount100km', 'integration100km', 'choice2kmrank', 'choice10kmrank', 'integration10kmrank', 'integration2kmrank', 'choice2kmlog', 'choice10kmlog', 'choice100kmlog', 'x', 'y']\n",
      "Node target: None\n",
      "Edge attributes: {'u', 'v'}\n",
      "Loading graph of Kettering with key ('Kettering', \"['metres', 'choice2km', 'nodecount2km', 'integration2km', 'choice10km', 'nodecount10km', 'integration10km', 'choice100km', 'nodecount100km', 'integration100km', 'choice2kmrank', 'choice10kmrank', 'integration10kmrank', 'integration2kmrank', 'choice2kmlog', 'choice10kmlog', 'choice100kmlog']\", None, 'primal', 'False', True, 50, False)...\n",
      "Loading Kettering from SSx\n"
     ]
    },
    {
     "name": "stderr",
     "output_type": "stream",
     "text": [
      "/homes/wwc4618/predicting-choice/utils/remove_false_nodes.py:97: FutureWarning: The frame.append method is deprecated and will be removed from pandas in a future version. Use pandas.concat instead.\n",
      "  return df.append(\n"
     ]
    },
    {
     "name": "stdout",
     "output_type": "stream",
     "text": [
      "32120 geometries retrieved from Kettering\n",
      "Generated graph with 1087 nodes and 1510 edges\n",
      "Node features: ['metres', 'choice2km', 'nodecount2km', 'integration2km', 'choice10km', 'nodecount10km', 'integration10km', 'choice100km', 'nodecount100km', 'integration100km', 'choice2kmrank', 'choice10kmrank', 'integration10kmrank', 'integration2kmrank', 'choice2kmlog', 'choice10kmlog', 'choice100kmlog', 'x', 'y']\n",
      "Node target: None\n",
      "Edge attributes: {'u', 'v'}\n",
      "Loading graph of Thurrock with key ('Thurrock', \"['metres', 'choice2km', 'nodecount2km', 'integration2km', 'choice10km', 'nodecount10km', 'integration10km', 'choice100km', 'nodecount100km', 'integration100km', 'choice2kmrank', 'choice10kmrank', 'integration10kmrank', 'integration2kmrank', 'choice2kmlog', 'choice10kmlog', 'choice100kmlog']\", None, 'primal', 'False', True, 50, False)...\n",
      "Loading Thurrock from SSx\n"
     ]
    },
    {
     "name": "stderr",
     "output_type": "stream",
     "text": [
      "/homes/wwc4618/predicting-choice/utils/remove_false_nodes.py:97: FutureWarning: The frame.append method is deprecated and will be removed from pandas in a future version. Use pandas.concat instead.\n",
      "  return df.append(\n"
     ]
    },
    {
     "name": "stdout",
     "output_type": "stream",
     "text": [
      "39060 geometries retrieved from Thurrock\n",
      "Generated graph with 1417 nodes and 1881 edges\n",
      "Node features: ['metres', 'choice2km', 'nodecount2km', 'integration2km', 'choice10km', 'nodecount10km', 'integration10km', 'choice100km', 'nodecount100km', 'integration100km', 'choice2kmrank', 'choice10kmrank', 'integration10kmrank', 'integration2kmrank', 'choice2kmlog', 'choice10kmlog', 'choice100kmlog', 'x', 'y']\n",
      "Node target: None\n",
      "Edge attributes: {'u', 'v'}\n",
      "Loading graph of Westminster with key ('Westminster', \"['metres', 'choice2km', 'nodecount2km', 'integration2km', 'choice10km', 'nodecount10km', 'integration10km', 'choice100km', 'nodecount100km', 'integration100km', 'choice2kmrank', 'choice10kmrank', 'integration10kmrank', 'integration2kmrank', 'choice2kmlog', 'choice10kmlog', 'choice100kmlog']\", None, 'primal', 'False', True, 50, False)...\n",
      "Loading Westminster from SSx\n"
     ]
    },
    {
     "name": "stderr",
     "output_type": "stream",
     "text": [
      "/homes/wwc4618/predicting-choice/utils/remove_false_nodes.py:97: FutureWarning: The frame.append method is deprecated and will be removed from pandas in a future version. Use pandas.concat instead.\n",
      "  return df.append(\n"
     ]
    },
    {
     "name": "stdout",
     "output_type": "stream",
     "text": [
      "64020 geometries retrieved from Westminster\n",
      "Generated graph with 1975 nodes and 3095 edges\n",
      "Node features: ['metres', 'choice2km', 'nodecount2km', 'integration2km', 'choice10km', 'nodecount10km', 'integration10km', 'choice100km', 'nodecount100km', 'integration100km', 'choice2kmrank', 'choice10kmrank', 'integration10kmrank', 'integration2kmrank', 'choice2kmlog', 'choice10kmlog', 'choice100kmlog', 'x', 'y']\n",
      "Node target: None\n",
      "Edge attributes: {'u', 'v'}\n",
      "Loading graph of Camden with key ('Camden', \"['metres', 'choice2km', 'nodecount2km', 'integration2km', 'choice10km', 'nodecount10km', 'integration10km', 'choice100km', 'nodecount100km', 'integration100km', 'choice2kmrank', 'choice10kmrank', 'integration10kmrank', 'integration2kmrank', 'choice2kmlog', 'choice10kmlog', 'choice100kmlog']\", None, 'primal', 'False', True, 50, False)...\n",
      "Loading Camden from SSx\n"
     ]
    },
    {
     "name": "stderr",
     "output_type": "stream",
     "text": [
      "/homes/wwc4618/predicting-choice/utils/remove_false_nodes.py:97: FutureWarning: The frame.append method is deprecated and will be removed from pandas in a future version. Use pandas.concat instead.\n",
      "  return df.append(\n"
     ]
    },
    {
     "name": "stdout",
     "output_type": "stream",
     "text": [
      "43840 geometries retrieved from Camden\n",
      "Generated graph with 1447 nodes and 2136 edges\n",
      "Node features: ['metres', 'choice2km', 'nodecount2km', 'integration2km', 'choice10km', 'nodecount10km', 'integration10km', 'choice100km', 'nodecount100km', 'integration100km', 'choice2kmrank', 'choice10kmrank', 'integration10kmrank', 'integration2kmrank', 'choice2kmlog', 'choice10kmlog', 'choice100kmlog', 'x', 'y']\n",
      "Node target: None\n",
      "Edge attributes: {'u', 'v'}\n",
      "Loading graph of Hammersmith and Fulham with key ('Hammersmith and Fulham', \"['metres', 'choice2km', 'nodecount2km', 'integration2km', 'choice10km', 'nodecount10km', 'integration10km', 'choice100km', 'nodecount100km', 'integration100km', 'choice2kmrank', 'choice10kmrank', 'integration10kmrank', 'integration2kmrank', 'choice2kmlog', 'choice10kmlog', 'choice100kmlog']\", None, 'primal', 'False', True, 50, False)...\n",
      "Loading Hammersmith and Fulham from SSx\n"
     ]
    },
    {
     "name": "stderr",
     "output_type": "stream",
     "text": [
      "/homes/wwc4618/predicting-choice/utils/remove_false_nodes.py:97: FutureWarning: The frame.append method is deprecated and will be removed from pandas in a future version. Use pandas.concat instead.\n",
      "  return df.append(\n"
     ]
    },
    {
     "name": "stdout",
     "output_type": "stream",
     "text": [
      "34220 geometries retrieved from Hammersmith and Fulham\n",
      "Generated graph with 1142 nodes and 1674 edges\n",
      "Node features: ['metres', 'choice2km', 'nodecount2km', 'integration2km', 'choice10km', 'nodecount10km', 'integration10km', 'choice100km', 'nodecount100km', 'integration100km', 'choice2kmrank', 'choice10kmrank', 'integration10kmrank', 'integration2kmrank', 'choice2kmlog', 'choice10kmlog', 'choice100kmlog', 'x', 'y']\n",
      "Node target: None\n",
      "Edge attributes: {'u', 'v'}\n",
      "Loading graph of Kensington and Chelsea with key ('Kensington and Chelsea', \"['metres', 'choice2km', 'nodecount2km', 'integration2km', 'choice10km', 'nodecount10km', 'integration10km', 'choice100km', 'nodecount100km', 'integration100km', 'choice2kmrank', 'choice10kmrank', 'integration10kmrank', 'integration2kmrank', 'choice2kmlog', 'choice10kmlog', 'choice100kmlog']\", None, 'primal', 'False', True, 50, False)...\n",
      "Loading Kensington and Chelsea from SSx\n"
     ]
    },
    {
     "name": "stderr",
     "output_type": "stream",
     "text": [
      "/homes/wwc4618/predicting-choice/utils/remove_false_nodes.py:97: FutureWarning: The frame.append method is deprecated and will be removed from pandas in a future version. Use pandas.concat instead.\n",
      "  return df.append(\n"
     ]
    },
    {
     "name": "stdout",
     "output_type": "stream",
     "text": [
      "36560 geometries retrieved from Kensington and Chelsea\n",
      "Generated graph with 1172 nodes and 1787 edges\n",
      "Node features: ['metres', 'choice2km', 'nodecount2km', 'integration2km', 'choice10km', 'nodecount10km', 'integration10km', 'choice100km', 'nodecount100km', 'integration100km', 'choice2kmrank', 'choice10kmrank', 'integration10kmrank', 'integration2kmrank', 'choice2kmlog', 'choice10kmlog', 'choice100kmlog', 'x', 'y']\n",
      "Node target: None\n",
      "Edge attributes: {'u', 'v'}\n",
      "Loading graph of Teignbridge with key ('Teignbridge', \"['metres', 'choice2km', 'nodecount2km', 'integration2km', 'choice10km', 'nodecount10km', 'integration10km', 'choice100km', 'nodecount100km', 'integration100km', 'choice2kmrank', 'choice10kmrank', 'integration10kmrank', 'integration2kmrank', 'choice2kmlog', 'choice10kmlog', 'choice100kmlog']\", None, 'primal', 'False', True, 50, False)...\n",
      "Loading Teignbridge from SSx\n"
     ]
    },
    {
     "name": "stderr",
     "output_type": "stream",
     "text": [
      "/homes/wwc4618/predicting-choice/utils/remove_false_nodes.py:97: FutureWarning: The frame.append method is deprecated and will be removed from pandas in a future version. Use pandas.concat instead.\n",
      "  return df.append(\n"
     ]
    },
    {
     "name": "stdout",
     "output_type": "stream",
     "text": [
      "77920 geometries retrieved from Teignbridge\n",
      "Generated graph with 2832 nodes and 3840 edges\n",
      "Node features: ['metres', 'choice2km', 'nodecount2km', 'integration2km', 'choice10km', 'nodecount10km', 'integration10km', 'choice100km', 'nodecount100km', 'integration100km', 'choice2kmrank', 'choice10kmrank', 'integration10kmrank', 'integration2kmrank', 'choice2kmlog', 'choice10kmlog', 'choice100kmlog', 'x', 'y']\n",
      "Node target: None\n",
      "Edge attributes: {'u', 'v'}\n",
      "Loading graph of Southend-on-Sea with key ('Southend-on-Sea', \"['metres', 'choice2km', 'nodecount2km', 'integration2km', 'choice10km', 'nodecount10km', 'integration10km', 'choice100km', 'nodecount100km', 'integration100km', 'choice2kmrank', 'choice10kmrank', 'integration10kmrank', 'integration2kmrank', 'choice2kmlog', 'choice10kmlog', 'choice100kmlog']\", None, 'primal', 'False', True, 50, False)...\n",
      "Loading Southend-on-Sea from SSx\n"
     ]
    },
    {
     "name": "stderr",
     "output_type": "stream",
     "text": [
      "/homes/wwc4618/predicting-choice/utils/remove_false_nodes.py:97: FutureWarning: The frame.append method is deprecated and will be removed from pandas in a future version. Use pandas.concat instead.\n",
      "  return df.append(\n"
     ]
    },
    {
     "name": "stdout",
     "output_type": "stream",
     "text": [
      "48700 geometries retrieved from Southend-on-Sea\n",
      "Generated graph with 1608 nodes and 2395 edges\n",
      "Node features: ['metres', 'choice2km', 'nodecount2km', 'integration2km', 'choice10km', 'nodecount10km', 'integration10km', 'choice100km', 'nodecount100km', 'integration100km', 'choice2kmrank', 'choice10kmrank', 'integration10kmrank', 'integration2kmrank', 'choice2kmlog', 'choice10kmlog', 'choice100kmlog', 'x', 'y']\n",
      "Node target: None\n",
      "Edge attributes: {'u', 'v'}\n",
      "Loading graph of Hart with key ('Hart', \"['metres', 'choice2km', 'nodecount2km', 'integration2km', 'choice10km', 'nodecount10km', 'integration10km', 'choice100km', 'nodecount100km', 'integration100km', 'choice2kmrank', 'choice10kmrank', 'integration10kmrank', 'integration2kmrank', 'choice2kmlog', 'choice10kmlog', 'choice100kmlog']\", None, 'primal', 'False', True, 50, False)...\n",
      "Loading Hart from SSx\n"
     ]
    },
    {
     "name": "stderr",
     "output_type": "stream",
     "text": [
      "/homes/wwc4618/predicting-choice/utils/remove_false_nodes.py:97: FutureWarning: The frame.append method is deprecated and will be removed from pandas in a future version. Use pandas.concat instead.\n",
      "  return df.append(\n"
     ]
    },
    {
     "name": "stdout",
     "output_type": "stream",
     "text": [
      "32080 geometries retrieved from Hart\n",
      "Generated graph with 1192 nodes and 1550 edges\n",
      "Node features: ['metres', 'choice2km', 'nodecount2km', 'integration2km', 'choice10km', 'nodecount10km', 'integration10km', 'choice100km', 'nodecount100km', 'integration100km', 'choice2kmrank', 'choice10kmrank', 'integration10kmrank', 'integration2kmrank', 'choice2kmlog', 'choice10kmlog', 'choice100kmlog', 'x', 'y']\n",
      "Node target: None\n",
      "Edge attributes: {'u', 'v'}\n",
      "Loading graph of East Hampshire with key ('East Hampshire', \"['metres', 'choice2km', 'nodecount2km', 'integration2km', 'choice10km', 'nodecount10km', 'integration10km', 'choice100km', 'nodecount100km', 'integration100km', 'choice2kmrank', 'choice10kmrank', 'integration10kmrank', 'integration2kmrank', 'choice2kmlog', 'choice10kmlog', 'choice100kmlog']\", None, 'primal', 'False', True, 50, False)...\n",
      "Loading East Hampshire from SSx\n"
     ]
    },
    {
     "name": "stderr",
     "output_type": "stream",
     "text": [
      "/homes/wwc4618/predicting-choice/utils/remove_false_nodes.py:97: FutureWarning: The frame.append method is deprecated and will be removed from pandas in a future version. Use pandas.concat instead.\n",
      "  return df.append(\n"
     ]
    },
    {
     "name": "stdout",
     "output_type": "stream",
     "text": [
      "50180 geometries retrieved from East Hampshire\n",
      "Generated graph with 1885 nodes and 2436 edges\n",
      "Node features: ['metres', 'choice2km', 'nodecount2km', 'integration2km', 'choice10km', 'nodecount10km', 'integration10km', 'choice100km', 'nodecount100km', 'integration100km', 'choice2kmrank', 'choice10kmrank', 'integration10kmrank', 'integration2kmrank', 'choice2kmlog', 'choice10kmlog', 'choice100kmlog', 'x', 'y']\n",
      "Node target: None\n",
      "Edge attributes: {'u', 'v'}\n",
      "Loading graph of Lewisham with key ('Lewisham', \"['metres', 'choice2km', 'nodecount2km', 'integration2km', 'choice10km', 'nodecount10km', 'integration10km', 'choice100km', 'nodecount100km', 'integration100km', 'choice2kmrank', 'choice10kmrank', 'integration10kmrank', 'integration2kmrank', 'choice2kmlog', 'choice10kmlog', 'choice100kmlog']\", None, 'primal', 'False', True, 50, False)...\n",
      "Loading Lewisham from SSx\n"
     ]
    },
    {
     "name": "stderr",
     "output_type": "stream",
     "text": [
      "/homes/wwc4618/predicting-choice/utils/remove_false_nodes.py:97: FutureWarning: The frame.append method is deprecated and will be removed from pandas in a future version. Use pandas.concat instead.\n",
      "  return df.append(\n"
     ]
    },
    {
     "name": "stdout",
     "output_type": "stream",
     "text": [
      "54200 geometries retrieved from Lewisham\n",
      "Generated graph with 1812 nodes and 2631 edges\n",
      "Node features: ['metres', 'choice2km', 'nodecount2km', 'integration2km', 'choice10km', 'nodecount10km', 'integration10km', 'choice100km', 'nodecount100km', 'integration100km', 'choice2kmrank', 'choice10kmrank', 'integration10kmrank', 'integration2kmrank', 'choice2kmlog', 'choice10kmlog', 'choice100kmlog', 'x', 'y']\n",
      "Node target: None\n",
      "Edge attributes: {'u', 'v'}\n",
      "Loading graph of Rochford with key ('Rochford', \"['metres', 'choice2km', 'nodecount2km', 'integration2km', 'choice10km', 'nodecount10km', 'integration10km', 'choice100km', 'nodecount100km', 'integration100km', 'choice2kmrank', 'choice10kmrank', 'integration10kmrank', 'integration2kmrank', 'choice2kmlog', 'choice10kmlog', 'choice100kmlog']\", None, 'primal', 'False', True, 50, False)...\n",
      "Loading Rochford from SSx\n"
     ]
    },
    {
     "name": "stderr",
     "output_type": "stream",
     "text": [
      "/homes/wwc4618/predicting-choice/utils/remove_false_nodes.py:97: FutureWarning: The frame.append method is deprecated and will be removed from pandas in a future version. Use pandas.concat instead.\n",
      "  return df.append(\n"
     ]
    },
    {
     "name": "stdout",
     "output_type": "stream",
     "text": [
      "21420 geometries retrieved from Rochford\n",
      "Generated graph with 829 nodes and 1036 edges\n",
      "Node features: ['metres', 'choice2km', 'nodecount2km', 'integration2km', 'choice10km', 'nodecount10km', 'integration10km', 'choice100km', 'nodecount100km', 'integration100km', 'choice2kmrank', 'choice10kmrank', 'integration10kmrank', 'integration2kmrank', 'choice2kmlog', 'choice10kmlog', 'choice100kmlog', 'x', 'y']\n",
      "Node target: None\n",
      "Edge attributes: {'u', 'v'}\n",
      "Loading graph of Wandsworth with key ('Wandsworth', \"['metres', 'choice2km', 'nodecount2km', 'integration2km', 'choice10km', 'nodecount10km', 'integration10km', 'choice100km', 'nodecount100km', 'integration100km', 'choice2kmrank', 'choice10kmrank', 'integration10kmrank', 'integration2kmrank', 'choice2kmlog', 'choice10kmlog', 'choice100kmlog']\", None, 'primal', 'False', True, 50, False)...\n",
      "Loading Wandsworth from SSx\n"
     ]
    },
    {
     "name": "stderr",
     "output_type": "stream",
     "text": [
      "/homes/wwc4618/predicting-choice/utils/remove_false_nodes.py:97: FutureWarning: The frame.append method is deprecated and will be removed from pandas in a future version. Use pandas.concat instead.\n",
      "  return df.append(\n"
     ]
    },
    {
     "name": "stdout",
     "output_type": "stream",
     "text": [
      "59360 geometries retrieved from Wandsworth\n",
      "Generated graph with 1949 nodes and 2904 edges\n",
      "Node features: ['metres', 'choice2km', 'nodecount2km', 'integration2km', 'choice10km', 'nodecount10km', 'integration10km', 'choice100km', 'nodecount100km', 'integration100km', 'choice2kmrank', 'choice10kmrank', 'integration10kmrank', 'integration2kmrank', 'choice2kmlog', 'choice10kmlog', 'choice100kmlog', 'x', 'y']\n",
      "Node target: None\n",
      "Edge attributes: {'u', 'v'}\n",
      "Loading graph of North East Lincolnshire with key ('North East Lincolnshire', \"['metres', 'choice2km', 'nodecount2km', 'integration2km', 'choice10km', 'nodecount10km', 'integration10km', 'choice100km', 'nodecount100km', 'integration100km', 'choice2kmrank', 'choice10kmrank', 'integration10kmrank', 'integration2kmrank', 'choice2kmlog', 'choice10kmlog', 'choice100kmlog']\", None, 'primal', 'False', True, 50, False)...\n",
      "Loading North East Lincolnshire from SSx\n"
     ]
    },
    {
     "name": "stderr",
     "output_type": "stream",
     "text": [
      "/homes/wwc4618/predicting-choice/utils/remove_false_nodes.py:97: FutureWarning: The frame.append method is deprecated and will be removed from pandas in a future version. Use pandas.concat instead.\n",
      "  return df.append(\n"
     ]
    },
    {
     "name": "stdout",
     "output_type": "stream",
     "text": [
      "49080 geometries retrieved from North East Lincolnshire\n",
      "Generated graph with 1710 nodes and 2387 edges\n",
      "Node features: ['metres', 'choice2km', 'nodecount2km', 'integration2km', 'choice10km', 'nodecount10km', 'integration10km', 'choice100km', 'nodecount100km', 'integration100km', 'choice2kmrank', 'choice10kmrank', 'integration10kmrank', 'integration2kmrank', 'choice2kmlog', 'choice10kmlog', 'choice100kmlog', 'x', 'y']\n",
      "Node target: None\n",
      "Edge attributes: {'u', 'v'}\n",
      "Loading graph of Wokingham with key ('Wokingham', \"['metres', 'choice2km', 'nodecount2km', 'integration2km', 'choice10km', 'nodecount10km', 'integration10km', 'choice100km', 'nodecount100km', 'integration100km', 'choice2kmrank', 'choice10kmrank', 'integration10kmrank', 'integration2kmrank', 'choice2kmlog', 'choice10kmlog', 'choice100kmlog']\", None, 'primal', 'False', True, 50, False)...\n",
      "Loading Wokingham from SSx\n"
     ]
    },
    {
     "name": "stderr",
     "output_type": "stream",
     "text": [
      "/homes/wwc4618/predicting-choice/utils/remove_false_nodes.py:97: FutureWarning: The frame.append method is deprecated and will be removed from pandas in a future version. Use pandas.concat instead.\n",
      "  return df.append(\n"
     ]
    },
    {
     "name": "stdout",
     "output_type": "stream",
     "text": [
      "41100 geometries retrieved from Wokingham\n",
      "Generated graph with 1567 nodes and 1962 edges\n",
      "Node features: ['metres', 'choice2km', 'nodecount2km', 'integration2km', 'choice10km', 'nodecount10km', 'integration10km', 'choice100km', 'nodecount100km', 'integration100km', 'choice2kmrank', 'choice10kmrank', 'integration10kmrank', 'integration2kmrank', 'choice2kmlog', 'choice10kmlog', 'choice100kmlog', 'x', 'y']\n",
      "Node target: None\n",
      "Edge attributes: {'u', 'v'}\n",
      "Loading graph of Barking and Dagenham with key ('Barking and Dagenham', \"['metres', 'choice2km', 'nodecount2km', 'integration2km', 'choice10km', 'nodecount10km', 'integration10km', 'choice100km', 'nodecount100km', 'integration100km', 'choice2kmrank', 'choice10kmrank', 'integration10kmrank', 'integration2kmrank', 'choice2kmlog', 'choice10kmlog', 'choice100kmlog']\", None, 'primal', 'False', True, 50, False)...\n",
      "Loading Barking and Dagenham from SSx\n"
     ]
    },
    {
     "name": "stderr",
     "output_type": "stream",
     "text": [
      "/homes/wwc4618/predicting-choice/utils/remove_false_nodes.py:97: FutureWarning: The frame.append method is deprecated and will be removed from pandas in a future version. Use pandas.concat instead.\n",
      "  return df.append(\n"
     ]
    },
    {
     "name": "stdout",
     "output_type": "stream",
     "text": [
      "37460 geometries retrieved from Barking and Dagenham\n",
      "Generated graph with 1263 nodes and 1822 edges\n",
      "Node features: ['metres', 'choice2km', 'nodecount2km', 'integration2km', 'choice10km', 'nodecount10km', 'integration10km', 'choice100km', 'nodecount100km', 'integration100km', 'choice2kmrank', 'choice10kmrank', 'integration10kmrank', 'integration2kmrank', 'choice2kmlog', 'choice10kmlog', 'choice100kmlog', 'x', 'y']\n",
      "Node target: None\n",
      "Edge attributes: {'u', 'v'}\n",
      "Loading graph of Newham with key ('Newham', \"['metres', 'choice2km', 'nodecount2km', 'integration2km', 'choice10km', 'nodecount10km', 'integration10km', 'choice100km', 'nodecount100km', 'integration100km', 'choice2kmrank', 'choice10kmrank', 'integration10kmrank', 'integration2kmrank', 'choice2kmlog', 'choice10kmlog', 'choice100kmlog']\", None, 'primal', 'False', True, 50, False)...\n",
      "Loading Newham from SSx\n"
     ]
    },
    {
     "name": "stderr",
     "output_type": "stream",
     "text": [
      "/homes/wwc4618/predicting-choice/utils/remove_false_nodes.py:97: FutureWarning: The frame.append method is deprecated and will be removed from pandas in a future version. Use pandas.concat instead.\n",
      "  return df.append(\n"
     ]
    },
    {
     "name": "stdout",
     "output_type": "stream",
     "text": [
      "51060 geometries retrieved from Newham\n",
      "Generated graph with 1695 nodes and 2497 edges\n",
      "Node features: ['metres', 'choice2km', 'nodecount2km', 'integration2km', 'choice10km', 'nodecount10km', 'integration10km', 'choice100km', 'nodecount100km', 'integration100km', 'choice2kmrank', 'choice10kmrank', 'integration10kmrank', 'integration2kmrank', 'choice2kmlog', 'choice10kmlog', 'choice100kmlog', 'x', 'y']\n",
      "Node target: None\n",
      "Edge attributes: {'u', 'v'}\n",
      "Loading graph of Portsmouth with key ('Portsmouth', \"['metres', 'choice2km', 'nodecount2km', 'integration2km', 'choice10km', 'nodecount10km', 'integration10km', 'choice100km', 'nodecount100km', 'integration100km', 'choice2kmrank', 'choice10kmrank', 'integration10kmrank', 'integration2kmrank', 'choice2kmlog', 'choice10kmlog', 'choice100kmlog']\", None, 'primal', 'False', True, 50, False)...\n",
      "Loading Portsmouth from SSx\n"
     ]
    },
    {
     "name": "stderr",
     "output_type": "stream",
     "text": [
      "/homes/wwc4618/predicting-choice/utils/remove_false_nodes.py:97: FutureWarning: The frame.append method is deprecated and will be removed from pandas in a future version. Use pandas.concat instead.\n",
      "  return df.append(\n"
     ]
    },
    {
     "name": "stdout",
     "output_type": "stream",
     "text": [
      "56220 geometries retrieved from Portsmouth\n",
      "Generated graph with 1890 nodes and 2758 edges\n",
      "Node features: ['metres', 'choice2km', 'nodecount2km', 'integration2km', 'choice10km', 'nodecount10km', 'integration10km', 'choice100km', 'nodecount100km', 'integration100km', 'choice2kmrank', 'choice10kmrank', 'integration10kmrank', 'integration2kmrank', 'choice2kmlog', 'choice10kmlog', 'choice100kmlog', 'x', 'y']\n",
      "Node target: None\n",
      "Edge attributes: {'u', 'v'}\n",
      "Loading graph of Tower Hamlets with key ('Tower Hamlets', \"['metres', 'choice2km', 'nodecount2km', 'integration2km', 'choice10km', 'nodecount10km', 'integration10km', 'choice100km', 'nodecount100km', 'integration100km', 'choice2kmrank', 'choice10kmrank', 'integration10kmrank', 'integration2kmrank', 'choice2kmlog', 'choice10kmlog', 'choice100kmlog']\", None, 'primal', 'False', True, 50, False)...\n",
      "Loading Tower Hamlets from SSx\n"
     ]
    },
    {
     "name": "stderr",
     "output_type": "stream",
     "text": [
      "/homes/wwc4618/predicting-choice/utils/remove_false_nodes.py:97: FutureWarning: The frame.append method is deprecated and will be removed from pandas in a future version. Use pandas.concat instead.\n",
      "  return df.append(\n"
     ]
    },
    {
     "name": "stdout",
     "output_type": "stream",
     "text": [
      "43880 geometries retrieved from Tower Hamlets\n",
      "Generated graph with 1483 nodes and 2140 edges\n",
      "Node features: ['metres', 'choice2km', 'nodecount2km', 'integration2km', 'choice10km', 'nodecount10km', 'integration10km', 'choice100km', 'nodecount100km', 'integration100km', 'choice2kmrank', 'choice10kmrank', 'integration10kmrank', 'integration2kmrank', 'choice2kmlog', 'choice10kmlog', 'choice100kmlog', 'x', 'y']\n",
      "Node target: None\n",
      "Edge attributes: {'u', 'v'}\n",
      "Loading graph of Daventry with key ('Daventry', \"['metres', 'choice2km', 'nodecount2km', 'integration2km', 'choice10km', 'nodecount10km', 'integration10km', 'choice100km', 'nodecount100km', 'integration100km', 'choice2kmrank', 'choice10kmrank', 'integration10kmrank', 'integration2kmrank', 'choice2kmlog', 'choice10kmlog', 'choice100kmlog']\", None, 'primal', 'False', True, 50, False)...\n",
      "Loading Daventry from SSx\n"
     ]
    },
    {
     "name": "stderr",
     "output_type": "stream",
     "text": [
      "/homes/wwc4618/predicting-choice/utils/remove_false_nodes.py:97: FutureWarning: The frame.append method is deprecated and will be removed from pandas in a future version. Use pandas.concat instead.\n",
      "  return df.append(\n"
     ]
    },
    {
     "name": "stdout",
     "output_type": "stream",
     "text": [
      "33700 geometries retrieved from Daventry\n",
      "Generated graph with 1242 nodes and 1638 edges\n",
      "Node features: ['metres', 'choice2km', 'nodecount2km', 'integration2km', 'choice10km', 'nodecount10km', 'integration10km', 'choice100km', 'nodecount100km', 'integration100km', 'choice2kmrank', 'choice10kmrank', 'integration10kmrank', 'integration2kmrank', 'choice2kmlog', 'choice10kmlog', 'choice100kmlog', 'x', 'y']\n",
      "Node target: None\n",
      "Edge attributes: {'u', 'v'}\n",
      "Loading graph of Corby with key ('Corby', \"['metres', 'choice2km', 'nodecount2km', 'integration2km', 'choice10km', 'nodecount10km', 'integration10km', 'choice100km', 'nodecount100km', 'integration100km', 'choice2kmrank', 'choice10kmrank', 'integration10kmrank', 'integration2kmrank', 'choice2kmlog', 'choice10kmlog', 'choice100kmlog']\", None, 'primal', 'False', True, 50, False)...\n",
      "Loading Corby from SSx\n"
     ]
    },
    {
     "name": "stderr",
     "output_type": "stream",
     "text": [
      "/homes/wwc4618/predicting-choice/utils/remove_false_nodes.py:97: FutureWarning: The frame.append method is deprecated and will be removed from pandas in a future version. Use pandas.concat instead.\n",
      "  return df.append(\n"
     ]
    },
    {
     "name": "stdout",
     "output_type": "stream",
     "text": [
      "20100 geometries retrieved from Corby\n",
      "Generated graph with 748 nodes and 974 edges\n",
      "Node features: ['metres', 'choice2km', 'nodecount2km', 'integration2km', 'choice10km', 'nodecount10km', 'integration10km', 'choice100km', 'nodecount100km', 'integration100km', 'choice2kmrank', 'choice10kmrank', 'integration10kmrank', 'integration2kmrank', 'choice2kmlog', 'choice10kmlog', 'choice100kmlog', 'x', 'y']\n",
      "Node target: None\n",
      "Edge attributes: {'u', 'v'}\n",
      "Loading graph of Rushmoor with key ('Rushmoor', \"['metres', 'choice2km', 'nodecount2km', 'integration2km', 'choice10km', 'nodecount10km', 'integration10km', 'choice100km', 'nodecount100km', 'integration100km', 'choice2kmrank', 'choice10kmrank', 'integration10kmrank', 'integration2kmrank', 'choice2kmlog', 'choice10kmlog', 'choice100kmlog']\", None, 'primal', 'False', True, 50, False)...\n",
      "Loading Rushmoor from SSx\n"
     ]
    },
    {
     "name": "stderr",
     "output_type": "stream",
     "text": [
      "/homes/wwc4618/predicting-choice/utils/remove_false_nodes.py:97: FutureWarning: The frame.append method is deprecated and will be removed from pandas in a future version. Use pandas.concat instead.\n",
      "  return df.append(\n"
     ]
    },
    {
     "name": "stdout",
     "output_type": "stream",
     "text": [
      "23900 geometries retrieved from Rushmoor\n",
      "Generated graph with 859 nodes and 1155 edges\n",
      "Node features: ['metres', 'choice2km', 'nodecount2km', 'integration2km', 'choice10km', 'nodecount10km', 'integration10km', 'choice100km', 'nodecount100km', 'integration100km', 'choice2kmrank', 'choice10kmrank', 'integration10kmrank', 'integration2kmrank', 'choice2kmlog', 'choice10kmlog', 'choice100kmlog', 'x', 'y']\n",
      "Node target: None\n",
      "Edge attributes: {'u', 'v'}\n",
      "Loading graph of South Northamptonshire with key ('South Northamptonshire', \"['metres', 'choice2km', 'nodecount2km', 'integration2km', 'choice10km', 'nodecount10km', 'integration10km', 'choice100km', 'nodecount100km', 'integration100km', 'choice2kmrank', 'choice10kmrank', 'integration10kmrank', 'integration2kmrank', 'choice2kmlog', 'choice10kmlog', 'choice100kmlog']\", None, 'primal', 'False', True, 50, False)...\n",
      "Loading South Northamptonshire from SSx\n"
     ]
    },
    {
     "name": "stderr",
     "output_type": "stream",
     "text": [
      "/homes/wwc4618/predicting-choice/utils/remove_false_nodes.py:97: FutureWarning: The frame.append method is deprecated and will be removed from pandas in a future version. Use pandas.concat instead.\n",
      "  return df.append(\n"
     ]
    },
    {
     "name": "stdout",
     "output_type": "stream",
     "text": [
      "33720 geometries retrieved from South Northamptonshire\n",
      "Generated graph with 1276 nodes and 1638 edges\n",
      "Node features: ['metres', 'choice2km', 'nodecount2km', 'integration2km', 'choice10km', 'nodecount10km', 'integration10km', 'choice100km', 'nodecount100km', 'integration100km', 'choice2kmrank', 'choice10kmrank', 'integration10kmrank', 'integration2kmrank', 'choice2kmlog', 'choice10kmlog', 'choice100kmlog', 'x', 'y']\n",
      "Node target: None\n",
      "Edge attributes: {'u', 'v'}\n",
      "Loading graph of Wellingborough with key ('Wellingborough', \"['metres', 'choice2km', 'nodecount2km', 'integration2km', 'choice10km', 'nodecount10km', 'integration10km', 'choice100km', 'nodecount100km', 'integration100km', 'choice2kmrank', 'choice10kmrank', 'integration10kmrank', 'integration2kmrank', 'choice2kmlog', 'choice10kmlog', 'choice100kmlog']\", None, 'primal', 'False', True, 50, False)...\n",
      "Loading Wellingborough from SSx\n"
     ]
    },
    {
     "name": "stderr",
     "output_type": "stream",
     "text": [
      "/homes/wwc4618/predicting-choice/utils/remove_false_nodes.py:97: FutureWarning: The frame.append method is deprecated and will be removed from pandas in a future version. Use pandas.concat instead.\n",
      "  return df.append(\n"
     ]
    },
    {
     "name": "stdout",
     "output_type": "stream",
     "text": [
      "22560 geometries retrieved from Wellingborough\n",
      "Generated graph with 801 nodes and 1099 edges\n",
      "Node features: ['metres', 'choice2km', 'nodecount2km', 'integration2km', 'choice10km', 'nodecount10km', 'integration10km', 'choice100km', 'nodecount100km', 'integration100km', 'choice2kmrank', 'choice10kmrank', 'integration10kmrank', 'integration2kmrank', 'choice2kmlog', 'choice10kmlog', 'choice100kmlog', 'x', 'y']\n",
      "Node target: None\n",
      "Edge attributes: {'u', 'v'}\n",
      "Loading graph of Hackney with key ('Hackney', \"['metres', 'choice2km', 'nodecount2km', 'integration2km', 'choice10km', 'nodecount10km', 'integration10km', 'choice100km', 'nodecount100km', 'integration100km', 'choice2kmrank', 'choice10kmrank', 'integration10kmrank', 'integration2kmrank', 'choice2kmlog', 'choice10kmlog', 'choice100kmlog']\", None, 'primal', 'False', True, 50, False)...\n",
      "Loading Hackney from SSx\n"
     ]
    },
    {
     "name": "stderr",
     "output_type": "stream",
     "text": [
      "/homes/wwc4618/predicting-choice/utils/remove_false_nodes.py:97: FutureWarning: The frame.append method is deprecated and will be removed from pandas in a future version. Use pandas.concat instead.\n",
      "  return df.append(\n"
     ]
    },
    {
     "name": "stdout",
     "output_type": "stream",
     "text": [
      "40280 geometries retrieved from Hackney\n",
      "Generated graph with 1347 nodes and 1977 edges\n",
      "Node features: ['metres', 'choice2km', 'nodecount2km', 'integration2km', 'choice10km', 'nodecount10km', 'integration10km', 'choice100km', 'nodecount100km', 'integration100km', 'choice2kmrank', 'choice10kmrank', 'integration10kmrank', 'integration2kmrank', 'choice2kmlog', 'choice10kmlog', 'choice100kmlog', 'x', 'y']\n",
      "Node target: None\n",
      "Edge attributes: {'u', 'v'}\n",
      "Loading graph of Torbay with key ('Torbay', \"['metres', 'choice2km', 'nodecount2km', 'integration2km', 'choice10km', 'nodecount10km', 'integration10km', 'choice100km', 'nodecount100km', 'integration100km', 'choice2kmrank', 'choice10kmrank', 'integration10kmrank', 'integration2kmrank', 'choice2kmlog', 'choice10kmlog', 'choice100kmlog']\", None, 'primal', 'False', True, 50, False)...\n",
      "Loading Torbay from SSx\n"
     ]
    },
    {
     "name": "stderr",
     "output_type": "stream",
     "text": [
      "/homes/wwc4618/predicting-choice/utils/remove_false_nodes.py:97: FutureWarning: The frame.append method is deprecated and will be removed from pandas in a future version. Use pandas.concat instead.\n",
      "  return df.append(\n"
     ]
    },
    {
     "name": "stdout",
     "output_type": "stream",
     "text": [
      "49360 geometries retrieved from Torbay\n",
      "Generated graph with 1724 nodes and 2416 edges\n",
      "Node features: ['metres', 'choice2km', 'nodecount2km', 'integration2km', 'choice10km', 'nodecount10km', 'integration10km', 'choice100km', 'nodecount100km', 'integration100km', 'choice2kmrank', 'choice10kmrank', 'integration10kmrank', 'integration2kmrank', 'choice2kmlog', 'choice10kmlog', 'choice100kmlog', 'x', 'y']\n",
      "Node target: None\n",
      "Edge attributes: {'u', 'v'}\n",
      "Loading graph of Northampton with key ('Northampton', \"['metres', 'choice2km', 'nodecount2km', 'integration2km', 'choice10km', 'nodecount10km', 'integration10km', 'choice100km', 'nodecount100km', 'integration100km', 'choice2kmrank', 'choice10kmrank', 'integration10kmrank', 'integration2kmrank', 'choice2kmlog', 'choice10kmlog', 'choice100kmlog']\", None, 'primal', 'False', True, 50, False)...\n",
      "Loading Northampton from SSx\n"
     ]
    },
    {
     "name": "stderr",
     "output_type": "stream",
     "text": [
      "/homes/wwc4618/predicting-choice/utils/remove_false_nodes.py:97: FutureWarning: The frame.append method is deprecated and will be removed from pandas in a future version. Use pandas.concat instead.\n",
      "  return df.append(\n"
     ]
    },
    {
     "name": "stdout",
     "output_type": "stream",
     "text": [
      "57560 geometries retrieved from Northampton\n",
      "Generated graph with 2048 nodes and 2790 edges\n",
      "Node features: ['metres', 'choice2km', 'nodecount2km', 'integration2km', 'choice10km', 'nodecount10km', 'integration10km', 'choice100km', 'nodecount100km', 'integration100km', 'choice2kmrank', 'choice10kmrank', 'integration10kmrank', 'integration2kmrank', 'choice2kmlog', 'choice10kmlog', 'choice100kmlog', 'x', 'y']\n",
      "Node target: None\n",
      "Edge attributes: {'u', 'v'}\n",
      "Loading graph of Havant with key ('Havant', \"['metres', 'choice2km', 'nodecount2km', 'integration2km', 'choice10km', 'nodecount10km', 'integration10km', 'choice100km', 'nodecount100km', 'integration100km', 'choice2kmrank', 'choice10kmrank', 'integration10kmrank', 'integration2kmrank', 'choice2kmlog', 'choice10kmlog', 'choice100kmlog']\", None, 'primal', 'False', True, 50, False)...\n",
      "Loading Havant from SSx\n"
     ]
    },
    {
     "name": "stderr",
     "output_type": "stream",
     "text": [
      "/homes/wwc4618/predicting-choice/utils/remove_false_nodes.py:97: FutureWarning: The frame.append method is deprecated and will be removed from pandas in a future version. Use pandas.concat instead.\n",
      "  return df.append(\n"
     ]
    },
    {
     "name": "stdout",
     "output_type": "stream",
     "text": [
      "33980 geometries retrieved from Havant\n",
      "Generated graph with 1241 nodes and 1644 edges\n",
      "Node features: ['metres', 'choice2km', 'nodecount2km', 'integration2km', 'choice10km', 'nodecount10km', 'integration10km', 'choice100km', 'nodecount100km', 'integration100km', 'choice2kmrank', 'choice10kmrank', 'integration10kmrank', 'integration2kmrank', 'choice2kmlog', 'choice10kmlog', 'choice100kmlog', 'x', 'y']\n",
      "Node target: None\n",
      "Edge attributes: {'u', 'v'}\n",
      "Loading graph of Reading with key ('Reading', \"['metres', 'choice2km', 'nodecount2km', 'integration2km', 'choice10km', 'nodecount10km', 'integration10km', 'choice100km', 'nodecount100km', 'integration100km', 'choice2kmrank', 'choice10kmrank', 'integration10kmrank', 'integration2kmrank', 'choice2kmlog', 'choice10kmlog', 'choice100kmlog']\", None, 'primal', 'False', True, 50, False)...\n",
      "Loading Reading from SSx\n"
     ]
    },
    {
     "name": "stderr",
     "output_type": "stream",
     "text": [
      "/homes/wwc4618/predicting-choice/utils/remove_false_nodes.py:97: FutureWarning: The frame.append method is deprecated and will be removed from pandas in a future version. Use pandas.concat instead.\n",
      "  return df.append(\n"
     ]
    },
    {
     "name": "stdout",
     "output_type": "stream",
     "text": [
      "35040 geometries retrieved from Reading\n",
      "Generated graph with 1249 nodes and 1691 edges\n",
      "Node features: ['metres', 'choice2km', 'nodecount2km', 'integration2km', 'choice10km', 'nodecount10km', 'integration10km', 'choice100km', 'nodecount100km', 'integration100km', 'choice2kmrank', 'choice10kmrank', 'integration10kmrank', 'integration2kmrank', 'choice2kmlog', 'choice10kmlog', 'choice100kmlog', 'x', 'y']\n",
      "Node target: None\n",
      "Edge attributes: {'u', 'v'}\n",
      "Loading graph of Swale with key ('Swale', \"['metres', 'choice2km', 'nodecount2km', 'integration2km', 'choice10km', 'nodecount10km', 'integration10km', 'choice100km', 'nodecount100km', 'integration100km', 'choice2kmrank', 'choice10kmrank', 'integration10kmrank', 'integration2kmrank', 'choice2kmlog', 'choice10kmlog', 'choice100kmlog']\", None, 'primal', 'False', True, 50, False)...\n",
      "Loading Swale from SSx\n"
     ]
    },
    {
     "name": "stderr",
     "output_type": "stream",
     "text": [
      "/homes/wwc4618/predicting-choice/utils/remove_false_nodes.py:97: FutureWarning: The frame.append method is deprecated and will be removed from pandas in a future version. Use pandas.concat instead.\n",
      "  return df.append(\n"
     ]
    },
    {
     "name": "stdout",
     "output_type": "stream",
     "text": [
      "48280 geometries retrieved from Swale\n",
      "Generated graph with 1766 nodes and 2351 edges\n",
      "Node features: ['metres', 'choice2km', 'nodecount2km', 'integration2km', 'choice10km', 'nodecount10km', 'integration10km', 'choice100km', 'nodecount100km', 'integration100km', 'choice2kmrank', 'choice10kmrank', 'integration10kmrank', 'integration2kmrank', 'choice2kmlog', 'choice10kmlog', 'choice100kmlog', 'x', 'y']\n",
      "Node target: None\n",
      "Edge attributes: {'u', 'v'}\n",
      "Loading graph of Shepway with key ('Shepway', \"['metres', 'choice2km', 'nodecount2km', 'integration2km', 'choice10km', 'nodecount10km', 'integration10km', 'choice100km', 'nodecount100km', 'integration100km', 'choice2kmrank', 'choice10kmrank', 'integration10kmrank', 'integration2kmrank', 'choice2kmlog', 'choice10kmlog', 'choice100kmlog']\", None, 'primal', 'False', True, 50, False)...\n",
      "Loading Shepway from SSx\n"
     ]
    },
    {
     "name": "stderr",
     "output_type": "stream",
     "text": [
      "/homes/wwc4618/predicting-choice/utils/remove_false_nodes.py:97: FutureWarning: The frame.append method is deprecated and will be removed from pandas in a future version. Use pandas.concat instead.\n",
      "  return df.append(\n"
     ]
    },
    {
     "name": "stdout",
     "output_type": "stream",
     "text": [
      "44500 geometries retrieved from Shepway\n",
      "Generated graph with 1603 nodes and 2154 edges\n",
      "Node features: ['metres', 'choice2km', 'nodecount2km', 'integration2km', 'choice10km', 'nodecount10km', 'integration10km', 'choice100km', 'nodecount100km', 'integration100km', 'choice2kmrank', 'choice10kmrank', 'integration10kmrank', 'integration2kmrank', 'choice2kmlog', 'choice10kmlog', 'choice100kmlog', 'x', 'y']\n",
      "Node target: None\n",
      "Edge attributes: {'u', 'v'}\n",
      "Loading graph of Hastings with key ('Hastings', \"['metres', 'choice2km', 'nodecount2km', 'integration2km', 'choice10km', 'nodecount10km', 'integration10km', 'choice100km', 'nodecount100km', 'integration100km', 'choice2kmrank', 'choice10kmrank', 'integration10kmrank', 'integration2kmrank', 'choice2kmlog', 'choice10kmlog', 'choice100kmlog']\", None, 'primal', 'False', True, 50, False)...\n",
      "Loading Hastings from SSx\n"
     ]
    },
    {
     "name": "stderr",
     "output_type": "stream",
     "text": [
      "/homes/wwc4618/predicting-choice/utils/remove_false_nodes.py:97: FutureWarning: The frame.append method is deprecated and will be removed from pandas in a future version. Use pandas.concat instead.\n",
      "  return df.append(\n"
     ]
    },
    {
     "name": "stdout",
     "output_type": "stream",
     "text": [
      "23940 geometries retrieved from Hastings\n",
      "Generated graph with 852 nodes and 1170 edges\n",
      "Node features: ['metres', 'choice2km', 'nodecount2km', 'integration2km', 'choice10km', 'nodecount10km', 'integration10km', 'choice100km', 'nodecount100km', 'integration100km', 'choice2kmrank', 'choice10kmrank', 'integration10kmrank', 'integration2kmrank', 'choice2kmlog', 'choice10kmlog', 'choice100kmlog', 'x', 'y']\n",
      "Node target: None\n",
      "Edge attributes: {'u', 'v'}\n",
      "Loading graph of Bromley with key ('Bromley', \"['metres', 'choice2km', 'nodecount2km', 'integration2km', 'choice10km', 'nodecount10km', 'integration10km', 'choice100km', 'nodecount100km', 'integration100km', 'choice2kmrank', 'choice10kmrank', 'integration10kmrank', 'integration2kmrank', 'choice2kmlog', 'choice10kmlog', 'choice100kmlog']\", None, 'primal', 'False', True, 50, False)...\n",
      "Loading Bromley from SSx\n"
     ]
    },
    {
     "name": "stderr",
     "output_type": "stream",
     "text": [
      "/homes/wwc4618/predicting-choice/utils/remove_false_nodes.py:97: FutureWarning: The frame.append method is deprecated and will be removed from pandas in a future version. Use pandas.concat instead.\n",
      "  return df.append(\n"
     ]
    },
    {
     "name": "stdout",
     "output_type": "stream",
     "text": [
      "75680 geometries retrieved from Bromley\n",
      "Generated graph with 2640 nodes and 3662 edges\n",
      "Node features: ['metres', 'choice2km', 'nodecount2km', 'integration2km', 'choice10km', 'nodecount10km', 'integration10km', 'choice100km', 'nodecount100km', 'integration100km', 'choice2kmrank', 'choice10kmrank', 'integration10kmrank', 'integration2kmrank', 'choice2kmlog', 'choice10kmlog', 'choice100kmlog', 'x', 'y']\n",
      "Node target: None\n",
      "Edge attributes: {'u', 'v'}\n",
      "Loading graph of Tunbridge Wells with key ('Tunbridge Wells', \"['metres', 'choice2km', 'nodecount2km', 'integration2km', 'choice10km', 'nodecount10km', 'integration10km', 'choice100km', 'nodecount100km', 'integration100km', 'choice2kmrank', 'choice10kmrank', 'integration10kmrank', 'integration2kmrank', 'choice2kmlog', 'choice10kmlog', 'choice100kmlog']\", None, 'primal', 'False', True, 50, False)...\n",
      "Loading Tunbridge Wells from SSx\n"
     ]
    },
    {
     "name": "stderr",
     "output_type": "stream",
     "text": [
      "/homes/wwc4618/predicting-choice/utils/remove_false_nodes.py:97: FutureWarning: The frame.append method is deprecated and will be removed from pandas in a future version. Use pandas.concat instead.\n",
      "  return df.append(\n"
     ]
    },
    {
     "name": "stdout",
     "output_type": "stream",
     "text": [
      "37980 geometries retrieved from Tunbridge Wells\n",
      "Generated graph with 1401 nodes and 1851 edges\n",
      "Node features: ['metres', 'choice2km', 'nodecount2km', 'integration2km', 'choice10km', 'nodecount10km', 'integration10km', 'choice100km', 'nodecount100km', 'integration100km', 'choice2kmrank', 'choice10kmrank', 'integration10kmrank', 'integration2kmrank', 'choice2kmlog', 'choice10kmlog', 'choice100kmlog', 'x', 'y']\n",
      "Node target: None\n",
      "Edge attributes: {'u', 'v'}\n",
      "Loading graph of Maidstone with key ('Maidstone', \"['metres', 'choice2km', 'nodecount2km', 'integration2km', 'choice10km', 'nodecount10km', 'integration10km', 'choice100km', 'nodecount100km', 'integration100km', 'choice2kmrank', 'choice10kmrank', 'integration10kmrank', 'integration2kmrank', 'choice2kmlog', 'choice10kmlog', 'choice100kmlog']\", None, 'primal', 'False', True, 50, False)...\n",
      "Loading Maidstone from SSx\n"
     ]
    },
    {
     "name": "stderr",
     "output_type": "stream",
     "text": [
      "/homes/wwc4618/predicting-choice/utils/remove_false_nodes.py:97: FutureWarning: The frame.append method is deprecated and will be removed from pandas in a future version. Use pandas.concat instead.\n",
      "  return df.append(\n"
     ]
    },
    {
     "name": "stdout",
     "output_type": "stream",
     "text": [
      "50860 geometries retrieved from Maidstone\n",
      "Generated graph with 1881 nodes and 2466 edges\n",
      "Node features: ['metres', 'choice2km', 'nodecount2km', 'integration2km', 'choice10km', 'nodecount10km', 'integration10km', 'choice100km', 'nodecount100km', 'integration100km', 'choice2kmrank', 'choice10kmrank', 'integration10kmrank', 'integration2kmrank', 'choice2kmlog', 'choice10kmlog', 'choice100kmlog', 'x', 'y']\n",
      "Node target: None\n",
      "Edge attributes: {'u', 'v'}\n",
      "Loading graph of Cherwell with key ('Cherwell', \"['metres', 'choice2km', 'nodecount2km', 'integration2km', 'choice10km', 'nodecount10km', 'integration10km', 'choice100km', 'nodecount100km', 'integration100km', 'choice2kmrank', 'choice10kmrank', 'integration10kmrank', 'integration2kmrank', 'choice2kmlog', 'choice10kmlog', 'choice100kmlog']\", None, 'primal', 'False', True, 50, False)...\n",
      "Loading Cherwell from SSx\n"
     ]
    },
    {
     "name": "stderr",
     "output_type": "stream",
     "text": [
      "/homes/wwc4618/predicting-choice/utils/remove_false_nodes.py:97: FutureWarning: The frame.append method is deprecated and will be removed from pandas in a future version. Use pandas.concat instead.\n",
      "  return df.append(\n"
     ]
    },
    {
     "name": "stdout",
     "output_type": "stream",
     "text": [
      "48740 geometries retrieved from Cherwell\n",
      "Generated graph with 1821 nodes and 2363 edges\n",
      "Node features: ['metres', 'choice2km', 'nodecount2km', 'integration2km', 'choice10km', 'nodecount10km', 'integration10km', 'choice100km', 'nodecount100km', 'integration100km', 'choice2kmrank', 'choice10kmrank', 'integration10kmrank', 'integration2kmrank', 'choice2kmlog', 'choice10kmlog', 'choice100kmlog', 'x', 'y']\n",
      "Node target: None\n",
      "Edge attributes: {'u', 'v'}\n",
      "Loading graph of Oadby and Wigston with key ('Oadby and Wigston', \"['metres', 'choice2km', 'nodecount2km', 'integration2km', 'choice10km', 'nodecount10km', 'integration10km', 'choice100km', 'nodecount100km', 'integration100km', 'choice2kmrank', 'choice10kmrank', 'integration10kmrank', 'integration2kmrank', 'choice2kmlog', 'choice10kmlog', 'choice100kmlog']\", None, 'primal', 'False', True, 50, False)...\n",
      "Loading Oadby and Wigston from SSx\n"
     ]
    },
    {
     "name": "stderr",
     "output_type": "stream",
     "text": [
      "/homes/wwc4618/predicting-choice/utils/remove_false_nodes.py:97: FutureWarning: The frame.append method is deprecated and will be removed from pandas in a future version. Use pandas.concat instead.\n",
      "  return df.append(\n"
     ]
    },
    {
     "name": "stdout",
     "output_type": "stream",
     "text": [
      "16620 geometries retrieved from Oadby and Wigston\n",
      "Generated graph with 601 nodes and 798 edges\n",
      "Node features: ['metres', 'choice2km', 'nodecount2km', 'integration2km', 'choice10km', 'nodecount10km', 'integration10km', 'choice100km', 'nodecount100km', 'integration100km', 'choice2kmrank', 'choice10kmrank', 'integration10kmrank', 'integration2kmrank', 'choice2kmlog', 'choice10kmlog', 'choice100kmlog', 'x', 'y']\n",
      "Node target: None\n",
      "Edge attributes: {'u', 'v'}\n",
      "Loading graph of Rother with key ('Rother', \"['metres', 'choice2km', 'nodecount2km', 'integration2km', 'choice10km', 'nodecount10km', 'integration10km', 'choice100km', 'nodecount100km', 'integration100km', 'choice2kmrank', 'choice10kmrank', 'integration10kmrank', 'integration2kmrank', 'choice2kmlog', 'choice10kmlog', 'choice100kmlog']\", None, 'primal', 'False', True, 50, False)...\n",
      "Loading Rother from SSx\n"
     ]
    },
    {
     "name": "stderr",
     "output_type": "stream",
     "text": [
      "/homes/wwc4618/predicting-choice/utils/remove_false_nodes.py:97: FutureWarning: The frame.append method is deprecated and will be removed from pandas in a future version. Use pandas.concat instead.\n",
      "  return df.append(\n"
     ]
    },
    {
     "name": "stdout",
     "output_type": "stream",
     "text": [
      "34400 geometries retrieved from Rother\n",
      "Generated graph with 1298 nodes and 1673 edges\n",
      "Node features: ['metres', 'choice2km', 'nodecount2km', 'integration2km', 'choice10km', 'nodecount10km', 'integration10km', 'choice100km', 'nodecount100km', 'integration100km', 'choice2kmrank', 'choice10kmrank', 'integration10kmrank', 'integration2kmrank', 'choice2kmlog', 'choice10kmlog', 'choice100kmlog', 'x', 'y']\n",
      "Node target: None\n",
      "Edge attributes: {'u', 'v'}\n",
      "Loading graph of Canterbury with key ('Canterbury', \"['metres', 'choice2km', 'nodecount2km', 'integration2km', 'choice10km', 'nodecount10km', 'integration10km', 'choice100km', 'nodecount100km', 'integration100km', 'choice2kmrank', 'choice10kmrank', 'integration10kmrank', 'integration2kmrank', 'choice2kmlog', 'choice10kmlog', 'choice100kmlog']\", None, 'primal', 'False', True, 50, False)...\n",
      "Loading Canterbury from SSx\n"
     ]
    },
    {
     "name": "stderr",
     "output_type": "stream",
     "text": [
      "/homes/wwc4618/predicting-choice/utils/remove_false_nodes.py:97: FutureWarning: The frame.append method is deprecated and will be removed from pandas in a future version. Use pandas.concat instead.\n",
      "  return df.append(\n"
     ]
    },
    {
     "name": "stdout",
     "output_type": "stream",
     "text": [
      "47780 geometries retrieved from Canterbury\n",
      "Generated graph with 1710 nodes and 2325 edges\n",
      "Node features: ['metres', 'choice2km', 'nodecount2km', 'integration2km', 'choice10km', 'nodecount10km', 'integration10km', 'choice100km', 'nodecount100km', 'integration100km', 'choice2kmrank', 'choice10kmrank', 'integration10kmrank', 'integration2kmrank', 'choice2kmlog', 'choice10kmlog', 'choice100kmlog', 'x', 'y']\n",
      "Node target: None\n",
      "Edge attributes: {'u', 'v'}\n",
      "Loading graph of Ashford with key ('Ashford', \"['metres', 'choice2km', 'nodecount2km', 'integration2km', 'choice10km', 'nodecount10km', 'integration10km', 'choice100km', 'nodecount100km', 'integration100km', 'choice2kmrank', 'choice10kmrank', 'integration10kmrank', 'integration2kmrank', 'choice2kmlog', 'choice10kmlog', 'choice100kmlog']\", None, 'primal', 'False', True, 50, False)...\n",
      "Loading Ashford from SSx\n"
     ]
    },
    {
     "name": "stderr",
     "output_type": "stream",
     "text": [
      "/homes/wwc4618/predicting-choice/utils/remove_false_nodes.py:97: FutureWarning: The frame.append method is deprecated and will be removed from pandas in a future version. Use pandas.concat instead.\n",
      "  return df.append(\n"
     ]
    },
    {
     "name": "stdout",
     "output_type": "stream",
     "text": [
      "45080 geometries retrieved from Ashford\n",
      "Generated graph with 1696 nodes and 2199 edges\n",
      "Node features: ['metres', 'choice2km', 'nodecount2km', 'integration2km', 'choice10km', 'nodecount10km', 'integration10km', 'choice100km', 'nodecount100km', 'integration100km', 'choice2kmrank', 'choice10kmrank', 'integration10kmrank', 'integration2kmrank', 'choice2kmlog', 'choice10kmlog', 'choice100kmlog', 'x', 'y']\n",
      "Node target: None\n",
      "Edge attributes: {'u', 'v'}\n",
      "Loading graph of Thanet with key ('Thanet', \"['metres', 'choice2km', 'nodecount2km', 'integration2km', 'choice10km', 'nodecount10km', 'integration10km', 'choice100km', 'nodecount100km', 'integration100km', 'choice2kmrank', 'choice10kmrank', 'integration10kmrank', 'integration2kmrank', 'choice2kmlog', 'choice10kmlog', 'choice100kmlog']\", None, 'primal', 'False', True, 50, False)...\n",
      "Loading Thanet from SSx\n"
     ]
    },
    {
     "name": "stderr",
     "output_type": "stream",
     "text": [
      "/homes/wwc4618/predicting-choice/utils/remove_false_nodes.py:97: FutureWarning: The frame.append method is deprecated and will be removed from pandas in a future version. Use pandas.concat instead.\n",
      "  return df.append(\n"
     ]
    },
    {
     "name": "stdout",
     "output_type": "stream",
     "text": [
      "49220 geometries retrieved from Thanet\n",
      "Generated graph with 1679 nodes and 2408 edges\n",
      "Node features: ['metres', 'choice2km', 'nodecount2km', 'integration2km', 'choice10km', 'nodecount10km', 'integration10km', 'choice100km', 'nodecount100km', 'integration100km', 'choice2kmrank', 'choice10kmrank', 'integration10kmrank', 'integration2kmrank', 'choice2kmlog', 'choice10kmlog', 'choice100kmlog', 'x', 'y']\n",
      "Node target: None\n",
      "Edge attributes: {'u', 'v'}\n",
      "Loading graph of Dover with key ('Dover', \"['metres', 'choice2km', 'nodecount2km', 'integration2km', 'choice10km', 'nodecount10km', 'integration10km', 'choice100km', 'nodecount100km', 'integration100km', 'choice2kmrank', 'choice10kmrank', 'integration10kmrank', 'integration2kmrank', 'choice2kmlog', 'choice10kmlog', 'choice100kmlog']\", None, 'primal', 'False', True, 50, False)...\n",
      "Loading Dover from SSx\n"
     ]
    },
    {
     "name": "stderr",
     "output_type": "stream",
     "text": [
      "/homes/wwc4618/predicting-choice/utils/remove_false_nodes.py:97: FutureWarning: The frame.append method is deprecated and will be removed from pandas in a future version. Use pandas.concat instead.\n",
      "  return df.append(\n"
     ]
    },
    {
     "name": "stdout",
     "output_type": "stream",
     "text": [
      "44900 geometries retrieved from Dover\n",
      "Generated graph with 1587 nodes and 2186 edges\n",
      "Node features: ['metres', 'choice2km', 'nodecount2km', 'integration2km', 'choice10km', 'nodecount10km', 'integration10km', 'choice100km', 'nodecount100km', 'integration100km', 'choice2kmrank', 'choice10kmrank', 'integration10kmrank', 'integration2kmrank', 'choice2kmlog', 'choice10kmlog', 'choice100kmlog', 'x', 'y']\n",
      "Node target: None\n",
      "Edge attributes: {'u', 'v'}\n",
      "Loading graph of Nuneaton and Bedworth with key ('Nuneaton and Bedworth', \"['metres', 'choice2km', 'nodecount2km', 'integration2km', 'choice10km', 'nodecount10km', 'integration10km', 'choice100km', 'nodecount100km', 'integration100km', 'choice2kmrank', 'choice10kmrank', 'integration10kmrank', 'integration2kmrank', 'choice2kmlog', 'choice10kmlog', 'choice100kmlog']\", None, 'primal', 'False', True, 50, False)...\n",
      "Loading Nuneaton and Bedworth from SSx\n"
     ]
    },
    {
     "name": "stderr",
     "output_type": "stream",
     "text": [
      "/homes/wwc4618/predicting-choice/utils/remove_false_nodes.py:97: FutureWarning: The frame.append method is deprecated and will be removed from pandas in a future version. Use pandas.concat instead.\n",
      "  return df.append(\n"
     ]
    },
    {
     "name": "stdout",
     "output_type": "stream",
     "text": [
      "30740 geometries retrieved from Nuneaton and Bedworth\n",
      "Generated graph with 1116 nodes and 1468 edges\n",
      "Node features: ['metres', 'choice2km', 'nodecount2km', 'integration2km', 'choice10km', 'nodecount10km', 'integration10km', 'choice100km', 'nodecount100km', 'integration100km', 'choice2kmrank', 'choice10kmrank', 'integration10kmrank', 'integration2kmrank', 'choice2kmlog', 'choice10kmlog', 'choice100kmlog', 'x', 'y']\n",
      "Node target: None\n",
      "Edge attributes: {'u', 'v'}\n",
      "Loading graph of Isle of Wight with key ('Isle of Wight', \"['metres', 'choice2km', 'nodecount2km', 'integration2km', 'choice10km', 'nodecount10km', 'integration10km', 'choice100km', 'nodecount100km', 'integration100km', 'choice2kmrank', 'choice10kmrank', 'integration10kmrank', 'integration2kmrank', 'choice2kmlog', 'choice10kmlog', 'choice100kmlog']\", None, 'primal', 'False', True, 50, False)...\n",
      "Loading Isle of Wight from SSx\n"
     ]
    },
    {
     "name": "stderr",
     "output_type": "stream",
     "text": [
      "/homes/wwc4618/predicting-choice/utils/remove_false_nodes.py:97: FutureWarning: The frame.append method is deprecated and will be removed from pandas in a future version. Use pandas.concat instead.\n",
      "  return df.append(\n"
     ]
    },
    {
     "name": "stdout",
     "output_type": "stream",
     "text": [
      "54160 geometries retrieved from Isle of Wight\n",
      "Generated graph with 1940 nodes and 2637 edges\n",
      "Node features: ['metres', 'choice2km', 'nodecount2km', 'integration2km', 'choice10km', 'nodecount10km', 'integration10km', 'choice100km', 'nodecount100km', 'integration100km', 'choice2kmrank', 'choice10kmrank', 'integration10kmrank', 'integration2kmrank', 'choice2kmlog', 'choice10kmlog', 'choice100kmlog', 'x', 'y']\n",
      "Node target: None\n",
      "Edge attributes: {'u', 'v'}\n",
      "Loading graph of Wycombe with key ('Wycombe', \"['metres', 'choice2km', 'nodecount2km', 'integration2km', 'choice10km', 'nodecount10km', 'integration10km', 'choice100km', 'nodecount100km', 'integration100km', 'choice2kmrank', 'choice10kmrank', 'integration10kmrank', 'integration2kmrank', 'choice2kmlog', 'choice10kmlog', 'choice100kmlog']\", None, 'primal', 'False', True, 50, False)...\n",
      "Loading Wycombe from SSx\n"
     ]
    },
    {
     "name": "stderr",
     "output_type": "stream",
     "text": [
      "/homes/wwc4618/predicting-choice/utils/remove_false_nodes.py:97: FutureWarning: The frame.append method is deprecated and will be removed from pandas in a future version. Use pandas.concat instead.\n",
      "  return df.append(\n"
     ]
    },
    {
     "name": "stdout",
     "output_type": "stream",
     "text": [
      "47020 geometries retrieved from Wycombe\n",
      "Generated graph with 1741 nodes and 2263 edges\n",
      "Node features: ['metres', 'choice2km', 'nodecount2km', 'integration2km', 'choice10km', 'nodecount10km', 'integration10km', 'choice100km', 'nodecount100km', 'integration100km', 'choice2kmrank', 'choice10kmrank', 'integration10kmrank', 'integration2kmrank', 'choice2kmlog', 'choice10kmlog', 'choice100kmlog', 'x', 'y']\n",
      "Node target: None\n",
      "Edge attributes: {'u', 'v'}\n",
      "Loading graph of Enfield with key ('Enfield', \"['metres', 'choice2km', 'nodecount2km', 'integration2km', 'choice10km', 'nodecount10km', 'integration10km', 'choice100km', 'nodecount100km', 'integration100km', 'choice2kmrank', 'choice10kmrank', 'integration10kmrank', 'integration2kmrank', 'choice2kmlog', 'choice10kmlog', 'choice100kmlog']\", None, 'primal', 'False', True, 50, False)...\n",
      "Loading Enfield from SSx\n"
     ]
    },
    {
     "name": "stderr",
     "output_type": "stream",
     "text": [
      "/homes/wwc4618/predicting-choice/utils/remove_false_nodes.py:97: FutureWarning: The frame.append method is deprecated and will be removed from pandas in a future version. Use pandas.concat instead.\n",
      "  return df.append(\n"
     ]
    },
    {
     "name": "stdout",
     "output_type": "stream",
     "text": [
      "66340 geometries retrieved from Enfield\n",
      "Generated graph with 2299 nodes and 3232 edges\n",
      "Node features: ['metres', 'choice2km', 'nodecount2km', 'integration2km', 'choice10km', 'nodecount10km', 'integration10km', 'choice100km', 'nodecount100km', 'integration100km', 'choice2kmrank', 'choice10kmrank', 'integration10kmrank', 'integration2kmrank', 'choice2kmlog', 'choice10kmlog', 'choice100kmlog', 'x', 'y']\n",
      "Node target: None\n",
      "Edge attributes: {'u', 'v'}\n",
      "Loading graph of Slough with key ('Slough', \"['metres', 'choice2km', 'nodecount2km', 'integration2km', 'choice10km', 'nodecount10km', 'integration10km', 'choice100km', 'nodecount100km', 'integration100km', 'choice2kmrank', 'choice10kmrank', 'integration10kmrank', 'integration2kmrank', 'choice2kmlog', 'choice10kmlog', 'choice100kmlog']\", None, 'primal', 'False', True, 50, False)...\n",
      "Loading Slough from SSx\n"
     ]
    },
    {
     "name": "stderr",
     "output_type": "stream",
     "text": [
      "/homes/wwc4618/predicting-choice/utils/remove_false_nodes.py:97: FutureWarning: The frame.append method is deprecated and will be removed from pandas in a future version. Use pandas.concat instead.\n",
      "  return df.append(\n"
     ]
    },
    {
     "name": "stdout",
     "output_type": "stream",
     "text": [
      "27420 geometries retrieved from Slough\n",
      "Generated graph with 988 nodes and 1319 edges\n",
      "Node features: ['metres', 'choice2km', 'nodecount2km', 'integration2km', 'choice10km', 'nodecount10km', 'integration10km', 'choice100km', 'nodecount100km', 'integration100km', 'choice2kmrank', 'choice10kmrank', 'integration10kmrank', 'integration2kmrank', 'choice2kmlog', 'choice10kmlog', 'choice100kmlog', 'x', 'y']\n",
      "Node target: None\n",
      "Edge attributes: {'u', 'v'}\n",
      "Loading graph of South Bucks with key ('South Bucks', \"['metres', 'choice2km', 'nodecount2km', 'integration2km', 'choice10km', 'nodecount10km', 'integration10km', 'choice100km', 'nodecount100km', 'integration100km', 'choice2kmrank', 'choice10kmrank', 'integration10kmrank', 'integration2kmrank', 'choice2kmlog', 'choice10kmlog', 'choice100kmlog']\", None, 'primal', 'False', True, 50, False)...\n",
      "Loading South Bucks from SSx\n"
     ]
    },
    {
     "name": "stderr",
     "output_type": "stream",
     "text": [
      "/homes/wwc4618/predicting-choice/utils/remove_false_nodes.py:97: FutureWarning: The frame.append method is deprecated and will be removed from pandas in a future version. Use pandas.concat instead.\n",
      "  return df.append(\n"
     ]
    },
    {
     "name": "stdout",
     "output_type": "stream",
     "text": [
      "25460 geometries retrieved from South Bucks\n",
      "Generated graph with 946 nodes and 1219 edges\n",
      "Node features: ['metres', 'choice2km', 'nodecount2km', 'integration2km', 'choice10km', 'nodecount10km', 'integration10km', 'choice100km', 'nodecount100km', 'integration100km', 'choice2kmrank', 'choice10kmrank', 'integration10kmrank', 'integration2kmrank', 'choice2kmlog', 'choice10kmlog', 'choice100kmlog', 'x', 'y']\n",
      "Node target: None\n",
      "Edge attributes: {'u', 'v'}\n",
      "Loading graph of Hillingdon with key ('Hillingdon', \"['metres', 'choice2km', 'nodecount2km', 'integration2km', 'choice10km', 'nodecount10km', 'integration10km', 'choice100km', 'nodecount100km', 'integration100km', 'choice2kmrank', 'choice10kmrank', 'integration10kmrank', 'integration2kmrank', 'choice2kmlog', 'choice10kmlog', 'choice100kmlog']\", None, 'primal', 'False', True, 50, False)...\n",
      "Loading Hillingdon from SSx\n"
     ]
    },
    {
     "name": "stderr",
     "output_type": "stream",
     "text": [
      "/homes/wwc4618/predicting-choice/utils/remove_false_nodes.py:97: FutureWarning: The frame.append method is deprecated and will be removed from pandas in a future version. Use pandas.concat instead.\n",
      "  return df.append(\n"
     ]
    },
    {
     "name": "stdout",
     "output_type": "stream",
     "text": [
      "66740 geometries retrieved from Hillingdon\n",
      "Generated graph with 2363 nodes and 3216 edges\n",
      "Node features: ['metres', 'choice2km', 'nodecount2km', 'integration2km', 'choice10km', 'nodecount10km', 'integration10km', 'choice100km', 'nodecount100km', 'integration100km', 'choice2kmrank', 'choice10kmrank', 'integration10kmrank', 'integration2kmrank', 'choice2kmlog', 'choice10kmlog', 'choice100kmlog', 'x', 'y']\n",
      "Node target: None\n",
      "Edge attributes: {'u', 'v'}\n",
      "Loading graph of Ealing with key ('Ealing', \"['metres', 'choice2km', 'nodecount2km', 'integration2km', 'choice10km', 'nodecount10km', 'integration10km', 'choice100km', 'nodecount100km', 'integration100km', 'choice2kmrank', 'choice10kmrank', 'integration10kmrank', 'integration2kmrank', 'choice2kmlog', 'choice10kmlog', 'choice100kmlog']\", None, 'primal', 'False', True, 50, False)...\n",
      "Loading Ealing from SSx\n"
     ]
    },
    {
     "name": "stderr",
     "output_type": "stream",
     "text": [
      "/homes/wwc4618/predicting-choice/utils/remove_false_nodes.py:97: FutureWarning: The frame.append method is deprecated and will be removed from pandas in a future version. Use pandas.concat instead.\n",
      "  return df.append(\n"
     ]
    },
    {
     "name": "stdout",
     "output_type": "stream",
     "text": [
      "68380 geometries retrieved from Ealing\n",
      "Generated graph with 2319 nodes and 3316 edges\n",
      "Node features: ['metres', 'choice2km', 'nodecount2km', 'integration2km', 'choice10km', 'nodecount10km', 'integration10km', 'choice100km', 'nodecount100km', 'integration100km', 'choice2kmrank', 'choice10kmrank', 'integration10kmrank', 'integration2kmrank', 'choice2kmlog', 'choice10kmlog', 'choice100kmlog', 'x', 'y']\n",
      "Node target: None\n",
      "Edge attributes: {'u', 'v'}\n",
      "Loading graph of Chiltern with key ('Chiltern', \"['metres', 'choice2km', 'nodecount2km', 'integration2km', 'choice10km', 'nodecount10km', 'integration10km', 'choice100km', 'nodecount100km', 'integration100km', 'choice2kmrank', 'choice10kmrank', 'integration10kmrank', 'integration2kmrank', 'choice2kmlog', 'choice10kmlog', 'choice100kmlog']\", None, 'primal', 'False', True, 50, False)...\n",
      "Loading Chiltern from SSx\n"
     ]
    },
    {
     "name": "stderr",
     "output_type": "stream",
     "text": [
      "/homes/wwc4618/predicting-choice/utils/remove_false_nodes.py:97: FutureWarning: The frame.append method is deprecated and will be removed from pandas in a future version. Use pandas.concat instead.\n",
      "  return df.append(\n"
     ]
    },
    {
     "name": "stdout",
     "output_type": "stream",
     "text": [
      "28280 geometries retrieved from Chiltern\n",
      "Generated graph with 1049 nodes and 1351 edges\n",
      "Node features: ['metres', 'choice2km', 'nodecount2km', 'integration2km', 'choice10km', 'nodecount10km', 'integration10km', 'choice100km', 'nodecount100km', 'integration100km', 'choice2kmrank', 'choice10kmrank', 'integration10kmrank', 'integration2kmrank', 'choice2kmlog', 'choice10kmlog', 'choice100kmlog', 'x', 'y']\n",
      "Node target: None\n",
      "Edge attributes: {'u', 'v'}\n",
      "Loading graph of Copeland with key ('Copeland', \"['metres', 'choice2km', 'nodecount2km', 'integration2km', 'choice10km', 'nodecount10km', 'integration10km', 'choice100km', 'nodecount100km', 'integration100km', 'choice2kmrank', 'choice10kmrank', 'integration10kmrank', 'integration2kmrank', 'choice2kmlog', 'choice10kmlog', 'choice100kmlog']\", None, 'primal', 'False', True, 50, False)...\n",
      "Loading Copeland from SSx\n"
     ]
    },
    {
     "name": "stderr",
     "output_type": "stream",
     "text": [
      "/homes/wwc4618/predicting-choice/utils/remove_false_nodes.py:97: FutureWarning: The frame.append method is deprecated and will be removed from pandas in a future version. Use pandas.concat instead.\n",
      "  return df.append(\n"
     ]
    },
    {
     "name": "stdout",
     "output_type": "stream",
     "text": [
      "36640 geometries retrieved from Copeland\n",
      "Generated graph with 1370 nodes and 1777 edges\n",
      "Node features: ['metres', 'choice2km', 'nodecount2km', 'integration2km', 'choice10km', 'nodecount10km', 'integration10km', 'choice100km', 'nodecount100km', 'integration100km', 'choice2kmrank', 'choice10kmrank', 'integration10kmrank', 'integration2kmrank', 'choice2kmlog', 'choice10kmlog', 'choice100kmlog', 'x', 'y']\n",
      "Node target: None\n",
      "Edge attributes: {'u', 'v'}\n",
      "Loading graph of Windsor and Maidenhead with key ('Windsor and Maidenhead', \"['metres', 'choice2km', 'nodecount2km', 'integration2km', 'choice10km', 'nodecount10km', 'integration10km', 'choice100km', 'nodecount100km', 'integration100km', 'choice2kmrank', 'choice10kmrank', 'integration10kmrank', 'integration2kmrank', 'choice2kmlog', 'choice10kmlog', 'choice100kmlog']\", None, 'primal', 'False', True, 50, False)...\n",
      "Loading Windsor and Maidenhead from SSx\n"
     ]
    },
    {
     "name": "stderr",
     "output_type": "stream",
     "text": [
      "/homes/wwc4618/predicting-choice/utils/remove_false_nodes.py:97: FutureWarning: The frame.append method is deprecated and will be removed from pandas in a future version. Use pandas.concat instead.\n",
      "  return df.append(\n"
     ]
    },
    {
     "name": "stdout",
     "output_type": "stream",
     "text": [
      "43420 geometries retrieved from Windsor and Maidenhead\n",
      "Generated graph with 1401 nodes and 1825 edges\n",
      "Node features: ['metres', 'choice2km', 'nodecount2km', 'integration2km', 'choice10km', 'nodecount10km', 'integration10km', 'choice100km', 'nodecount100km', 'integration100km', 'choice2kmrank', 'choice10kmrank', 'integration10kmrank', 'integration2kmrank', 'choice2kmlog', 'choice10kmlog', 'choice100kmlog', 'x', 'y']\n",
      "Node target: None\n",
      "Edge attributes: {'u', 'v'}\n",
      "Loading graph of Plymouth with key ('Plymouth', \"['metres', 'choice2km', 'nodecount2km', 'integration2km', 'choice10km', 'nodecount10km', 'integration10km', 'choice100km', 'nodecount100km', 'integration100km', 'choice2kmrank', 'choice10kmrank', 'integration10kmrank', 'integration2kmrank', 'choice2kmlog', 'choice10kmlog', 'choice100kmlog']\", None, 'primal', 'False', True, 50, False)...\n",
      "Loading Plymouth from SSx\n"
     ]
    },
    {
     "name": "stderr",
     "output_type": "stream",
     "text": [
      "/homes/wwc4618/predicting-choice/utils/remove_false_nodes.py:97: FutureWarning: The frame.append method is deprecated and will be removed from pandas in a future version. Use pandas.concat instead.\n",
      "  return df.append(\n"
     ]
    },
    {
     "name": "stdout",
     "output_type": "stream",
     "text": [
      "79640 geometries retrieved from Plymouth\n",
      "Generated graph with 2813 nodes and 3856 edges\n",
      "Node features: ['metres', 'choice2km', 'nodecount2km', 'integration2km', 'choice10km', 'nodecount10km', 'integration10km', 'choice100km', 'nodecount100km', 'integration100km', 'choice2kmrank', 'choice10kmrank', 'integration10kmrank', 'integration2kmrank', 'choice2kmlog', 'choice10kmlog', 'choice100kmlog', 'x', 'y']\n",
      "Node target: None\n",
      "Edge attributes: {'u', 'v'}\n",
      "Loading graph of South Hams with key ('South Hams', \"['metres', 'choice2km', 'nodecount2km', 'integration2km', 'choice10km', 'nodecount10km', 'integration10km', 'choice100km', 'nodecount100km', 'integration100km', 'choice2kmrank', 'choice10kmrank', 'integration10kmrank', 'integration2kmrank', 'choice2kmlog', 'choice10kmlog', 'choice100kmlog']\", None, 'primal', 'False', True, 50, False)...\n",
      "Loading South Hams from SSx\n"
     ]
    },
    {
     "name": "stderr",
     "output_type": "stream",
     "text": [
      "/homes/wwc4618/predicting-choice/utils/remove_false_nodes.py:97: FutureWarning: The frame.append method is deprecated and will be removed from pandas in a future version. Use pandas.concat instead.\n",
      "  return df.append(\n"
     ]
    },
    {
     "name": "stdout",
     "output_type": "stream",
     "text": [
      "81060 geometries retrieved from South Hams\n",
      "Generated graph with 2883 nodes and 3895 edges\n",
      "Node features: ['metres', 'choice2km', 'nodecount2km', 'integration2km', 'choice10km', 'nodecount10km', 'integration10km', 'choice100km', 'nodecount100km', 'integration100km', 'choice2kmrank', 'choice10kmrank', 'integration10kmrank', 'integration2kmrank', 'choice2kmlog', 'choice10kmlog', 'choice100kmlog', 'x', 'y']\n",
      "Node target: None\n",
      "Edge attributes: {'u', 'v'}\n",
      "Loading graph of Oxford with key ('Oxford', \"['metres', 'choice2km', 'nodecount2km', 'integration2km', 'choice10km', 'nodecount10km', 'integration10km', 'choice100km', 'nodecount100km', 'integration100km', 'choice2kmrank', 'choice10kmrank', 'integration10kmrank', 'integration2kmrank', 'choice2kmlog', 'choice10kmlog', 'choice100kmlog']\", None, 'primal', 'False', True, 50, False)...\n",
      "Loading Oxford from SSx\n"
     ]
    },
    {
     "name": "stderr",
     "output_type": "stream",
     "text": [
      "/homes/wwc4618/predicting-choice/utils/remove_false_nodes.py:97: FutureWarning: The frame.append method is deprecated and will be removed from pandas in a future version. Use pandas.concat instead.\n",
      "  return df.append(\n"
     ]
    },
    {
     "name": "stdout",
     "output_type": "stream",
     "text": [
      "34300 geometries retrieved from Oxford\n",
      "Generated graph with 1195 nodes and 1666 edges\n",
      "Node features: ['metres', 'choice2km', 'nodecount2km', 'integration2km', 'choice10km', 'nodecount10km', 'integration10km', 'choice100km', 'nodecount100km', 'integration100km', 'choice2kmrank', 'choice10kmrank', 'integration10kmrank', 'integration2kmrank', 'choice2kmlog', 'choice10kmlog', 'choice100kmlog', 'x', 'y']\n",
      "Node target: None\n",
      "Edge attributes: {'u', 'v'}\n",
      "Loading graph of Waltham Forest with key ('Waltham Forest', \"['metres', 'choice2km', 'nodecount2km', 'integration2km', 'choice10km', 'nodecount10km', 'integration10km', 'choice100km', 'nodecount100km', 'integration100km', 'choice2kmrank', 'choice10kmrank', 'integration10kmrank', 'integration2kmrank', 'choice2kmlog', 'choice10kmlog', 'choice100kmlog']\", None, 'primal', 'False', True, 50, False)...\n",
      "Loading Waltham Forest from SSx\n"
     ]
    },
    {
     "name": "stderr",
     "output_type": "stream",
     "text": [
      "/homes/wwc4618/predicting-choice/utils/remove_false_nodes.py:97: FutureWarning: The frame.append method is deprecated and will be removed from pandas in a future version. Use pandas.concat instead.\n",
      "  return df.append(\n"
     ]
    },
    {
     "name": "stdout",
     "output_type": "stream",
     "text": [
      "54060 geometries retrieved from Waltham Forest\n",
      "Generated graph with 1824 nodes and 2645 edges\n",
      "Node features: ['metres', 'choice2km', 'nodecount2km', 'integration2km', 'choice10km', 'nodecount10km', 'integration10km', 'choice100km', 'nodecount100km', 'integration100km', 'choice2kmrank', 'choice10kmrank', 'integration10kmrank', 'integration2kmrank', 'choice2kmlog', 'choice10kmlog', 'choice100kmlog', 'x', 'y']\n",
      "Node target: None\n",
      "Edge attributes: {'u', 'v'}\n",
      "Loading graph of Mendip with key ('Mendip', \"['metres', 'choice2km', 'nodecount2km', 'integration2km', 'choice10km', 'nodecount10km', 'integration10km', 'choice100km', 'nodecount100km', 'integration100km', 'choice2kmrank', 'choice10kmrank', 'integration10kmrank', 'integration2kmrank', 'choice2kmlog', 'choice10kmlog', 'choice100kmlog']\", None, 'primal', 'False', True, 50, False)...\n",
      "Loading Mendip from SSx\n"
     ]
    },
    {
     "name": "stderr",
     "output_type": "stream",
     "text": [
      "/homes/wwc4618/predicting-choice/utils/remove_false_nodes.py:97: FutureWarning: The frame.append method is deprecated and will be removed from pandas in a future version. Use pandas.concat instead.\n",
      "  return df.append(\n"
     ]
    },
    {
     "name": "stdout",
     "output_type": "stream",
     "text": [
      "63860 geometries retrieved from Mendip\n",
      "Generated graph with 2338 nodes and 3128 edges\n",
      "Node features: ['metres', 'choice2km', 'nodecount2km', 'integration2km', 'choice10km', 'nodecount10km', 'integration10km', 'choice100km', 'nodecount100km', 'integration100km', 'choice2kmrank', 'choice10kmrank', 'integration10kmrank', 'integration2kmrank', 'choice2kmlog', 'choice10kmlog', 'choice100kmlog', 'x', 'y']\n",
      "Node target: None\n",
      "Edge attributes: {'u', 'v'}\n",
      "Loading graph of Dudley with key ('Dudley', \"['metres', 'choice2km', 'nodecount2km', 'integration2km', 'choice10km', 'nodecount10km', 'integration10km', 'choice100km', 'nodecount100km', 'integration100km', 'choice2kmrank', 'choice10kmrank', 'integration10kmrank', 'integration2kmrank', 'choice2kmlog', 'choice10kmlog', 'choice100kmlog']\", None, 'primal', 'False', True, 50, False)...\n",
      "Loading Dudley from SSx\n"
     ]
    },
    {
     "name": "stderr",
     "output_type": "stream",
     "text": [
      "/homes/wwc4618/predicting-choice/utils/remove_false_nodes.py:97: FutureWarning: The frame.append method is deprecated and will be removed from pandas in a future version. Use pandas.concat instead.\n",
      "  return df.append(\n"
     ]
    },
    {
     "name": "stdout",
     "output_type": "stream",
     "text": [
      "94240 geometries retrieved from Dudley\n",
      "Generated graph with 3321 nodes and 4574 edges\n",
      "Node features: ['metres', 'choice2km', 'nodecount2km', 'integration2km', 'choice10km', 'nodecount10km', 'integration10km', 'choice100km', 'nodecount100km', 'integration100km', 'choice2kmrank', 'choice10kmrank', 'integration10kmrank', 'integration2kmrank', 'choice2kmlog', 'choice10kmlog', 'choice100kmlog', 'x', 'y']\n",
      "Node target: None\n",
      "Edge attributes: {'u', 'v'}\n",
      "Loading graph of Cotswold with key ('Cotswold', \"['metres', 'choice2km', 'nodecount2km', 'integration2km', 'choice10km', 'nodecount10km', 'integration10km', 'choice100km', 'nodecount100km', 'integration100km', 'choice2kmrank', 'choice10kmrank', 'integration10kmrank', 'integration2kmrank', 'choice2kmlog', 'choice10kmlog', 'choice100kmlog']\", None, 'primal', 'False', True, 50, False)...\n",
      "Loading Cotswold from SSx\n"
     ]
    },
    {
     "name": "stderr",
     "output_type": "stream",
     "text": [
      "/homes/wwc4618/predicting-choice/utils/remove_false_nodes.py:97: FutureWarning: The frame.append method is deprecated and will be removed from pandas in a future version. Use pandas.concat instead.\n",
      "  return df.append(\n"
     ]
    },
    {
     "name": "stdout",
     "output_type": "stream",
     "text": [
      "56500 geometries retrieved from Cotswold\n",
      "Generated graph with 2100 nodes and 2765 edges\n",
      "Node features: ['metres', 'choice2km', 'nodecount2km', 'integration2km', 'choice10km', 'nodecount10km', 'integration10km', 'choice100km', 'nodecount100km', 'integration100km', 'choice2kmrank', 'choice10kmrank', 'integration10kmrank', 'integration2kmrank', 'choice2kmlog', 'choice10kmlog', 'choice100kmlog', 'x', 'y']\n",
      "Node target: None\n",
      "Edge attributes: {'u', 'v'}\n",
      "Loading graph of Erewash with key ('Erewash', \"['metres', 'choice2km', 'nodecount2km', 'integration2km', 'choice10km', 'nodecount10km', 'integration10km', 'choice100km', 'nodecount100km', 'integration100km', 'choice2kmrank', 'choice10kmrank', 'integration10kmrank', 'integration2kmrank', 'choice2kmlog', 'choice10kmlog', 'choice100kmlog']\", None, 'primal', 'False', True, 50, False)...\n",
      "Loading Erewash from SSx\n"
     ]
    },
    {
     "name": "stderr",
     "output_type": "stream",
     "text": [
      "/homes/wwc4618/predicting-choice/utils/remove_false_nodes.py:97: FutureWarning: The frame.append method is deprecated and will be removed from pandas in a future version. Use pandas.concat instead.\n",
      "  return df.append(\n"
     ]
    },
    {
     "name": "stdout",
     "output_type": "stream",
     "text": [
      "31440 geometries retrieved from Erewash\n",
      "Generated graph with 1137 nodes and 1541 edges\n",
      "Node features: ['metres', 'choice2km', 'nodecount2km', 'integration2km', 'choice10km', 'nodecount10km', 'integration10km', 'choice100km', 'nodecount100km', 'integration100km', 'choice2kmrank', 'choice10kmrank', 'integration10kmrank', 'integration2kmrank', 'choice2kmlog', 'choice10kmlog', 'choice100kmlog', 'x', 'y']\n",
      "Node target: None\n",
      "Edge attributes: {'u', 'v'}\n",
      "Loading graph of Redbridge with key ('Redbridge', \"['metres', 'choice2km', 'nodecount2km', 'integration2km', 'choice10km', 'nodecount10km', 'integration10km', 'choice100km', 'nodecount100km', 'integration100km', 'choice2kmrank', 'choice10kmrank', 'integration10kmrank', 'integration2kmrank', 'choice2kmlog', 'choice10kmlog', 'choice100kmlog']\", None, 'primal', 'False', True, 50, False)...\n",
      "Loading Redbridge from SSx\n"
     ]
    },
    {
     "name": "stderr",
     "output_type": "stream",
     "text": [
      "/homes/wwc4618/predicting-choice/utils/remove_false_nodes.py:97: FutureWarning: The frame.append method is deprecated and will be removed from pandas in a future version. Use pandas.concat instead.\n",
      "  return df.append(\n"
     ]
    },
    {
     "name": "stdout",
     "output_type": "stream",
     "text": [
      "64140 geometries retrieved from Redbridge\n",
      "Generated graph with 2137 nodes and 3159 edges\n",
      "Node features: ['metres', 'choice2km', 'nodecount2km', 'integration2km', 'choice10km', 'nodecount10km', 'integration10km', 'choice100km', 'nodecount100km', 'integration100km', 'choice2kmrank', 'choice10kmrank', 'integration10kmrank', 'integration2kmrank', 'choice2kmlog', 'choice10kmlog', 'choice100kmlog', 'x', 'y']\n",
      "Node target: None\n",
      "Edge attributes: {'u', 'v'}\n",
      "Loading graph of Epping Forest with key ('Epping Forest', \"['metres', 'choice2km', 'nodecount2km', 'integration2km', 'choice10km', 'nodecount10km', 'integration10km', 'choice100km', 'nodecount100km', 'integration100km', 'choice2kmrank', 'choice10kmrank', 'integration10kmrank', 'integration2kmrank', 'choice2kmlog', 'choice10kmlog', 'choice100kmlog']\", None, 'primal', 'False', True, 50, False)...\n",
      "Loading Epping Forest from SSx\n"
     ]
    },
    {
     "name": "stderr",
     "output_type": "stream",
     "text": [
      "/homes/wwc4618/predicting-choice/utils/remove_false_nodes.py:97: FutureWarning: The frame.append method is deprecated and will be removed from pandas in a future version. Use pandas.concat instead.\n",
      "  return df.append(\n"
     ]
    },
    {
     "name": "stdout",
     "output_type": "stream",
     "text": [
      "39560 geometries retrieved from Epping Forest\n",
      "Generated graph with 1487 nodes and 1900 edges\n",
      "Node features: ['metres', 'choice2km', 'nodecount2km', 'integration2km', 'choice10km', 'nodecount10km', 'integration10km', 'choice100km', 'nodecount100km', 'integration100km', 'choice2kmrank', 'choice10kmrank', 'integration10kmrank', 'integration2kmrank', 'choice2kmlog', 'choice10kmlog', 'choice100kmlog', 'x', 'y']\n",
      "Node target: None\n",
      "Edge attributes: {'u', 'v'}\n",
      "Loading graph of Test Valley with key ('Test Valley', \"['metres', 'choice2km', 'nodecount2km', 'integration2km', 'choice10km', 'nodecount10km', 'integration10km', 'choice100km', 'nodecount100km', 'integration100km', 'choice2kmrank', 'choice10kmrank', 'integration10kmrank', 'integration2kmrank', 'choice2kmlog', 'choice10kmlog', 'choice100kmlog']\", None, 'primal', 'False', True, 50, False)...\n",
      "Loading Test Valley from SSx\n"
     ]
    },
    {
     "name": "stderr",
     "output_type": "stream",
     "text": [
      "/homes/wwc4618/predicting-choice/utils/remove_false_nodes.py:97: FutureWarning: The frame.append method is deprecated and will be removed from pandas in a future version. Use pandas.concat instead.\n",
      "  return df.append(\n"
     ]
    },
    {
     "name": "stdout",
     "output_type": "stream",
     "text": [
      "46420 geometries retrieved from Test Valley\n",
      "Generated graph with 1752 nodes and 2254 edges\n",
      "Node features: ['metres', 'choice2km', 'nodecount2km', 'integration2km', 'choice10km', 'nodecount10km', 'integration10km', 'choice100km', 'nodecount100km', 'integration100km', 'choice2kmrank', 'choice10kmrank', 'integration10kmrank', 'integration2kmrank', 'choice2kmlog', 'choice10kmlog', 'choice100kmlog', 'x', 'y']\n",
      "Node target: None\n",
      "Edge attributes: {'u', 'v'}\n",
      "Loading graph of Basingstoke and Deane with key ('Basingstoke and Deane', \"['metres', 'choice2km', 'nodecount2km', 'integration2km', 'choice10km', 'nodecount10km', 'integration10km', 'choice100km', 'nodecount100km', 'integration100km', 'choice2kmrank', 'choice10kmrank', 'integration10kmrank', 'integration2kmrank', 'choice2kmlog', 'choice10kmlog', 'choice100kmlog']\", None, 'primal', 'False', True, 50, False)...\n",
      "Loading Basingstoke and Deane from SSx\n"
     ]
    },
    {
     "name": "stderr",
     "output_type": "stream",
     "text": [
      "/homes/wwc4618/predicting-choice/utils/remove_false_nodes.py:97: FutureWarning: The frame.append method is deprecated and will be removed from pandas in a future version. Use pandas.concat instead.\n",
      "  return df.append(\n"
     ]
    },
    {
     "name": "stdout",
     "output_type": "stream",
     "text": [
      "54460 geometries retrieved from Basingstoke and Deane\n",
      "Generated graph with 2061 nodes and 2645 edges\n",
      "Node features: ['metres', 'choice2km', 'nodecount2km', 'integration2km', 'choice10km', 'nodecount10km', 'integration10km', 'choice100km', 'nodecount100km', 'integration100km', 'choice2kmrank', 'choice10kmrank', 'integration10kmrank', 'integration2kmrank', 'choice2kmlog', 'choice10kmlog', 'choice100kmlog', 'x', 'y']\n",
      "Node target: None\n",
      "Edge attributes: {'u', 'v'}\n",
      "Loading graph of South Gloucestershire with key ('South Gloucestershire', \"['metres', 'choice2km', 'nodecount2km', 'integration2km', 'choice10km', 'nodecount10km', 'integration10km', 'choice100km', 'nodecount100km', 'integration100km', 'choice2kmrank', 'choice10kmrank', 'integration10kmrank', 'integration2kmrank', 'choice2kmlog', 'choice10kmlog', 'choice100kmlog']\", None, 'primal', 'False', True, 50, False)...\n",
      "Loading South Gloucestershire from SSx\n"
     ]
    },
    {
     "name": "stderr",
     "output_type": "stream",
     "text": [
      "/homes/wwc4618/predicting-choice/utils/remove_false_nodes.py:97: FutureWarning: The frame.append method is deprecated and will be removed from pandas in a future version. Use pandas.concat instead.\n",
      "  return df.append(\n"
     ]
    },
    {
     "name": "stdout",
     "output_type": "stream",
     "text": [
      "84060 geometries retrieved from South Gloucestershire\n",
      "Generated graph with 3156 nodes and 4126 edges\n",
      "Node features: ['metres', 'choice2km', 'nodecount2km', 'integration2km', 'choice10km', 'nodecount10km', 'integration10km', 'choice100km', 'nodecount100km', 'integration100km', 'choice2kmrank', 'choice10kmrank', 'integration10kmrank', 'integration2kmrank', 'choice2kmlog', 'choice10kmlog', 'choice100kmlog', 'x', 'y']\n",
      "Node target: None\n",
      "Edge attributes: {'u', 'v'}\n",
      "Loading graph of Woking with key ('Woking', \"['metres', 'choice2km', 'nodecount2km', 'integration2km', 'choice10km', 'nodecount10km', 'integration10km', 'choice100km', 'nodecount100km', 'integration100km', 'choice2kmrank', 'choice10kmrank', 'integration10kmrank', 'integration2kmrank', 'choice2kmlog', 'choice10kmlog', 'choice100kmlog']\", None, 'primal', 'False', True, 50, False)...\n",
      "Loading Woking from SSx\n"
     ]
    },
    {
     "name": "stderr",
     "output_type": "stream",
     "text": [
      "/homes/wwc4618/predicting-choice/utils/remove_false_nodes.py:97: FutureWarning: The frame.append method is deprecated and will be removed from pandas in a future version. Use pandas.concat instead.\n",
      "  return df.append(\n"
     ]
    },
    {
     "name": "stdout",
     "output_type": "stream",
     "text": [
      "23740 geometries retrieved from Woking\n",
      "Generated graph with 888 nodes and 1143 edges\n",
      "Node features: ['metres', 'choice2km', 'nodecount2km', 'integration2km', 'choice10km', 'nodecount10km', 'integration10km', 'choice100km', 'nodecount100km', 'integration100km', 'choice2kmrank', 'choice10kmrank', 'integration10kmrank', 'integration2kmrank', 'choice2kmlog', 'choice10kmlog', 'choice100kmlog', 'x', 'y']\n",
      "Node target: None\n",
      "Edge attributes: {'u', 'v'}\n",
      "Loading graph of Broxbourne with key ('Broxbourne', \"['metres', 'choice2km', 'nodecount2km', 'integration2km', 'choice10km', 'nodecount10km', 'integration10km', 'choice100km', 'nodecount100km', 'integration100km', 'choice2kmrank', 'choice10kmrank', 'integration10kmrank', 'integration2kmrank', 'choice2kmlog', 'choice10kmlog', 'choice100kmlog']\", None, 'primal', 'False', True, 50, False)...\n",
      "Loading Broxbourne from SSx\n"
     ]
    },
    {
     "name": "stderr",
     "output_type": "stream",
     "text": [
      "/homes/wwc4618/predicting-choice/utils/remove_false_nodes.py:97: FutureWarning: The frame.append method is deprecated and will be removed from pandas in a future version. Use pandas.concat instead.\n",
      "  return df.append(\n"
     ]
    },
    {
     "name": "stdout",
     "output_type": "stream",
     "text": [
      "19460 geometries retrieved from Broxbourne\n",
      "Generated graph with 736 nodes and 936 edges\n",
      "Node features: ['metres', 'choice2km', 'nodecount2km', 'integration2km', 'choice10km', 'nodecount10km', 'integration10km', 'choice100km', 'nodecount100km', 'integration100km', 'choice2kmrank', 'choice10kmrank', 'integration10kmrank', 'integration2kmrank', 'choice2kmlog', 'choice10kmlog', 'choice100kmlog', 'x', 'y']\n",
      "Node target: None\n",
      "Edge attributes: {'u', 'v'}\n",
      "Loading graph of Wolverhampton with key ('Wolverhampton', \"['metres', 'choice2km', 'nodecount2km', 'integration2km', 'choice10km', 'nodecount10km', 'integration10km', 'choice100km', 'nodecount100km', 'integration100km', 'choice2kmrank', 'choice10kmrank', 'integration10kmrank', 'integration2kmrank', 'choice2kmlog', 'choice10kmlog', 'choice100kmlog']\", None, 'primal', 'False', True, 50, False)...\n",
      "Loading Wolverhampton from SSx\n"
     ]
    },
    {
     "name": "stderr",
     "output_type": "stream",
     "text": [
      "/homes/wwc4618/predicting-choice/utils/remove_false_nodes.py:97: FutureWarning: The frame.append method is deprecated and will be removed from pandas in a future version. Use pandas.concat instead.\n",
      "  return df.append(\n"
     ]
    },
    {
     "name": "stdout",
     "output_type": "stream",
     "text": [
      "72740 geometries retrieved from Wolverhampton\n",
      "Generated graph with 2522 nodes and 3518 edges\n",
      "Node features: ['metres', 'choice2km', 'nodecount2km', 'integration2km', 'choice10km', 'nodecount10km', 'integration10km', 'choice100km', 'nodecount100km', 'integration100km', 'choice2kmrank', 'choice10kmrank', 'integration10kmrank', 'integration2kmrank', 'choice2kmlog', 'choice10kmlog', 'choice100kmlog', 'x', 'y']\n",
      "Node target: None\n",
      "Edge attributes: {'u', 'v'}\n",
      "Loading graph of Wiltshire with key ('Wiltshire', \"['metres', 'choice2km', 'nodecount2km', 'integration2km', 'choice10km', 'nodecount10km', 'integration10km', 'choice100km', 'nodecount100km', 'integration100km', 'choice2kmrank', 'choice10kmrank', 'integration10kmrank', 'integration2kmrank', 'choice2kmlog', 'choice10kmlog', 'choice100kmlog']\", None, 'primal', 'False', True, 50, False)...\n",
      "Loading Wiltshire from SSx\n"
     ]
    },
    {
     "name": "stderr",
     "output_type": "stream",
     "text": [
      "/homes/wwc4618/predicting-choice/utils/remove_false_nodes.py:97: FutureWarning: The frame.append method is deprecated and will be removed from pandas in a future version. Use pandas.concat instead.\n",
      "  return df.append(\n"
     ]
    },
    {
     "name": "stdout",
     "output_type": "stream",
     "text": [
      "192060 geometries retrieved from Wiltshire\n",
      "Generated graph with 7202 nodes and 9314 edges\n",
      "Node features: ['metres', 'choice2km', 'nodecount2km', 'integration2km', 'choice10km', 'nodecount10km', 'integration10km', 'choice100km', 'nodecount100km', 'integration100km', 'choice2kmrank', 'choice10kmrank', 'integration10kmrank', 'integration2kmrank', 'choice2kmlog', 'choice10kmlog', 'choice100kmlog', 'x', 'y']\n",
      "Node target: None\n",
      "Edge attributes: {'u', 'v'}\n",
      "Loading graph of Swindon with key ('Swindon', \"['metres', 'choice2km', 'nodecount2km', 'integration2km', 'choice10km', 'nodecount10km', 'integration10km', 'choice100km', 'nodecount100km', 'integration100km', 'choice2kmrank', 'choice10kmrank', 'integration10kmrank', 'integration2kmrank', 'choice2kmlog', 'choice10kmlog', 'choice100kmlog']\", None, 'primal', 'False', True, 50, False)...\n",
      "Loading Swindon from SSx\n"
     ]
    },
    {
     "name": "stderr",
     "output_type": "stream",
     "text": [
      "/homes/wwc4618/predicting-choice/utils/remove_false_nodes.py:97: FutureWarning: The frame.append method is deprecated and will be removed from pandas in a future version. Use pandas.concat instead.\n",
      "  return df.append(\n"
     ]
    },
    {
     "name": "stdout",
     "output_type": "stream",
     "text": [
      "58040 geometries retrieved from Swindon\n",
      "Generated graph with 2147 nodes and 2799 edges\n",
      "Node features: ['metres', 'choice2km', 'nodecount2km', 'integration2km', 'choice10km', 'nodecount10km', 'integration10km', 'choice100km', 'nodecount100km', 'integration100km', 'choice2kmrank', 'choice10kmrank', 'integration10kmrank', 'integration2kmrank', 'choice2kmlog', 'choice10kmlog', 'choice100kmlog', 'x', 'y']\n",
      "Node target: None\n",
      "Edge attributes: {'u', 'v'}\n",
      "Loading graph of Bath and North East Somerset with key ('Bath and North East Somerset', \"['metres', 'choice2km', 'nodecount2km', 'integration2km', 'choice10km', 'nodecount10km', 'integration10km', 'choice100km', 'nodecount100km', 'integration100km', 'choice2kmrank', 'choice10kmrank', 'integration10kmrank', 'integration2kmrank', 'choice2kmlog', 'choice10kmlog', 'choice100kmlog']\", None, 'primal', 'False', True, 50, False)...\n",
      "Loading Bath and North East Somerset from SSx\n"
     ]
    },
    {
     "name": "stderr",
     "output_type": "stream",
     "text": [
      "/homes/wwc4618/predicting-choice/utils/remove_false_nodes.py:97: FutureWarning: The frame.append method is deprecated and will be removed from pandas in a future version. Use pandas.concat instead.\n",
      "  return df.append(\n"
     ]
    },
    {
     "name": "stdout",
     "output_type": "stream",
     "text": [
      "60920 geometries retrieved from Bath and North East Somerset\n",
      "Generated graph with 2234 nodes and 2968 edges\n",
      "Node features: ['metres', 'choice2km', 'nodecount2km', 'integration2km', 'choice10km', 'nodecount10km', 'integration10km', 'choice100km', 'nodecount100km', 'integration100km', 'choice2kmrank', 'choice10kmrank', 'integration10kmrank', 'integration2kmrank', 'choice2kmlog', 'choice10kmlog', 'choice100kmlog', 'x', 'y']\n",
      "Node target: None\n",
      "Edge attributes: {'u', 'v'}\n",
      "Loading graph of Trafford with key ('Trafford', \"['metres', 'choice2km', 'nodecount2km', 'integration2km', 'choice10km', 'nodecount10km', 'integration10km', 'choice100km', 'nodecount100km', 'integration100km', 'choice2kmrank', 'choice10kmrank', 'integration10kmrank', 'integration2kmrank', 'choice2kmlog', 'choice10kmlog', 'choice100kmlog']\", None, 'primal', 'False', True, 50, False)...\n",
      "Loading Trafford from SSx\n"
     ]
    },
    {
     "name": "stderr",
     "output_type": "stream",
     "text": [
      "/homes/wwc4618/predicting-choice/utils/remove_false_nodes.py:97: FutureWarning: The frame.append method is deprecated and will be removed from pandas in a future version. Use pandas.concat instead.\n",
      "  return df.append(\n"
     ]
    },
    {
     "name": "stdout",
     "output_type": "stream",
     "text": [
      "77180 geometries retrieved from Trafford\n",
      "Generated graph with 2644 nodes and 3738 edges\n",
      "Node features: ['metres', 'choice2km', 'nodecount2km', 'integration2km', 'choice10km', 'nodecount10km', 'integration10km', 'choice100km', 'nodecount100km', 'integration100km', 'choice2kmrank', 'choice10kmrank', 'integration10kmrank', 'integration2kmrank', 'choice2kmlog', 'choice10kmlog', 'choice100kmlog', 'x', 'y']\n",
      "Node target: None\n",
      "Edge attributes: {'u', 'v'}\n",
      "Loading graph of Salford with key ('Salford', \"['metres', 'choice2km', 'nodecount2km', 'integration2km', 'choice10km', 'nodecount10km', 'integration10km', 'choice100km', 'nodecount100km', 'integration100km', 'choice2kmrank', 'choice10kmrank', 'integration10kmrank', 'integration2kmrank', 'choice2kmlog', 'choice10kmlog', 'choice100kmlog']\", None, 'primal', 'False', True, 50, False)...\n",
      "Loading Salford from SSx\n"
     ]
    },
    {
     "name": "stderr",
     "output_type": "stream",
     "text": [
      "/homes/wwc4618/predicting-choice/utils/remove_false_nodes.py:97: FutureWarning: The frame.append method is deprecated and will be removed from pandas in a future version. Use pandas.concat instead.\n",
      "  return df.append(\n"
     ]
    },
    {
     "name": "stdout",
     "output_type": "stream",
     "text": [
      "82460 geometries retrieved from Salford\n",
      "Generated graph with 2850 nodes and 4003 edges\n",
      "Node features: ['metres', 'choice2km', 'nodecount2km', 'integration2km', 'choice10km', 'nodecount10km', 'integration10km', 'choice100km', 'nodecount100km', 'integration100km', 'choice2kmrank', 'choice10kmrank', 'integration10kmrank', 'integration2kmrank', 'choice2kmlog', 'choice10kmlog', 'choice100kmlog', 'x', 'y']\n",
      "Node target: None\n",
      "Edge attributes: {'u', 'v'}\n",
      "Loading graph of South Staffordshire with key ('South Staffordshire', \"['metres', 'choice2km', 'nodecount2km', 'integration2km', 'choice10km', 'nodecount10km', 'integration10km', 'choice100km', 'nodecount100km', 'integration100km', 'choice2kmrank', 'choice10kmrank', 'integration10kmrank', 'integration2kmrank', 'choice2kmlog', 'choice10kmlog', 'choice100kmlog']\", None, 'primal', 'False', True, 50, False)...\n",
      "Loading South Staffordshire from SSx\n"
     ]
    },
    {
     "name": "stderr",
     "output_type": "stream",
     "text": [
      "/homes/wwc4618/predicting-choice/utils/remove_false_nodes.py:97: FutureWarning: The frame.append method is deprecated and will be removed from pandas in a future version. Use pandas.concat instead.\n",
      "  return df.append(\n"
     ]
    },
    {
     "name": "stdout",
     "output_type": "stream",
     "text": [
      "41620 geometries retrieved from South Staffordshire\n",
      "Generated graph with 1527 nodes and 2000 edges\n",
      "Node features: ['metres', 'choice2km', 'nodecount2km', 'integration2km', 'choice10km', 'nodecount10km', 'integration10km', 'choice100km', 'nodecount100km', 'integration100km', 'choice2kmrank', 'choice10kmrank', 'integration10kmrank', 'integration2kmrank', 'choice2kmlog', 'choice10kmlog', 'choice100kmlog', 'x', 'y']\n",
      "Node target: None\n",
      "Edge attributes: {'u', 'v'}\n",
      "Loading graph of West Oxfordshire with key ('West Oxfordshire', \"['metres', 'choice2km', 'nodecount2km', 'integration2km', 'choice10km', 'nodecount10km', 'integration10km', 'choice100km', 'nodecount100km', 'integration100km', 'choice2kmrank', 'choice10kmrank', 'integration10kmrank', 'integration2kmrank', 'choice2kmlog', 'choice10kmlog', 'choice100kmlog']\", None, 'primal', 'False', True, 50, False)...\n",
      "Loading West Oxfordshire from SSx\n"
     ]
    },
    {
     "name": "stderr",
     "output_type": "stream",
     "text": [
      "/homes/wwc4618/predicting-choice/utils/remove_false_nodes.py:97: FutureWarning: The frame.append method is deprecated and will be removed from pandas in a future version. Use pandas.concat instead.\n",
      "  return df.append(\n"
     ]
    },
    {
     "name": "stdout",
     "output_type": "stream",
     "text": [
      "44040 geometries retrieved from West Oxfordshire\n",
      "Generated graph with 1624 nodes and 2139 edges\n",
      "Node features: ['metres', 'choice2km', 'nodecount2km', 'integration2km', 'choice10km', 'nodecount10km', 'integration10km', 'choice100km', 'nodecount100km', 'integration100km', 'choice2kmrank', 'choice10kmrank', 'integration10kmrank', 'integration2kmrank', 'choice2kmlog', 'choice10kmlog', 'choice100kmlog', 'x', 'y']\n",
      "Node target: None\n",
      "Edge attributes: {'u', 'v'}\n",
      "Loading graph of Malvern Hills with key ('Malvern Hills', \"['metres', 'choice2km', 'nodecount2km', 'integration2km', 'choice10km', 'nodecount10km', 'integration10km', 'choice100km', 'nodecount100km', 'integration100km', 'choice2kmrank', 'choice10kmrank', 'integration10kmrank', 'integration2kmrank', 'choice2kmlog', 'choice10kmlog', 'choice100kmlog']\", None, 'primal', 'False', True, 50, False)...\n",
      "Loading Malvern Hills from SSx\n"
     ]
    },
    {
     "name": "stderr",
     "output_type": "stream",
     "text": [
      "/homes/wwc4618/predicting-choice/utils/remove_false_nodes.py:97: FutureWarning: The frame.append method is deprecated and will be removed from pandas in a future version. Use pandas.concat instead.\n",
      "  return df.append(\n"
     ]
    },
    {
     "name": "stdout",
     "output_type": "stream",
     "text": [
      "40500 geometries retrieved from Malvern Hills\n",
      "Generated graph with 1563 nodes and 1976 edges\n",
      "Node features: ['metres', 'choice2km', 'nodecount2km', 'integration2km', 'choice10km', 'nodecount10km', 'integration10km', 'choice100km', 'nodecount100km', 'integration100km', 'choice2kmrank', 'choice10kmrank', 'integration10kmrank', 'integration2kmrank', 'choice2kmlog', 'choice10kmlog', 'choice100kmlog', 'x', 'y']\n",
      "Node target: None\n",
      "Edge attributes: {'u', 'v'}\n",
      "Loading graph of Vale of White Horse with key ('Vale of White Horse', \"['metres', 'choice2km', 'nodecount2km', 'integration2km', 'choice10km', 'nodecount10km', 'integration10km', 'choice100km', 'nodecount100km', 'integration100km', 'choice2kmrank', 'choice10kmrank', 'integration10kmrank', 'integration2kmrank', 'choice2kmlog', 'choice10kmlog', 'choice100kmlog']\", None, 'primal', 'False', True, 50, False)...\n",
      "Loading Vale of White Horse from SSx\n"
     ]
    },
    {
     "name": "stderr",
     "output_type": "stream",
     "text": [
      "/homes/wwc4618/predicting-choice/utils/remove_false_nodes.py:97: FutureWarning: The frame.append method is deprecated and will be removed from pandas in a future version. Use pandas.concat instead.\n",
      "  return df.append(\n"
     ]
    },
    {
     "name": "stdout",
     "output_type": "stream",
     "text": [
      "38780 geometries retrieved from Vale of White Horse\n",
      "Generated graph with 1461 nodes and 1838 edges\n",
      "Node features: ['metres', 'choice2km', 'nodecount2km', 'integration2km', 'choice10km', 'nodecount10km', 'integration10km', 'choice100km', 'nodecount100km', 'integration100km', 'choice2kmrank', 'choice10kmrank', 'integration10kmrank', 'integration2kmrank', 'choice2kmlog', 'choice10kmlog', 'choice100kmlog', 'x', 'y']\n",
      "Node target: None\n",
      "Edge attributes: {'u', 'v'}\n",
      "Loading graph of South Kesteven with key ('South Kesteven', \"['metres', 'choice2km', 'nodecount2km', 'integration2km', 'choice10km', 'nodecount10km', 'integration10km', 'choice100km', 'nodecount100km', 'integration100km', 'choice2kmrank', 'choice10kmrank', 'integration10kmrank', 'integration2kmrank', 'choice2kmlog', 'choice10kmlog', 'choice100kmlog']\", None, 'primal', 'False', True, 50, False)...\n",
      "Loading South Kesteven from SSx\n"
     ]
    },
    {
     "name": "stderr",
     "output_type": "stream",
     "text": [
      "/homes/wwc4618/predicting-choice/utils/remove_false_nodes.py:97: FutureWarning: The frame.append method is deprecated and will be removed from pandas in a future version. Use pandas.concat instead.\n",
      "  return df.append(\n"
     ]
    },
    {
     "name": "stdout",
     "output_type": "stream",
     "text": [
      "50000 geometries retrieved from South Kesteven\n",
      "Generated graph with 1842 nodes and 2435 edges\n",
      "Node features: ['metres', 'choice2km', 'nodecount2km', 'integration2km', 'choice10km', 'nodecount10km', 'integration10km', 'choice100km', 'nodecount100km', 'integration100km', 'choice2kmrank', 'choice10kmrank', 'integration10kmrank', 'integration2kmrank', 'choice2kmlog', 'choice10kmlog', 'choice100kmlog', 'x', 'y']\n",
      "Node target: None\n",
      "Edge attributes: {'u', 'v'}\n",
      "Loading graph of North Kesteven with key ('North Kesteven', \"['metres', 'choice2km', 'nodecount2km', 'integration2km', 'choice10km', 'nodecount10km', 'integration10km', 'choice100km', 'nodecount100km', 'integration100km', 'choice2kmrank', 'choice10kmrank', 'integration10kmrank', 'integration2kmrank', 'choice2kmlog', 'choice10kmlog', 'choice100kmlog']\", None, 'primal', 'False', True, 50, False)...\n",
      "Loading North Kesteven from SSx\n"
     ]
    },
    {
     "name": "stderr",
     "output_type": "stream",
     "text": [
      "/homes/wwc4618/predicting-choice/utils/remove_false_nodes.py:97: FutureWarning: The frame.append method is deprecated and will be removed from pandas in a future version. Use pandas.concat instead.\n",
      "  return df.append(\n"
     ]
    },
    {
     "name": "stdout",
     "output_type": "stream",
     "text": [
      "43260 geometries retrieved from North Kesteven\n",
      "Generated graph with 1631 nodes and 2106 edges\n",
      "Node features: ['metres', 'choice2km', 'nodecount2km', 'integration2km', 'choice10km', 'nodecount10km', 'integration10km', 'choice100km', 'nodecount100km', 'integration100km', 'choice2kmrank', 'choice10kmrank', 'integration10kmrank', 'integration2kmrank', 'choice2kmlog', 'choice10kmlog', 'choice100kmlog', 'x', 'y']\n",
      "Node target: None\n",
      "Edge attributes: {'u', 'v'}\n",
      "Loading graph of Guildford with key ('Guildford', \"['metres', 'choice2km', 'nodecount2km', 'integration2km', 'choice10km', 'nodecount10km', 'integration10km', 'choice100km', 'nodecount100km', 'integration100km', 'choice2kmrank', 'choice10kmrank', 'integration10kmrank', 'integration2kmrank', 'choice2kmlog', 'choice10kmlog', 'choice100kmlog']\", None, 'primal', 'False', True, 50, False)...\n",
      "Loading Guildford from SSx\n"
     ]
    },
    {
     "name": "stderr",
     "output_type": "stream",
     "text": [
      "/homes/wwc4618/predicting-choice/utils/remove_false_nodes.py:97: FutureWarning: The frame.append method is deprecated and will be removed from pandas in a future version. Use pandas.concat instead.\n",
      "  return df.append(\n"
     ]
    },
    {
     "name": "stdout",
     "output_type": "stream",
     "text": [
      "45140 geometries retrieved from Guildford\n",
      "Generated graph with 1715 nodes and 2168 edges\n",
      "Node features: ['metres', 'choice2km', 'nodecount2km', 'integration2km', 'choice10km', 'nodecount10km', 'integration10km', 'choice100km', 'nodecount100km', 'integration100km', 'choice2kmrank', 'choice10kmrank', 'integration10kmrank', 'integration2kmrank', 'choice2kmlog', 'choice10kmlog', 'choice100kmlog', 'x', 'y']\n",
      "Node target: None\n",
      "Edge attributes: {'u', 'v'}\n",
      "Loading graph of Southwark with key ('Southwark', \"['metres', 'choice2km', 'nodecount2km', 'integration2km', 'choice10km', 'nodecount10km', 'integration10km', 'choice100km', 'nodecount100km', 'integration100km', 'choice2kmrank', 'choice10kmrank', 'integration10kmrank', 'integration2kmrank', 'choice2kmlog', 'choice10kmlog', 'choice100kmlog']\", None, 'primal', 'False', True, 50, False)...\n",
      "Loading Southwark from SSx\n"
     ]
    },
    {
     "name": "stderr",
     "output_type": "stream",
     "text": [
      "/homes/wwc4618/predicting-choice/utils/remove_false_nodes.py:97: FutureWarning: The frame.append method is deprecated and will be removed from pandas in a future version. Use pandas.concat instead.\n",
      "  return df.append(\n"
     ]
    },
    {
     "name": "stdout",
     "output_type": "stream",
     "text": [
      "51060 geometries retrieved from Southwark\n",
      "Generated graph with 1713 nodes and 2487 edges\n",
      "Node features: ['metres', 'choice2km', 'nodecount2km', 'integration2km', 'choice10km', 'nodecount10km', 'integration10km', 'choice100km', 'nodecount100km', 'integration100km', 'choice2kmrank', 'choice10kmrank', 'integration10kmrank', 'integration2kmrank', 'choice2kmlog', 'choice10kmlog', 'choice100kmlog', 'x', 'y']\n",
      "Node target: None\n",
      "Edge attributes: {'u', 'v'}\n",
      "Loading graph of Chichester with key ('Chichester', \"['metres', 'choice2km', 'nodecount2km', 'integration2km', 'choice10km', 'nodecount10km', 'integration10km', 'choice100km', 'nodecount100km', 'integration100km', 'choice2kmrank', 'choice10kmrank', 'integration10kmrank', 'integration2kmrank', 'choice2kmlog', 'choice10kmlog', 'choice100kmlog']\", None, 'primal', 'False', True, 50, False)...\n",
      "Loading Chichester from SSx\n"
     ]
    },
    {
     "name": "stderr",
     "output_type": "stream",
     "text": [
      "/homes/wwc4618/predicting-choice/utils/remove_false_nodes.py:97: FutureWarning: The frame.append method is deprecated and will be removed from pandas in a future version. Use pandas.concat instead.\n",
      "  return df.append(\n"
     ]
    },
    {
     "name": "stdout",
     "output_type": "stream",
     "text": [
      "47900 geometries retrieved from Chichester\n",
      "Generated graph with 1827 nodes and 2346 edges\n",
      "Node features: ['metres', 'choice2km', 'nodecount2km', 'integration2km', 'choice10km', 'nodecount10km', 'integration10km', 'choice100km', 'nodecount100km', 'integration100km', 'choice2kmrank', 'choice10kmrank', 'integration10kmrank', 'integration2kmrank', 'choice2kmlog', 'choice10kmlog', 'choice100kmlog', 'x', 'y']\n",
      "Node target: None\n",
      "Edge attributes: {'u', 'v'}\n",
      "Loading graph of Waverley with key ('Waverley', \"['metres', 'choice2km', 'nodecount2km', 'integration2km', 'choice10km', 'nodecount10km', 'integration10km', 'choice100km', 'nodecount100km', 'integration100km', 'choice2kmrank', 'choice10kmrank', 'integration10kmrank', 'integration2kmrank', 'choice2kmlog', 'choice10kmlog', 'choice100kmlog']\", None, 'primal', 'False', True, 50, False)...\n",
      "Loading Waverley from SSx\n"
     ]
    },
    {
     "name": "stderr",
     "output_type": "stream",
     "text": [
      "/homes/wwc4618/predicting-choice/utils/remove_false_nodes.py:97: FutureWarning: The frame.append method is deprecated and will be removed from pandas in a future version. Use pandas.concat instead.\n",
      "  return df.append(\n"
     ]
    },
    {
     "name": "stdout",
     "output_type": "stream",
     "text": [
      "43320 geometries retrieved from Waverley\n",
      "Generated graph with 1652 nodes and 2109 edges\n",
      "Node features: ['metres', 'choice2km', 'nodecount2km', 'integration2km', 'choice10km', 'nodecount10km', 'integration10km', 'choice100km', 'nodecount100km', 'integration100km', 'choice2kmrank', 'choice10kmrank', 'integration10kmrank', 'integration2kmrank', 'choice2kmlog', 'choice10kmlog', 'choice100kmlog', 'x', 'y']\n",
      "Node target: None\n",
      "Edge attributes: {'u', 'v'}\n",
      "Loading graph of Elmbridge with key ('Elmbridge', \"['metres', 'choice2km', 'nodecount2km', 'integration2km', 'choice10km', 'nodecount10km', 'integration10km', 'choice100km', 'nodecount100km', 'integration100km', 'choice2kmrank', 'choice10kmrank', 'integration10kmrank', 'integration2kmrank', 'choice2kmlog', 'choice10kmlog', 'choice100kmlog']\", None, 'primal', 'False', True, 50, False)...\n",
      "Loading Elmbridge from SSx\n"
     ]
    },
    {
     "name": "stderr",
     "output_type": "stream",
     "text": [
      "/homes/wwc4618/predicting-choice/utils/remove_false_nodes.py:97: FutureWarning: The frame.append method is deprecated and will be removed from pandas in a future version. Use pandas.concat instead.\n",
      "  return df.append(\n"
     ]
    },
    {
     "name": "stdout",
     "output_type": "stream",
     "text": [
      "34560 geometries retrieved from Elmbridge\n",
      "Generated graph with 1264 nodes and 1651 edges\n",
      "Node features: ['metres', 'choice2km', 'nodecount2km', 'integration2km', 'choice10km', 'nodecount10km', 'integration10km', 'choice100km', 'nodecount100km', 'integration100km', 'choice2kmrank', 'choice10kmrank', 'integration10kmrank', 'integration2kmrank', 'choice2kmlog', 'choice10kmlog', 'choice100kmlog', 'x', 'y']\n",
      "Node target: None\n",
      "Edge attributes: {'u', 'v'}\n",
      "Loading graph of Forest of Dean with key ('Forest of Dean', \"['metres', 'choice2km', 'nodecount2km', 'integration2km', 'choice10km', 'nodecount10km', 'integration10km', 'choice100km', 'nodecount100km', 'integration100km', 'choice2kmrank', 'choice10kmrank', 'integration10kmrank', 'integration2kmrank', 'choice2kmlog', 'choice10kmlog', 'choice100kmlog']\", None, 'primal', 'False', True, 50, False)...\n",
      "Loading Forest of Dean from SSx\n"
     ]
    },
    {
     "name": "stderr",
     "output_type": "stream",
     "text": [
      "/homes/wwc4618/predicting-choice/utils/remove_false_nodes.py:97: FutureWarning: The frame.append method is deprecated and will be removed from pandas in a future version. Use pandas.concat instead.\n",
      "  return df.append(\n"
     ]
    },
    {
     "name": "stdout",
     "output_type": "stream",
     "text": [
      "51900 geometries retrieved from Forest of Dean\n",
      "Generated graph with 1953 nodes and 2537 edges\n",
      "Node features: ['metres', 'choice2km', 'nodecount2km', 'integration2km', 'choice10km', 'nodecount10km', 'integration10km', 'choice100km', 'nodecount100km', 'integration100km', 'choice2kmrank', 'choice10kmrank', 'integration10kmrank', 'integration2kmrank', 'choice2kmlog', 'choice10kmlog', 'choice100kmlog', 'x', 'y']\n",
      "Node target: None\n",
      "Edge attributes: {'u', 'v'}\n",
      "Loading graph of Tewkesbury with key ('Tewkesbury', \"['metres', 'choice2km', 'nodecount2km', 'integration2km', 'choice10km', 'nodecount10km', 'integration10km', 'choice100km', 'nodecount100km', 'integration100km', 'choice2kmrank', 'choice10kmrank', 'integration10kmrank', 'integration2kmrank', 'choice2kmlog', 'choice10kmlog', 'choice100kmlog']\", None, 'primal', 'False', True, 50, False)...\n",
      "Loading Tewkesbury from SSx\n"
     ]
    },
    {
     "name": "stderr",
     "output_type": "stream",
     "text": [
      "/homes/wwc4618/predicting-choice/utils/remove_false_nodes.py:97: FutureWarning: The frame.append method is deprecated and will be removed from pandas in a future version. Use pandas.concat instead.\n",
      "  return df.append(\n"
     ]
    },
    {
     "name": "stdout",
     "output_type": "stream",
     "text": [
      "34320 geometries retrieved from Tewkesbury\n",
      "Generated graph with 1279 nodes and 1577 edges\n",
      "Node features: ['metres', 'choice2km', 'nodecount2km', 'integration2km', 'choice10km', 'nodecount10km', 'integration10km', 'choice100km', 'nodecount100km', 'integration100km', 'choice2kmrank', 'choice10kmrank', 'integration10kmrank', 'integration2kmrank', 'choice2kmlog', 'choice10kmlog', 'choice100kmlog', 'x', 'y']\n",
      "Node target: None\n",
      "Edge attributes: {'u', 'v'}\n",
      "Loading graph of Charnwood with key ('Charnwood', \"['metres', 'choice2km', 'nodecount2km', 'integration2km', 'choice10km', 'nodecount10km', 'integration10km', 'choice100km', 'nodecount100km', 'integration100km', 'choice2kmrank', 'choice10kmrank', 'integration10kmrank', 'integration2kmrank', 'choice2kmlog', 'choice10kmlog', 'choice100kmlog']\", None, 'primal', 'False', True, 50, False)...\n",
      "Loading Charnwood from SSx\n"
     ]
    },
    {
     "name": "stderr",
     "output_type": "stream",
     "text": [
      "/homes/wwc4618/predicting-choice/utils/remove_false_nodes.py:97: FutureWarning: The frame.append method is deprecated and will be removed from pandas in a future version. Use pandas.concat instead.\n",
      "  return df.append(\n"
     ]
    },
    {
     "name": "stdout",
     "output_type": "stream",
     "text": [
      "49040 geometries retrieved from Charnwood\n",
      "Generated graph with 1799 nodes and 2379 edges\n",
      "Node features: ['metres', 'choice2km', 'nodecount2km', 'integration2km', 'choice10km', 'nodecount10km', 'integration10km', 'choice100km', 'nodecount100km', 'integration100km', 'choice2kmrank', 'choice10kmrank', 'integration10kmrank', 'integration2kmrank', 'choice2kmlog', 'choice10kmlog', 'choice100kmlog', 'x', 'y']\n",
      "Node target: None\n",
      "Edge attributes: {'u', 'v'}\n",
      "Loading graph of Sheffield with key ('Sheffield', \"['metres', 'choice2km', 'nodecount2km', 'integration2km', 'choice10km', 'nodecount10km', 'integration10km', 'choice100km', 'nodecount100km', 'integration100km', 'choice2kmrank', 'choice10kmrank', 'integration10kmrank', 'integration2kmrank', 'choice2kmlog', 'choice10kmlog', 'choice100kmlog']\", None, 'primal', 'False', True, 50, False)...\n",
      "Loading Sheffield from SSx\n"
     ]
    },
    {
     "name": "stderr",
     "output_type": "stream",
     "text": [
      "/homes/wwc4618/predicting-choice/utils/remove_false_nodes.py:97: FutureWarning: The frame.append method is deprecated and will be removed from pandas in a future version. Use pandas.concat instead.\n",
      "  return df.append(\n"
     ]
    },
    {
     "name": "stdout",
     "output_type": "stream",
     "text": [
      "192860 geometries retrieved from Sheffield\n",
      "Generated graph with 6556 nodes and 9399 edges\n",
      "Node features: ['metres', 'choice2km', 'nodecount2km', 'integration2km', 'choice10km', 'nodecount10km', 'integration10km', 'choice100km', 'nodecount100km', 'integration100km', 'choice2kmrank', 'choice10kmrank', 'integration10kmrank', 'integration2kmrank', 'choice2kmlog', 'choice10kmlog', 'choice100kmlog', 'x', 'y']\n",
      "Node target: None\n",
      "Edge attributes: {'u', 'v'}\n",
      "Loading graph of Ashfield with key ('Ashfield', \"['metres', 'choice2km', 'nodecount2km', 'integration2km', 'choice10km', 'nodecount10km', 'integration10km', 'choice100km', 'nodecount100km', 'integration100km', 'choice2kmrank', 'choice10kmrank', 'integration10kmrank', 'integration2kmrank', 'choice2kmlog', 'choice10kmlog', 'choice100kmlog']\", None, 'primal', 'False', True, 50, False)...\n",
      "Loading Ashfield from SSx\n"
     ]
    },
    {
     "name": "stderr",
     "output_type": "stream",
     "text": [
      "/homes/wwc4618/predicting-choice/utils/remove_false_nodes.py:97: FutureWarning: The frame.append method is deprecated and will be removed from pandas in a future version. Use pandas.concat instead.\n",
      "  return df.append(\n"
     ]
    },
    {
     "name": "stdout",
     "output_type": "stream",
     "text": [
      "35420 geometries retrieved from Ashfield\n",
      "Generated graph with 1015 nodes and 1315 edges\n",
      "Node features: ['metres', 'choice2km', 'nodecount2km', 'integration2km', 'choice10km', 'nodecount10km', 'integration10km', 'choice100km', 'nodecount100km', 'integration100km', 'choice2kmrank', 'choice10kmrank', 'integration10kmrank', 'integration2kmrank', 'choice2kmlog', 'choice10kmlog', 'choice100kmlog', 'x', 'y']\n",
      "Node target: None\n",
      "Edge attributes: {'u', 'v'}\n",
      "Loading graph of North West Leicestershire with key ('North West Leicestershire', \"['metres', 'choice2km', 'nodecount2km', 'integration2km', 'choice10km', 'nodecount10km', 'integration10km', 'choice100km', 'nodecount100km', 'integration100km', 'choice2kmrank', 'choice10kmrank', 'integration10kmrank', 'integration2kmrank', 'choice2kmlog', 'choice10kmlog', 'choice100kmlog']\", None, 'primal', 'False', True, 50, False)...\n",
      "Loading North West Leicestershire from SSx\n"
     ]
    },
    {
     "name": "stderr",
     "output_type": "stream",
     "text": [
      "/homes/wwc4618/predicting-choice/utils/remove_false_nodes.py:97: FutureWarning: The frame.append method is deprecated and will be removed from pandas in a future version. Use pandas.concat instead.\n",
      "  return df.append(\n"
     ]
    },
    {
     "name": "stdout",
     "output_type": "stream",
     "text": [
      "33680 geometries retrieved from North West Leicestershire\n",
      "Generated graph with 1241 nodes and 1617 edges\n",
      "Node features: ['metres', 'choice2km', 'nodecount2km', 'integration2km', 'choice10km', 'nodecount10km', 'integration10km', 'choice100km', 'nodecount100km', 'integration100km', 'choice2kmrank', 'choice10kmrank', 'integration10kmrank', 'integration2kmrank', 'choice2kmlog', 'choice10kmlog', 'choice100kmlog', 'x', 'y']\n",
      "Node target: None\n",
      "Edge attributes: {'u', 'v'}\n",
      "Loading graph of North East Derbyshire with key ('North East Derbyshire', \"['metres', 'choice2km', 'nodecount2km', 'integration2km', 'choice10km', 'nodecount10km', 'integration10km', 'choice100km', 'nodecount100km', 'integration100km', 'choice2kmrank', 'choice10kmrank', 'integration10kmrank', 'integration2kmrank', 'choice2kmlog', 'choice10kmlog', 'choice100kmlog']\", None, 'primal', 'False', True, 50, False)...\n",
      "Loading North East Derbyshire from SSx\n"
     ]
    },
    {
     "name": "stderr",
     "output_type": "stream",
     "text": [
      "/homes/wwc4618/predicting-choice/utils/remove_false_nodes.py:97: FutureWarning: The frame.append method is deprecated and will be removed from pandas in a future version. Use pandas.concat instead.\n",
      "  return df.append(\n"
     ]
    },
    {
     "name": "stdout",
     "output_type": "stream",
     "text": [
      "39780 geometries retrieved from North East Derbyshire\n",
      "Generated graph with 1368 nodes and 1803 edges\n",
      "Node features: ['metres', 'choice2km', 'nodecount2km', 'integration2km', 'choice10km', 'nodecount10km', 'integration10km', 'choice100km', 'nodecount100km', 'integration100km', 'choice2kmrank', 'choice10kmrank', 'integration10kmrank', 'integration2kmrank', 'choice2kmlog', 'choice10kmlog', 'choice100kmlog', 'x', 'y']\n",
      "Node target: None\n",
      "Edge attributes: {'u', 'v'}\n",
      "Loading graph of Stroud with key ('Stroud', \"['metres', 'choice2km', 'nodecount2km', 'integration2km', 'choice10km', 'nodecount10km', 'integration10km', 'choice100km', 'nodecount100km', 'integration100km', 'choice2kmrank', 'choice10kmrank', 'integration10kmrank', 'integration2kmrank', 'choice2kmlog', 'choice10kmlog', 'choice100kmlog']\", None, 'primal', 'False', True, 50, False)...\n",
      "Loading Stroud from SSx\n"
     ]
    },
    {
     "name": "stderr",
     "output_type": "stream",
     "text": [
      "/homes/wwc4618/predicting-choice/utils/remove_false_nodes.py:97: FutureWarning: The frame.append method is deprecated and will be removed from pandas in a future version. Use pandas.concat instead.\n",
      "  return df.append(\n"
     ]
    },
    {
     "name": "stdout",
     "output_type": "stream",
     "text": [
      "53260 geometries retrieved from Stroud\n",
      "Generated graph with 1978 nodes and 2579 edges\n",
      "Node features: ['metres', 'choice2km', 'nodecount2km', 'integration2km', 'choice10km', 'nodecount10km', 'integration10km', 'choice100km', 'nodecount100km', 'integration100km', 'choice2kmrank', 'choice10kmrank', 'integration10kmrank', 'integration2kmrank', 'choice2kmlog', 'choice10kmlog', 'choice100kmlog', 'x', 'y']\n",
      "Node target: None\n",
      "Edge attributes: {'u', 'v'}\n",
      "Loading graph of Shropshire with key ('Shropshire', \"['metres', 'choice2km', 'nodecount2km', 'integration2km', 'choice10km', 'nodecount10km', 'integration10km', 'choice100km', 'nodecount100km', 'integration100km', 'choice2kmrank', 'choice10kmrank', 'integration10kmrank', 'integration2kmrank', 'choice2kmlog', 'choice10kmlog', 'choice100kmlog']\", None, 'primal', 'False', True, 50, False)...\n",
      "Loading Shropshire from SSx\n"
     ]
    },
    {
     "name": "stderr",
     "output_type": "stream",
     "text": [
      "/homes/wwc4618/predicting-choice/utils/remove_false_nodes.py:97: FutureWarning: The frame.append method is deprecated and will be removed from pandas in a future version. Use pandas.concat instead.\n",
      "  return df.append(\n"
     ]
    },
    {
     "name": "stdout",
     "output_type": "stream",
     "text": [
      "175280 geometries retrieved from Shropshire\n",
      "Generated graph with 6461 nodes and 8566 edges\n",
      "Node features: ['metres', 'choice2km', 'nodecount2km', 'integration2km', 'choice10km', 'nodecount10km', 'integration10km', 'choice100km', 'nodecount100km', 'integration100km', 'choice2kmrank', 'choice10kmrank', 'integration10kmrank', 'integration2kmrank', 'choice2kmlog', 'choice10kmlog', 'choice100kmlog', 'x', 'y']\n",
      "Node target: None\n",
      "Edge attributes: {'u', 'v'}\n",
      "Loading graph of Telford and Wrekin with key ('Telford and Wrekin', \"['metres', 'choice2km', 'nodecount2km', 'integration2km', 'choice10km', 'nodecount10km', 'integration10km', 'choice100km', 'nodecount100km', 'integration100km', 'choice2kmrank', 'choice10kmrank', 'integration10kmrank', 'integration2kmrank', 'choice2kmlog', 'choice10kmlog', 'choice100kmlog']\", None, 'primal', 'False', True, 50, False)...\n",
      "Loading Telford and Wrekin from SSx\n"
     ]
    },
    {
     "name": "stderr",
     "output_type": "stream",
     "text": [
      "/homes/wwc4618/predicting-choice/utils/remove_false_nodes.py:97: FutureWarning: The frame.append method is deprecated and will be removed from pandas in a future version. Use pandas.concat instead.\n",
      "  return df.append(\n"
     ]
    },
    {
     "name": "stdout",
     "output_type": "stream",
     "text": [
      "58640 geometries retrieved from Telford and Wrekin\n",
      "Generated graph with 2236 nodes and 2836 edges\n",
      "Node features: ['metres', 'choice2km', 'nodecount2km', 'integration2km', 'choice10km', 'nodecount10km', 'integration10km', 'choice100km', 'nodecount100km', 'integration100km', 'choice2kmrank', 'choice10kmrank', 'integration10kmrank', 'integration2kmrank', 'choice2kmlog', 'choice10kmlog', 'choice100kmlog', 'x', 'y']\n",
      "Node target: None\n",
      "Edge attributes: {'u', 'v'}\n",
      "Loading graph of Horsham with key ('Horsham', \"['metres', 'choice2km', 'nodecount2km', 'integration2km', 'choice10km', 'nodecount10km', 'integration10km', 'choice100km', 'nodecount100km', 'integration100km', 'choice2kmrank', 'choice10kmrank', 'integration10kmrank', 'integration2kmrank', 'choice2kmlog', 'choice10kmlog', 'choice100kmlog']\", None, 'primal', 'False', True, 50, False)...\n",
      "Loading Horsham from SSx\n"
     ]
    },
    {
     "name": "stderr",
     "output_type": "stream",
     "text": [
      "/homes/wwc4618/predicting-choice/utils/remove_false_nodes.py:97: FutureWarning: The frame.append method is deprecated and will be removed from pandas in a future version. Use pandas.concat instead.\n",
      "  return df.append(\n"
     ]
    },
    {
     "name": "stdout",
     "output_type": "stream",
     "text": [
      "37260 geometries retrieved from Horsham\n",
      "Generated graph with 1426 nodes and 1799 edges\n",
      "Node features: ['metres', 'choice2km', 'nodecount2km', 'integration2km', 'choice10km', 'nodecount10km', 'integration10km', 'choice100km', 'nodecount100km', 'integration100km', 'choice2kmrank', 'choice10kmrank', 'integration10kmrank', 'integration2kmrank', 'choice2kmlog', 'choice10kmlog', 'choice100kmlog', 'x', 'y']\n",
      "Node target: None\n",
      "Edge attributes: {'u', 'v'}\n",
      "Loading graph of City of London with key ('City of London', \"['metres', 'choice2km', 'nodecount2km', 'integration2km', 'choice10km', 'nodecount10km', 'integration10km', 'choice100km', 'nodecount100km', 'integration100km', 'choice2kmrank', 'choice10kmrank', 'integration10kmrank', 'integration2kmrank', 'choice2kmlog', 'choice10kmlog', 'choice100kmlog']\", None, 'primal', 'False', True, 50, False)...\n",
      "Loading City of London from SSx\n"
     ]
    },
    {
     "name": "stderr",
     "output_type": "stream",
     "text": [
      "/homes/wwc4618/predicting-choice/utils/remove_false_nodes.py:97: FutureWarning: The frame.append method is deprecated and will be removed from pandas in a future version. Use pandas.concat instead.\n",
      "  return df.append(\n"
     ]
    },
    {
     "name": "stdout",
     "output_type": "stream",
     "text": [
      "10960 geometries retrieved from City of London\n",
      "Generated graph with 370 nodes and 536 edges\n",
      "Node features: ['metres', 'choice2km', 'nodecount2km', 'integration2km', 'choice10km', 'nodecount10km', 'integration10km', 'choice100km', 'nodecount100km', 'integration100km', 'choice2kmrank', 'choice10kmrank', 'integration10kmrank', 'integration2kmrank', 'choice2kmlog', 'choice10kmlog', 'choice100kmlog', 'x', 'y']\n",
      "Node target: None\n",
      "Edge attributes: {'u', 'v'}\n",
      "Loading graph of Newcastle-under-Lyme with key ('Newcastle-under-Lyme', \"['metres', 'choice2km', 'nodecount2km', 'integration2km', 'choice10km', 'nodecount10km', 'integration10km', 'choice100km', 'nodecount100km', 'integration100km', 'choice2kmrank', 'choice10kmrank', 'integration10kmrank', 'integration2kmrank', 'choice2kmlog', 'choice10kmlog', 'choice100kmlog']\", None, 'primal', 'False', True, 50, False)...\n",
      "Loading Newcastle-under-Lyme from SSx\n"
     ]
    },
    {
     "name": "stderr",
     "output_type": "stream",
     "text": [
      "/homes/wwc4618/predicting-choice/utils/remove_false_nodes.py:97: FutureWarning: The frame.append method is deprecated and will be removed from pandas in a future version. Use pandas.concat instead.\n",
      "  return df.append(\n"
     ]
    },
    {
     "name": "stdout",
     "output_type": "stream",
     "text": [
      "46520 geometries retrieved from Newcastle-under-Lyme\n",
      "Generated graph with 1661 nodes and 2235 edges\n",
      "Node features: ['metres', 'choice2km', 'nodecount2km', 'integration2km', 'choice10km', 'nodecount10km', 'integration10km', 'choice100km', 'nodecount100km', 'integration100km', 'choice2kmrank', 'choice10kmrank', 'integration10kmrank', 'integration2kmrank', 'choice2kmlog', 'choice10kmlog', 'choice100kmlog', 'x', 'y']\n",
      "Node target: None\n",
      "Edge attributes: {'u', 'v'}\n",
      "Loading graph of Stafford with key ('Stafford', \"['metres', 'choice2km', 'nodecount2km', 'integration2km', 'choice10km', 'nodecount10km', 'integration10km', 'choice100km', 'nodecount100km', 'integration100km', 'choice2kmrank', 'choice10kmrank', 'integration10kmrank', 'integration2kmrank', 'choice2kmlog', 'choice10kmlog', 'choice100kmlog']\", None, 'primal', 'False', True, 50, False)...\n",
      "Loading Stafford from SSx\n"
     ]
    },
    {
     "name": "stderr",
     "output_type": "stream",
     "text": [
      "/homes/wwc4618/predicting-choice/utils/remove_false_nodes.py:97: FutureWarning: The frame.append method is deprecated and will be removed from pandas in a future version. Use pandas.concat instead.\n",
      "  return df.append(\n"
     ]
    },
    {
     "name": "stdout",
     "output_type": "stream",
     "text": [
      "57560 geometries retrieved from Stafford\n",
      "Generated graph with 2118 nodes and 2777 edges\n",
      "Node features: ['metres', 'choice2km', 'nodecount2km', 'integration2km', 'choice10km', 'nodecount10km', 'integration10km', 'choice100km', 'nodecount100km', 'integration100km', 'choice2kmrank', 'choice10kmrank', 'integration10kmrank', 'integration2kmrank', 'choice2kmlog', 'choice10kmlog', 'choice100kmlog', 'x', 'y']\n",
      "Node target: None\n",
      "Edge attributes: {'u', 'v'}\n",
      "Loading graph of Stoke-on-Trent with key ('Stoke-on-Trent', \"['metres', 'choice2km', 'nodecount2km', 'integration2km', 'choice10km', 'nodecount10km', 'integration10km', 'choice100km', 'nodecount100km', 'integration100km', 'choice2kmrank', 'choice10kmrank', 'integration10kmrank', 'integration2kmrank', 'choice2kmlog', 'choice10kmlog', 'choice100kmlog']\", None, 'primal', 'False', True, 50, False)...\n",
      "Loading Stoke-on-Trent from SSx\n"
     ]
    },
    {
     "name": "stderr",
     "output_type": "stream",
     "text": [
      "/homes/wwc4618/predicting-choice/utils/remove_false_nodes.py:97: FutureWarning: The frame.append method is deprecated and will be removed from pandas in a future version. Use pandas.concat instead.\n",
      "  return df.append(\n"
     ]
    },
    {
     "name": "stdout",
     "output_type": "stream",
     "text": [
      "94640 geometries retrieved from Stoke-on-Trent\n",
      "Generated graph with 3235 nodes and 4572 edges\n",
      "Node features: ['metres', 'choice2km', 'nodecount2km', 'integration2km', 'choice10km', 'nodecount10km', 'integration10km', 'choice100km', 'nodecount100km', 'integration100km', 'choice2kmrank', 'choice10kmrank', 'integration10kmrank', 'integration2kmrank', 'choice2kmlog', 'choice10kmlog', 'choice100kmlog', 'x', 'y']\n",
      "Node target: None\n",
      "Edge attributes: {'u', 'v'}\n",
      "Loading graph of Arun with key ('Arun', \"['metres', 'choice2km', 'nodecount2km', 'integration2km', 'choice10km', 'nodecount10km', 'integration10km', 'choice100km', 'nodecount100km', 'integration100km', 'choice2kmrank', 'choice10kmrank', 'integration10kmrank', 'integration2kmrank', 'choice2kmlog', 'choice10kmlog', 'choice100kmlog']\", None, 'primal', 'False', True, 50, False)...\n",
      "Loading Arun from SSx\n"
     ]
    },
    {
     "name": "stderr",
     "output_type": "stream",
     "text": [
      "/homes/wwc4618/predicting-choice/utils/remove_false_nodes.py:97: FutureWarning: The frame.append method is deprecated and will be removed from pandas in a future version. Use pandas.concat instead.\n",
      "  return df.append(\n"
     ]
    },
    {
     "name": "stdout",
     "output_type": "stream",
     "text": [
      "43180 geometries retrieved from Arun\n",
      "Generated graph with 1562 nodes and 2099 edges\n",
      "Node features: ['metres', 'choice2km', 'nodecount2km', 'integration2km', 'choice10km', 'nodecount10km', 'integration10km', 'choice100km', 'nodecount100km', 'integration100km', 'choice2kmrank', 'choice10kmrank', 'integration10kmrank', 'integration2kmrank', 'choice2kmlog', 'choice10kmlog', 'choice100kmlog', 'x', 'y']\n",
      "Node target: None\n",
      "Edge attributes: {'u', 'v'}\n",
      "Loading graph of Lichfield with key ('Lichfield', \"['metres', 'choice2km', 'nodecount2km', 'integration2km', 'choice10km', 'nodecount10km', 'integration10km', 'choice100km', 'nodecount100km', 'integration100km', 'choice2kmrank', 'choice10kmrank', 'integration10kmrank', 'integration2kmrank', 'choice2kmlog', 'choice10kmlog', 'choice100kmlog']\", None, 'primal', 'False', True, 50, False)...\n",
      "Loading Lichfield from SSx\n"
     ]
    },
    {
     "name": "stderr",
     "output_type": "stream",
     "text": [
      "/homes/wwc4618/predicting-choice/utils/remove_false_nodes.py:97: FutureWarning: The frame.append method is deprecated and will be removed from pandas in a future version. Use pandas.concat instead.\n",
      "  return df.append(\n"
     ]
    },
    {
     "name": "stdout",
     "output_type": "stream",
     "text": [
      "37580 geometries retrieved from Lichfield\n",
      "Generated graph with 1381 nodes and 1819 edges\n",
      "Node features: ['metres', 'choice2km', 'nodecount2km', 'integration2km', 'choice10km', 'nodecount10km', 'integration10km', 'choice100km', 'nodecount100km', 'integration100km', 'choice2kmrank', 'choice10kmrank', 'integration10kmrank', 'integration2kmrank', 'choice2kmlog', 'choice10kmlog', 'choice100kmlog', 'x', 'y']\n",
      "Node target: None\n",
      "Edge attributes: {'u', 'v'}\n",
      "Loading graph of Sandwell with key ('Sandwell', \"['metres', 'choice2km', 'nodecount2km', 'integration2km', 'choice10km', 'nodecount10km', 'integration10km', 'choice100km', 'nodecount100km', 'integration100km', 'choice2kmrank', 'choice10kmrank', 'integration10kmrank', 'integration2kmrank', 'choice2kmlog', 'choice10kmlog', 'choice100kmlog']\", None, 'primal', 'False', True, 50, False)...\n",
      "Loading Sandwell from SSx\n"
     ]
    },
    {
     "name": "stderr",
     "output_type": "stream",
     "text": [
      "/homes/wwc4618/predicting-choice/utils/remove_false_nodes.py:97: FutureWarning: The frame.append method is deprecated and will be removed from pandas in a future version. Use pandas.concat instead.\n",
      "  return df.append(\n"
     ]
    },
    {
     "name": "stdout",
     "output_type": "stream",
     "text": [
      "89760 geometries retrieved from Sandwell\n",
      "Generated graph with 3048 nodes and 4347 edges\n",
      "Node features: ['metres', 'choice2km', 'nodecount2km', 'integration2km', 'choice10km', 'nodecount10km', 'integration10km', 'choice100km', 'nodecount100km', 'integration100km', 'choice2kmrank', 'choice10kmrank', 'integration10kmrank', 'integration2kmrank', 'choice2kmlog', 'choice10kmlog', 'choice100kmlog', 'x', 'y']\n",
      "Node target: None\n",
      "Edge attributes: {'u', 'v'}\n",
      "Loading graph of Birmingham with key ('Birmingham', \"['metres', 'choice2km', 'nodecount2km', 'integration2km', 'choice10km', 'nodecount10km', 'integration10km', 'choice100km', 'nodecount100km', 'integration100km', 'choice2kmrank', 'choice10kmrank', 'integration10kmrank', 'integration2kmrank', 'choice2kmlog', 'choice10kmlog', 'choice100kmlog']\", None, 'primal', 'False', True, 50, False)...\n",
      "Loading Birmingham from SSx\n"
     ]
    },
    {
     "name": "stderr",
     "output_type": "stream",
     "text": [
      "/homes/wwc4618/predicting-choice/utils/remove_false_nodes.py:97: FutureWarning: The frame.append method is deprecated and will be removed from pandas in a future version. Use pandas.concat instead.\n",
      "  return df.append(\n"
     ]
    },
    {
     "name": "stdout",
     "output_type": "stream",
     "text": [
      "230820 geometries retrieved from Birmingham\n",
      "Generated graph with 7829 nodes and 11246 edges\n",
      "Node features: ['metres', 'choice2km', 'nodecount2km', 'integration2km', 'choice10km', 'nodecount10km', 'integration10km', 'choice100km', 'nodecount100km', 'integration100km', 'choice2kmrank', 'choice10kmrank', 'integration10kmrank', 'integration2kmrank', 'choice2kmlog', 'choice10kmlog', 'choice100kmlog', 'x', 'y']\n",
      "Node target: None\n",
      "Edge attributes: {'u', 'v'}\n",
      "Loading graph of Amber Valley with key ('Amber Valley', \"['metres', 'choice2km', 'nodecount2km', 'integration2km', 'choice10km', 'nodecount10km', 'integration10km', 'choice100km', 'nodecount100km', 'integration100km', 'choice2kmrank', 'choice10kmrank', 'integration10kmrank', 'integration2kmrank', 'choice2kmlog', 'choice10kmlog', 'choice100kmlog']\", None, 'primal', 'False', True, 50, False)...\n",
      "Loading Amber Valley from SSx\n"
     ]
    },
    {
     "name": "stderr",
     "output_type": "stream",
     "text": [
      "/homes/wwc4618/predicting-choice/utils/remove_false_nodes.py:97: FutureWarning: The frame.append method is deprecated and will be removed from pandas in a future version. Use pandas.concat instead.\n",
      "  return df.append(\n"
     ]
    },
    {
     "name": "stdout",
     "output_type": "stream",
     "text": [
      "38960 geometries retrieved from Amber Valley\n",
      "Generated graph with 1442 nodes and 1892 edges\n",
      "Node features: ['metres', 'choice2km', 'nodecount2km', 'integration2km', 'choice10km', 'nodecount10km', 'integration10km', 'choice100km', 'nodecount100km', 'integration100km', 'choice2kmrank', 'choice10kmrank', 'integration10kmrank', 'integration2kmrank', 'choice2kmlog', 'choice10kmlog', 'choice100kmlog', 'x', 'y']\n",
      "Node target: None\n",
      "Edge attributes: {'u', 'v'}\n",
      "Loading graph of Mole Valley with key ('Mole Valley', \"['metres', 'choice2km', 'nodecount2km', 'integration2km', 'choice10km', 'nodecount10km', 'integration10km', 'choice100km', 'nodecount100km', 'integration100km', 'choice2kmrank', 'choice10kmrank', 'integration10kmrank', 'integration2kmrank', 'choice2kmlog', 'choice10kmlog', 'choice100kmlog']\", None, 'primal', 'False', True, 50, False)...\n",
      "Loading Mole Valley from SSx\n"
     ]
    },
    {
     "name": "stderr",
     "output_type": "stream",
     "text": [
      "/homes/wwc4618/predicting-choice/utils/remove_false_nodes.py:97: FutureWarning: The frame.append method is deprecated and will be removed from pandas in a future version. Use pandas.concat instead.\n",
      "  return df.append(\n"
     ]
    },
    {
     "name": "stdout",
     "output_type": "stream",
     "text": [
      "29380 geometries retrieved from Mole Valley\n",
      "Generated graph with 1128 nodes and 1411 edges\n",
      "Node features: ['metres', 'choice2km', 'nodecount2km', 'integration2km', 'choice10km', 'nodecount10km', 'integration10km', 'choice100km', 'nodecount100km', 'integration100km', 'choice2kmrank', 'choice10kmrank', 'integration10kmrank', 'integration2kmrank', 'choice2kmlog', 'choice10kmlog', 'choice100kmlog', 'x', 'y']\n",
      "Node target: None\n",
      "Edge attributes: {'u', 'v'}\n",
      "Loading graph of Bolsover with key ('Bolsover', \"['metres', 'choice2km', 'nodecount2km', 'integration2km', 'choice10km', 'nodecount10km', 'integration10km', 'choice100km', 'nodecount100km', 'integration100km', 'choice2kmrank', 'choice10kmrank', 'integration10kmrank', 'integration2kmrank', 'choice2kmlog', 'choice10kmlog', 'choice100kmlog']\", None, 'primal', 'False', True, 50, False)...\n",
      "Loading Bolsover from SSx\n"
     ]
    },
    {
     "name": "stderr",
     "output_type": "stream",
     "text": [
      "/homes/wwc4618/predicting-choice/utils/remove_false_nodes.py:97: FutureWarning: The frame.append method is deprecated and will be removed from pandas in a future version. Use pandas.concat instead.\n",
      "  return df.append(\n"
     ]
    },
    {
     "name": "stdout",
     "output_type": "stream",
     "text": [
      "28120 geometries retrieved from Bolsover\n",
      "Generated graph with 1026 nodes and 1359 edges\n",
      "Node features: ['metres', 'choice2km', 'nodecount2km', 'integration2km', 'choice10km', 'nodecount10km', 'integration10km', 'choice100km', 'nodecount100km', 'integration100km', 'choice2kmrank', 'choice10kmrank', 'integration10kmrank', 'integration2kmrank', 'choice2kmlog', 'choice10kmlog', 'choice100kmlog', 'x', 'y']\n",
      "Node target: None\n",
      "Edge attributes: {'u', 'v'}\n",
      "Loading graph of Rushcliffe with key ('Rushcliffe', \"['metres', 'choice2km', 'nodecount2km', 'integration2km', 'choice10km', 'nodecount10km', 'integration10km', 'choice100km', 'nodecount100km', 'integration100km', 'choice2kmrank', 'choice10kmrank', 'integration10kmrank', 'integration2kmrank', 'choice2kmlog', 'choice10kmlog', 'choice100kmlog']\", None, 'primal', 'False', True, 50, False)...\n",
      "Loading Rushcliffe from SSx\n"
     ]
    },
    {
     "name": "stderr",
     "output_type": "stream",
     "text": [
      "/homes/wwc4618/predicting-choice/utils/remove_false_nodes.py:97: FutureWarning: The frame.append method is deprecated and will be removed from pandas in a future version. Use pandas.concat instead.\n",
      "  return df.append(\n"
     ]
    },
    {
     "name": "stdout",
     "output_type": "stream",
     "text": [
      "40000 geometries retrieved from Rushcliffe\n",
      "Generated graph with 1477 nodes and 1946 edges\n",
      "Node features: ['metres', 'choice2km', 'nodecount2km', 'integration2km', 'choice10km', 'nodecount10km', 'integration10km', 'choice100km', 'nodecount100km', 'integration100km', 'choice2kmrank', 'choice10kmrank', 'integration10kmrank', 'integration2kmrank', 'choice2kmlog', 'choice10kmlog', 'choice100kmlog', 'x', 'y']\n",
      "Node target: None\n",
      "Edge attributes: {'u', 'v'}\n",
      "Loading graph of Wychavon with key ('Wychavon', \"['metres', 'choice2km', 'nodecount2km', 'integration2km', 'choice10km', 'nodecount10km', 'integration10km', 'choice100km', 'nodecount100km', 'integration100km', 'choice2kmrank', 'choice10kmrank', 'integration10kmrank', 'integration2kmrank', 'choice2kmlog', 'choice10kmlog', 'choice100kmlog']\", None, 'primal', 'False', True, 50, False)...\n",
      "Loading Wychavon from SSx\n"
     ]
    },
    {
     "name": "stderr",
     "output_type": "stream",
     "text": [
      "/homes/wwc4618/predicting-choice/utils/remove_false_nodes.py:97: FutureWarning: The frame.append method is deprecated and will be removed from pandas in a future version. Use pandas.concat instead.\n",
      "  return df.append(\n"
     ]
    },
    {
     "name": "stdout",
     "output_type": "stream",
     "text": [
      "47780 geometries retrieved from Wychavon\n",
      "Generated graph with 1840 nodes and 2329 edges\n",
      "Node features: ['metres', 'choice2km', 'nodecount2km', 'integration2km', 'choice10km', 'nodecount10km', 'integration10km', 'choice100km', 'nodecount100km', 'integration100km', 'choice2kmrank', 'choice10kmrank', 'integration10kmrank', 'integration2kmrank', 'choice2kmlog', 'choice10kmlog', 'choice100kmlog', 'x', 'y']\n",
      "Node target: None\n",
      "Edge attributes: {'u', 'v'}\n",
      "Loading graph of Gedling with key ('Gedling', \"['metres', 'choice2km', 'nodecount2km', 'integration2km', 'choice10km', 'nodecount10km', 'integration10km', 'choice100km', 'nodecount100km', 'integration100km', 'choice2kmrank', 'choice10kmrank', 'integration10kmrank', 'integration2kmrank', 'choice2kmlog', 'choice10kmlog', 'choice100kmlog']\", None, 'primal', 'False', True, 50, False)...\n",
      "Loading Gedling from SSx\n"
     ]
    },
    {
     "name": "stderr",
     "output_type": "stream",
     "text": [
      "/homes/wwc4618/predicting-choice/utils/remove_false_nodes.py:97: FutureWarning: The frame.append method is deprecated and will be removed from pandas in a future version. Use pandas.concat instead.\n",
      "  return df.append(\n"
     ]
    },
    {
     "name": "stdout",
     "output_type": "stream",
     "text": [
      "34480 geometries retrieved from Gedling\n",
      "Generated graph with 1178 nodes and 1599 edges\n",
      "Node features: ['metres', 'choice2km', 'nodecount2km', 'integration2km', 'choice10km', 'nodecount10km', 'integration10km', 'choice100km', 'nodecount100km', 'integration100km', 'choice2kmrank', 'choice10kmrank', 'integration10kmrank', 'integration2kmrank', 'choice2kmlog', 'choice10kmlog', 'choice100kmlog', 'x', 'y']\n",
      "Node target: None\n",
      "Edge attributes: {'u', 'v'}\n",
      "Loading graph of Gloucester with key ('Gloucester', \"['metres', 'choice2km', 'nodecount2km', 'integration2km', 'choice10km', 'nodecount10km', 'integration10km', 'choice100km', 'nodecount100km', 'integration100km', 'choice2kmrank', 'choice10kmrank', 'integration10kmrank', 'integration2kmrank', 'choice2kmlog', 'choice10kmlog', 'choice100kmlog']\", None, 'primal', 'False', True, 50, False)...\n",
      "Loading Gloucester from SSx\n"
     ]
    },
    {
     "name": "stderr",
     "output_type": "stream",
     "text": [
      "/homes/wwc4618/predicting-choice/utils/remove_false_nodes.py:97: FutureWarning: The frame.append method is deprecated and will be removed from pandas in a future version. Use pandas.concat instead.\n",
      "  return df.append(\n"
     ]
    },
    {
     "name": "stdout",
     "output_type": "stream",
     "text": [
      "29140 geometries retrieved from Gloucester\n",
      "Generated graph with 1095 nodes and 1431 edges\n",
      "Node features: ['metres', 'choice2km', 'nodecount2km', 'integration2km', 'choice10km', 'nodecount10km', 'integration10km', 'choice100km', 'nodecount100km', 'integration100km', 'choice2kmrank', 'choice10kmrank', 'integration10kmrank', 'integration2kmrank', 'choice2kmlog', 'choice10kmlog', 'choice100kmlog', 'x', 'y']\n",
      "Node target: None\n",
      "Edge attributes: {'u', 'v'}\n",
      "Loading graph of Liverpool with key ('Liverpool', \"['metres', 'choice2km', 'nodecount2km', 'integration2km', 'choice10km', 'nodecount10km', 'integration10km', 'choice100km', 'nodecount100km', 'integration100km', 'choice2kmrank', 'choice10kmrank', 'integration10kmrank', 'integration2kmrank', 'choice2kmlog', 'choice10kmlog', 'choice100kmlog']\", None, 'primal', 'False', True, 50, False)...\n",
      "Loading Liverpool from SSx\n"
     ]
    },
    {
     "name": "stderr",
     "output_type": "stream",
     "text": [
      "/homes/wwc4618/predicting-choice/utils/remove_false_nodes.py:97: FutureWarning: The frame.append method is deprecated and will be removed from pandas in a future version. Use pandas.concat instead.\n",
      "  return df.append(\n"
     ]
    },
    {
     "name": "stdout",
     "output_type": "stream",
     "text": [
      "177000 geometries retrieved from Liverpool\n",
      "Generated graph with 5882 nodes and 8627 edges\n",
      "Node features: ['metres', 'choice2km', 'nodecount2km', 'integration2km', 'choice10km', 'nodecount10km', 'integration10km', 'choice100km', 'nodecount100km', 'integration100km', 'choice2kmrank', 'choice10kmrank', 'integration10kmrank', 'integration2kmrank', 'choice2kmlog', 'choice10kmlog', 'choice100kmlog', 'x', 'y']\n",
      "Node target: None\n",
      "Edge attributes: {'u', 'v'}\n",
      "Loading graph of Newark and Sherwood with key ('Newark and Sherwood', \"['metres', 'choice2km', 'nodecount2km', 'integration2km', 'choice10km', 'nodecount10km', 'integration10km', 'choice100km', 'nodecount100km', 'integration100km', 'choice2kmrank', 'choice10kmrank', 'integration10kmrank', 'integration2kmrank', 'choice2kmlog', 'choice10kmlog', 'choice100kmlog']\", None, 'primal', 'False', True, 50, False)...\n",
      "Loading Newark and Sherwood from SSx\n"
     ]
    },
    {
     "name": "stderr",
     "output_type": "stream",
     "text": [
      "/homes/wwc4618/predicting-choice/utils/remove_false_nodes.py:97: FutureWarning: The frame.append method is deprecated and will be removed from pandas in a future version. Use pandas.concat instead.\n",
      "  return df.append(\n"
     ]
    },
    {
     "name": "stdout",
     "output_type": "stream",
     "text": [
      "49920 geometries retrieved from Newark and Sherwood\n",
      "Generated graph with 1871 nodes and 2437 edges\n",
      "Node features: ['metres', 'choice2km', 'nodecount2km', 'integration2km', 'choice10km', 'nodecount10km', 'integration10km', 'choice100km', 'nodecount100km', 'integration100km', 'choice2kmrank', 'choice10kmrank', 'integration10kmrank', 'integration2kmrank', 'choice2kmlog', 'choice10kmlog', 'choice100kmlog', 'x', 'y']\n",
      "Node target: None\n",
      "Edge attributes: {'u', 'v'}\n",
      "Loading graph of Sefton with key ('Sefton', \"['metres', 'choice2km', 'nodecount2km', 'integration2km', 'choice10km', 'nodecount10km', 'integration10km', 'choice100km', 'nodecount100km', 'integration100km', 'choice2kmrank', 'choice10kmrank', 'integration10kmrank', 'integration2kmrank', 'choice2kmlog', 'choice10kmlog', 'choice100kmlog']\", None, 'primal', 'False', True, 50, False)...\n",
      "Loading Sefton from SSx\n"
     ]
    },
    {
     "name": "stderr",
     "output_type": "stream",
     "text": [
      "/homes/wwc4618/predicting-choice/utils/remove_false_nodes.py:97: FutureWarning: The frame.append method is deprecated and will be removed from pandas in a future version. Use pandas.concat instead.\n",
      "  return df.append(\n"
     ]
    },
    {
     "name": "stdout",
     "output_type": "stream",
     "text": [
      "99260 geometries retrieved from Sefton\n",
      "Generated graph with 3353 nodes and 4835 edges\n",
      "Node features: ['metres', 'choice2km', 'nodecount2km', 'integration2km', 'choice10km', 'nodecount10km', 'integration10km', 'choice100km', 'nodecount100km', 'integration100km', 'choice2kmrank', 'choice10kmrank', 'integration10kmrank', 'integration2kmrank', 'choice2kmlog', 'choice10kmlog', 'choice100kmlog', 'x', 'y']\n",
      "Node target: None\n",
      "Edge attributes: {'u', 'v'}\n",
      "Loading graph of St. Helens with key ('St. Helens', \"['metres', 'choice2km', 'nodecount2km', 'integration2km', 'choice10km', 'nodecount10km', 'integration10km', 'choice100km', 'nodecount100km', 'integration100km', 'choice2kmrank', 'choice10kmrank', 'integration10kmrank', 'integration2kmrank', 'choice2kmlog', 'choice10kmlog', 'choice100kmlog']\", None, 'primal', 'False', True, 50, False)...\n",
      "Loading St. Helens from SSx\n"
     ]
    },
    {
     "name": "stderr",
     "output_type": "stream",
     "text": [
      "/homes/wwc4618/predicting-choice/utils/remove_false_nodes.py:97: FutureWarning: The frame.append method is deprecated and will be removed from pandas in a future version. Use pandas.concat instead.\n",
      "  return df.append(\n"
     ]
    },
    {
     "name": "stdout",
     "output_type": "stream",
     "text": [
      "69480 geometries retrieved from St. Helens\n",
      "Generated graph with 2395 nodes and 3369 edges\n",
      "Node features: ['metres', 'choice2km', 'nodecount2km', 'integration2km', 'choice10km', 'nodecount10km', 'integration10km', 'choice100km', 'nodecount100km', 'integration100km', 'choice2kmrank', 'choice10kmrank', 'integration10kmrank', 'integration2kmrank', 'choice2kmlog', 'choice10kmlog', 'choice100kmlog', 'x', 'y']\n",
      "Node target: None\n",
      "Edge attributes: {'u', 'v'}\n",
      "Loading graph of Worcester with key ('Worcester', \"['metres', 'choice2km', 'nodecount2km', 'integration2km', 'choice10km', 'nodecount10km', 'integration10km', 'choice100km', 'nodecount100km', 'integration100km', 'choice2kmrank', 'choice10kmrank', 'integration10kmrank', 'integration2kmrank', 'choice2kmlog', 'choice10kmlog', 'choice100kmlog']\", None, 'primal', 'False', True, 50, False)...\n",
      "Loading Worcester from SSx\n"
     ]
    },
    {
     "name": "stderr",
     "output_type": "stream",
     "text": [
      "/homes/wwc4618/predicting-choice/utils/remove_false_nodes.py:97: FutureWarning: The frame.append method is deprecated and will be removed from pandas in a future version. Use pandas.concat instead.\n",
      "  return df.append(\n"
     ]
    },
    {
     "name": "stdout",
     "output_type": "stream",
     "text": [
      "25620 geometries retrieved from Worcester\n",
      "Generated graph with 932 nodes and 1253 edges\n",
      "Node features: ['metres', 'choice2km', 'nodecount2km', 'integration2km', 'choice10km', 'nodecount10km', 'integration10km', 'choice100km', 'nodecount100km', 'integration100km', 'choice2kmrank', 'choice10kmrank', 'integration10kmrank', 'integration2kmrank', 'choice2kmlog', 'choice10kmlog', 'choice100kmlog', 'x', 'y']\n",
      "Node target: None\n",
      "Edge attributes: {'u', 'v'}\n",
      "Loading graph of Flintshire with key ('Flintshire', \"['metres', 'choice2km', 'nodecount2km', 'integration2km', 'choice10km', 'nodecount10km', 'integration10km', 'choice100km', 'nodecount100km', 'integration100km', 'choice2kmrank', 'choice10kmrank', 'integration10kmrank', 'integration2kmrank', 'choice2kmlog', 'choice10kmlog', 'choice100kmlog']\", None, 'primal', 'False', True, 50, False)...\n",
      "Loading Flintshire from SSx\n"
     ]
    },
    {
     "name": "stderr",
     "output_type": "stream",
     "text": [
      "/homes/wwc4618/predicting-choice/utils/remove_false_nodes.py:97: FutureWarning: The frame.append method is deprecated and will be removed from pandas in a future version. Use pandas.concat instead.\n",
      "  return df.append(\n"
     ]
    },
    {
     "name": "stdout",
     "output_type": "stream",
     "text": [
      "67940 geometries retrieved from Flintshire\n",
      "Generated graph with 2448 nodes and 3281 edges\n",
      "Node features: ['metres', 'choice2km', 'nodecount2km', 'integration2km', 'choice10km', 'nodecount10km', 'integration10km', 'choice100km', 'nodecount100km', 'integration100km', 'choice2kmrank', 'choice10kmrank', 'integration10kmrank', 'integration2kmrank', 'choice2kmlog', 'choice10kmlog', 'choice100kmlog', 'x', 'y']\n",
      "Node target: None\n",
      "Edge attributes: {'u', 'v'}\n",
      "Loading graph of Bassetlaw with key ('Bassetlaw', \"['metres', 'choice2km', 'nodecount2km', 'integration2km', 'choice10km', 'nodecount10km', 'integration10km', 'choice100km', 'nodecount100km', 'integration100km', 'choice2kmrank', 'choice10kmrank', 'integration10kmrank', 'integration2kmrank', 'choice2kmlog', 'choice10kmlog', 'choice100kmlog']\", None, 'primal', 'False', True, 50, False)...\n",
      "Loading Bassetlaw from SSx\n"
     ]
    },
    {
     "name": "stderr",
     "output_type": "stream",
     "text": [
      "/homes/wwc4618/predicting-choice/utils/remove_false_nodes.py:97: FutureWarning: The frame.append method is deprecated and will be removed from pandas in a future version. Use pandas.concat instead.\n",
      "  return df.append(\n"
     ]
    },
    {
     "name": "stdout",
     "output_type": "stream",
     "text": [
      "51360 geometries retrieved from Bassetlaw\n",
      "Generated graph with 1922 nodes and 2496 edges\n",
      "Node features: ['metres', 'choice2km', 'nodecount2km', 'integration2km', 'choice10km', 'nodecount10km', 'integration10km', 'choice100km', 'nodecount100km', 'integration100km', 'choice2kmrank', 'choice10kmrank', 'integration10kmrank', 'integration2kmrank', 'choice2kmlog', 'choice10kmlog', 'choice100kmlog', 'x', 'y']\n",
      "Node target: None\n",
      "Edge attributes: {'u', 'v'}\n",
      "Loading graph of Knowsley with key ('Knowsley', \"['metres', 'choice2km', 'nodecount2km', 'integration2km', 'choice10km', 'nodecount10km', 'integration10km', 'choice100km', 'nodecount100km', 'integration100km', 'choice2kmrank', 'choice10kmrank', 'integration10kmrank', 'integration2kmrank', 'choice2kmlog', 'choice10kmlog', 'choice100kmlog']\", None, 'primal', 'False', True, 50, False)...\n",
      "Loading Knowsley from SSx\n"
     ]
    },
    {
     "name": "stderr",
     "output_type": "stream",
     "text": [
      "/homes/wwc4618/predicting-choice/utils/remove_false_nodes.py:97: FutureWarning: The frame.append method is deprecated and will be removed from pandas in a future version. Use pandas.concat instead.\n",
      "  return df.append(\n"
     ]
    },
    {
     "name": "stdout",
     "output_type": "stream",
     "text": [
      "48320 geometries retrieved from Knowsley\n",
      "Generated graph with 1708 nodes and 2310 edges\n",
      "Node features: ['metres', 'choice2km', 'nodecount2km', 'integration2km', 'choice10km', 'nodecount10km', 'integration10km', 'choice100km', 'nodecount100km', 'integration100km', 'choice2kmrank', 'choice10kmrank', 'integration10kmrank', 'integration2kmrank', 'choice2kmlog', 'choice10kmlog', 'choice100kmlog', 'x', 'y']\n",
      "Node target: None\n",
      "Edge attributes: {'u', 'v'}\n",
      "Loading graph of Wyre Forest with key ('Wyre Forest', \"['metres', 'choice2km', 'nodecount2km', 'integration2km', 'choice10km', 'nodecount10km', 'integration10km', 'choice100km', 'nodecount100km', 'integration100km', 'choice2kmrank', 'choice10kmrank', 'integration10kmrank', 'integration2kmrank', 'choice2kmlog', 'choice10kmlog', 'choice100kmlog']\", None, 'primal', 'False', True, 50, False)...\n",
      "Loading Wyre Forest from SSx\n"
     ]
    },
    {
     "name": "stderr",
     "output_type": "stream",
     "text": [
      "/homes/wwc4618/predicting-choice/utils/remove_false_nodes.py:97: FutureWarning: The frame.append method is deprecated and will be removed from pandas in a future version. Use pandas.concat instead.\n",
      "  return df.append(\n"
     ]
    },
    {
     "name": "stdout",
     "output_type": "stream",
     "text": [
      "31100 geometries retrieved from Wyre Forest\n",
      "Generated graph with 1169 nodes and 1507 edges\n",
      "Node features: ['metres', 'choice2km', 'nodecount2km', 'integration2km', 'choice10km', 'nodecount10km', 'integration10km', 'choice100km', 'nodecount100km', 'integration100km', 'choice2kmrank', 'choice10kmrank', 'integration10kmrank', 'integration2kmrank', 'choice2kmlog', 'choice10kmlog', 'choice100kmlog', 'x', 'y']\n",
      "Node target: None\n",
      "Edge attributes: {'u', 'v'}\n",
      "Loading graph of Bromsgrove with key ('Bromsgrove', \"['metres', 'choice2km', 'nodecount2km', 'integration2km', 'choice10km', 'nodecount10km', 'integration10km', 'choice100km', 'nodecount100km', 'integration100km', 'choice2kmrank', 'choice10kmrank', 'integration10kmrank', 'integration2kmrank', 'choice2kmlog', 'choice10kmlog', 'choice100kmlog']\", None, 'primal', 'False', True, 50, False)...\n",
      "Loading Bromsgrove from SSx\n"
     ]
    },
    {
     "name": "stderr",
     "output_type": "stream",
     "text": [
      "/homes/wwc4618/predicting-choice/utils/remove_false_nodes.py:97: FutureWarning: The frame.append method is deprecated and will be removed from pandas in a future version. Use pandas.concat instead.\n",
      "  return df.append(\n"
     ]
    },
    {
     "name": "stdout",
     "output_type": "stream",
     "text": [
      "33960 geometries retrieved from Bromsgrove\n",
      "Generated graph with 1227 nodes and 1646 edges\n",
      "Node features: ['metres', 'choice2km', 'nodecount2km', 'integration2km', 'choice10km', 'nodecount10km', 'integration10km', 'choice100km', 'nodecount100km', 'integration100km', 'choice2kmrank', 'choice10kmrank', 'integration10kmrank', 'integration2kmrank', 'choice2kmlog', 'choice10kmlog', 'choice100kmlog', 'x', 'y']\n",
      "Node target: None\n",
      "Edge attributes: {'u', 'v'}\n",
      "Loading graph of Denbighshire with key ('Denbighshire', \"['metres', 'choice2km', 'nodecount2km', 'integration2km', 'choice10km', 'nodecount10km', 'integration10km', 'choice100km', 'nodecount100km', 'integration100km', 'choice2kmrank', 'choice10kmrank', 'integration10kmrank', 'integration2kmrank', 'choice2kmlog', 'choice10kmlog', 'choice100kmlog']\", None, 'primal', 'False', True, 50, False)...\n",
      "Loading Denbighshire from SSx\n"
     ]
    },
    {
     "name": "stderr",
     "output_type": "stream",
     "text": [
      "/homes/wwc4618/predicting-choice/utils/remove_false_nodes.py:97: FutureWarning: The frame.append method is deprecated and will be removed from pandas in a future version. Use pandas.concat instead.\n",
      "  return df.append(\n"
     ]
    },
    {
     "name": "stdout",
     "output_type": "stream",
     "text": [
      "63480 geometries retrieved from Denbighshire\n",
      "Generated graph with 2324 nodes and 3102 edges\n",
      "Node features: ['metres', 'choice2km', 'nodecount2km', 'integration2km', 'choice10km', 'nodecount10km', 'integration10km', 'choice100km', 'nodecount100km', 'integration100km', 'choice2kmrank', 'choice10kmrank', 'integration10kmrank', 'integration2kmrank', 'choice2kmlog', 'choice10kmlog', 'choice100kmlog', 'x', 'y']\n",
      "Node target: None\n",
      "Edge attributes: {'u', 'v'}\n",
      "Loading graph of Herefordshire, County of with key ('Herefordshire, County of', \"['metres', 'choice2km', 'nodecount2km', 'integration2km', 'choice10km', 'nodecount10km', 'integration10km', 'choice100km', 'nodecount100km', 'integration100km', 'choice2kmrank', 'choice10kmrank', 'integration10kmrank', 'integration2kmrank', 'choice2kmlog', 'choice10kmlog', 'choice100kmlog']\", None, 'primal', 'False', True, 50, False)...\n",
      "Loading Herefordshire, County of from SSx\n"
     ]
    },
    {
     "name": "stderr",
     "output_type": "stream",
     "text": [
      "/homes/wwc4618/predicting-choice/utils/remove_false_nodes.py:97: FutureWarning: The frame.append method is deprecated and will be removed from pandas in a future version. Use pandas.concat instead.\n",
      "  return df.append(\n"
     ]
    },
    {
     "name": "stdout",
     "output_type": "stream",
     "text": [
      "108240 geometries retrieved from Herefordshire, County of\n",
      "Generated graph with 4082 nodes and 5294 edges\n",
      "Node features: ['metres', 'choice2km', 'nodecount2km', 'integration2km', 'choice10km', 'nodecount10km', 'integration10km', 'choice100km', 'nodecount100km', 'integration100km', 'choice2kmrank', 'choice10kmrank', 'integration10kmrank', 'integration2kmrank', 'choice2kmlog', 'choice10kmlog', 'choice100kmlog', 'x', 'y']\n",
      "Node target: None\n",
      "Edge attributes: {'u', 'v'}\n",
      "Loading graph of Rotherham with key ('Rotherham', \"['metres', 'choice2km', 'nodecount2km', 'integration2km', 'choice10km', 'nodecount10km', 'integration10km', 'choice100km', 'nodecount100km', 'integration100km', 'choice2kmrank', 'choice10kmrank', 'integration10kmrank', 'integration2kmrank', 'choice2kmlog', 'choice10kmlog', 'choice100kmlog']\", None, 'primal', 'False', True, 50, False)...\n",
      "Loading Rotherham from SSx\n"
     ]
    },
    {
     "name": "stderr",
     "output_type": "stream",
     "text": [
      "/homes/wwc4618/predicting-choice/utils/remove_false_nodes.py:97: FutureWarning: The frame.append method is deprecated and will be removed from pandas in a future version. Use pandas.concat instead.\n",
      "  return df.append(\n"
     ]
    },
    {
     "name": "stdout",
     "output_type": "stream",
     "text": [
      "95680 geometries retrieved from Rotherham\n",
      "Generated graph with 3344 nodes and 4567 edges\n",
      "Node features: ['metres', 'choice2km', 'nodecount2km', 'integration2km', 'choice10km', 'nodecount10km', 'integration10km', 'choice100km', 'nodecount100km', 'integration100km', 'choice2kmrank', 'choice10kmrank', 'integration10kmrank', 'integration2kmrank', 'choice2kmlog', 'choice10kmlog', 'choice100kmlog', 'x', 'y']\n",
      "Node target: None\n",
      "Edge attributes: {'u', 'v'}\n",
      "Loading graph of Chesterfield with key ('Chesterfield', \"['metres', 'choice2km', 'nodecount2km', 'integration2km', 'choice10km', 'nodecount10km', 'integration10km', 'choice100km', 'nodecount100km', 'integration100km', 'choice2kmrank', 'choice10kmrank', 'integration10kmrank', 'integration2kmrank', 'choice2kmlog', 'choice10kmlog', 'choice100kmlog']\", None, 'primal', 'False', True, 50, False)...\n",
      "Loading Chesterfield from SSx\n"
     ]
    },
    {
     "name": "stderr",
     "output_type": "stream",
     "text": [
      "/homes/wwc4618/predicting-choice/utils/remove_false_nodes.py:97: FutureWarning: The frame.append method is deprecated and will be removed from pandas in a future version. Use pandas.concat instead.\n",
      "  return df.append(\n"
     ]
    },
    {
     "name": "stdout",
     "output_type": "stream",
     "text": [
      "38580 geometries retrieved from Chesterfield\n",
      "Generated graph with 1351 nodes and 1849 edges\n",
      "Node features: ['metres', 'choice2km', 'nodecount2km', 'integration2km', 'choice10km', 'nodecount10km', 'integration10km', 'choice100km', 'nodecount100km', 'integration100km', 'choice2kmrank', 'choice10kmrank', 'integration10kmrank', 'integration2kmrank', 'choice2kmlog', 'choice10kmlog', 'choice100kmlog', 'x', 'y']\n",
      "Node target: None\n",
      "Edge attributes: {'u', 'v'}\n",
      "Loading graph of Barnet with key ('Barnet', \"['metres', 'choice2km', 'nodecount2km', 'integration2km', 'choice10km', 'nodecount10km', 'integration10km', 'choice100km', 'nodecount100km', 'integration100km', 'choice2kmrank', 'choice10kmrank', 'integration10kmrank', 'integration2kmrank', 'choice2kmlog', 'choice10kmlog', 'choice100kmlog']\", None, 'primal', 'False', True, 50, False)...\n",
      "Loading Barnet from SSx\n"
     ]
    },
    {
     "name": "stderr",
     "output_type": "stream",
     "text": [
      "/homes/wwc4618/predicting-choice/utils/remove_false_nodes.py:97: FutureWarning: The frame.append method is deprecated and will be removed from pandas in a future version. Use pandas.concat instead.\n",
      "  return df.append(\n"
     ]
    },
    {
     "name": "stdout",
     "output_type": "stream",
     "text": [
      "78180 geometries retrieved from Barnet\n",
      "Generated graph with 2676 nodes and 3781 edges\n",
      "Node features: ['metres', 'choice2km', 'nodecount2km', 'integration2km', 'choice10km', 'nodecount10km', 'integration10km', 'choice100km', 'nodecount100km', 'integration100km', 'choice2kmrank', 'choice10kmrank', 'integration10kmrank', 'integration2kmrank', 'choice2kmlog', 'choice10kmlog', 'choice100kmlog', 'x', 'y']\n",
      "Node target: None\n",
      "Edge attributes: {'u', 'v'}\n",
      "Loading graph of Monmouthshire with key ('Monmouthshire', \"['metres', 'choice2km', 'nodecount2km', 'integration2km', 'choice10km', 'nodecount10km', 'integration10km', 'choice100km', 'nodecount100km', 'integration100km', 'choice2kmrank', 'choice10kmrank', 'integration10kmrank', 'integration2kmrank', 'choice2kmlog', 'choice10kmlog', 'choice100kmlog']\", None, 'primal', 'False', True, 50, False)...\n",
      "Loading Monmouthshire from SSx\n"
     ]
    },
    {
     "name": "stderr",
     "output_type": "stream",
     "text": [
      "/homes/wwc4618/predicting-choice/utils/remove_false_nodes.py:97: FutureWarning: The frame.append method is deprecated and will be removed from pandas in a future version. Use pandas.concat instead.\n",
      "  return df.append(\n"
     ]
    },
    {
     "name": "stdout",
     "output_type": "stream",
     "text": [
      "60500 geometries retrieved from Monmouthshire\n",
      "Generated graph with 2280 nodes and 2967 edges\n",
      "Node features: ['metres', 'choice2km', 'nodecount2km', 'integration2km', 'choice10km', 'nodecount10km', 'integration10km', 'choice100km', 'nodecount100km', 'integration100km', 'choice2kmrank', 'choice10kmrank', 'integration10kmrank', 'integration2kmrank', 'choice2kmlog', 'choice10kmlog', 'choice100kmlog', 'x', 'y']\n",
      "Node target: None\n",
      "Edge attributes: {'u', 'v'}\n",
      "Loading graph of Cheltenham with key ('Cheltenham', \"['metres', 'choice2km', 'nodecount2km', 'integration2km', 'choice10km', 'nodecount10km', 'integration10km', 'choice100km', 'nodecount100km', 'integration100km', 'choice2kmrank', 'choice10kmrank', 'integration10kmrank', 'integration2kmrank', 'choice2kmlog', 'choice10kmlog', 'choice100kmlog']\", None, 'primal', 'False', True, 50, False)...\n",
      "Loading Cheltenham from SSx\n"
     ]
    },
    {
     "name": "stderr",
     "output_type": "stream",
     "text": [
      "/homes/wwc4618/predicting-choice/utils/remove_false_nodes.py:97: FutureWarning: The frame.append method is deprecated and will be removed from pandas in a future version. Use pandas.concat instead.\n",
      "  return df.append(\n"
     ]
    },
    {
     "name": "stdout",
     "output_type": "stream",
     "text": [
      "34640 geometries retrieved from Cheltenham\n",
      "Generated graph with 1221 nodes and 1674 edges\n",
      "Node features: ['metres', 'choice2km', 'nodecount2km', 'integration2km', 'choice10km', 'nodecount10km', 'integration10km', 'choice100km', 'nodecount100km', 'integration100km', 'choice2kmrank', 'choice10kmrank', 'integration10kmrank', 'integration2kmrank', 'choice2kmlog', 'choice10kmlog', 'choice100kmlog', 'x', 'y']\n",
      "Node target: None\n",
      "Edge attributes: {'u', 'v'}\n",
      "Loading graph of Spelthorne with key ('Spelthorne', \"['metres', 'choice2km', 'nodecount2km', 'integration2km', 'choice10km', 'nodecount10km', 'integration10km', 'choice100km', 'nodecount100km', 'integration100km', 'choice2kmrank', 'choice10kmrank', 'integration10kmrank', 'integration2kmrank', 'choice2kmlog', 'choice10kmlog', 'choice100kmlog']\", None, 'primal', 'False', True, 50, False)...\n",
      "Loading Spelthorne from SSx\n"
     ]
    },
    {
     "name": "stderr",
     "output_type": "stream",
     "text": [
      "/homes/wwc4618/predicting-choice/utils/remove_false_nodes.py:97: FutureWarning: The frame.append method is deprecated and will be removed from pandas in a future version. Use pandas.concat instead.\n",
      "  return df.append(\n"
     ]
    },
    {
     "name": "stdout",
     "output_type": "stream",
     "text": [
      "28440 geometries retrieved from Spelthorne\n",
      "Generated graph with 1008 nodes and 1359 edges\n",
      "Node features: ['metres', 'choice2km', 'nodecount2km', 'integration2km', 'choice10km', 'nodecount10km', 'integration10km', 'choice100km', 'nodecount100km', 'integration100km', 'choice2kmrank', 'choice10kmrank', 'integration10kmrank', 'integration2kmrank', 'choice2kmlog', 'choice10kmlog', 'choice100kmlog', 'x', 'y']\n",
      "Node target: None\n",
      "Edge attributes: {'u', 'v'}\n",
      "Loading graph of Sutton with key ('Sutton', \"['metres', 'choice2km', 'nodecount2km', 'integration2km', 'choice10km', 'nodecount10km', 'integration10km', 'choice100km', 'nodecount100km', 'integration100km', 'choice2kmrank', 'choice10kmrank', 'integration10kmrank', 'integration2kmrank', 'choice2kmlog', 'choice10kmlog', 'choice100kmlog']\", None, 'primal', 'False', True, 50, False)...\n",
      "Loading Sutton from SSx\n"
     ]
    },
    {
     "name": "stderr",
     "output_type": "stream",
     "text": [
      "/homes/wwc4618/predicting-choice/utils/remove_false_nodes.py:97: FutureWarning: The frame.append method is deprecated and will be removed from pandas in a future version. Use pandas.concat instead.\n",
      "  return df.append(\n"
     ]
    },
    {
     "name": "stdout",
     "output_type": "stream",
     "text": [
      "43920 geometries retrieved from Sutton\n",
      "Generated graph with 1481 nodes and 2101 edges\n",
      "Node features: ['metres', 'choice2km', 'nodecount2km', 'integration2km', 'choice10km', 'nodecount10km', 'integration10km', 'choice100km', 'nodecount100km', 'integration100km', 'choice2kmrank', 'choice10kmrank', 'integration10kmrank', 'integration2kmrank', 'choice2kmlog', 'choice10kmlog', 'choice100kmlog', 'x', 'y']\n",
      "Node target: None\n",
      "Edge attributes: {'u', 'v'}\n",
      "Loading graph of Cheshire East with key ('Cheshire East', \"['metres', 'choice2km', 'nodecount2km', 'integration2km', 'choice10km', 'nodecount10km', 'integration10km', 'choice100km', 'nodecount100km', 'integration100km', 'choice2kmrank', 'choice10kmrank', 'integration10kmrank', 'integration2kmrank', 'choice2kmlog', 'choice10kmlog', 'choice100kmlog']\", None, 'primal', 'False', True, 50, False)...\n",
      "Loading Cheshire East from SSx\n"
     ]
    },
    {
     "name": "stderr",
     "output_type": "stream",
     "text": [
      "/homes/wwc4618/predicting-choice/utils/remove_false_nodes.py:97: FutureWarning: The frame.append method is deprecated and will be removed from pandas in a future version. Use pandas.concat instead.\n",
      "  return df.append(\n"
     ]
    },
    {
     "name": "stdout",
     "output_type": "stream",
     "text": [
      "148060 geometries retrieved from Cheshire East\n",
      "Generated graph with 5412 nodes and 7190 edges\n",
      "Node features: ['metres', 'choice2km', 'nodecount2km', 'integration2km', 'choice10km', 'nodecount10km', 'integration10km', 'choice100km', 'nodecount100km', 'integration100km', 'choice2kmrank', 'choice10kmrank', 'integration10kmrank', 'integration2kmrank', 'choice2kmlog', 'choice10kmlog', 'choice100kmlog', 'x', 'y']\n",
      "Node target: None\n",
      "Edge attributes: {'u', 'v'}\n",
      "Loading graph of Cheshire West and Chester with key ('Cheshire West and Chester', \"['metres', 'choice2km', 'nodecount2km', 'integration2km', 'choice10km', 'nodecount10km', 'integration10km', 'choice100km', 'nodecount100km', 'integration100km', 'choice2kmrank', 'choice10kmrank', 'integration10kmrank', 'integration2kmrank', 'choice2kmlog', 'choice10kmlog', 'choice100kmlog']\", None, 'primal', 'False', True, 50, False)...\n",
      "Loading Cheshire West and Chester from SSx\n"
     ]
    },
    {
     "name": "stderr",
     "output_type": "stream",
     "text": [
      "/homes/wwc4618/predicting-choice/utils/remove_false_nodes.py:97: FutureWarning: The frame.append method is deprecated and will be removed from pandas in a future version. Use pandas.concat instead.\n",
      "  return df.append(\n"
     ]
    },
    {
     "name": "stdout",
     "output_type": "stream",
     "text": [
      "132180 geometries retrieved from Cheshire West and Chester\n",
      "Generated graph with 4801 nodes and 6395 edges\n",
      "Node features: ['metres', 'choice2km', 'nodecount2km', 'integration2km', 'choice10km', 'nodecount10km', 'integration10km', 'choice100km', 'nodecount100km', 'integration100km', 'choice2kmrank', 'choice10kmrank', 'integration10kmrank', 'integration2kmrank', 'choice2kmlog', 'choice10kmlog', 'choice100kmlog', 'x', 'y']\n",
      "Node target: None\n",
      "Edge attributes: {'u', 'v'}\n",
      "Loading graph of Runnymede with key ('Runnymede', \"['metres', 'choice2km', 'nodecount2km', 'integration2km', 'choice10km', 'nodecount10km', 'integration10km', 'choice100km', 'nodecount100km', 'integration100km', 'choice2kmrank', 'choice10kmrank', 'integration10kmrank', 'integration2kmrank', 'choice2kmlog', 'choice10kmlog', 'choice100kmlog']\", None, 'primal', 'False', True, 50, False)...\n",
      "Loading Runnymede from SSx\n"
     ]
    },
    {
     "name": "stderr",
     "output_type": "stream",
     "text": [
      "/homes/wwc4618/predicting-choice/utils/remove_false_nodes.py:97: FutureWarning: The frame.append method is deprecated and will be removed from pandas in a future version. Use pandas.concat instead.\n",
      "  return df.append(\n"
     ]
    },
    {
     "name": "stdout",
     "output_type": "stream",
     "text": [
      "21020 geometries retrieved from Runnymede\n",
      "Generated graph with 784 nodes and 1011 edges\n",
      "Node features: ['metres', 'choice2km', 'nodecount2km', 'integration2km', 'choice10km', 'nodecount10km', 'integration10km', 'choice100km', 'nodecount100km', 'integration100km', 'choice2kmrank', 'choice10kmrank', 'integration10kmrank', 'integration2kmrank', 'choice2kmlog', 'choice10kmlog', 'choice100kmlog', 'x', 'y']\n",
      "Node target: None\n",
      "Edge attributes: {'u', 'v'}\n",
      "Loading graph of Reigate and Banstead with key ('Reigate and Banstead', \"['metres', 'choice2km', 'nodecount2km', 'integration2km', 'choice10km', 'nodecount10km', 'integration10km', 'choice100km', 'nodecount100km', 'integration100km', 'choice2kmrank', 'choice10kmrank', 'integration10kmrank', 'integration2kmrank', 'choice2kmlog', 'choice10kmlog', 'choice100kmlog']\", None, 'primal', 'False', True, 50, False)...\n",
      "Loading Reigate and Banstead from SSx\n"
     ]
    },
    {
     "name": "stderr",
     "output_type": "stream",
     "text": [
      "/homes/wwc4618/predicting-choice/utils/remove_false_nodes.py:97: FutureWarning: The frame.append method is deprecated and will be removed from pandas in a future version. Use pandas.concat instead.\n",
      "  return df.append(\n"
     ]
    },
    {
     "name": "stdout",
     "output_type": "stream",
     "text": [
      "39220 geometries retrieved from Reigate and Banstead\n",
      "Generated graph with 1431 nodes and 1880 edges\n",
      "Node features: ['metres', 'choice2km', 'nodecount2km', 'integration2km', 'choice10km', 'nodecount10km', 'integration10km', 'choice100km', 'nodecount100km', 'integration100km', 'choice2kmrank', 'choice10kmrank', 'integration10kmrank', 'integration2kmrank', 'choice2kmlog', 'choice10kmlog', 'choice100kmlog', 'x', 'y']\n",
      "Node target: None\n",
      "Edge attributes: {'u', 'v'}\n",
      "Loading graph of Kingston upon Thames with key ('Kingston upon Thames', \"['metres', 'choice2km', 'nodecount2km', 'integration2km', 'choice10km', 'nodecount10km', 'integration10km', 'choice100km', 'nodecount100km', 'integration100km', 'choice2kmrank', 'choice10kmrank', 'integration10kmrank', 'integration2kmrank', 'choice2kmlog', 'choice10kmlog', 'choice100kmlog']\", None, 'primal', 'False', True, 50, False)...\n",
      "Loading Kingston upon Thames from SSx\n"
     ]
    },
    {
     "name": "stderr",
     "output_type": "stream",
     "text": [
      "/homes/wwc4618/predicting-choice/utils/remove_false_nodes.py:97: FutureWarning: The frame.append method is deprecated and will be removed from pandas in a future version. Use pandas.concat instead.\n",
      "  return df.append(\n"
     ]
    },
    {
     "name": "stdout",
     "output_type": "stream",
     "text": [
      "34800 geometries retrieved from Kingston upon Thames\n",
      "Generated graph with 1203 nodes and 1702 edges\n",
      "Node features: ['metres', 'choice2km', 'nodecount2km', 'integration2km', 'choice10km', 'nodecount10km', 'integration10km', 'choice100km', 'nodecount100km', 'integration100km', 'choice2kmrank', 'choice10kmrank', 'integration10kmrank', 'integration2kmrank', 'choice2kmlog', 'choice10kmlog', 'choice100kmlog', 'x', 'y']\n",
      "Node target: None\n",
      "Edge attributes: {'u', 'v'}\n",
      "Loading graph of Epsom and Ewell with key ('Epsom and Ewell', \"['metres', 'choice2km', 'nodecount2km', 'integration2km', 'choice10km', 'nodecount10km', 'integration10km', 'choice100km', 'nodecount100km', 'integration100km', 'choice2kmrank', 'choice10kmrank', 'integration10kmrank', 'integration2kmrank', 'choice2kmlog', 'choice10kmlog', 'choice100kmlog']\", None, 'primal', 'False', True, 50, False)...\n",
      "Loading Epsom and Ewell from SSx\n"
     ]
    },
    {
     "name": "stderr",
     "output_type": "stream",
     "text": [
      "/homes/wwc4618/predicting-choice/utils/remove_false_nodes.py:97: FutureWarning: The frame.append method is deprecated and will be removed from pandas in a future version. Use pandas.concat instead.\n",
      "  return df.append(\n"
     ]
    },
    {
     "name": "stdout",
     "output_type": "stream",
     "text": [
      "19040 geometries retrieved from Epsom and Ewell\n",
      "Generated graph with 688 nodes and 929 edges\n",
      "Node features: ['metres', 'choice2km', 'nodecount2km', 'integration2km', 'choice10km', 'nodecount10km', 'integration10km', 'choice100km', 'nodecount100km', 'integration100km', 'choice2kmrank', 'choice10kmrank', 'integration10kmrank', 'integration2kmrank', 'choice2kmlog', 'choice10kmlog', 'choice100kmlog', 'x', 'y']\n",
      "Node target: None\n",
      "Edge attributes: {'u', 'v'}\n",
      "Loading graph of Tandridge with key ('Tandridge', \"['metres', 'choice2km', 'nodecount2km', 'integration2km', 'choice10km', 'nodecount10km', 'integration10km', 'choice100km', 'nodecount100km', 'integration100km', 'choice2kmrank', 'choice10kmrank', 'integration10kmrank', 'integration2kmrank', 'choice2kmlog', 'choice10kmlog', 'choice100kmlog']\", None, 'primal', 'False', True, 50, False)...\n",
      "Loading Tandridge from SSx\n"
     ]
    },
    {
     "name": "stderr",
     "output_type": "stream",
     "text": [
      "/homes/wwc4618/predicting-choice/utils/remove_false_nodes.py:97: FutureWarning: The frame.append method is deprecated and will be removed from pandas in a future version. Use pandas.concat instead.\n",
      "  return df.append(\n"
     ]
    },
    {
     "name": "stdout",
     "output_type": "stream",
     "text": [
      "28320 geometries retrieved from Tandridge\n",
      "Generated graph with 1066 nodes and 1375 edges\n",
      "Node features: ['metres', 'choice2km', 'nodecount2km', 'integration2km', 'choice10km', 'nodecount10km', 'integration10km', 'choice100km', 'nodecount100km', 'integration100km', 'choice2kmrank', 'choice10kmrank', 'integration10kmrank', 'integration2kmrank', 'choice2kmlog', 'choice10kmlog', 'choice100kmlog', 'x', 'y']\n",
      "Node target: None\n",
      "Edge attributes: {'u', 'v'}\n",
      "Loading graph of Merton with key ('Merton', \"['metres', 'choice2km', 'nodecount2km', 'integration2km', 'choice10km', 'nodecount10km', 'integration10km', 'choice100km', 'nodecount100km', 'integration100km', 'choice2kmrank', 'choice10kmrank', 'integration10kmrank', 'integration2kmrank', 'choice2kmlog', 'choice10kmlog', 'choice100kmlog']\", None, 'primal', 'False', True, 50, False)...\n",
      "Loading Merton from SSx\n"
     ]
    },
    {
     "name": "stderr",
     "output_type": "stream",
     "text": [
      "/homes/wwc4618/predicting-choice/utils/remove_false_nodes.py:97: FutureWarning: The frame.append method is deprecated and will be removed from pandas in a future version. Use pandas.concat instead.\n",
      "  return df.append(\n"
     ]
    },
    {
     "name": "stdout",
     "output_type": "stream",
     "text": [
      "38940 geometries retrieved from Merton\n",
      "Generated graph with 1369 nodes and 1899 edges\n",
      "Node features: ['metres', 'choice2km', 'nodecount2km', 'integration2km', 'choice10km', 'nodecount10km', 'integration10km', 'choice100km', 'nodecount100km', 'integration100km', 'choice2kmrank', 'choice10kmrank', 'integration10kmrank', 'integration2kmrank', 'choice2kmlog', 'choice10kmlog', 'choice100kmlog', 'x', 'y']\n",
      "Node target: None\n",
      "Edge attributes: {'u', 'v'}\n",
      "Loading graph of Croydon with key ('Croydon', \"['metres', 'choice2km', 'nodecount2km', 'integration2km', 'choice10km', 'nodecount10km', 'integration10km', 'choice100km', 'nodecount100km', 'integration100km', 'choice2kmrank', 'choice10kmrank', 'integration10kmrank', 'integration2kmrank', 'choice2kmlog', 'choice10kmlog', 'choice100kmlog']\", None, 'primal', 'False', True, 50, False)...\n",
      "Loading Croydon from SSx\n"
     ]
    },
    {
     "name": "stderr",
     "output_type": "stream",
     "text": [
      "/homes/wwc4618/predicting-choice/utils/remove_false_nodes.py:97: FutureWarning: The frame.append method is deprecated and will be removed from pandas in a future version. Use pandas.concat instead.\n",
      "  return df.append(\n"
     ]
    },
    {
     "name": "stdout",
     "output_type": "stream",
     "text": [
      "79380 geometries retrieved from Croydon\n",
      "Generated graph with 2722 nodes and 3871 edges\n",
      "Node features: ['metres', 'choice2km', 'nodecount2km', 'integration2km', 'choice10km', 'nodecount10km', 'integration10km', 'choice100km', 'nodecount100km', 'integration100km', 'choice2kmrank', 'choice10kmrank', 'integration10kmrank', 'integration2kmrank', 'choice2kmlog', 'choice10kmlog', 'choice100kmlog', 'x', 'y']\n",
      "Node target: None\n",
      "Edge attributes: {'u', 'v'}\n",
      "Loading graph of Stockport with key ('Stockport', \"['metres', 'choice2km', 'nodecount2km', 'integration2km', 'choice10km', 'nodecount10km', 'integration10km', 'choice100km', 'nodecount100km', 'integration100km', 'choice2kmrank', 'choice10kmrank', 'integration10kmrank', 'integration2kmrank', 'choice2kmlog', 'choice10kmlog', 'choice100kmlog']\", None, 'primal', 'False', True, 50, False)...\n",
      "Loading Stockport from SSx\n"
     ]
    },
    {
     "name": "stderr",
     "output_type": "stream",
     "text": [
      "/homes/wwc4618/predicting-choice/utils/remove_false_nodes.py:97: FutureWarning: The frame.append method is deprecated and will be removed from pandas in a future version. Use pandas.concat instead.\n",
      "  return df.append(\n"
     ]
    },
    {
     "name": "stdout",
     "output_type": "stream",
     "text": [
      "95480 geometries retrieved from Stockport\n",
      "Generated graph with 3367 nodes and 4627 edges\n",
      "Node features: ['metres', 'choice2km', 'nodecount2km', 'integration2km', 'choice10km', 'nodecount10km', 'integration10km', 'choice100km', 'nodecount100km', 'integration100km', 'choice2kmrank', 'choice10kmrank', 'integration10kmrank', 'integration2kmrank', 'choice2kmlog', 'choice10kmlog', 'choice100kmlog', 'x', 'y']\n",
      "Node target: None\n",
      "Edge attributes: {'u', 'v'}\n",
      "Loading graph of Stratford-on-Avon with key ('Stratford-on-Avon', \"['metres', 'choice2km', 'nodecount2km', 'integration2km', 'choice10km', 'nodecount10km', 'integration10km', 'choice100km', 'nodecount100km', 'integration100km', 'choice2kmrank', 'choice10kmrank', 'integration10kmrank', 'integration2kmrank', 'choice2kmlog', 'choice10kmlog', 'choice100kmlog']\", None, 'primal', 'False', True, 50, False)...\n",
      "Loading Stratford-on-Avon from SSx\n"
     ]
    },
    {
     "name": "stderr",
     "output_type": "stream",
     "text": [
      "/homes/wwc4618/predicting-choice/utils/remove_false_nodes.py:97: FutureWarning: The frame.append method is deprecated and will be removed from pandas in a future version. Use pandas.concat instead.\n",
      "  return df.append(\n"
     ]
    },
    {
     "name": "stdout",
     "output_type": "stream",
     "text": [
      "56940 geometries retrieved from Stratford-on-Avon\n",
      "Generated graph with 2114 nodes and 2761 edges\n",
      "Node features: ['metres', 'choice2km', 'nodecount2km', 'integration2km', 'choice10km', 'nodecount10km', 'integration10km', 'choice100km', 'nodecount100km', 'integration100km', 'choice2kmrank', 'choice10kmrank', 'integration10kmrank', 'integration2kmrank', 'choice2kmlog', 'choice10kmlog', 'choice100kmlog', 'x', 'y']\n",
      "Node target: None\n",
      "Edge attributes: {'u', 'v'}\n",
      "Loading graph of Northumberland with key ('Northumberland', \"['metres', 'choice2km', 'nodecount2km', 'integration2km', 'choice10km', 'nodecount10km', 'integration10km', 'choice100km', 'nodecount100km', 'integration100km', 'choice2kmrank', 'choice10kmrank', 'integration10kmrank', 'integration2kmrank', 'choice2kmlog', 'choice10kmlog', 'choice100kmlog']\", None, 'primal', 'False', True, 50, False)...\n",
      "Loading Northumberland from SSx\n"
     ]
    },
    {
     "name": "stderr",
     "output_type": "stream",
     "text": [
      "/homes/wwc4618/predicting-choice/utils/remove_false_nodes.py:97: FutureWarning: The frame.append method is deprecated and will be removed from pandas in a future version. Use pandas.concat instead.\n",
      "  return df.append(\n"
     ]
    },
    {
     "name": "stdout",
     "output_type": "stream",
     "text": [
      "194600 geometries retrieved from Northumberland\n",
      "Generated graph with 7252 nodes and 9442 edges\n",
      "Node features: ['metres', 'choice2km', 'nodecount2km', 'integration2km', 'choice10km', 'nodecount10km', 'integration10km', 'choice100km', 'nodecount100km', 'integration100km', 'choice2kmrank', 'choice10kmrank', 'integration10kmrank', 'integration2kmrank', 'choice2kmlog', 'choice10kmlog', 'choice100kmlog', 'x', 'y']\n",
      "Node target: None\n",
      "Edge attributes: {'u', 'v'}\n",
      "Loading graph of Walsall with key ('Walsall', \"['metres', 'choice2km', 'nodecount2km', 'integration2km', 'choice10km', 'nodecount10km', 'integration10km', 'choice100km', 'nodecount100km', 'integration100km', 'choice2kmrank', 'choice10kmrank', 'integration10kmrank', 'integration2kmrank', 'choice2kmlog', 'choice10kmlog', 'choice100kmlog']\", None, 'primal', 'False', True, 50, False)...\n",
      "Loading Walsall from SSx\n"
     ]
    },
    {
     "name": "stderr",
     "output_type": "stream",
     "text": [
      "/homes/wwc4618/predicting-choice/utils/remove_false_nodes.py:97: FutureWarning: The frame.append method is deprecated and will be removed from pandas in a future version. Use pandas.concat instead.\n",
      "  return df.append(\n"
     ]
    },
    {
     "name": "stdout",
     "output_type": "stream",
     "text": [
      "79420 geometries retrieved from Walsall\n",
      "Generated graph with 2751 nodes and 3832 edges\n",
      "Node features: ['metres', 'choice2km', 'nodecount2km', 'integration2km', 'choice10km', 'nodecount10km', 'integration10km', 'choice100km', 'nodecount100km', 'integration100km', 'choice2kmrank', 'choice10kmrank', 'integration10kmrank', 'integration2kmrank', 'choice2kmlog', 'choice10kmlog', 'choice100kmlog', 'x', 'y']\n",
      "Node target: None\n",
      "Edge attributes: {'u', 'v'}\n",
      "Loading graph of Solihull with key ('Solihull', \"['metres', 'choice2km', 'nodecount2km', 'integration2km', 'choice10km', 'nodecount10km', 'integration10km', 'choice100km', 'nodecount100km', 'integration100km', 'choice2kmrank', 'choice10kmrank', 'integration10kmrank', 'integration2kmrank', 'choice2kmlog', 'choice10kmlog', 'choice100kmlog']\", None, 'primal', 'False', True, 50, False)...\n",
      "Loading Solihull from SSx\n"
     ]
    },
    {
     "name": "stderr",
     "output_type": "stream",
     "text": [
      "/homes/wwc4618/predicting-choice/utils/remove_false_nodes.py:97: FutureWarning: The frame.append method is deprecated and will be removed from pandas in a future version. Use pandas.concat instead.\n",
      "  return df.append(\n"
     ]
    },
    {
     "name": "stdout",
     "output_type": "stream",
     "text": [
      "57600 geometries retrieved from Solihull\n",
      "Generated graph with 2099 nodes and 2782 edges\n",
      "Node features: ['metres', 'choice2km', 'nodecount2km', 'integration2km', 'choice10km', 'nodecount10km', 'integration10km', 'choice100km', 'nodecount100km', 'integration100km', 'choice2kmrank', 'choice10kmrank', 'integration10kmrank', 'integration2kmrank', 'choice2kmlog', 'choice10kmlog', 'choice100kmlog', 'x', 'y']\n",
      "Node target: None\n",
      "Edge attributes: {'u', 'v'}\n",
      "Loading graph of Mid Sussex with key ('Mid Sussex', \"['metres', 'choice2km', 'nodecount2km', 'integration2km', 'choice10km', 'nodecount10km', 'integration10km', 'choice100km', 'nodecount100km', 'integration100km', 'choice2kmrank', 'choice10kmrank', 'integration10kmrank', 'integration2kmrank', 'choice2kmlog', 'choice10kmlog', 'choice100kmlog']\", None, 'primal', 'False', True, 50, False)...\n",
      "Loading Mid Sussex from SSx\n"
     ]
    },
    {
     "name": "stderr",
     "output_type": "stream",
     "text": [
      "/homes/wwc4618/predicting-choice/utils/remove_false_nodes.py:97: FutureWarning: The frame.append method is deprecated and will be removed from pandas in a future version. Use pandas.concat instead.\n",
      "  return df.append(\n"
     ]
    },
    {
     "name": "stdout",
     "output_type": "stream",
     "text": [
      "36560 geometries retrieved from Mid Sussex\n",
      "Generated graph with 1380 nodes and 1766 edges\n",
      "Node features: ['metres', 'choice2km', 'nodecount2km', 'integration2km', 'choice10km', 'nodecount10km', 'integration10km', 'choice100km', 'nodecount100km', 'integration100km', 'choice2kmrank', 'choice10kmrank', 'integration10kmrank', 'integration2kmrank', 'choice2kmlog', 'choice10kmlog', 'choice100kmlog', 'x', 'y']\n",
      "Node target: None\n",
      "Edge attributes: {'u', 'v'}\n",
      "Loading graph of Waveney with key ('Waveney', \"['metres', 'choice2km', 'nodecount2km', 'integration2km', 'choice10km', 'nodecount10km', 'integration10km', 'choice100km', 'nodecount100km', 'integration100km', 'choice2kmrank', 'choice10kmrank', 'integration10kmrank', 'integration2kmrank', 'choice2kmlog', 'choice10kmlog', 'choice100kmlog']\", None, 'primal', 'False', True, 50, False)...\n",
      "Loading Waveney from SSx\n"
     ]
    },
    {
     "name": "stderr",
     "output_type": "stream",
     "text": [
      "/homes/wwc4618/predicting-choice/utils/remove_false_nodes.py:97: FutureWarning: The frame.append method is deprecated and will be removed from pandas in a future version. Use pandas.concat instead.\n",
      "  return df.append(\n"
     ]
    },
    {
     "name": "stdout",
     "output_type": "stream",
     "text": [
      "47120 geometries retrieved from Waveney\n",
      "Generated graph with 1710 nodes and 2304 edges\n",
      "Node features: ['metres', 'choice2km', 'nodecount2km', 'integration2km', 'choice10km', 'nodecount10km', 'integration10km', 'choice100km', 'nodecount100km', 'integration100km', 'choice2kmrank', 'choice10kmrank', 'integration10kmrank', 'integration2kmrank', 'choice2kmlog', 'choice10kmlog', 'choice100kmlog', 'x', 'y']\n",
      "Node target: None\n",
      "Edge attributes: {'u', 'v'}\n",
      "Loading graph of Lincoln with key ('Lincoln', \"['metres', 'choice2km', 'nodecount2km', 'integration2km', 'choice10km', 'nodecount10km', 'integration10km', 'choice100km', 'nodecount100km', 'integration100km', 'choice2kmrank', 'choice10kmrank', 'integration10kmrank', 'integration2kmrank', 'choice2kmlog', 'choice10kmlog', 'choice100kmlog']\", None, 'primal', 'False', True, 50, False)...\n",
      "Loading Lincoln from SSx\n"
     ]
    },
    {
     "name": "stderr",
     "output_type": "stream",
     "text": [
      "/homes/wwc4618/predicting-choice/utils/remove_false_nodes.py:97: FutureWarning: The frame.append method is deprecated and will be removed from pandas in a future version. Use pandas.concat instead.\n",
      "  return df.append(\n"
     ]
    },
    {
     "name": "stdout",
     "output_type": "stream",
     "text": [
      "25140 geometries retrieved from Lincoln\n",
      "Generated graph with 906 nodes and 1210 edges\n",
      "Node features: ['metres', 'choice2km', 'nodecount2km', 'integration2km', 'choice10km', 'nodecount10km', 'integration10km', 'choice100km', 'nodecount100km', 'integration100km', 'choice2kmrank', 'choice10kmrank', 'integration10kmrank', 'integration2kmrank', 'choice2kmlog', 'choice10kmlog', 'choice100kmlog', 'x', 'y']\n",
      "Node target: None\n",
      "Edge attributes: {'u', 'v'}\n",
      "Loading graph of Tonbridge and Malling with key ('Tonbridge and Malling', \"['metres', 'choice2km', 'nodecount2km', 'integration2km', 'choice10km', 'nodecount10km', 'integration10km', 'choice100km', 'nodecount100km', 'integration100km', 'choice2kmrank', 'choice10kmrank', 'integration10kmrank', 'integration2kmrank', 'choice2kmlog', 'choice10kmlog', 'choice100kmlog']\", None, 'primal', 'False', True, 50, False)...\n",
      "Loading Tonbridge and Malling from SSx\n"
     ]
    },
    {
     "name": "stderr",
     "output_type": "stream",
     "text": [
      "/homes/wwc4618/predicting-choice/utils/remove_false_nodes.py:97: FutureWarning: The frame.append method is deprecated and will be removed from pandas in a future version. Use pandas.concat instead.\n",
      "  return df.append(\n"
     ]
    },
    {
     "name": "stdout",
     "output_type": "stream",
     "text": [
      "40180 geometries retrieved from Tonbridge and Malling\n",
      "Generated graph with 1496 nodes and 1931 edges\n",
      "Node features: ['metres', 'choice2km', 'nodecount2km', 'integration2km', 'choice10km', 'nodecount10km', 'integration10km', 'choice100km', 'nodecount100km', 'integration100km', 'choice2kmrank', 'choice10kmrank', 'integration10kmrank', 'integration2kmrank', 'choice2kmlog', 'choice10kmlog', 'choice100kmlog', 'x', 'y']\n",
      "Node target: None\n",
      "Edge attributes: {'u', 'v'}\n",
      "Loading graph of Redditch with key ('Redditch', \"['metres', 'choice2km', 'nodecount2km', 'integration2km', 'choice10km', 'nodecount10km', 'integration10km', 'choice100km', 'nodecount100km', 'integration100km', 'choice2kmrank', 'choice10kmrank', 'integration10kmrank', 'integration2kmrank', 'choice2kmlog', 'choice10kmlog', 'choice100kmlog']\", None, 'primal', 'False', True, 50, False)...\n",
      "Loading Redditch from SSx\n"
     ]
    },
    {
     "name": "stderr",
     "output_type": "stream",
     "text": [
      "/homes/wwc4618/predicting-choice/utils/remove_false_nodes.py:97: FutureWarning: The frame.append method is deprecated and will be removed from pandas in a future version. Use pandas.concat instead.\n",
      "  return df.append(\n"
     ]
    },
    {
     "name": "stdout",
     "output_type": "stream",
     "text": [
      "19740 geometries retrieved from Redditch\n",
      "Generated graph with 788 nodes and 971 edges\n",
      "Node features: ['metres', 'choice2km', 'nodecount2km', 'integration2km', 'choice10km', 'nodecount10km', 'integration10km', 'choice100km', 'nodecount100km', 'integration100km', 'choice2kmrank', 'choice10kmrank', 'integration10kmrank', 'integration2kmrank', 'choice2kmlog', 'choice10kmlog', 'choice100kmlog', 'x', 'y']\n",
      "Node target: None\n",
      "Edge attributes: {'u', 'v'}\n",
      "Loading graph of Doncaster with key ('Doncaster', \"['metres', 'choice2km', 'nodecount2km', 'integration2km', 'choice10km', 'nodecount10km', 'integration10km', 'choice100km', 'nodecount100km', 'integration100km', 'choice2kmrank', 'choice10kmrank', 'integration10kmrank', 'integration2kmrank', 'choice2kmlog', 'choice10kmlog', 'choice100kmlog']\", None, 'primal', 'False', True, 50, False)...\n",
      "Loading Doncaster from SSx\n"
     ]
    },
    {
     "name": "stderr",
     "output_type": "stream",
     "text": [
      "/homes/wwc4618/predicting-choice/utils/remove_false_nodes.py:97: FutureWarning: The frame.append method is deprecated and will be removed from pandas in a future version. Use pandas.concat instead.\n",
      "  return df.append(\n"
     ]
    },
    {
     "name": "stdout",
     "output_type": "stream",
     "text": [
      "122840 geometries retrieved from Doncaster\n",
      "Generated graph with 4322 nodes and 5946 edges\n",
      "Node features: ['metres', 'choice2km', 'nodecount2km', 'integration2km', 'choice10km', 'nodecount10km', 'integration10km', 'choice100km', 'nodecount100km', 'integration100km', 'choice2kmrank', 'choice10kmrank', 'integration10kmrank', 'integration2kmrank', 'choice2kmlog', 'choice10kmlog', 'choice100kmlog', 'x', 'y']\n",
      "Node target: None\n",
      "Edge attributes: {'u', 'v'}\n",
      "Loading graph of Brighton and Hove with key ('Brighton and Hove', \"['metres', 'choice2km', 'nodecount2km', 'integration2km', 'choice10km', 'nodecount10km', 'integration10km', 'choice100km', 'nodecount100km', 'integration100km', 'choice2kmrank', 'choice10kmrank', 'integration10kmrank', 'integration2kmrank', 'choice2kmlog', 'choice10kmlog', 'choice100kmlog']\", None, 'primal', 'False', True, 50, False)...\n",
      "Loading Brighton and Hove from SSx\n"
     ]
    },
    {
     "name": "stderr",
     "output_type": "stream",
     "text": [
      "/homes/wwc4618/predicting-choice/utils/remove_false_nodes.py:97: FutureWarning: The frame.append method is deprecated and will be removed from pandas in a future version. Use pandas.concat instead.\n",
      "  return df.append(\n"
     ]
    },
    {
     "name": "stdout",
     "output_type": "stream",
     "text": [
      "77140 geometries retrieved from Brighton and Hove\n",
      "Generated graph with 2551 nodes and 3777 edges\n",
      "Node features: ['metres', 'choice2km', 'nodecount2km', 'integration2km', 'choice10km', 'nodecount10km', 'integration10km', 'choice100km', 'nodecount100km', 'integration100km', 'choice2kmrank', 'choice10kmrank', 'integration10kmrank', 'integration2kmrank', 'choice2kmlog', 'choice10kmlog', 'choice100kmlog', 'x', 'y']\n",
      "Node target: None\n",
      "Edge attributes: {'u', 'v'}\n",
      "Loading graph of Tameside with key ('Tameside', \"['metres', 'choice2km', 'nodecount2km', 'integration2km', 'choice10km', 'nodecount10km', 'integration10km', 'choice100km', 'nodecount100km', 'integration100km', 'choice2kmrank', 'choice10kmrank', 'integration10kmrank', 'integration2kmrank', 'choice2kmlog', 'choice10kmlog', 'choice100kmlog']\", None, 'primal', 'False', True, 50, False)...\n",
      "Loading Tameside from SSx\n"
     ]
    },
    {
     "name": "stderr",
     "output_type": "stream",
     "text": [
      "/homes/wwc4618/predicting-choice/utils/remove_false_nodes.py:97: FutureWarning: The frame.append method is deprecated and will be removed from pandas in a future version. Use pandas.concat instead.\n",
      "  return df.append(\n"
     ]
    },
    {
     "name": "stdout",
     "output_type": "stream",
     "text": [
      "79580 geometries retrieved from Tameside\n",
      "Generated graph with 2691 nodes and 3849 edges\n",
      "Node features: ['metres', 'choice2km', 'nodecount2km', 'integration2km', 'choice10km', 'nodecount10km', 'integration10km', 'choice100km', 'nodecount100km', 'integration100km', 'choice2kmrank', 'choice10kmrank', 'integration10kmrank', 'integration2kmrank', 'choice2kmlog', 'choice10kmlog', 'choice100kmlog', 'x', 'y']\n",
      "Node target: None\n",
      "Edge attributes: {'u', 'v'}\n",
      "Loading graph of High Peak with key ('High Peak', \"['metres', 'choice2km', 'nodecount2km', 'integration2km', 'choice10km', 'nodecount10km', 'integration10km', 'choice100km', 'nodecount100km', 'integration100km', 'choice2kmrank', 'choice10kmrank', 'integration10kmrank', 'integration2kmrank', 'choice2kmlog', 'choice10kmlog', 'choice100kmlog']\", None, 'primal', 'False', True, 50, False)...\n",
      "Loading High Peak from SSx\n"
     ]
    },
    {
     "name": "stderr",
     "output_type": "stream",
     "text": [
      "/homes/wwc4618/predicting-choice/utils/remove_false_nodes.py:97: FutureWarning: The frame.append method is deprecated and will be removed from pandas in a future version. Use pandas.concat instead.\n",
      "  return df.append(\n"
     ]
    },
    {
     "name": "stdout",
     "output_type": "stream",
     "text": [
      "35120 geometries retrieved from High Peak\n",
      "Generated graph with 1305 nodes and 1704 edges\n",
      "Node features: ['metres', 'choice2km', 'nodecount2km', 'integration2km', 'choice10km', 'nodecount10km', 'integration10km', 'choice100km', 'nodecount100km', 'integration100km', 'choice2kmrank', 'choice10kmrank', 'integration10kmrank', 'integration2kmrank', 'choice2kmlog', 'choice10kmlog', 'choice100kmlog', 'x', 'y']\n",
      "Node target: None\n",
      "Edge attributes: {'u', 'v'}\n",
      "Loading graph of North Lincolnshire with key ('North Lincolnshire', \"['metres', 'choice2km', 'nodecount2km', 'integration2km', 'choice10km', 'nodecount10km', 'integration10km', 'choice100km', 'nodecount100km', 'integration100km', 'choice2kmrank', 'choice10kmrank', 'integration10kmrank', 'integration2kmrank', 'choice2kmlog', 'choice10kmlog', 'choice100kmlog']\", None, 'primal', 'False', True, 50, False)...\n",
      "Loading North Lincolnshire from SSx\n"
     ]
    },
    {
     "name": "stderr",
     "output_type": "stream",
     "text": [
      "/homes/wwc4618/predicting-choice/utils/remove_false_nodes.py:97: FutureWarning: The frame.append method is deprecated and will be removed from pandas in a future version. Use pandas.concat instead.\n",
      "  return df.append(\n"
     ]
    },
    {
     "name": "stdout",
     "output_type": "stream",
     "text": [
      "62380 geometries retrieved from North Lincolnshire\n",
      "Generated graph with 2256 nodes and 3027 edges\n",
      "Node features: ['metres', 'choice2km', 'nodecount2km', 'integration2km', 'choice10km', 'nodecount10km', 'integration10km', 'choice100km', 'nodecount100km', 'integration100km', 'choice2kmrank', 'choice10kmrank', 'integration10kmrank', 'integration2kmrank', 'choice2kmlog', 'choice10kmlog', 'choice100kmlog', 'x', 'y']\n",
      "Node target: None\n",
      "Edge attributes: {'u', 'v'}\n",
      "Loading graph of Lewes with key ('Lewes', \"['metres', 'choice2km', 'nodecount2km', 'integration2km', 'choice10km', 'nodecount10km', 'integration10km', 'choice100km', 'nodecount100km', 'integration100km', 'choice2kmrank', 'choice10kmrank', 'integration10kmrank', 'integration2kmrank', 'choice2kmlog', 'choice10kmlog', 'choice100kmlog']\", None, 'primal', 'False', True, 50, False)...\n",
      "Loading Lewes from SSx\n"
     ]
    },
    {
     "name": "stderr",
     "output_type": "stream",
     "text": [
      "/homes/wwc4618/predicting-choice/utils/remove_false_nodes.py:97: FutureWarning: The frame.append method is deprecated and will be removed from pandas in a future version. Use pandas.concat instead.\n",
      "  return df.append(\n"
     ]
    },
    {
     "name": "stdout",
     "output_type": "stream",
     "text": [
      "36760 geometries retrieved from Lewes\n",
      "Generated graph with 1355 nodes and 1789 edges\n",
      "Node features: ['metres', 'choice2km', 'nodecount2km', 'integration2km', 'choice10km', 'nodecount10km', 'integration10km', 'choice100km', 'nodecount100km', 'integration100km', 'choice2kmrank', 'choice10kmrank', 'integration10kmrank', 'integration2kmrank', 'choice2kmlog', 'choice10kmlog', 'choice100kmlog', 'x', 'y']\n",
      "Node target: None\n",
      "Edge attributes: {'u', 'v'}\n",
      "Loading graph of North Warwickshire with key ('North Warwickshire', \"['metres', 'choice2km', 'nodecount2km', 'integration2km', 'choice10km', 'nodecount10km', 'integration10km', 'choice100km', 'nodecount100km', 'integration100km', 'choice2kmrank', 'choice10kmrank', 'integration10kmrank', 'integration2kmrank', 'choice2kmlog', 'choice10kmlog', 'choice100kmlog']\", None, 'primal', 'False', True, 50, False)...\n",
      "Loading North Warwickshire from SSx\n"
     ]
    },
    {
     "name": "stderr",
     "output_type": "stream",
     "text": [
      "/homes/wwc4618/predicting-choice/utils/remove_false_nodes.py:97: FutureWarning: The frame.append method is deprecated and will be removed from pandas in a future version. Use pandas.concat instead.\n",
      "  return df.append(\n"
     ]
    },
    {
     "name": "stdout",
     "output_type": "stream",
     "text": [
      "28580 geometries retrieved from North Warwickshire\n",
      "Generated graph with 1047 nodes and 1366 edges\n",
      "Node features: ['metres', 'choice2km', 'nodecount2km', 'integration2km', 'choice10km', 'nodecount10km', 'integration10km', 'choice100km', 'nodecount100km', 'integration100km', 'choice2kmrank', 'choice10kmrank', 'integration10kmrank', 'integration2kmrank', 'choice2kmlog', 'choice10kmlog', 'choice100kmlog', 'x', 'y']\n",
      "Node target: None\n",
      "Edge attributes: {'u', 'v'}\n",
      "Loading graph of Gravesham with key ('Gravesham', \"['metres', 'choice2km', 'nodecount2km', 'integration2km', 'choice10km', 'nodecount10km', 'integration10km', 'choice100km', 'nodecount100km', 'integration100km', 'choice2kmrank', 'choice10kmrank', 'integration10kmrank', 'integration2kmrank', 'choice2kmlog', 'choice10kmlog', 'choice100kmlog']\", None, 'primal', 'False', True, 50, False)...\n",
      "Loading Gravesham from SSx\n"
     ]
    },
    {
     "name": "stderr",
     "output_type": "stream",
     "text": [
      "/homes/wwc4618/predicting-choice/utils/remove_false_nodes.py:97: FutureWarning: The frame.append method is deprecated and will be removed from pandas in a future version. Use pandas.concat instead.\n",
      "  return df.append(\n"
     ]
    },
    {
     "name": "stdout",
     "output_type": "stream",
     "text": [
      "29980 geometries retrieved from Gravesham\n",
      "Generated graph with 1062 nodes and 1454 edges\n",
      "Node features: ['metres', 'choice2km', 'nodecount2km', 'integration2km', 'choice10km', 'nodecount10km', 'integration10km', 'choice100km', 'nodecount100km', 'integration100km', 'choice2kmrank', 'choice10kmrank', 'integration10kmrank', 'integration2kmrank', 'choice2kmlog', 'choice10kmlog', 'choice100kmlog', 'x', 'y']\n",
      "Node target: None\n",
      "Edge attributes: {'u', 'v'}\n",
      "Loading graph of East Riding of Yorkshire with key ('East Riding of Yorkshire', \"['metres', 'choice2km', 'nodecount2km', 'integration2km', 'choice10km', 'nodecount10km', 'integration10km', 'choice100km', 'nodecount100km', 'integration100km', 'choice2kmrank', 'choice10kmrank', 'integration10kmrank', 'integration2kmrank', 'choice2kmlog', 'choice10kmlog', 'choice100kmlog']\", None, 'primal', 'False', True, 50, False)...\n",
      "Loading East Riding of Yorkshire from SSx\n"
     ]
    },
    {
     "name": "stderr",
     "output_type": "stream",
     "text": [
      "/homes/wwc4618/predicting-choice/utils/remove_false_nodes.py:97: FutureWarning: The frame.append method is deprecated and will be removed from pandas in a future version. Use pandas.concat instead.\n",
      "  return df.append(\n"
     ]
    },
    {
     "name": "stdout",
     "output_type": "stream",
     "text": [
      "133580 geometries retrieved from East Riding of Yorkshire\n",
      "Generated graph with 4964 nodes and 6489 edges\n",
      "Node features: ['metres', 'choice2km', 'nodecount2km', 'integration2km', 'choice10km', 'nodecount10km', 'integration10km', 'choice100km', 'nodecount100km', 'integration100km', 'choice2kmrank', 'choice10kmrank', 'integration10kmrank', 'integration2kmrank', 'choice2kmlog', 'choice10kmlog', 'choice100kmlog', 'x', 'y']\n",
      "Node target: None\n",
      "Edge attributes: {'u', 'v'}\n",
      "Loading graph of South Somerset with key ('South Somerset', \"['metres', 'choice2km', 'nodecount2km', 'integration2km', 'choice10km', 'nodecount10km', 'integration10km', 'choice100km', 'nodecount100km', 'integration100km', 'choice2kmrank', 'choice10kmrank', 'integration10kmrank', 'integration2kmrank', 'choice2kmlog', 'choice10kmlog', 'choice100kmlog']\", None, 'primal', 'False', True, 50, False)...\n",
      "Loading South Somerset from SSx\n"
     ]
    },
    {
     "name": "stderr",
     "output_type": "stream",
     "text": [
      "/homes/wwc4618/predicting-choice/utils/remove_false_nodes.py:97: FutureWarning: The frame.append method is deprecated and will be removed from pandas in a future version. Use pandas.concat instead.\n",
      "  return df.append(\n"
     ]
    },
    {
     "name": "stdout",
     "output_type": "stream",
     "text": [
      "89080 geometries retrieved from South Somerset\n",
      "Generated graph with 3321 nodes and 4374 edges\n",
      "Node features: ['metres', 'choice2km', 'nodecount2km', 'integration2km', 'choice10km', 'nodecount10km', 'integration10km', 'choice100km', 'nodecount100km', 'integration100km', 'choice2kmrank', 'choice10kmrank', 'integration10kmrank', 'integration2kmrank', 'choice2kmlog', 'choice10kmlog', 'choice100kmlog', 'x', 'y']\n",
      "Node target: None\n",
      "Edge attributes: {'u', 'v'}\n",
      "Loading graph of West Dorset with key ('West Dorset', \"['metres', 'choice2km', 'nodecount2km', 'integration2km', 'choice10km', 'nodecount10km', 'integration10km', 'choice100km', 'nodecount100km', 'integration100km', 'choice2kmrank', 'choice10kmrank', 'integration10kmrank', 'integration2kmrank', 'choice2kmlog', 'choice10kmlog', 'choice100kmlog']\", None, 'primal', 'False', True, 50, False)...\n",
      "Loading West Dorset from SSx\n"
     ]
    },
    {
     "name": "stderr",
     "output_type": "stream",
     "text": [
      "/homes/wwc4618/predicting-choice/utils/remove_false_nodes.py:97: FutureWarning: The frame.append method is deprecated and will be removed from pandas in a future version. Use pandas.concat instead.\n",
      "  return df.append(\n"
     ]
    },
    {
     "name": "stdout",
     "output_type": "stream",
     "text": [
      "63320 geometries retrieved from West Dorset\n",
      "Generated graph with 2384 nodes and 3071 edges\n",
      "Node features: ['metres', 'choice2km', 'nodecount2km', 'integration2km', 'choice10km', 'nodecount10km', 'integration10km', 'choice100km', 'nodecount100km', 'integration100km', 'choice2kmrank', 'choice10kmrank', 'integration10kmrank', 'integration2kmrank', 'choice2kmlog', 'choice10kmlog', 'choice100kmlog', 'x', 'y']\n",
      "Node target: None\n",
      "Edge attributes: {'u', 'v'}\n",
      "Loading graph of Sevenoaks with key ('Sevenoaks', \"['metres', 'choice2km', 'nodecount2km', 'integration2km', 'choice10km', 'nodecount10km', 'integration10km', 'choice100km', 'nodecount100km', 'integration100km', 'choice2kmrank', 'choice10kmrank', 'integration10kmrank', 'integration2kmrank', 'choice2kmlog', 'choice10kmlog', 'choice100kmlog']\", None, 'primal', 'False', True, 50, False)...\n",
      "Loading Sevenoaks from SSx\n"
     ]
    },
    {
     "name": "stderr",
     "output_type": "stream",
     "text": [
      "/homes/wwc4618/predicting-choice/utils/remove_false_nodes.py:97: FutureWarning: The frame.append method is deprecated and will be removed from pandas in a future version. Use pandas.concat instead.\n",
      "  return df.append(\n"
     ]
    },
    {
     "name": "stdout",
     "output_type": "stream",
     "text": [
      "39200 geometries retrieved from Sevenoaks\n",
      "Generated graph with 1461 nodes and 1903 edges\n",
      "Node features: ['metres', 'choice2km', 'nodecount2km', 'integration2km', 'choice10km', 'nodecount10km', 'integration10km', 'choice100km', 'nodecount100km', 'integration100km', 'choice2kmrank', 'choice10kmrank', 'integration10kmrank', 'integration2kmrank', 'choice2kmlog', 'choice10kmlog', 'choice100kmlog', 'x', 'y']\n",
      "Node target: None\n",
      "Edge attributes: {'u', 'v'}\n",
      "Loading graph of Medway with key ('Medway', \"['metres', 'choice2km', 'nodecount2km', 'integration2km', 'choice10km', 'nodecount10km', 'integration10km', 'choice100km', 'nodecount100km', 'integration100km', 'choice2kmrank', 'choice10kmrank', 'integration10kmrank', 'integration2kmrank', 'choice2kmlog', 'choice10kmlog', 'choice100kmlog']\", None, 'primal', 'False', True, 50, False)...\n",
      "Loading Medway from SSx\n"
     ]
    },
    {
     "name": "stderr",
     "output_type": "stream",
     "text": [
      "/homes/wwc4618/predicting-choice/utils/remove_false_nodes.py:97: FutureWarning: The frame.append method is deprecated and will be removed from pandas in a future version. Use pandas.concat instead.\n",
      "  return df.append(\n"
     ]
    },
    {
     "name": "stdout",
     "output_type": "stream",
     "text": [
      "68440 geometries retrieved from Medway\n",
      "Generated graph with 2461 nodes and 3322 edges\n",
      "Node features: ['metres', 'choice2km', 'nodecount2km', 'integration2km', 'choice10km', 'nodecount10km', 'integration10km', 'choice100km', 'nodecount100km', 'integration100km', 'choice2kmrank', 'choice10kmrank', 'integration10kmrank', 'integration2kmrank', 'choice2kmlog', 'choice10kmlog', 'choice100kmlog', 'x', 'y']\n",
      "Node target: None\n",
      "Edge attributes: {'u', 'v'}\n",
      "Loading graph of Nottingham with key ('Nottingham', \"['metres', 'choice2km', 'nodecount2km', 'integration2km', 'choice10km', 'nodecount10km', 'integration10km', 'choice100km', 'nodecount100km', 'integration100km', 'choice2kmrank', 'choice10kmrank', 'integration10kmrank', 'integration2kmrank', 'choice2kmlog', 'choice10kmlog', 'choice100kmlog']\", None, 'primal', 'False', True, 50, False)...\n",
      "Loading Nottingham from SSx\n"
     ]
    },
    {
     "name": "stderr",
     "output_type": "stream",
     "text": [
      "/homes/wwc4618/predicting-choice/utils/remove_false_nodes.py:97: FutureWarning: The frame.append method is deprecated and will be removed from pandas in a future version. Use pandas.concat instead.\n",
      "  return df.append(\n"
     ]
    },
    {
     "name": "stdout",
     "output_type": "stream",
     "text": [
      "83340 geometries retrieved from Nottingham\n",
      "Generated graph with 2834 nodes and 4056 edges\n",
      "Node features: ['metres', 'choice2km', 'nodecount2km', 'integration2km', 'choice10km', 'nodecount10km', 'integration10km', 'choice100km', 'nodecount100km', 'integration100km', 'choice2kmrank', 'choice10kmrank', 'integration10kmrank', 'integration2kmrank', 'choice2kmlog', 'choice10kmlog', 'choice100kmlog', 'x', 'y']\n",
      "Node target: None\n",
      "Edge attributes: {'u', 'v'}\n",
      "Loading graph of Tamworth with key ('Tamworth', \"['metres', 'choice2km', 'nodecount2km', 'integration2km', 'choice10km', 'nodecount10km', 'integration10km', 'choice100km', 'nodecount100km', 'integration100km', 'choice2kmrank', 'choice10kmrank', 'integration10kmrank', 'integration2kmrank', 'choice2kmlog', 'choice10kmlog', 'choice100kmlog']\", None, 'primal', 'False', True, 50, False)...\n",
      "Loading Tamworth from SSx\n"
     ]
    },
    {
     "name": "stderr",
     "output_type": "stream",
     "text": [
      "/homes/wwc4618/predicting-choice/utils/remove_false_nodes.py:97: FutureWarning: The frame.append method is deprecated and will be removed from pandas in a future version. Use pandas.concat instead.\n",
      "  return df.append(\n"
     ]
    },
    {
     "name": "stdout",
     "output_type": "stream",
     "text": [
      "16700 geometries retrieved from Tamworth\n",
      "Generated graph with 652 nodes and 807 edges\n",
      "Node features: ['metres', 'choice2km', 'nodecount2km', 'integration2km', 'choice10km', 'nodecount10km', 'integration10km', 'choice100km', 'nodecount100km', 'integration100km', 'choice2kmrank', 'choice10kmrank', 'integration10kmrank', 'integration2kmrank', 'choice2kmlog', 'choice10kmlog', 'choice100kmlog', 'x', 'y']\n",
      "Node target: None\n",
      "Edge attributes: {'u', 'v'}\n",
      "Loading graph of Warwick with key ('Warwick', \"['metres', 'choice2km', 'nodecount2km', 'integration2km', 'choice10km', 'nodecount10km', 'integration10km', 'choice100km', 'nodecount100km', 'integration100km', 'choice2kmrank', 'choice10kmrank', 'integration10kmrank', 'integration2kmrank', 'choice2kmlog', 'choice10kmlog', 'choice100kmlog']\", None, 'primal', 'False', True, 50, False)...\n",
      "Loading Warwick from SSx\n"
     ]
    },
    {
     "name": "stderr",
     "output_type": "stream",
     "text": [
      "/homes/wwc4618/predicting-choice/utils/remove_false_nodes.py:97: FutureWarning: The frame.append method is deprecated and will be removed from pandas in a future version. Use pandas.concat instead.\n",
      "  return df.append(\n"
     ]
    },
    {
     "name": "stdout",
     "output_type": "stream",
     "text": [
      "47200 geometries retrieved from Warwick\n",
      "Generated graph with 1665 nodes and 2281 edges\n",
      "Node features: ['metres', 'choice2km', 'nodecount2km', 'integration2km', 'choice10km', 'nodecount10km', 'integration10km', 'choice100km', 'nodecount100km', 'integration100km', 'choice2kmrank', 'choice10kmrank', 'integration10kmrank', 'integration2kmrank', 'choice2kmlog', 'choice10kmlog', 'choice100kmlog', 'x', 'y']\n",
      "Node target: None\n",
      "Edge attributes: {'u', 'v'}\n",
      "Loading graph of Dartford with key ('Dartford', \"['metres', 'choice2km', 'nodecount2km', 'integration2km', 'choice10km', 'nodecount10km', 'integration10km', 'choice100km', 'nodecount100km', 'integration100km', 'choice2kmrank', 'choice10kmrank', 'integration10kmrank', 'integration2kmrank', 'choice2kmlog', 'choice10kmlog', 'choice100kmlog']\", None, 'primal', 'False', True, 50, False)...\n",
      "Loading Dartford from SSx\n"
     ]
    },
    {
     "name": "stderr",
     "output_type": "stream",
     "text": [
      "/homes/wwc4618/predicting-choice/utils/remove_false_nodes.py:97: FutureWarning: The frame.append method is deprecated and will be removed from pandas in a future version. Use pandas.concat instead.\n",
      "  return df.append(\n"
     ]
    },
    {
     "name": "stdout",
     "output_type": "stream",
     "text": [
      "25320 geometries retrieved from Dartford\n",
      "Generated graph with 913 nodes and 1227 edges\n",
      "Node features: ['metres', 'choice2km', 'nodecount2km', 'integration2km', 'choice10km', 'nodecount10km', 'integration10km', 'choice100km', 'nodecount100km', 'integration100km', 'choice2kmrank', 'choice10kmrank', 'integration10kmrank', 'integration2kmrank', 'choice2kmlog', 'choice10kmlog', 'choice100kmlog', 'x', 'y']\n",
      "Node target: None\n",
      "Edge attributes: {'u', 'v'}\n",
      "Loading graph of Surrey Heath with key ('Surrey Heath', \"['metres', 'choice2km', 'nodecount2km', 'integration2km', 'choice10km', 'nodecount10km', 'integration10km', 'choice100km', 'nodecount100km', 'integration100km', 'choice2kmrank', 'choice10kmrank', 'integration10kmrank', 'integration2kmrank', 'choice2kmlog', 'choice10kmlog', 'choice100kmlog']\", None, 'primal', 'False', True, 50, False)...\n",
      "Loading Surrey Heath from SSx\n"
     ]
    },
    {
     "name": "stderr",
     "output_type": "stream",
     "text": [
      "/homes/wwc4618/predicting-choice/utils/remove_false_nodes.py:97: FutureWarning: The frame.append method is deprecated and will be removed from pandas in a future version. Use pandas.concat instead.\n",
      "  return df.append(\n"
     ]
    },
    {
     "name": "stdout",
     "output_type": "stream",
     "text": [
      "26720 geometries retrieved from Surrey Heath\n",
      "Generated graph with 1006 nodes and 1294 edges\n",
      "Node features: ['metres', 'choice2km', 'nodecount2km', 'integration2km', 'choice10km', 'nodecount10km', 'integration10km', 'choice100km', 'nodecount100km', 'integration100km', 'choice2kmrank', 'choice10kmrank', 'integration10kmrank', 'integration2kmrank', 'choice2kmlog', 'choice10kmlog', 'choice100kmlog', 'x', 'y']\n",
      "Node target: None\n",
      "Edge attributes: {'u', 'v'}\n",
      "Loading graph of South Norfolk with key ('South Norfolk', \"['metres', 'choice2km', 'nodecount2km', 'integration2km', 'choice10km', 'nodecount10km', 'integration10km', 'choice100km', 'nodecount100km', 'integration100km', 'choice2kmrank', 'choice10kmrank', 'integration10kmrank', 'integration2kmrank', 'choice2kmlog', 'choice10kmlog', 'choice100kmlog']\", None, 'primal', 'False', True, 50, False)...\n",
      "Loading South Norfolk from SSx\n"
     ]
    },
    {
     "name": "stderr",
     "output_type": "stream",
     "text": [
      "/homes/wwc4618/predicting-choice/utils/remove_false_nodes.py:97: FutureWarning: The frame.append method is deprecated and will be removed from pandas in a future version. Use pandas.concat instead.\n",
      "  return df.append(\n"
     ]
    },
    {
     "name": "stdout",
     "output_type": "stream",
     "text": [
      "71100 geometries retrieved from South Norfolk\n",
      "Generated graph with 2623 nodes and 3490 edges\n",
      "Node features: ['metres', 'choice2km', 'nodecount2km', 'integration2km', 'choice10km', 'nodecount10km', 'integration10km', 'choice100km', 'nodecount100km', 'integration100km', 'choice2kmrank', 'choice10kmrank', 'integration10kmrank', 'integration2kmrank', 'choice2kmlog', 'choice10kmlog', 'choice100kmlog', 'x', 'y']\n",
      "Node target: None\n",
      "Edge attributes: {'u', 'v'}\n",
      "Loading graph of Oldham with key ('Oldham', \"['metres', 'choice2km', 'nodecount2km', 'integration2km', 'choice10km', 'nodecount10km', 'integration10km', 'choice100km', 'nodecount100km', 'integration100km', 'choice2kmrank', 'choice10kmrank', 'integration10kmrank', 'integration2kmrank', 'choice2kmlog', 'choice10kmlog', 'choice100kmlog']\", None, 'primal', 'False', True, 50, False)...\n",
      "Loading Oldham from SSx\n"
     ]
    },
    {
     "name": "stderr",
     "output_type": "stream",
     "text": [
      "/homes/wwc4618/predicting-choice/utils/remove_false_nodes.py:97: FutureWarning: The frame.append method is deprecated and will be removed from pandas in a future version. Use pandas.concat instead.\n",
      "  return df.append(\n"
     ]
    },
    {
     "name": "stdout",
     "output_type": "stream",
     "text": [
      "89120 geometries retrieved from Oldham\n",
      "Generated graph with 3009 nodes and 4313 edges\n",
      "Node features: ['metres', 'choice2km', 'nodecount2km', 'integration2km', 'choice10km', 'nodecount10km', 'integration10km', 'choice100km', 'nodecount100km', 'integration100km', 'choice2kmrank', 'choice10kmrank', 'integration10kmrank', 'integration2kmrank', 'choice2kmlog', 'choice10kmlog', 'choice100kmlog', 'x', 'y']\n",
      "Node target: None\n",
      "Edge attributes: {'u', 'v'}\n",
      "Loading graph of West Lindsey with key ('West Lindsey', \"['metres', 'choice2km', 'nodecount2km', 'integration2km', 'choice10km', 'nodecount10km', 'integration10km', 'choice100km', 'nodecount100km', 'integration100km', 'choice2kmrank', 'choice10kmrank', 'integration10kmrank', 'integration2kmrank', 'choice2kmlog', 'choice10kmlog', 'choice100kmlog']\", None, 'primal', 'False', True, 50, False)...\n",
      "Loading West Lindsey from SSx\n"
     ]
    },
    {
     "name": "stderr",
     "output_type": "stream",
     "text": [
      "/homes/wwc4618/predicting-choice/utils/remove_false_nodes.py:97: FutureWarning: The frame.append method is deprecated and will be removed from pandas in a future version. Use pandas.concat instead.\n",
      "  return df.append(\n"
     ]
    },
    {
     "name": "stdout",
     "output_type": "stream",
     "text": [
      "44320 geometries retrieved from West Lindsey\n",
      "Generated graph with 1651 nodes and 2164 edges\n",
      "Node features: ['metres', 'choice2km', 'nodecount2km', 'integration2km', 'choice10km', 'nodecount10km', 'integration10km', 'choice100km', 'nodecount100km', 'integration100km', 'choice2kmrank', 'choice10kmrank', 'integration10kmrank', 'integration2kmrank', 'choice2kmlog', 'choice10kmlog', 'choice100kmlog', 'x', 'y']\n",
      "Node target: None\n",
      "Edge attributes: {'u', 'v'}\n",
      "Loading graph of Lambeth with key ('Lambeth', \"['metres', 'choice2km', 'nodecount2km', 'integration2km', 'choice10km', 'nodecount10km', 'integration10km', 'choice100km', 'nodecount100km', 'integration100km', 'choice2kmrank', 'choice10kmrank', 'integration10kmrank', 'integration2kmrank', 'choice2kmlog', 'choice10kmlog', 'choice100kmlog']\", None, 'primal', 'False', True, 50, False)...\n",
      "Loading Lambeth from SSx\n"
     ]
    },
    {
     "name": "stderr",
     "output_type": "stream",
     "text": [
      "/homes/wwc4618/predicting-choice/utils/remove_false_nodes.py:97: FutureWarning: The frame.append method is deprecated and will be removed from pandas in a future version. Use pandas.concat instead.\n",
      "  return df.append(\n"
     ]
    },
    {
     "name": "stdout",
     "output_type": "stream",
     "text": [
      "54740 geometries retrieved from Lambeth\n",
      "Generated graph with 1816 nodes and 2675 edges\n",
      "Node features: ['metres', 'choice2km', 'nodecount2km', 'integration2km', 'choice10km', 'nodecount10km', 'integration10km', 'choice100km', 'nodecount100km', 'integration100km', 'choice2kmrank', 'choice10kmrank', 'integration10kmrank', 'integration2kmrank', 'choice2kmlog', 'choice10kmlog', 'choice100kmlog', 'x', 'y']\n",
      "Node target: None\n",
      "Edge attributes: {'u', 'v'}\n",
      "Loading graph of North Norfolk with key ('North Norfolk', \"['metres', 'choice2km', 'nodecount2km', 'integration2km', 'choice10km', 'nodecount10km', 'integration10km', 'choice100km', 'nodecount100km', 'integration100km', 'choice2kmrank', 'choice10kmrank', 'integration10kmrank', 'integration2kmrank', 'choice2kmlog', 'choice10kmlog', 'choice100kmlog']\", None, 'primal', 'False', True, 50, False)...\n",
      "Loading North Norfolk from SSx\n"
     ]
    },
    {
     "name": "stderr",
     "output_type": "stream",
     "text": [
      "/homes/wwc4618/predicting-choice/utils/remove_false_nodes.py:97: FutureWarning: The frame.append method is deprecated and will be removed from pandas in a future version. Use pandas.concat instead.\n",
      "  return df.append(\n"
     ]
    },
    {
     "name": "stdout",
     "output_type": "stream",
     "text": [
      "75220 geometries retrieved from North Norfolk\n",
      "Generated graph with 2717 nodes and 3691 edges\n",
      "Node features: ['metres', 'choice2km', 'nodecount2km', 'integration2km', 'choice10km', 'nodecount10km', 'integration10km', 'choice100km', 'nodecount100km', 'integration100km', 'choice2kmrank', 'choice10kmrank', 'integration10kmrank', 'integration2kmrank', 'choice2kmlog', 'choice10kmlog', 'choice100kmlog', 'x', 'y']\n",
      "Node target: None\n",
      "Edge attributes: {'u', 'v'}\n",
      "Loading graph of Breckland with key ('Breckland', \"['metres', 'choice2km', 'nodecount2km', 'integration2km', 'choice10km', 'nodecount10km', 'integration10km', 'choice100km', 'nodecount100km', 'integration100km', 'choice2kmrank', 'choice10kmrank', 'integration10kmrank', 'integration2kmrank', 'choice2kmlog', 'choice10kmlog', 'choice100kmlog']\", None, 'primal', 'False', True, 50, False)...\n",
      "Loading Breckland from SSx\n"
     ]
    },
    {
     "name": "stderr",
     "output_type": "stream",
     "text": [
      "/homes/wwc4618/predicting-choice/utils/remove_false_nodes.py:97: FutureWarning: The frame.append method is deprecated and will be removed from pandas in a future version. Use pandas.concat instead.\n",
      "  return df.append(\n"
     ]
    },
    {
     "name": "stdout",
     "output_type": "stream",
     "text": [
      "68960 geometries retrieved from Breckland\n",
      "Generated graph with 2556 nodes and 3376 edges\n",
      "Node features: ['metres', 'choice2km', 'nodecount2km', 'integration2km', 'choice10km', 'nodecount10km', 'integration10km', 'choice100km', 'nodecount100km', 'integration100km', 'choice2kmrank', 'choice10kmrank', 'integration10kmrank', 'integration2kmrank', 'choice2kmlog', 'choice10kmlog', 'choice100kmlog', 'x', 'y']\n",
      "Node target: None\n",
      "Edge attributes: {'u', 'v'}\n",
      "Loading graph of Broxtowe with key ('Broxtowe', \"['metres', 'choice2km', 'nodecount2km', 'integration2km', 'choice10km', 'nodecount10km', 'integration10km', 'choice100km', 'nodecount100km', 'integration100km', 'choice2kmrank', 'choice10kmrank', 'integration10kmrank', 'integration2kmrank', 'choice2kmlog', 'choice10kmlog', 'choice100kmlog']\", None, 'primal', 'False', True, 50, False)...\n",
      "Loading Broxtowe from SSx\n"
     ]
    },
    {
     "name": "stderr",
     "output_type": "stream",
     "text": [
      "/homes/wwc4618/predicting-choice/utils/remove_false_nodes.py:97: FutureWarning: The frame.append method is deprecated and will be removed from pandas in a future version. Use pandas.concat instead.\n",
      "  return df.append(\n"
     ]
    },
    {
     "name": "stdout",
     "output_type": "stream",
     "text": [
      "32220 geometries retrieved from Broxtowe\n",
      "Generated graph with 1162 nodes and 1541 edges\n",
      "Node features: ['metres', 'choice2km', 'nodecount2km', 'integration2km', 'choice10km', 'nodecount10km', 'integration10km', 'choice100km', 'nodecount100km', 'integration100km', 'choice2kmrank', 'choice10kmrank', 'integration10kmrank', 'integration2kmrank', 'choice2kmlog', 'choice10kmlog', 'choice100kmlog', 'x', 'y']\n",
      "Node target: None\n",
      "Edge attributes: {'u', 'v'}\n",
      "Loading graph of Staffordshire Moorlands with key ('Staffordshire Moorlands', \"['metres', 'choice2km', 'nodecount2km', 'integration2km', 'choice10km', 'nodecount10km', 'integration10km', 'choice100km', 'nodecount100km', 'integration100km', 'choice2kmrank', 'choice10kmrank', 'integration10kmrank', 'integration2kmrank', 'choice2kmlog', 'choice10kmlog', 'choice100kmlog']\", None, 'primal', 'False', True, 50, False)...\n",
      "Loading Staffordshire Moorlands from SSx\n"
     ]
    },
    {
     "name": "stderr",
     "output_type": "stream",
     "text": [
      "/homes/wwc4618/predicting-choice/utils/remove_false_nodes.py:97: FutureWarning: The frame.append method is deprecated and will be removed from pandas in a future version. Use pandas.concat instead.\n",
      "  return df.append(\n"
     ]
    },
    {
     "name": "stdout",
     "output_type": "stream",
     "text": [
      "47280 geometries retrieved from Staffordshire Moorlands\n",
      "Generated graph with 1722 nodes and 2300 edges\n",
      "Node features: ['metres', 'choice2km', 'nodecount2km', 'integration2km', 'choice10km', 'nodecount10km', 'integration10km', 'choice100km', 'nodecount100km', 'integration100km', 'choice2kmrank', 'choice10kmrank', 'integration10kmrank', 'integration2kmrank', 'choice2kmlog', 'choice10kmlog', 'choice100kmlog', 'x', 'y']\n",
      "Node target: None\n",
      "Edge attributes: {'u', 'v'}\n",
      "Loading graph of Worthing with key ('Worthing', \"['metres', 'choice2km', 'nodecount2km', 'integration2km', 'choice10km', 'nodecount10km', 'integration10km', 'choice100km', 'nodecount100km', 'integration100km', 'choice2kmrank', 'choice10kmrank', 'integration10kmrank', 'integration2kmrank', 'choice2kmlog', 'choice10kmlog', 'choice100kmlog']\", None, 'primal', 'False', True, 50, False)...\n",
      "Loading Worthing from SSx\n"
     ]
    },
    {
     "name": "stderr",
     "output_type": "stream",
     "text": [
      "/homes/wwc4618/predicting-choice/utils/remove_false_nodes.py:97: FutureWarning: The frame.append method is deprecated and will be removed from pandas in a future version. Use pandas.concat instead.\n",
      "  return df.append(\n"
     ]
    },
    {
     "name": "stdout",
     "output_type": "stream",
     "text": [
      "32060 geometries retrieved from Worthing\n",
      "Generated graph with 1080 nodes and 1572 edges\n",
      "Node features: ['metres', 'choice2km', 'nodecount2km', 'integration2km', 'choice10km', 'nodecount10km', 'integration10km', 'choice100km', 'nodecount100km', 'integration100km', 'choice2kmrank', 'choice10kmrank', 'integration10kmrank', 'integration2kmrank', 'choice2kmlog', 'choice10kmlog', 'choice100kmlog', 'x', 'y']\n",
      "Node target: None\n",
      "Edge attributes: {'u', 'v'}\n",
      "Loading graph of King's Lynn and West Norfolk with key (\"King's Lynn and West Norfolk\", \"['metres', 'choice2km', 'nodecount2km', 'integration2km', 'choice10km', 'nodecount10km', 'integration10km', 'choice100km', 'nodecount100km', 'integration100km', 'choice2kmrank', 'choice10kmrank', 'integration10kmrank', 'integration2kmrank', 'choice2kmlog', 'choice10kmlog', 'choice100kmlog']\", None, 'primal', 'False', True, 50, False)...\n",
      "Loading King's Lynn and West Norfolk from SSx\n"
     ]
    },
    {
     "name": "stderr",
     "output_type": "stream",
     "text": [
      "/homes/wwc4618/predicting-choice/utils/remove_false_nodes.py:97: FutureWarning: The frame.append method is deprecated and will be removed from pandas in a future version. Use pandas.concat instead.\n",
      "  return df.append(\n"
     ]
    },
    {
     "name": "stdout",
     "output_type": "stream",
     "text": [
      "76620 geometries retrieved from King's Lynn and West Norfolk\n",
      "Generated graph with 2862 nodes and 3757 edges\n",
      "Node features: ['metres', 'choice2km', 'nodecount2km', 'integration2km', 'choice10km', 'nodecount10km', 'integration10km', 'choice100km', 'nodecount100km', 'integration100km', 'choice2kmrank', 'choice10kmrank', 'integration10kmrank', 'integration2kmrank', 'choice2kmlog', 'choice10kmlog', 'choice100kmlog', 'x', 'y']\n",
      "Node target: None\n",
      "Edge attributes: {'u', 'v'}\n",
      "Loading graph of Kirklees with key ('Kirklees', \"['metres', 'choice2km', 'nodecount2km', 'integration2km', 'choice10km', 'nodecount10km', 'integration10km', 'choice100km', 'nodecount100km', 'integration100km', 'choice2kmrank', 'choice10kmrank', 'integration10kmrank', 'integration2kmrank', 'choice2kmlog', 'choice10kmlog', 'choice100kmlog']\", None, 'primal', 'False', True, 50, False)...\n",
      "Loading Kirklees from SSx\n"
     ]
    },
    {
     "name": "stderr",
     "output_type": "stream",
     "text": [
      "/homes/wwc4618/predicting-choice/utils/remove_false_nodes.py:97: FutureWarning: The frame.append method is deprecated and will be removed from pandas in a future version. Use pandas.concat instead.\n",
      "  return df.append(\n"
     ]
    },
    {
     "name": "stdout",
     "output_type": "stream",
     "text": [
      "158000 geometries retrieved from Kirklees\n",
      "Generated graph with 5504 nodes and 7670 edges\n",
      "Node features: ['metres', 'choice2km', 'nodecount2km', 'integration2km', 'choice10km', 'nodecount10km', 'integration10km', 'choice100km', 'nodecount100km', 'integration100km', 'choice2kmrank', 'choice10kmrank', 'integration10kmrank', 'integration2kmrank', 'choice2kmlog', 'choice10kmlog', 'choice100kmlog', 'x', 'y']\n",
      "Node target: None\n",
      "Edge attributes: {'u', 'v'}\n",
      "Loading graph of Calderdale with key ('Calderdale', \"['metres', 'choice2km', 'nodecount2km', 'integration2km', 'choice10km', 'nodecount10km', 'integration10km', 'choice100km', 'nodecount100km', 'integration100km', 'choice2kmrank', 'choice10kmrank', 'integration10kmrank', 'integration2kmrank', 'choice2kmlog', 'choice10kmlog', 'choice100kmlog']\", None, 'primal', 'False', True, 50, False)...\n",
      "Loading Calderdale from SSx\n"
     ]
    },
    {
     "name": "stderr",
     "output_type": "stream",
     "text": [
      "/homes/wwc4618/predicting-choice/utils/remove_false_nodes.py:97: FutureWarning: The frame.append method is deprecated and will be removed from pandas in a future version. Use pandas.concat instead.\n",
      "  return df.append(\n"
     ]
    },
    {
     "name": "stdout",
     "output_type": "stream",
     "text": [
      "100620 geometries retrieved from Calderdale\n",
      "Generated graph with 3521 nodes and 4866 edges\n",
      "Node features: ['metres', 'choice2km', 'nodecount2km', 'integration2km', 'choice10km', 'nodecount10km', 'integration10km', 'choice100km', 'nodecount100km', 'integration100km', 'choice2kmrank', 'choice10kmrank', 'integration10kmrank', 'integration2kmrank', 'choice2kmlog', 'choice10kmlog', 'choice100kmlog', 'x', 'y']\n",
      "Node target: None\n",
      "Edge attributes: {'u', 'v'}\n",
      "Loading graph of Great Yarmouth with key ('Great Yarmouth', \"['metres', 'choice2km', 'nodecount2km', 'integration2km', 'choice10km', 'nodecount10km', 'integration10km', 'choice100km', 'nodecount100km', 'integration100km', 'choice2kmrank', 'choice10kmrank', 'integration10kmrank', 'integration2kmrank', 'choice2kmlog', 'choice10kmlog', 'choice100kmlog']\", None, 'primal', 'False', True, 50, False)...\n",
      "Loading Great Yarmouth from SSx\n"
     ]
    },
    {
     "name": "stderr",
     "output_type": "stream",
     "text": [
      "/homes/wwc4618/predicting-choice/utils/remove_false_nodes.py:97: FutureWarning: The frame.append method is deprecated and will be removed from pandas in a future version. Use pandas.concat instead.\n",
      "  return df.append(\n"
     ]
    },
    {
     "name": "stdout",
     "output_type": "stream",
     "text": [
      "42820 geometries retrieved from Great Yarmouth\n",
      "Generated graph with 1496 nodes and 2105 edges\n",
      "Node features: ['metres', 'choice2km', 'nodecount2km', 'integration2km', 'choice10km', 'nodecount10km', 'integration10km', 'choice100km', 'nodecount100km', 'integration100km', 'choice2kmrank', 'choice10kmrank', 'integration10kmrank', 'integration2kmrank', 'choice2kmlog', 'choice10kmlog', 'choice100kmlog', 'x', 'y']\n",
      "Node target: None\n",
      "Edge attributes: {'u', 'v'}\n",
      "Loading graph of Crawley with key ('Crawley', \"['metres', 'choice2km', 'nodecount2km', 'integration2km', 'choice10km', 'nodecount10km', 'integration10km', 'choice100km', 'nodecount100km', 'integration100km', 'choice2kmrank', 'choice10kmrank', 'integration10kmrank', 'integration2kmrank', 'choice2kmlog', 'choice10kmlog', 'choice100kmlog']\", None, 'primal', 'False', True, 50, False)...\n",
      "Loading Crawley from SSx\n"
     ]
    },
    {
     "name": "stderr",
     "output_type": "stream",
     "text": [
      "/homes/wwc4618/predicting-choice/utils/remove_false_nodes.py:97: FutureWarning: The frame.append method is deprecated and will be removed from pandas in a future version. Use pandas.concat instead.\n",
      "  return df.append(\n"
     ]
    },
    {
     "name": "stdout",
     "output_type": "stream",
     "text": [
      "23980 geometries retrieved from Crawley\n",
      "Generated graph with 878 nodes and 1161 edges\n",
      "Node features: ['metres', 'choice2km', 'nodecount2km', 'integration2km', 'choice10km', 'nodecount10km', 'integration10km', 'choice100km', 'nodecount100km', 'integration100km', 'choice2kmrank', 'choice10kmrank', 'integration10kmrank', 'integration2kmrank', 'choice2kmlog', 'choice10kmlog', 'choice100kmlog', 'x', 'y']\n",
      "Node target: None\n",
      "Edge attributes: {'u', 'v'}\n",
      "Loading graph of East Devon with key ('East Devon', \"['metres', 'choice2km', 'nodecount2km', 'integration2km', 'choice10km', 'nodecount10km', 'integration10km', 'choice100km', 'nodecount100km', 'integration100km', 'choice2kmrank', 'choice10kmrank', 'integration10kmrank', 'integration2kmrank', 'choice2kmlog', 'choice10kmlog', 'choice100kmlog']\", None, 'primal', 'False', True, 50, False)...\n",
      "Loading East Devon from SSx\n"
     ]
    },
    {
     "name": "stderr",
     "output_type": "stream",
     "text": [
      "/homes/wwc4618/predicting-choice/utils/remove_false_nodes.py:97: FutureWarning: The frame.append method is deprecated and will be removed from pandas in a future version. Use pandas.concat instead.\n",
      "  return df.append(\n"
     ]
    },
    {
     "name": "stdout",
     "output_type": "stream",
     "text": [
      "90300 geometries retrieved from East Devon\n",
      "Generated graph with 3247 nodes and 4393 edges\n",
      "Node features: ['metres', 'choice2km', 'nodecount2km', 'integration2km', 'choice10km', 'nodecount10km', 'integration10km', 'choice100km', 'nodecount100km', 'integration100km', 'choice2kmrank', 'choice10kmrank', 'integration10kmrank', 'integration2kmrank', 'choice2kmlog', 'choice10kmlog', 'choice100kmlog', 'x', 'y']\n",
      "Node target: None\n",
      "Edge attributes: {'u', 'v'}\n",
      "Loading graph of Mid Devon with key ('Mid Devon', \"['metres', 'choice2km', 'nodecount2km', 'integration2km', 'choice10km', 'nodecount10km', 'integration10km', 'choice100km', 'nodecount100km', 'integration100km', 'choice2kmrank', 'choice10kmrank', 'integration10kmrank', 'integration2kmrank', 'choice2kmlog', 'choice10kmlog', 'choice100kmlog']\", None, 'primal', 'False', True, 50, False)...\n",
      "Loading Mid Devon from SSx\n"
     ]
    },
    {
     "name": "stderr",
     "output_type": "stream",
     "text": [
      "/homes/wwc4618/predicting-choice/utils/remove_false_nodes.py:97: FutureWarning: The frame.append method is deprecated and will be removed from pandas in a future version. Use pandas.concat instead.\n",
      "  return df.append(\n"
     ]
    },
    {
     "name": "stdout",
     "output_type": "stream",
     "text": [
      "62980 geometries retrieved from Mid Devon\n",
      "Generated graph with 2349 nodes and 3096 edges\n",
      "Node features: ['metres', 'choice2km', 'nodecount2km', 'integration2km', 'choice10km', 'nodecount10km', 'integration10km', 'choice100km', 'nodecount100km', 'integration100km', 'choice2kmrank', 'choice10kmrank', 'integration10kmrank', 'integration2kmrank', 'choice2kmlog', 'choice10kmlog', 'choice100kmlog', 'x', 'y']\n",
      "Node target: None\n",
      "Edge attributes: {'u', 'v'}\n",
      "Loading graph of St Edmundsbury with key ('St Edmundsbury', \"['metres', 'choice2km', 'nodecount2km', 'integration2km', 'choice10km', 'nodecount10km', 'integration10km', 'choice100km', 'nodecount100km', 'integration100km', 'choice2kmrank', 'choice10kmrank', 'integration10kmrank', 'integration2kmrank', 'choice2kmlog', 'choice10kmlog', 'choice100kmlog']\", None, 'primal', 'False', True, 50, False)...\n",
      "Loading St Edmundsbury from SSx\n"
     ]
    },
    {
     "name": "stderr",
     "output_type": "stream",
     "text": [
      "/homes/wwc4618/predicting-choice/utils/remove_false_nodes.py:97: FutureWarning: The frame.append method is deprecated and will be removed from pandas in a future version. Use pandas.concat instead.\n",
      "  return df.append(\n"
     ]
    },
    {
     "name": "stdout",
     "output_type": "stream",
     "text": [
      "41540 geometries retrieved from St Edmundsbury\n",
      "Generated graph with 1573 nodes and 2024 edges\n",
      "Node features: ['metres', 'choice2km', 'nodecount2km', 'integration2km', 'choice10km', 'nodecount10km', 'integration10km', 'choice100km', 'nodecount100km', 'integration100km', 'choice2kmrank', 'choice10kmrank', 'integration10kmrank', 'integration2kmrank', 'choice2kmlog', 'choice10kmlog', 'choice100kmlog', 'x', 'y']\n",
      "Node target: None\n",
      "Edge attributes: {'u', 'v'}\n",
      "Loading graph of Mid Suffolk with key ('Mid Suffolk', \"['metres', 'choice2km', 'nodecount2km', 'integration2km', 'choice10km', 'nodecount10km', 'integration10km', 'choice100km', 'nodecount100km', 'integration100km', 'choice2kmrank', 'choice10kmrank', 'integration10kmrank', 'integration2kmrank', 'choice2kmlog', 'choice10kmlog', 'choice100kmlog']\", None, 'primal', 'False', True, 50, False)...\n",
      "Loading Mid Suffolk from SSx\n"
     ]
    },
    {
     "name": "stderr",
     "output_type": "stream",
     "text": [
      "/homes/wwc4618/predicting-choice/utils/remove_false_nodes.py:97: FutureWarning: The frame.append method is deprecated and will be removed from pandas in a future version. Use pandas.concat instead.\n",
      "  return df.append(\n"
     ]
    },
    {
     "name": "stdout",
     "output_type": "stream",
     "text": [
      "50020 geometries retrieved from Mid Suffolk\n",
      "Generated graph with 1903 nodes and 2457 edges\n",
      "Node features: ['metres', 'choice2km', 'nodecount2km', 'integration2km', 'choice10km', 'nodecount10km', 'integration10km', 'choice100km', 'nodecount100km', 'integration100km', 'choice2kmrank', 'choice10kmrank', 'integration10kmrank', 'integration2kmrank', 'choice2kmlog', 'choice10kmlog', 'choice100kmlog', 'x', 'y']\n",
      "Node target: None\n",
      "Edge attributes: {'u', 'v'}\n",
      "Loading graph of East Cambridgeshire with key ('East Cambridgeshire', \"['metres', 'choice2km', 'nodecount2km', 'integration2km', 'choice10km', 'nodecount10km', 'integration10km', 'choice100km', 'nodecount100km', 'integration100km', 'choice2kmrank', 'choice10kmrank', 'integration10kmrank', 'integration2kmrank', 'choice2kmlog', 'choice10kmlog', 'choice100kmlog']\", None, 'primal', 'False', True, 50, False)...\n",
      "Loading East Cambridgeshire from SSx\n"
     ]
    },
    {
     "name": "stderr",
     "output_type": "stream",
     "text": [
      "/homes/wwc4618/predicting-choice/utils/remove_false_nodes.py:97: FutureWarning: The frame.append method is deprecated and will be removed from pandas in a future version. Use pandas.concat instead.\n",
      "  return df.append(\n"
     ]
    },
    {
     "name": "stdout",
     "output_type": "stream",
     "text": [
      "29120 geometries retrieved from East Cambridgeshire\n",
      "Generated graph with 1155 nodes and 1425 edges\n",
      "Node features: ['metres', 'choice2km', 'nodecount2km', 'integration2km', 'choice10km', 'nodecount10km', 'integration10km', 'choice100km', 'nodecount100km', 'integration100km', 'choice2kmrank', 'choice10kmrank', 'integration10kmrank', 'integration2kmrank', 'choice2kmlog', 'choice10kmlog', 'choice100kmlog', 'x', 'y']\n",
      "Node target: None\n",
      "Edge attributes: {'u', 'v'}\n",
      "Loading graph of Forest Heath with key ('Forest Heath', \"['metres', 'choice2km', 'nodecount2km', 'integration2km', 'choice10km', 'nodecount10km', 'integration10km', 'choice100km', 'nodecount100km', 'integration100km', 'choice2kmrank', 'choice10kmrank', 'integration10kmrank', 'integration2kmrank', 'choice2kmlog', 'choice10kmlog', 'choice100kmlog']\", None, 'primal', 'False', True, 50, False)...\n",
      "Loading Forest Heath from SSx\n"
     ]
    },
    {
     "name": "stderr",
     "output_type": "stream",
     "text": [
      "/homes/wwc4618/predicting-choice/utils/remove_false_nodes.py:97: FutureWarning: The frame.append method is deprecated and will be removed from pandas in a future version. Use pandas.concat instead.\n",
      "  return df.append(\n"
     ]
    },
    {
     "name": "stdout",
     "output_type": "stream",
     "text": [
      "19980 geometries retrieved from Forest Heath\n",
      "Generated graph with 591 nodes and 718 edges\n",
      "Node features: ['metres', 'choice2km', 'nodecount2km', 'integration2km', 'choice10km', 'nodecount10km', 'integration10km', 'choice100km', 'nodecount100km', 'integration100km', 'choice2kmrank', 'choice10kmrank', 'integration10kmrank', 'integration2kmrank', 'choice2kmlog', 'choice10kmlog', 'choice100kmlog', 'x', 'y']\n",
      "Node target: None\n",
      "Edge attributes: {'u', 'v'}\n",
      "Loading graph of North Devon with key ('North Devon', \"['metres', 'choice2km', 'nodecount2km', 'integration2km', 'choice10km', 'nodecount10km', 'integration10km', 'choice100km', 'nodecount100km', 'integration100km', 'choice2kmrank', 'choice10kmrank', 'integration10kmrank', 'integration2kmrank', 'choice2kmlog', 'choice10kmlog', 'choice100kmlog']\", None, 'primal', 'False', True, 50, False)...\n",
      "Loading North Devon from SSx\n"
     ]
    },
    {
     "name": "stderr",
     "output_type": "stream",
     "text": [
      "/homes/wwc4618/predicting-choice/utils/remove_false_nodes.py:97: FutureWarning: The frame.append method is deprecated and will be removed from pandas in a future version. Use pandas.concat instead.\n",
      "  return df.append(\n"
     ]
    },
    {
     "name": "stdout",
     "output_type": "stream",
     "text": [
      "71540 geometries retrieved from North Devon\n",
      "Generated graph with 2659 nodes and 3486 edges\n",
      "Node features: ['metres', 'choice2km', 'nodecount2km', 'integration2km', 'choice10km', 'nodecount10km', 'integration10km', 'choice100km', 'nodecount100km', 'integration100km', 'choice2kmrank', 'choice10kmrank', 'integration10kmrank', 'integration2kmrank', 'choice2kmlog', 'choice10kmlog', 'choice100kmlog', 'x', 'y']\n",
      "Node target: None\n",
      "Edge attributes: {'u', 'v'}\n",
      "Loading graph of Fenland with key ('Fenland', \"['metres', 'choice2km', 'nodecount2km', 'integration2km', 'choice10km', 'nodecount10km', 'integration10km', 'choice100km', 'nodecount100km', 'integration100km', 'choice2kmrank', 'choice10kmrank', 'integration10kmrank', 'integration2kmrank', 'choice2kmlog', 'choice10kmlog', 'choice100kmlog']\", None, 'primal', 'False', True, 50, False)...\n",
      "Loading Fenland from SSx\n"
     ]
    },
    {
     "name": "stderr",
     "output_type": "stream",
     "text": [
      "/homes/wwc4618/predicting-choice/utils/remove_false_nodes.py:97: FutureWarning: The frame.append method is deprecated and will be removed from pandas in a future version. Use pandas.concat instead.\n",
      "  return df.append(\n"
     ]
    },
    {
     "name": "stdout",
     "output_type": "stream",
     "text": [
      "32760 geometries retrieved from Fenland\n",
      "Generated graph with 1257 nodes and 1588 edges\n",
      "Node features: ['metres', 'choice2km', 'nodecount2km', 'integration2km', 'choice10km', 'nodecount10km', 'integration10km', 'choice100km', 'nodecount100km', 'integration100km', 'choice2kmrank', 'choice10kmrank', 'integration10kmrank', 'integration2kmrank', 'choice2kmlog', 'choice10kmlog', 'choice100kmlog', 'x', 'y']\n",
      "Node target: None\n",
      "Edge attributes: {'u', 'v'}\n",
      "Loading graph of North Dorset with key ('North Dorset', \"['metres', 'choice2km', 'nodecount2km', 'integration2km', 'choice10km', 'nodecount10km', 'integration10km', 'choice100km', 'nodecount100km', 'integration100km', 'choice2kmrank', 'choice10kmrank', 'integration10kmrank', 'integration2kmrank', 'choice2kmlog', 'choice10kmlog', 'choice100kmlog']\", None, 'primal', 'False', True, 50, False)...\n",
      "Loading North Dorset from SSx\n"
     ]
    },
    {
     "name": "stderr",
     "output_type": "stream",
     "text": [
      "/homes/wwc4618/predicting-choice/utils/remove_false_nodes.py:97: FutureWarning: The frame.append method is deprecated and will be removed from pandas in a future version. Use pandas.concat instead.\n",
      "  return df.append(\n"
     ]
    },
    {
     "name": "stdout",
     "output_type": "stream",
     "text": [
      "34200 geometries retrieved from North Dorset\n",
      "Generated graph with 1304 nodes and 1650 edges\n",
      "Node features: ['metres', 'choice2km', 'nodecount2km', 'integration2km', 'choice10km', 'nodecount10km', 'integration10km', 'choice100km', 'nodecount100km', 'integration100km', 'choice2kmrank', 'choice10kmrank', 'integration10kmrank', 'integration2kmrank', 'choice2kmlog', 'choice10kmlog', 'choice100kmlog', 'x', 'y']\n",
      "Node target: None\n",
      "Edge attributes: {'u', 'v'}\n",
      "Loading graph of Bracknell Forest with key ('Bracknell Forest', \"['metres', 'choice2km', 'nodecount2km', 'integration2km', 'choice10km', 'nodecount10km', 'integration10km', 'choice100km', 'nodecount100km', 'integration100km', 'choice2kmrank', 'choice10kmrank', 'integration10kmrank', 'integration2kmrank', 'choice2kmlog', 'choice10kmlog', 'choice100kmlog']\", None, 'primal', 'False', True, 50, False)...\n",
      "Loading Bracknell Forest from SSx\n"
     ]
    },
    {
     "name": "stderr",
     "output_type": "stream",
     "text": [
      "/homes/wwc4618/predicting-choice/utils/remove_false_nodes.py:97: FutureWarning: The frame.append method is deprecated and will be removed from pandas in a future version. Use pandas.concat instead.\n",
      "  return df.append(\n"
     ]
    },
    {
     "name": "stdout",
     "output_type": "stream",
     "text": [
      "24580 geometries retrieved from Bracknell Forest\n",
      "Generated graph with 973 nodes and 1202 edges\n",
      "Node features: ['metres', 'choice2km', 'nodecount2km', 'integration2km', 'choice10km', 'nodecount10km', 'integration10km', 'choice100km', 'nodecount100km', 'integration100km', 'choice2kmrank', 'choice10kmrank', 'integration10kmrank', 'integration2kmrank', 'choice2kmlog', 'choice10kmlog', 'choice100kmlog', 'x', 'y']\n",
      "Node target: None\n",
      "Edge attributes: {'u', 'v'}\n",
      "Loading graph of Haringey with key ('Haringey', \"['metres', 'choice2km', 'nodecount2km', 'integration2km', 'choice10km', 'nodecount10km', 'integration10km', 'choice100km', 'nodecount100km', 'integration100km', 'choice2kmrank', 'choice10kmrank', 'integration10kmrank', 'integration2kmrank', 'choice2kmlog', 'choice10kmlog', 'choice100kmlog']\", None, 'primal', 'False', True, 50, False)...\n",
      "Loading Haringey from SSx\n"
     ]
    },
    {
     "name": "stderr",
     "output_type": "stream",
     "text": [
      "/homes/wwc4618/predicting-choice/utils/remove_false_nodes.py:97: FutureWarning: The frame.append method is deprecated and will be removed from pandas in a future version. Use pandas.concat instead.\n",
      "  return df.append(\n"
     ]
    },
    {
     "name": "stdout",
     "output_type": "stream",
     "text": [
      "46420 geometries retrieved from Haringey\n",
      "Generated graph with 1559 nodes and 2276 edges\n",
      "Node features: ['metres', 'choice2km', 'nodecount2km', 'integration2km', 'choice10km', 'nodecount10km', 'integration10km', 'choice100km', 'nodecount100km', 'integration100km', 'choice2kmrank', 'choice10kmrank', 'integration10kmrank', 'integration2kmrank', 'choice2kmlog', 'choice10kmlog', 'choice100kmlog', 'x', 'y']\n",
      "Node target: None\n",
      "Edge attributes: {'u', 'v'}\n",
      "Loading graph of Coventry with key ('Coventry', \"['metres', 'choice2km', 'nodecount2km', 'integration2km', 'choice10km', 'nodecount10km', 'integration10km', 'choice100km', 'nodecount100km', 'integration100km', 'choice2kmrank', 'choice10kmrank', 'integration10kmrank', 'integration2kmrank', 'choice2kmlog', 'choice10kmlog', 'choice100kmlog']\", None, 'primal', 'False', True, 50, False)...\n",
      "Loading Coventry from SSx\n"
     ]
    },
    {
     "name": "stderr",
     "output_type": "stream",
     "text": [
      "/homes/wwc4618/predicting-choice/utils/remove_false_nodes.py:97: FutureWarning: The frame.append method is deprecated and will be removed from pandas in a future version. Use pandas.concat instead.\n",
      "  return df.append(\n"
     ]
    },
    {
     "name": "stdout",
     "output_type": "stream",
     "text": [
      "76800 geometries retrieved from Coventry\n",
      "Generated graph with 2633 nodes and 3731 edges\n",
      "Node features: ['metres', 'choice2km', 'nodecount2km', 'integration2km', 'choice10km', 'nodecount10km', 'integration10km', 'choice100km', 'nodecount100km', 'integration100km', 'choice2kmrank', 'choice10kmrank', 'integration10kmrank', 'integration2kmrank', 'choice2kmlog', 'choice10kmlog', 'choice100kmlog', 'x', 'y']\n",
      "Node target: None\n",
      "Edge attributes: {'u', 'v'}\n",
      "Loading graph of Hounslow with key ('Hounslow', \"['metres', 'choice2km', 'nodecount2km', 'integration2km', 'choice10km', 'nodecount10km', 'integration10km', 'choice100km', 'nodecount100km', 'integration100km', 'choice2kmrank', 'choice10kmrank', 'integration10kmrank', 'integration2kmrank', 'choice2kmlog', 'choice10kmlog', 'choice100kmlog']\", None, 'primal', 'False', True, 50, False)...\n",
      "Loading Hounslow from SSx\n"
     ]
    },
    {
     "name": "stderr",
     "output_type": "stream",
     "text": [
      "/homes/wwc4618/predicting-choice/utils/remove_false_nodes.py:97: FutureWarning: The frame.append method is deprecated and will be removed from pandas in a future version. Use pandas.concat instead.\n",
      "  return df.append(\n"
     ]
    },
    {
     "name": "stdout",
     "output_type": "stream",
     "text": [
      "50240 geometries retrieved from Hounslow\n",
      "Generated graph with 1747 nodes and 2417 edges\n",
      "Node features: ['metres', 'choice2km', 'nodecount2km', 'integration2km', 'choice10km', 'nodecount10km', 'integration10km', 'choice100km', 'nodecount100km', 'integration100km', 'choice2kmrank', 'choice10kmrank', 'integration10kmrank', 'integration2kmrank', 'choice2kmlog', 'choice10kmlog', 'choice100kmlog', 'x', 'y']\n",
      "Node target: None\n",
      "Edge attributes: {'u', 'v'}\n",
      "Loading graph of Wakefield with key ('Wakefield', \"['metres', 'choice2km', 'nodecount2km', 'integration2km', 'choice10km', 'nodecount10km', 'integration10km', 'choice100km', 'nodecount100km', 'integration100km', 'choice2kmrank', 'choice10kmrank', 'integration10kmrank', 'integration2kmrank', 'choice2kmlog', 'choice10kmlog', 'choice100kmlog']\", None, 'primal', 'False', True, 50, False)...\n",
      "Loading Wakefield from SSx\n"
     ]
    },
    {
     "name": "stderr",
     "output_type": "stream",
     "text": [
      "/homes/wwc4618/predicting-choice/utils/remove_false_nodes.py:97: FutureWarning: The frame.append method is deprecated and will be removed from pandas in a future version. Use pandas.concat instead.\n",
      "  return df.append(\n"
     ]
    },
    {
     "name": "stdout",
     "output_type": "stream",
     "text": [
      "117960 geometries retrieved from Wakefield\n",
      "Generated graph with 4223 nodes and 5647 edges\n",
      "Node features: ['metres', 'choice2km', 'nodecount2km', 'integration2km', 'choice10km', 'nodecount10km', 'integration10km', 'choice100km', 'nodecount100km', 'integration100km', 'choice2kmrank', 'choice10kmrank', 'integration10kmrank', 'integration2kmrank', 'choice2kmlog', 'choice10kmlog', 'choice100kmlog', 'x', 'y']\n",
      "Node target: None\n",
      "Edge attributes: {'u', 'v'}\n",
      "Loading graph of Eastbourne with key ('Eastbourne', \"['metres', 'choice2km', 'nodecount2km', 'integration2km', 'choice10km', 'nodecount10km', 'integration10km', 'choice100km', 'nodecount100km', 'integration100km', 'choice2kmrank', 'choice10kmrank', 'integration10kmrank', 'integration2kmrank', 'choice2kmlog', 'choice10kmlog', 'choice100kmlog']\", None, 'primal', 'False', True, 50, False)...\n",
      "Loading Eastbourne from SSx\n"
     ]
    },
    {
     "name": "stderr",
     "output_type": "stream",
     "text": [
      "/homes/wwc4618/predicting-choice/utils/remove_false_nodes.py:97: FutureWarning: The frame.append method is deprecated and will be removed from pandas in a future version. Use pandas.concat instead.\n",
      "  return df.append(\n"
     ]
    },
    {
     "name": "stdout",
     "output_type": "stream",
     "text": [
      "30080 geometries retrieved from Eastbourne\n",
      "Generated graph with 1014 nodes and 1461 edges\n",
      "Node features: ['metres', 'choice2km', 'nodecount2km', 'integration2km', 'choice10km', 'nodecount10km', 'integration10km', 'choice100km', 'nodecount100km', 'integration100km', 'choice2kmrank', 'choice10kmrank', 'integration10kmrank', 'integration2kmrank', 'choice2kmlog', 'choice10kmlog', 'choice100kmlog', 'x', 'y']\n",
      "Node target: None\n",
      "Edge attributes: {'u', 'v'}\n",
      "Loading graph of Selby with key ('Selby', \"['metres', 'choice2km', 'nodecount2km', 'integration2km', 'choice10km', 'nodecount10km', 'integration10km', 'choice100km', 'nodecount100km', 'integration100km', 'choice2kmrank', 'choice10kmrank', 'integration10kmrank', 'integration2kmrank', 'choice2kmlog', 'choice10kmlog', 'choice100kmlog']\", None, 'primal', 'False', True, 50, False)...\n",
      "Loading Selby from SSx\n"
     ]
    },
    {
     "name": "stderr",
     "output_type": "stream",
     "text": [
      "/homes/wwc4618/predicting-choice/utils/remove_false_nodes.py:97: FutureWarning: The frame.append method is deprecated and will be removed from pandas in a future version. Use pandas.concat instead.\n",
      "  return df.append(\n"
     ]
    },
    {
     "name": "stdout",
     "output_type": "stream",
     "text": [
      "37320 geometries retrieved from Selby\n",
      "Generated graph with 1419 nodes and 1816 edges\n",
      "Node features: ['metres', 'choice2km', 'nodecount2km', 'integration2km', 'choice10km', 'nodecount10km', 'integration10km', 'choice100km', 'nodecount100km', 'integration100km', 'choice2kmrank', 'choice10kmrank', 'integration10kmrank', 'integration2kmrank', 'choice2kmlog', 'choice10kmlog', 'choice100kmlog', 'x', 'y']\n",
      "Node target: None\n",
      "Edge attributes: {'u', 'v'}\n",
      "Loading graph of Wealden with key ('Wealden', \"['metres', 'choice2km', 'nodecount2km', 'integration2km', 'choice10km', 'nodecount10km', 'integration10km', 'choice100km', 'nodecount100km', 'integration100km', 'choice2kmrank', 'choice10kmrank', 'integration10kmrank', 'integration2kmrank', 'choice2kmlog', 'choice10kmlog', 'choice100kmlog']\", None, 'primal', 'False', True, 50, False)...\n",
      "Loading Wealden from SSx\n"
     ]
    },
    {
     "name": "stderr",
     "output_type": "stream",
     "text": [
      "/homes/wwc4618/predicting-choice/utils/remove_false_nodes.py:97: FutureWarning: The frame.append method is deprecated and will be removed from pandas in a future version. Use pandas.concat instead.\n",
      "  return df.append(\n"
     ]
    },
    {
     "name": "stdout",
     "output_type": "stream",
     "text": [
      "57900 geometries retrieved from Wealden\n",
      "Generated graph with 2177 nodes and 2845 edges\n",
      "Node features: ['metres', 'choice2km', 'nodecount2km', 'integration2km', 'choice10km', 'nodecount10km', 'integration10km', 'choice100km', 'nodecount100km', 'integration100km', 'choice2kmrank', 'choice10kmrank', 'integration10kmrank', 'integration2kmrank', 'choice2kmlog', 'choice10kmlog', 'choice100kmlog', 'x', 'y']\n",
      "Node target: None\n",
      "Edge attributes: {'u', 'v'}\n",
      "Loading graph of West Somerset with key ('West Somerset', \"['metres', 'choice2km', 'nodecount2km', 'integration2km', 'choice10km', 'nodecount10km', 'integration10km', 'choice100km', 'nodecount100km', 'integration100km', 'choice2kmrank', 'choice10kmrank', 'integration10kmrank', 'integration2kmrank', 'choice2kmlog', 'choice10kmlog', 'choice100kmlog']\", None, 'primal', 'False', True, 50, False)...\n",
      "Loading West Somerset from SSx\n"
     ]
    },
    {
     "name": "stderr",
     "output_type": "stream",
     "text": [
      "/homes/wwc4618/predicting-choice/utils/remove_false_nodes.py:97: FutureWarning: The frame.append method is deprecated and will be removed from pandas in a future version. Use pandas.concat instead.\n",
      "  return df.append(\n"
     ]
    },
    {
     "name": "stdout",
     "output_type": "stream",
     "text": [
      "29740 geometries retrieved from West Somerset\n",
      "Generated graph with 1130 nodes and 1457 edges\n",
      "Node features: ['metres', 'choice2km', 'nodecount2km', 'integration2km', 'choice10km', 'nodecount10km', 'integration10km', 'choice100km', 'nodecount100km', 'integration100km', 'choice2kmrank', 'choice10kmrank', 'integration10kmrank', 'integration2kmrank', 'choice2kmlog', 'choice10kmlog', 'choice100kmlog', 'x', 'y']\n",
      "Node target: None\n",
      "Edge attributes: {'u', 'v'}\n",
      "Loading graph of Exeter with key ('Exeter', \"['metres', 'choice2km', 'nodecount2km', 'integration2km', 'choice10km', 'nodecount10km', 'integration10km', 'choice100km', 'nodecount100km', 'integration100km', 'choice2kmrank', 'choice10kmrank', 'integration10kmrank', 'integration2kmrank', 'choice2kmlog', 'choice10kmlog', 'choice100kmlog']\", None, 'primal', 'False', True, 50, False)...\n",
      "Loading Exeter from SSx\n"
     ]
    },
    {
     "name": "stderr",
     "output_type": "stream",
     "text": [
      "/homes/wwc4618/predicting-choice/utils/remove_false_nodes.py:97: FutureWarning: The frame.append method is deprecated and will be removed from pandas in a future version. Use pandas.concat instead.\n",
      "  return df.append(\n"
     ]
    },
    {
     "name": "stdout",
     "output_type": "stream",
     "text": [
      "32720 geometries retrieved from Exeter\n",
      "Generated graph with 1169 nodes and 1579 edges\n",
      "Node features: ['metres', 'choice2km', 'nodecount2km', 'integration2km', 'choice10km', 'nodecount10km', 'integration10km', 'choice100km', 'nodecount100km', 'integration100km', 'choice2kmrank', 'choice10kmrank', 'integration10kmrank', 'integration2kmrank', 'choice2kmlog', 'choice10kmlog', 'choice100kmlog', 'x', 'y']\n",
      "Node target: None\n",
      "Edge attributes: {'u', 'v'}\n",
      "Loading graph of Kingston upon Hull, City of with key ('Kingston upon Hull, City of', \"['metres', 'choice2km', 'nodecount2km', 'integration2km', 'choice10km', 'nodecount10km', 'integration10km', 'choice100km', 'nodecount100km', 'integration100km', 'choice2kmrank', 'choice10kmrank', 'integration10kmrank', 'integration2kmrank', 'choice2kmlog', 'choice10kmlog', 'choice100kmlog']\", None, 'primal', 'False', True, 50, False)...\n",
      "Loading Kingston upon Hull, City of from SSx\n"
     ]
    },
    {
     "name": "stderr",
     "output_type": "stream",
     "text": [
      "/homes/wwc4618/predicting-choice/utils/remove_false_nodes.py:97: FutureWarning: The frame.append method is deprecated and will be removed from pandas in a future version. Use pandas.concat instead.\n",
      "  return df.append(\n"
     ]
    },
    {
     "name": "stdout",
     "output_type": "stream",
     "text": [
      "65280 geometries retrieved from Kingston upon Hull, City of\n",
      "Generated graph with 2306 nodes and 3156 edges\n",
      "Node features: ['metres', 'choice2km', 'nodecount2km', 'integration2km', 'choice10km', 'nodecount10km', 'integration10km', 'choice100km', 'nodecount100km', 'integration100km', 'choice2kmrank', 'choice10kmrank', 'integration10kmrank', 'integration2kmrank', 'choice2kmlog', 'choice10kmlog', 'choice100kmlog', 'x', 'y']\n",
      "Node target: None\n",
      "Edge attributes: {'u', 'v'}\n",
      "Loading graph of Broadland with key ('Broadland', \"['metres', 'choice2km', 'nodecount2km', 'integration2km', 'choice10km', 'nodecount10km', 'integration10km', 'choice100km', 'nodecount100km', 'integration100km', 'choice2kmrank', 'choice10kmrank', 'integration10kmrank', 'integration2kmrank', 'choice2kmlog', 'choice10kmlog', 'choice100kmlog']\", None, 'primal', 'False', True, 50, False)...\n",
      "Loading Broadland from SSx\n"
     ]
    },
    {
     "name": "stderr",
     "output_type": "stream",
     "text": [
      "/homes/wwc4618/predicting-choice/utils/remove_false_nodes.py:97: FutureWarning: The frame.append method is deprecated and will be removed from pandas in a future version. Use pandas.concat instead.\n",
      "  return df.append(\n"
     ]
    },
    {
     "name": "stdout",
     "output_type": "stream",
     "text": [
      "54540 geometries retrieved from Broadland\n",
      "Generated graph with 2039 nodes and 2657 edges\n",
      "Node features: ['metres', 'choice2km', 'nodecount2km', 'integration2km', 'choice10km', 'nodecount10km', 'integration10km', 'choice100km', 'nodecount100km', 'integration100km', 'choice2kmrank', 'choice10kmrank', 'integration10kmrank', 'integration2kmrank', 'choice2kmlog', 'choice10kmlog', 'choice100kmlog', 'x', 'y']\n",
      "Node target: None\n",
      "Edge attributes: {'u', 'v'}\n",
      "Loading graph of Norwich with key ('Norwich', \"['metres', 'choice2km', 'nodecount2km', 'integration2km', 'choice10km', 'nodecount10km', 'integration10km', 'choice100km', 'nodecount100km', 'integration100km', 'choice2kmrank', 'choice10kmrank', 'integration10kmrank', 'integration2kmrank', 'choice2kmlog', 'choice10kmlog', 'choice100kmlog']\", None, 'primal', 'False', True, 50, False)...\n",
      "Loading Norwich from SSx\n"
     ]
    },
    {
     "name": "stderr",
     "output_type": "stream",
     "text": [
      "/homes/wwc4618/predicting-choice/utils/remove_false_nodes.py:97: FutureWarning: The frame.append method is deprecated and will be removed from pandas in a future version. Use pandas.concat instead.\n",
      "  return df.append(\n"
     ]
    },
    {
     "name": "stdout",
     "output_type": "stream",
     "text": [
      "40280 geometries retrieved from Norwich\n",
      "Generated graph with 1361 nodes and 1889 edges\n",
      "Node features: ['metres', 'choice2km', 'nodecount2km', 'integration2km', 'choice10km', 'nodecount10km', 'integration10km', 'choice100km', 'nodecount100km', 'integration100km', 'choice2kmrank', 'choice10kmrank', 'integration10kmrank', 'integration2kmrank', 'choice2kmlog', 'choice10kmlog', 'choice100kmlog', 'x', 'y']\n",
      "Node target: None\n",
      "Edge attributes: {'u', 'v'}\n",
      "Loading graph of Eden with key ('Eden', \"['metres', 'choice2km', 'nodecount2km', 'integration2km', 'choice10km', 'nodecount10km', 'integration10km', 'choice100km', 'nodecount100km', 'integration100km', 'choice2kmrank', 'choice10kmrank', 'integration10kmrank', 'integration2kmrank', 'choice2kmlog', 'choice10kmlog', 'choice100kmlog']\", None, 'primal', 'False', True, 50, False)...\n",
      "Loading Eden from SSx\n"
     ]
    },
    {
     "name": "stderr",
     "output_type": "stream",
     "text": [
      "/homes/wwc4618/predicting-choice/utils/remove_false_nodes.py:97: FutureWarning: The frame.append method is deprecated and will be removed from pandas in a future version. Use pandas.concat instead.\n",
      "  return df.append(\n"
     ]
    },
    {
     "name": "stdout",
     "output_type": "stream",
     "text": [
      "56000 geometries retrieved from Eden\n",
      "Generated graph with 2098 nodes and 2742 edges\n",
      "Node features: ['metres', 'choice2km', 'nodecount2km', 'integration2km', 'choice10km', 'nodecount10km', 'integration10km', 'choice100km', 'nodecount100km', 'integration100km', 'choice2kmrank', 'choice10kmrank', 'integration10kmrank', 'integration2kmrank', 'choice2kmlog', 'choice10kmlog', 'choice100kmlog', 'x', 'y']\n",
      "Node target: None\n",
      "Edge attributes: {'u', 'v'}\n",
      "Loading graph of Rugby with key ('Rugby', \"['metres', 'choice2km', 'nodecount2km', 'integration2km', 'choice10km', 'nodecount10km', 'integration10km', 'choice100km', 'nodecount100km', 'integration100km', 'choice2kmrank', 'choice10kmrank', 'integration10kmrank', 'integration2kmrank', 'choice2kmlog', 'choice10kmlog', 'choice100kmlog']\", None, 'primal', 'False', True, 50, False)...\n",
      "Loading Rugby from SSx\n"
     ]
    },
    {
     "name": "stderr",
     "output_type": "stream",
     "text": [
      "/homes/wwc4618/predicting-choice/utils/remove_false_nodes.py:97: FutureWarning: The frame.append method is deprecated and will be removed from pandas in a future version. Use pandas.concat instead.\n",
      "  return df.append(\n"
     ]
    },
    {
     "name": "stdout",
     "output_type": "stream",
     "text": [
      "34260 geometries retrieved from Rugby\n",
      "Generated graph with 1241 nodes and 1658 edges\n",
      "Node features: ['metres', 'choice2km', 'nodecount2km', 'integration2km', 'choice10km', 'nodecount10km', 'integration10km', 'choice100km', 'nodecount100km', 'integration100km', 'choice2kmrank', 'choice10kmrank', 'integration10kmrank', 'integration2kmrank', 'choice2kmlog', 'choice10kmlog', 'choice100kmlog', 'x', 'y']\n",
      "Node target: None\n",
      "Edge attributes: {'u', 'v'}\n",
      "Loading graph of Barrow-in-Furness with key ('Barrow-in-Furness', \"['metres', 'choice2km', 'nodecount2km', 'integration2km', 'choice10km', 'nodecount10km', 'integration10km', 'choice100km', 'nodecount100km', 'integration100km', 'choice2kmrank', 'choice10kmrank', 'integration10kmrank', 'integration2kmrank', 'choice2kmlog', 'choice10kmlog', 'choice100kmlog']\", None, 'primal', 'False', True, 50, False)...\n",
      "Loading Barrow-in-Furness from SSx\n"
     ]
    },
    {
     "name": "stderr",
     "output_type": "stream",
     "text": [
      "/homes/wwc4618/predicting-choice/utils/remove_false_nodes.py:97: FutureWarning: The frame.append method is deprecated and will be removed from pandas in a future version. Use pandas.concat instead.\n",
      "  return df.append(\n"
     ]
    },
    {
     "name": "stdout",
     "output_type": "stream",
     "text": [
      "36280 geometries retrieved from Barrow-in-Furness\n",
      "Generated graph with 1209 nodes and 1777 edges\n",
      "Node features: ['metres', 'choice2km', 'nodecount2km', 'integration2km', 'choice10km', 'nodecount10km', 'integration10km', 'choice100km', 'nodecount100km', 'integration100km', 'choice2kmrank', 'choice10kmrank', 'integration10kmrank', 'integration2kmrank', 'choice2kmlog', 'choice10kmlog', 'choice100kmlog', 'x', 'y']\n",
      "Node target: None\n",
      "Edge attributes: {'u', 'v'}\n",
      "Loading graph of Cannock Chase with key ('Cannock Chase', \"['metres', 'choice2km', 'nodecount2km', 'integration2km', 'choice10km', 'nodecount10km', 'integration10km', 'choice100km', 'nodecount100km', 'integration100km', 'choice2kmrank', 'choice10kmrank', 'integration10kmrank', 'integration2kmrank', 'choice2kmlog', 'choice10kmlog', 'choice100kmlog']\", None, 'primal', 'False', True, 50, False)...\n",
      "Loading Cannock Chase from SSx\n"
     ]
    },
    {
     "name": "stderr",
     "output_type": "stream",
     "text": [
      "/homes/wwc4618/predicting-choice/utils/remove_false_nodes.py:97: FutureWarning: The frame.append method is deprecated and will be removed from pandas in a future version. Use pandas.concat instead.\n",
      "  return df.append(\n"
     ]
    },
    {
     "name": "stdout",
     "output_type": "stream",
     "text": [
      "28900 geometries retrieved from Cannock Chase\n",
      "Generated graph with 1042 nodes and 1403 edges\n",
      "Node features: ['metres', 'choice2km', 'nodecount2km', 'integration2km', 'choice10km', 'nodecount10km', 'integration10km', 'choice100km', 'nodecount100km', 'integration100km', 'choice2kmrank', 'choice10kmrank', 'integration10kmrank', 'integration2kmrank', 'choice2kmlog', 'choice10kmlog', 'choice100kmlog', 'x', 'y']\n",
      "Node target: None\n",
      "Edge attributes: {'u', 'v'}\n",
      "Loading graph of South Lakeland with key ('South Lakeland', \"['metres', 'choice2km', 'nodecount2km', 'integration2km', 'choice10km', 'nodecount10km', 'integration10km', 'choice100km', 'nodecount100km', 'integration100km', 'choice2kmrank', 'choice10kmrank', 'integration10kmrank', 'integration2kmrank', 'choice2kmlog', 'choice10kmlog', 'choice100kmlog']\", None, 'primal', 'False', True, 50, False)...\n",
      "Loading South Lakeland from SSx\n"
     ]
    },
    {
     "name": "stderr",
     "output_type": "stream",
     "text": [
      "/homes/wwc4618/predicting-choice/utils/remove_false_nodes.py:97: FutureWarning: The frame.append method is deprecated and will be removed from pandas in a future version. Use pandas.concat instead.\n",
      "  return df.append(\n"
     ]
    },
    {
     "name": "stdout",
     "output_type": "stream",
     "text": [
      "84320 geometries retrieved from South Lakeland\n",
      "Generated graph with 3120 nodes and 4139 edges\n",
      "Node features: ['metres', 'choice2km', 'nodecount2km', 'integration2km', 'choice10km', 'nodecount10km', 'integration10km', 'choice100km', 'nodecount100km', 'integration100km', 'choice2kmrank', 'choice10kmrank', 'integration10kmrank', 'integration2kmrank', 'choice2kmlog', 'choice10kmlog', 'choice100kmlog', 'x', 'y']\n",
      "Node target: None\n",
      "Edge attributes: {'u', 'v'}\n",
      "Loading graph of Carlisle with key ('Carlisle', \"['metres', 'choice2km', 'nodecount2km', 'integration2km', 'choice10km', 'nodecount10km', 'integration10km', 'choice100km', 'nodecount100km', 'integration100km', 'choice2kmrank', 'choice10kmrank', 'integration10kmrank', 'integration2kmrank', 'choice2kmlog', 'choice10kmlog', 'choice100kmlog']\", None, 'primal', 'False', True, 50, False)...\n",
      "Loading Carlisle from SSx\n"
     ]
    },
    {
     "name": "stderr",
     "output_type": "stream",
     "text": [
      "/homes/wwc4618/predicting-choice/utils/remove_false_nodes.py:97: FutureWarning: The frame.append method is deprecated and will be removed from pandas in a future version. Use pandas.concat instead.\n",
      "  return df.append(\n"
     ]
    },
    {
     "name": "stdout",
     "output_type": "stream",
     "text": [
      "55800 geometries retrieved from Carlisle\n",
      "Generated graph with 2053 nodes and 2719 edges\n",
      "Node features: ['metres', 'choice2km', 'nodecount2km', 'integration2km', 'choice10km', 'nodecount10km', 'integration10km', 'choice100km', 'nodecount100km', 'integration100km', 'choice2kmrank', 'choice10kmrank', 'integration10kmrank', 'integration2kmrank', 'choice2kmlog', 'choice10kmlog', 'choice100kmlog', 'x', 'y']\n",
      "Node target: None\n",
      "Edge attributes: {'u', 'v'}\n",
      "Loading graph of Isle of Anglesey with key ('Isle of Anglesey', \"['metres', 'choice2km', 'nodecount2km', 'integration2km', 'choice10km', 'nodecount10km', 'integration10km', 'choice100km', 'nodecount100km', 'integration100km', 'choice2kmrank', 'choice10kmrank', 'integration10kmrank', 'integration2kmrank', 'choice2kmlog', 'choice10kmlog', 'choice100kmlog']\", None, 'primal', 'False', True, 50, False)...\n",
      "Loading Isle of Anglesey from SSx\n"
     ]
    },
    {
     "name": "stderr",
     "output_type": "stream",
     "text": [
      "/homes/wwc4618/predicting-choice/utils/remove_false_nodes.py:97: FutureWarning: The frame.append method is deprecated and will be removed from pandas in a future version. Use pandas.concat instead.\n",
      "  return df.append(\n"
     ]
    },
    {
     "name": "stdout",
     "output_type": "stream",
     "text": [
      "48220 geometries retrieved from Isle of Anglesey\n",
      "Generated graph with 1792 nodes and 2354 edges\n",
      "Node features: ['metres', 'choice2km', 'nodecount2km', 'integration2km', 'choice10km', 'nodecount10km', 'integration10km', 'choice100km', 'nodecount100km', 'integration100km', 'choice2kmrank', 'choice10kmrank', 'integration10kmrank', 'integration2kmrank', 'choice2kmlog', 'choice10kmlog', 'choice100kmlog', 'x', 'y']\n",
      "Node target: None\n",
      "Edge attributes: {'u', 'v'}\n",
      "Loading graph of West Berkshire with key ('West Berkshire', \"['metres', 'choice2km', 'nodecount2km', 'integration2km', 'choice10km', 'nodecount10km', 'integration10km', 'choice100km', 'nodecount100km', 'integration100km', 'choice2kmrank', 'choice10kmrank', 'integration10kmrank', 'integration2kmrank', 'choice2kmlog', 'choice10kmlog', 'choice100kmlog']\", None, 'primal', 'False', True, 50, False)...\n",
      "Loading West Berkshire from SSx\n"
     ]
    },
    {
     "name": "stderr",
     "output_type": "stream",
     "text": [
      "/homes/wwc4618/predicting-choice/utils/remove_false_nodes.py:97: FutureWarning: The frame.append method is deprecated and will be removed from pandas in a future version. Use pandas.concat instead.\n",
      "  return df.append(\n"
     ]
    },
    {
     "name": "stdout",
     "output_type": "stream",
     "text": [
      "60400 geometries retrieved from West Berkshire\n",
      "Generated graph with 2259 nodes and 2947 edges\n",
      "Node features: ['metres', 'choice2km', 'nodecount2km', 'integration2km', 'choice10km', 'nodecount10km', 'integration10km', 'choice100km', 'nodecount100km', 'integration100km', 'choice2kmrank', 'choice10kmrank', 'integration10kmrank', 'integration2kmrank', 'choice2kmlog', 'choice10kmlog', 'choice100kmlog', 'x', 'y']\n",
      "Node target: None\n",
      "Edge attributes: {'u', 'v'}\n",
      "Loading graph of Allerdale with key ('Allerdale', \"['metres', 'choice2km', 'nodecount2km', 'integration2km', 'choice10km', 'nodecount10km', 'integration10km', 'choice100km', 'nodecount100km', 'integration100km', 'choice2kmrank', 'choice10kmrank', 'integration10kmrank', 'integration2kmrank', 'choice2kmlog', 'choice10kmlog', 'choice100kmlog']\", None, 'primal', 'False', True, 50, False)...\n",
      "Loading Allerdale from SSx\n"
     ]
    },
    {
     "name": "stderr",
     "output_type": "stream",
     "text": [
      "/homes/wwc4618/predicting-choice/utils/remove_false_nodes.py:97: FutureWarning: The frame.append method is deprecated and will be removed from pandas in a future version. Use pandas.concat instead.\n",
      "  return df.append(\n"
     ]
    },
    {
     "name": "stdout",
     "output_type": "stream",
     "text": [
      "64300 geometries retrieved from Allerdale\n",
      "Generated graph with 2324 nodes and 3133 edges\n",
      "Node features: ['metres', 'choice2km', 'nodecount2km', 'integration2km', 'choice10km', 'nodecount10km', 'integration10km', 'choice100km', 'nodecount100km', 'integration100km', 'choice2kmrank', 'choice10kmrank', 'integration10kmrank', 'integration2kmrank', 'choice2kmlog', 'choice10kmlog', 'choice100kmlog', 'x', 'y']\n",
      "Node target: None\n",
      "Edge attributes: {'u', 'v'}\n",
      "Loading graph of Derby with key ('Derby', \"['metres', 'choice2km', 'nodecount2km', 'integration2km', 'choice10km', 'nodecount10km', 'integration10km', 'choice100km', 'nodecount100km', 'integration100km', 'choice2kmrank', 'choice10kmrank', 'integration10kmrank', 'integration2kmrank', 'choice2kmlog', 'choice10kmlog', 'choice100kmlog']\", None, 'primal', 'False', True, 50, False)...\n",
      "Loading Derby from SSx\n"
     ]
    },
    {
     "name": "stderr",
     "output_type": "stream",
     "text": [
      "/homes/wwc4618/predicting-choice/utils/remove_false_nodes.py:97: FutureWarning: The frame.append method is deprecated and will be removed from pandas in a future version. Use pandas.concat instead.\n",
      "  return df.append(\n"
     ]
    },
    {
     "name": "stdout",
     "output_type": "stream",
     "text": [
      "66120 geometries retrieved from Derby\n",
      "Generated graph with 2313 nodes and 3228 edges\n",
      "Node features: ['metres', 'choice2km', 'nodecount2km', 'integration2km', 'choice10km', 'nodecount10km', 'integration10km', 'choice100km', 'nodecount100km', 'integration100km', 'choice2kmrank', 'choice10kmrank', 'integration10kmrank', 'integration2kmrank', 'choice2kmlog', 'choice10kmlog', 'choice100kmlog', 'x', 'y']\n",
      "Node target: None\n",
      "Edge attributes: {'u', 'v'}\n",
      "Loading graph of South Derbyshire with key ('South Derbyshire', \"['metres', 'choice2km', 'nodecount2km', 'integration2km', 'choice10km', 'nodecount10km', 'integration10km', 'choice100km', 'nodecount100km', 'integration100km', 'choice2kmrank', 'choice10kmrank', 'integration10kmrank', 'integration2kmrank', 'choice2kmlog', 'choice10kmlog', 'choice100kmlog']\", None, 'primal', 'False', True, 50, False)...\n",
      "Loading South Derbyshire from SSx\n"
     ]
    },
    {
     "name": "stderr",
     "output_type": "stream",
     "text": [
      "/homes/wwc4618/predicting-choice/utils/remove_false_nodes.py:97: FutureWarning: The frame.append method is deprecated and will be removed from pandas in a future version. Use pandas.concat instead.\n",
      "  return df.append(\n"
     ]
    },
    {
     "name": "stdout",
     "output_type": "stream",
     "text": [
      "31560 geometries retrieved from South Derbyshire\n",
      "Generated graph with 1177 nodes and 1511 edges\n",
      "Node features: ['metres', 'choice2km', 'nodecount2km', 'integration2km', 'choice10km', 'nodecount10km', 'integration10km', 'choice100km', 'nodecount100km', 'integration100km', 'choice2kmrank', 'choice10kmrank', 'integration10kmrank', 'integration2kmrank', 'choice2kmlog', 'choice10kmlog', 'choice100kmlog', 'x', 'y']\n",
      "Node target: None\n",
      "Edge attributes: {'u', 'v'}\n",
      "Loading graph of Leicester with key ('Leicester', \"['metres', 'choice2km', 'nodecount2km', 'integration2km', 'choice10km', 'nodecount10km', 'integration10km', 'choice100km', 'nodecount100km', 'integration100km', 'choice2kmrank', 'choice10kmrank', 'integration10kmrank', 'integration2kmrank', 'choice2kmlog', 'choice10kmlog', 'choice100kmlog']\", None, 'primal', 'False', True, 50, False)...\n",
      "Loading Leicester from SSx\n"
     ]
    },
    {
     "name": "stderr",
     "output_type": "stream",
     "text": [
      "/homes/wwc4618/predicting-choice/utils/remove_false_nodes.py:97: FutureWarning: The frame.append method is deprecated and will be removed from pandas in a future version. Use pandas.concat instead.\n",
      "  return df.append(\n"
     ]
    },
    {
     "name": "stdout",
     "output_type": "stream",
     "text": [
      "98940 geometries retrieved from Leicester\n",
      "Generated graph with 3311 nodes and 4841 edges\n",
      "Node features: ['metres', 'choice2km', 'nodecount2km', 'integration2km', 'choice10km', 'nodecount10km', 'integration10km', 'choice100km', 'nodecount100km', 'integration100km', 'choice2kmrank', 'choice10kmrank', 'integration10kmrank', 'integration2kmrank', 'choice2kmlog', 'choice10kmlog', 'choice100kmlog', 'x', 'y']\n",
      "Node target: None\n",
      "Edge attributes: {'u', 'v'}\n",
      "Loading graph of Hinckley and Bosworth with key ('Hinckley and Bosworth', \"['metres', 'choice2km', 'nodecount2km', 'integration2km', 'choice10km', 'nodecount10km', 'integration10km', 'choice100km', 'nodecount100km', 'integration100km', 'choice2kmrank', 'choice10kmrank', 'integration10kmrank', 'integration2kmrank', 'choice2kmlog', 'choice10kmlog', 'choice100kmlog']\", None, 'primal', 'False', True, 50, False)...\n",
      "Loading Hinckley and Bosworth from SSx\n"
     ]
    },
    {
     "name": "stderr",
     "output_type": "stream",
     "text": [
      "/homes/wwc4618/predicting-choice/utils/remove_false_nodes.py:97: FutureWarning: The frame.append method is deprecated and will be removed from pandas in a future version. Use pandas.concat instead.\n",
      "  return df.append(\n"
     ]
    },
    {
     "name": "stdout",
     "output_type": "stream",
     "text": [
      "35460 geometries retrieved from Hinckley and Bosworth\n",
      "Generated graph with 1290 nodes and 1717 edges\n",
      "Node features: ['metres', 'choice2km', 'nodecount2km', 'integration2km', 'choice10km', 'nodecount10km', 'integration10km', 'choice100km', 'nodecount100km', 'integration100km', 'choice2kmrank', 'choice10kmrank', 'integration10kmrank', 'integration2kmrank', 'choice2kmlog', 'choice10kmlog', 'choice100kmlog', 'x', 'y']\n",
      "Node target: None\n",
      "Edge attributes: {'u', 'v'}\n",
      "Loading graph of Gwynedd with key ('Gwynedd', \"['metres', 'choice2km', 'nodecount2km', 'integration2km', 'choice10km', 'nodecount10km', 'integration10km', 'choice100km', 'nodecount100km', 'integration100km', 'choice2kmrank', 'choice10kmrank', 'integration10kmrank', 'integration2kmrank', 'choice2kmlog', 'choice10kmlog', 'choice100kmlog']\", None, 'primal', 'False', True, 50, False)...\n",
      "Loading Gwynedd from SSx\n"
     ]
    },
    {
     "name": "stderr",
     "output_type": "stream",
     "text": [
      "/homes/wwc4618/predicting-choice/utils/remove_false_nodes.py:97: FutureWarning: The frame.append method is deprecated and will be removed from pandas in a future version. Use pandas.concat instead.\n",
      "  return df.append(\n"
     ]
    },
    {
     "name": "stdout",
     "output_type": "stream",
     "text": [
      "89940 geometries retrieved from Gwynedd\n",
      "Generated graph with 3379 nodes and 4405 edges\n",
      "Node features: ['metres', 'choice2km', 'nodecount2km', 'integration2km', 'choice10km', 'nodecount10km', 'integration10km', 'choice100km', 'nodecount100km', 'integration100km', 'choice2kmrank', 'choice10kmrank', 'integration10kmrank', 'integration2kmrank', 'choice2kmlog', 'choice10kmlog', 'choice100kmlog', 'x', 'y']\n",
      "Node target: None\n",
      "Edge attributes: {'u', 'v'}\n",
      "Loading graph of County Durham with key ('County Durham', \"['metres', 'choice2km', 'nodecount2km', 'integration2km', 'choice10km', 'nodecount10km', 'integration10km', 'choice100km', 'nodecount100km', 'integration100km', 'choice2kmrank', 'choice10kmrank', 'integration10kmrank', 'integration2kmrank', 'choice2kmlog', 'choice10kmlog', 'choice100kmlog']\", None, 'primal', 'False', True, 50, False)...\n",
      "Loading County Durham from SSx\n"
     ]
    },
    {
     "name": "stderr",
     "output_type": "stream",
     "text": [
      "/homes/wwc4618/predicting-choice/utils/remove_false_nodes.py:97: FutureWarning: The frame.append method is deprecated and will be removed from pandas in a future version. Use pandas.concat instead.\n",
      "  return df.append(\n"
     ]
    },
    {
     "name": "stdout",
     "output_type": "stream",
     "text": [
      "232960 geometries retrieved from County Durham\n",
      "Generated graph with 8293 nodes and 11228 edges\n",
      "Node features: ['metres', 'choice2km', 'nodecount2km', 'integration2km', 'choice10km', 'nodecount10km', 'integration10km', 'choice100km', 'nodecount100km', 'integration100km', 'choice2kmrank', 'choice10kmrank', 'integration10kmrank', 'integration2kmrank', 'choice2kmlog', 'choice10kmlog', 'choice100kmlog', 'x', 'y']\n",
      "Node target: None\n",
      "Edge attributes: {'u', 'v'}\n",
      "Loading graph of Bexley with key ('Bexley', \"['metres', 'choice2km', 'nodecount2km', 'integration2km', 'choice10km', 'nodecount10km', 'integration10km', 'choice100km', 'nodecount100km', 'integration100km', 'choice2kmrank', 'choice10kmrank', 'integration10kmrank', 'integration2kmrank', 'choice2kmlog', 'choice10kmlog', 'choice100kmlog']\", None, 'primal', 'False', True, 50, False)...\n",
      "Loading Bexley from SSx\n"
     ]
    },
    {
     "name": "stderr",
     "output_type": "stream",
     "text": [
      "/homes/wwc4618/predicting-choice/utils/remove_false_nodes.py:97: FutureWarning: The frame.append method is deprecated and will be removed from pandas in a future version. Use pandas.concat instead.\n",
      "  return df.append(\n"
     ]
    },
    {
     "name": "stdout",
     "output_type": "stream",
     "text": [
      "51560 geometries retrieved from Bexley\n",
      "Generated graph with 1790 nodes and 2490 edges\n",
      "Node features: ['metres', 'choice2km', 'nodecount2km', 'integration2km', 'choice10km', 'nodecount10km', 'integration10km', 'choice100km', 'nodecount100km', 'integration100km', 'choice2kmrank', 'choice10kmrank', 'integration10kmrank', 'integration2kmrank', 'choice2kmlog', 'choice10kmlog', 'choice100kmlog', 'x', 'y']\n",
      "Node target: None\n",
      "Edge attributes: {'u', 'v'}\n",
      "Loading graph of West Devon with key ('West Devon', \"['metres', 'choice2km', 'nodecount2km', 'integration2km', 'choice10km', 'nodecount10km', 'integration10km', 'choice100km', 'nodecount100km', 'integration100km', 'choice2kmrank', 'choice10kmrank', 'integration10kmrank', 'integration2kmrank', 'choice2kmlog', 'choice10kmlog', 'choice100kmlog']\", None, 'primal', 'False', True, 50, False)...\n",
      "Loading West Devon from SSx\n"
     ]
    },
    {
     "name": "stderr",
     "output_type": "stream",
     "text": [
      "/homes/wwc4618/predicting-choice/utils/remove_false_nodes.py:97: FutureWarning: The frame.append method is deprecated and will be removed from pandas in a future version. Use pandas.concat instead.\n",
      "  return df.append(\n"
     ]
    },
    {
     "name": "stdout",
     "output_type": "stream",
     "text": [
      "48320 geometries retrieved from West Devon\n",
      "Generated graph with 1818 nodes and 2373 edges\n",
      "Node features: ['metres', 'choice2km', 'nodecount2km', 'integration2km', 'choice10km', 'nodecount10km', 'integration10km', 'choice100km', 'nodecount100km', 'integration100km', 'choice2kmrank', 'choice10kmrank', 'integration10kmrank', 'integration2kmrank', 'choice2kmlog', 'choice10kmlog', 'choice100kmlog', 'x', 'y']\n",
      "Node target: None\n",
      "Edge attributes: {'u', 'v'}\n",
      "Loading graph of Torridge with key ('Torridge', \"['metres', 'choice2km', 'nodecount2km', 'integration2km', 'choice10km', 'nodecount10km', 'integration10km', 'choice100km', 'nodecount100km', 'integration100km', 'choice2kmrank', 'choice10kmrank', 'integration10kmrank', 'integration2kmrank', 'choice2kmlog', 'choice10kmlog', 'choice100kmlog']\", None, 'primal', 'False', True, 50, False)...\n",
      "Loading Torridge from SSx\n"
     ]
    },
    {
     "name": "stderr",
     "output_type": "stream",
     "text": [
      "/homes/wwc4618/predicting-choice/utils/remove_false_nodes.py:97: FutureWarning: The frame.append method is deprecated and will be removed from pandas in a future version. Use pandas.concat instead.\n",
      "  return df.append(\n"
     ]
    },
    {
     "name": "stdout",
     "output_type": "stream",
     "text": [
      "55880 geometries retrieved from Torridge\n",
      "Generated graph with 2080 nodes and 2750 edges\n",
      "Node features: ['metres', 'choice2km', 'nodecount2km', 'integration2km', 'choice10km', 'nodecount10km', 'integration10km', 'choice100km', 'nodecount100km', 'integration100km', 'choice2kmrank', 'choice10kmrank', 'integration10kmrank', 'integration2kmrank', 'choice2kmlog', 'choice10kmlog', 'choice100kmlog', 'x', 'y']\n",
      "Node target: None\n",
      "Edge attributes: {'u', 'v'}\n",
      "Loading graph of Winchester with key ('Winchester', \"['metres', 'choice2km', 'nodecount2km', 'integration2km', 'choice10km', 'nodecount10km', 'integration10km', 'choice100km', 'nodecount100km', 'integration100km', 'choice2kmrank', 'choice10kmrank', 'integration10kmrank', 'integration2kmrank', 'choice2kmlog', 'choice10kmlog', 'choice100kmlog']\", None, 'primal', 'False', True, 50, False)...\n",
      "Loading Winchester from SSx\n"
     ]
    },
    {
     "name": "stderr",
     "output_type": "stream",
     "text": [
      "/homes/wwc4618/predicting-choice/utils/remove_false_nodes.py:97: FutureWarning: The frame.append method is deprecated and will be removed from pandas in a future version. Use pandas.concat instead.\n",
      "  return df.append(\n"
     ]
    },
    {
     "name": "stdout",
     "output_type": "stream",
     "text": [
      "50640 geometries retrieved from Winchester\n",
      "Generated graph with 1862 nodes and 2452 edges\n",
      "Node features: ['metres', 'choice2km', 'nodecount2km', 'integration2km', 'choice10km', 'nodecount10km', 'integration10km', 'choice100km', 'nodecount100km', 'integration100km', 'choice2kmrank', 'choice10kmrank', 'integration10kmrank', 'integration2kmrank', 'choice2kmlog', 'choice10kmlog', 'choice100kmlog', 'x', 'y']\n",
      "Node target: None\n",
      "Edge attributes: {'u', 'v'}\n",
      "Loading graph of South Oxfordshire with key ('South Oxfordshire', \"['metres', 'choice2km', 'nodecount2km', 'integration2km', 'choice10km', 'nodecount10km', 'integration10km', 'choice100km', 'nodecount100km', 'integration100km', 'choice2kmrank', 'choice10kmrank', 'integration10kmrank', 'integration2kmrank', 'choice2kmlog', 'choice10kmlog', 'choice100kmlog']\", None, 'primal', 'False', True, 50, False)...\n",
      "Loading South Oxfordshire from SSx\n"
     ]
    },
    {
     "name": "stderr",
     "output_type": "stream",
     "text": [
      "/homes/wwc4618/predicting-choice/utils/remove_false_nodes.py:97: FutureWarning: The frame.append method is deprecated and will be removed from pandas in a future version. Use pandas.concat instead.\n",
      "  return df.append(\n"
     ]
    },
    {
     "name": "stdout",
     "output_type": "stream",
     "text": [
      "49900 geometries retrieved from South Oxfordshire\n",
      "Generated graph with 1872 nodes and 2414 edges\n",
      "Node features: ['metres', 'choice2km', 'nodecount2km', 'integration2km', 'choice10km', 'nodecount10km', 'integration10km', 'choice100km', 'nodecount100km', 'integration100km', 'choice2kmrank', 'choice10kmrank', 'integration10kmrank', 'integration2kmrank', 'choice2kmlog', 'choice10kmlog', 'choice100kmlog', 'x', 'y']\n",
      "Node target: None\n",
      "Edge attributes: {'u', 'v'}\n",
      "Loading graph of Blaby with key ('Blaby', \"['metres', 'choice2km', 'nodecount2km', 'integration2km', 'choice10km', 'nodecount10km', 'integration10km', 'choice100km', 'nodecount100km', 'integration100km', 'choice2kmrank', 'choice10kmrank', 'integration10kmrank', 'integration2kmrank', 'choice2kmlog', 'choice10kmlog', 'choice100kmlog']\", None, 'primal', 'False', True, 50, False)...\n",
      "Loading Blaby from SSx\n"
     ]
    },
    {
     "name": "stderr",
     "output_type": "stream",
     "text": [
      "/homes/wwc4618/predicting-choice/utils/remove_false_nodes.py:97: FutureWarning: The frame.append method is deprecated and will be removed from pandas in a future version. Use pandas.concat instead.\n",
      "  return df.append(\n"
     ]
    },
    {
     "name": "stdout",
     "output_type": "stream",
     "text": [
      "28800 geometries retrieved from Blaby\n",
      "Generated graph with 1066 nodes and 1387 edges\n",
      "Node features: ['metres', 'choice2km', 'nodecount2km', 'integration2km', 'choice10km', 'nodecount10km', 'integration10km', 'choice100km', 'nodecount100km', 'integration100km', 'choice2kmrank', 'choice10kmrank', 'integration10kmrank', 'integration2kmrank', 'choice2kmlog', 'choice10kmlog', 'choice100kmlog', 'x', 'y']\n",
      "Node target: None\n",
      "Edge attributes: {'u', 'v'}\n",
      "Loading graph of North Somerset with key ('North Somerset', \"['metres', 'choice2km', 'nodecount2km', 'integration2km', 'choice10km', 'nodecount10km', 'integration10km', 'choice100km', 'nodecount100km', 'integration100km', 'choice2kmrank', 'choice10kmrank', 'integration10kmrank', 'integration2kmrank', 'choice2kmlog', 'choice10kmlog', 'choice100kmlog']\", None, 'primal', 'False', True, 50, False)...\n",
      "Loading North Somerset from SSx\n"
     ]
    },
    {
     "name": "stderr",
     "output_type": "stream",
     "text": [
      "/homes/wwc4618/predicting-choice/utils/remove_false_nodes.py:97: FutureWarning: The frame.append method is deprecated and will be removed from pandas in a future version. Use pandas.concat instead.\n",
      "  return df.append(\n"
     ]
    },
    {
     "name": "stdout",
     "output_type": "stream",
     "text": [
      "69980 geometries retrieved from North Somerset\n",
      "Generated graph with 2553 nodes and 3407 edges\n",
      "Node features: ['metres', 'choice2km', 'nodecount2km', 'integration2km', 'choice10km', 'nodecount10km', 'integration10km', 'choice100km', 'nodecount100km', 'integration100km', 'choice2kmrank', 'choice10kmrank', 'integration10kmrank', 'integration2kmrank', 'choice2kmlog', 'choice10kmlog', 'choice100kmlog', 'x', 'y']\n",
      "Node target: None\n",
      "Edge attributes: {'u', 'v'}\n",
      "Loading graph of Bristol, City of with key ('Bristol, City of', \"['metres', 'choice2km', 'nodecount2km', 'integration2km', 'choice10km', 'nodecount10km', 'integration10km', 'choice100km', 'nodecount100km', 'integration100km', 'choice2kmrank', 'choice10kmrank', 'integration10kmrank', 'integration2kmrank', 'choice2kmlog', 'choice10kmlog', 'choice100kmlog']\", None, 'primal', 'False', True, 50, False)...\n",
      "Loading Bristol, City of from SSx\n"
     ]
    },
    {
     "name": "stderr",
     "output_type": "stream",
     "text": [
      "/homes/wwc4618/predicting-choice/utils/remove_false_nodes.py:97: FutureWarning: The frame.append method is deprecated and will be removed from pandas in a future version. Use pandas.concat instead.\n",
      "  return df.append(\n"
     ]
    },
    {
     "name": "stdout",
     "output_type": "stream",
     "text": [
      "135060 geometries retrieved from Bristol, City of\n",
      "Generated graph with 4516 nodes and 6607 edges\n",
      "Node features: ['metres', 'choice2km', 'nodecount2km', 'integration2km', 'choice10km', 'nodecount10km', 'integration10km', 'choice100km', 'nodecount100km', 'integration100km', 'choice2kmrank', 'choice10kmrank', 'integration10kmrank', 'integration2kmrank', 'choice2kmlog', 'choice10kmlog', 'choice100kmlog', 'x', 'y']\n",
      "Node target: None\n",
      "Edge attributes: {'u', 'v'}\n",
      "Loading graph of Wigan with key ('Wigan', \"['metres', 'choice2km', 'nodecount2km', 'integration2km', 'choice10km', 'nodecount10km', 'integration10km', 'choice100km', 'nodecount100km', 'integration100km', 'choice2kmrank', 'choice10kmrank', 'integration10kmrank', 'integration2kmrank', 'choice2kmlog', 'choice10kmlog', 'choice100kmlog']\", None, 'primal', 'False', True, 50, False)...\n",
      "Loading Wigan from SSx\n"
     ]
    },
    {
     "name": "stderr",
     "output_type": "stream",
     "text": [
      "/homes/wwc4618/predicting-choice/utils/remove_false_nodes.py:97: FutureWarning: The frame.append method is deprecated and will be removed from pandas in a future version. Use pandas.concat instead.\n",
      "  return df.append(\n"
     ]
    },
    {
     "name": "stdout",
     "output_type": "stream",
     "text": [
      "111280 geometries retrieved from Wigan\n",
      "Generated graph with 3876 nodes and 5386 edges\n",
      "Node features: ['metres', 'choice2km', 'nodecount2km', 'integration2km', 'choice10km', 'nodecount10km', 'integration10km', 'choice100km', 'nodecount100km', 'integration100km', 'choice2kmrank', 'choice10kmrank', 'integration10kmrank', 'integration2kmrank', 'choice2kmlog', 'choice10kmlog', 'choice100kmlog', 'x', 'y']\n",
      "Node target: None\n",
      "Edge attributes: {'u', 'v'}\n",
      "Loading graph of Warrington with key ('Warrington', \"['metres', 'choice2km', 'nodecount2km', 'integration2km', 'choice10km', 'nodecount10km', 'integration10km', 'choice100km', 'nodecount100km', 'integration100km', 'choice2kmrank', 'choice10kmrank', 'integration10kmrank', 'integration2kmrank', 'choice2kmlog', 'choice10kmlog', 'choice100kmlog']\", None, 'primal', 'False', True, 50, False)...\n",
      "Loading Warrington from SSx\n"
     ]
    },
    {
     "name": "stderr",
     "output_type": "stream",
     "text": [
      "/homes/wwc4618/predicting-choice/utils/remove_false_nodes.py:97: FutureWarning: The frame.append method is deprecated and will be removed from pandas in a future version. Use pandas.concat instead.\n",
      "  return df.append(\n"
     ]
    },
    {
     "name": "stdout",
     "output_type": "stream",
     "text": [
      "78980 geometries retrieved from Warrington\n",
      "Generated graph with 2873 nodes and 3833 edges\n",
      "Node features: ['metres', 'choice2km', 'nodecount2km', 'integration2km', 'choice10km', 'nodecount10km', 'integration10km', 'choice100km', 'nodecount100km', 'integration100km', 'choice2kmrank', 'choice10kmrank', 'integration10kmrank', 'integration2kmrank', 'choice2kmlog', 'choice10kmlog', 'choice100kmlog', 'x', 'y']\n",
      "Node target: None\n",
      "Edge attributes: {'u', 'v'}\n",
      "Loading graph of West Lancashire with key ('West Lancashire', \"['metres', 'choice2km', 'nodecount2km', 'integration2km', 'choice10km', 'nodecount10km', 'integration10km', 'choice100km', 'nodecount100km', 'integration100km', 'choice2kmrank', 'choice10kmrank', 'integration10kmrank', 'integration2kmrank', 'choice2kmlog', 'choice10kmlog', 'choice100kmlog']\", None, 'primal', 'False', True, 50, False)...\n",
      "Loading West Lancashire from SSx\n"
     ]
    },
    {
     "name": "stderr",
     "output_type": "stream",
     "text": [
      "/homes/wwc4618/predicting-choice/utils/remove_false_nodes.py:97: FutureWarning: The frame.append method is deprecated and will be removed from pandas in a future version. Use pandas.concat instead.\n",
      "  return df.append(\n"
     ]
    },
    {
     "name": "stdout",
     "output_type": "stream",
     "text": [
      "36760 geometries retrieved from West Lancashire\n",
      "Generated graph with 1393 nodes and 1774 edges\n",
      "Node features: ['metres', 'choice2km', 'nodecount2km', 'integration2km', 'choice10km', 'nodecount10km', 'integration10km', 'choice100km', 'nodecount100km', 'integration100km', 'choice2kmrank', 'choice10kmrank', 'integration10kmrank', 'integration2kmrank', 'choice2kmlog', 'choice10kmlog', 'choice100kmlog', 'x', 'y']\n",
      "Node target: None\n",
      "Edge attributes: {'u', 'v'}\n",
      "Loading graph of Fylde with key ('Fylde', \"['metres', 'choice2km', 'nodecount2km', 'integration2km', 'choice10km', 'nodecount10km', 'integration10km', 'choice100km', 'nodecount100km', 'integration100km', 'choice2kmrank', 'choice10kmrank', 'integration10kmrank', 'integration2kmrank', 'choice2kmlog', 'choice10kmlog', 'choice100kmlog']\", None, 'primal', 'False', True, 50, False)...\n",
      "Loading Fylde from SSx\n"
     ]
    },
    {
     "name": "stderr",
     "output_type": "stream",
     "text": [
      "/homes/wwc4618/predicting-choice/utils/remove_false_nodes.py:97: FutureWarning: The frame.append method is deprecated and will be removed from pandas in a future version. Use pandas.concat instead.\n",
      "  return df.append(\n"
     ]
    },
    {
     "name": "stdout",
     "output_type": "stream",
     "text": [
      "35580 geometries retrieved from Fylde\n",
      "Generated graph with 1236 nodes and 1726 edges\n",
      "Node features: ['metres', 'choice2km', 'nodecount2km', 'integration2km', 'choice10km', 'nodecount10km', 'integration10km', 'choice100km', 'nodecount100km', 'integration100km', 'choice2kmrank', 'choice10kmrank', 'integration10kmrank', 'integration2kmrank', 'choice2kmlog', 'choice10kmlog', 'choice100kmlog', 'x', 'y']\n",
      "Node target: None\n",
      "Edge attributes: {'u', 'v'}\n",
      "Loading graph of Manchester with key ('Manchester', \"['metres', 'choice2km', 'nodecount2km', 'integration2km', 'choice10km', 'nodecount10km', 'integration10km', 'choice100km', 'nodecount100km', 'integration100km', 'choice2kmrank', 'choice10kmrank', 'integration10kmrank', 'integration2kmrank', 'choice2kmlog', 'choice10kmlog', 'choice100kmlog']\", None, 'primal', 'False', True, 50, False)...\n",
      "Loading Manchester from SSx\n"
     ]
    },
    {
     "name": "stderr",
     "output_type": "stream",
     "text": [
      "/homes/wwc4618/predicting-choice/utils/remove_false_nodes.py:97: FutureWarning: The frame.append method is deprecated and will be removed from pandas in a future version. Use pandas.concat instead.\n",
      "  return df.append(\n"
     ]
    },
    {
     "name": "stdout",
     "output_type": "stream",
     "text": [
      "174960 geometries retrieved from Manchester\n",
      "Generated graph with 5800 nodes and 8551 edges\n",
      "Node features: ['metres', 'choice2km', 'nodecount2km', 'integration2km', 'choice10km', 'nodecount10km', 'integration10km', 'choice100km', 'nodecount100km', 'integration100km', 'choice2kmrank', 'choice10kmrank', 'integration10kmrank', 'integration2kmrank', 'choice2kmlog', 'choice10kmlog', 'choice100kmlog', 'x', 'y']\n",
      "Node target: None\n",
      "Edge attributes: {'u', 'v'}\n",
      "Loading graph of North Tyneside with key ('North Tyneside', \"['metres', 'choice2km', 'nodecount2km', 'integration2km', 'choice10km', 'nodecount10km', 'integration10km', 'choice100km', 'nodecount100km', 'integration100km', 'choice2kmrank', 'choice10kmrank', 'integration10kmrank', 'integration2kmrank', 'choice2kmlog', 'choice10kmlog', 'choice100kmlog']\", None, 'primal', 'False', True, 50, False)...\n",
      "Loading North Tyneside from SSx\n"
     ]
    },
    {
     "name": "stderr",
     "output_type": "stream",
     "text": [
      "/homes/wwc4618/predicting-choice/utils/remove_false_nodes.py:97: FutureWarning: The frame.append method is deprecated and will be removed from pandas in a future version. Use pandas.concat instead.\n",
      "  return df.append(\n"
     ]
    },
    {
     "name": "stdout",
     "output_type": "stream",
     "text": [
      "88080 geometries retrieved from North Tyneside\n",
      "Generated graph with 3046 nodes and 4269 edges\n",
      "Node features: ['metres', 'choice2km', 'nodecount2km', 'integration2km', 'choice10km', 'nodecount10km', 'integration10km', 'choice100km', 'nodecount100km', 'integration100km', 'choice2kmrank', 'choice10kmrank', 'integration10kmrank', 'integration2kmrank', 'choice2kmlog', 'choice10kmlog', 'choice100kmlog', 'x', 'y']\n",
      "Node target: None\n",
      "Edge attributes: {'u', 'v'}\n",
      "Loading graph of Newcastle upon Tyne with key ('Newcastle upon Tyne', \"['metres', 'choice2km', 'nodecount2km', 'integration2km', 'choice10km', 'nodecount10km', 'integration10km', 'choice100km', 'nodecount100km', 'integration100km', 'choice2kmrank', 'choice10kmrank', 'integration10kmrank', 'integration2kmrank', 'choice2kmlog', 'choice10kmlog', 'choice100kmlog']\", None, 'primal', 'False', True, 50, False)...\n",
      "Loading Newcastle upon Tyne from SSx\n"
     ]
    },
    {
     "name": "stderr",
     "output_type": "stream",
     "text": [
      "/homes/wwc4618/predicting-choice/utils/remove_false_nodes.py:97: FutureWarning: The frame.append method is deprecated and will be removed from pandas in a future version. Use pandas.concat instead.\n",
      "  return df.append(\n"
     ]
    },
    {
     "name": "stdout",
     "output_type": "stream",
     "text": [
      "107700 geometries retrieved from Newcastle upon Tyne\n",
      "Generated graph with 3652 nodes and 5204 edges\n",
      "Node features: ['metres', 'choice2km', 'nodecount2km', 'integration2km', 'choice10km', 'nodecount10km', 'integration10km', 'choice100km', 'nodecount100km', 'integration100km', 'choice2kmrank', 'choice10kmrank', 'integration10kmrank', 'integration2kmrank', 'choice2kmlog', 'choice10kmlog', 'choice100kmlog', 'x', 'y']\n",
      "Node target: None\n",
      "Edge attributes: {'u', 'v'}\n",
      "Loading graph of Rochdale with key ('Rochdale', \"['metres', 'choice2km', 'nodecount2km', 'integration2km', 'choice10km', 'nodecount10km', 'integration10km', 'choice100km', 'nodecount100km', 'integration100km', 'choice2kmrank', 'choice10kmrank', 'integration10kmrank', 'integration2kmrank', 'choice2kmlog', 'choice10kmlog', 'choice100kmlog']\", None, 'primal', 'False', True, 50, False)...\n",
      "Loading Rochdale from SSx\n"
     ]
    },
    {
     "name": "stderr",
     "output_type": "stream",
     "text": [
      "/homes/wwc4618/predicting-choice/utils/remove_false_nodes.py:97: FutureWarning: The frame.append method is deprecated and will be removed from pandas in a future version. Use pandas.concat instead.\n",
      "  return df.append(\n"
     ]
    },
    {
     "name": "stdout",
     "output_type": "stream",
     "text": [
      "76420 geometries retrieved from Rochdale\n",
      "Generated graph with 2665 nodes and 3674 edges\n",
      "Node features: ['metres', 'choice2km', 'nodecount2km', 'integration2km', 'choice10km', 'nodecount10km', 'integration10km', 'choice100km', 'nodecount100km', 'integration100km', 'choice2kmrank', 'choice10kmrank', 'integration10kmrank', 'integration2kmrank', 'choice2kmlog', 'choice10kmlog', 'choice100kmlog', 'x', 'y']\n",
      "Node target: None\n",
      "Edge attributes: {'u', 'v'}\n",
      "Loading graph of Barnsley with key ('Barnsley', \"['metres', 'choice2km', 'nodecount2km', 'integration2km', 'choice10km', 'nodecount10km', 'integration10km', 'choice100km', 'nodecount100km', 'integration100km', 'choice2kmrank', 'choice10kmrank', 'integration10kmrank', 'integration2kmrank', 'choice2kmlog', 'choice10kmlog', 'choice100kmlog']\", None, 'primal', 'False', True, 50, False)...\n",
      "Loading Barnsley from SSx\n"
     ]
    },
    {
     "name": "stderr",
     "output_type": "stream",
     "text": [
      "/homes/wwc4618/predicting-choice/utils/remove_false_nodes.py:97: FutureWarning: The frame.append method is deprecated and will be removed from pandas in a future version. Use pandas.concat instead.\n",
      "  return df.append(\n"
     ]
    },
    {
     "name": "stdout",
     "output_type": "stream",
     "text": [
      "90220 geometries retrieved from Barnsley\n",
      "Generated graph with 3194 nodes and 4347 edges\n",
      "Node features: ['metres', 'choice2km', 'nodecount2km', 'integration2km', 'choice10km', 'nodecount10km', 'integration10km', 'choice100km', 'nodecount100km', 'integration100km', 'choice2kmrank', 'choice10kmrank', 'integration10kmrank', 'integration2kmrank', 'choice2kmlog', 'choice10kmlog', 'choice100kmlog', 'x', 'y']\n",
      "Node target: None\n",
      "Edge attributes: {'u', 'v'}\n",
      "Loading graph of Gateshead with key ('Gateshead', \"['metres', 'choice2km', 'nodecount2km', 'integration2km', 'choice10km', 'nodecount10km', 'integration10km', 'choice100km', 'nodecount100km', 'integration100km', 'choice2kmrank', 'choice10kmrank', 'integration10kmrank', 'integration2kmrank', 'choice2kmlog', 'choice10kmlog', 'choice100kmlog']\", None, 'primal', 'False', True, 50, False)...\n",
      "Loading Gateshead from SSx\n"
     ]
    },
    {
     "name": "stderr",
     "output_type": "stream",
     "text": [
      "/homes/wwc4618/predicting-choice/utils/remove_false_nodes.py:97: FutureWarning: The frame.append method is deprecated and will be removed from pandas in a future version. Use pandas.concat instead.\n",
      "  return df.append(\n"
     ]
    },
    {
     "name": "stdout",
     "output_type": "stream",
     "text": [
      "82140 geometries retrieved from Gateshead\n",
      "Generated graph with 2890 nodes and 3953 edges\n",
      "Node features: ['metres', 'choice2km', 'nodecount2km', 'integration2km', 'choice10km', 'nodecount10km', 'integration10km', 'choice100km', 'nodecount100km', 'integration100km', 'choice2kmrank', 'choice10kmrank', 'integration10kmrank', 'integration2kmrank', 'choice2kmlog', 'choice10kmlog', 'choice100kmlog', 'x', 'y']\n",
      "Node target: None\n",
      "Edge attributes: {'u', 'v'}\n",
      "Loading graph of Sunderland with key ('Sunderland', \"['metres', 'choice2km', 'nodecount2km', 'integration2km', 'choice10km', 'nodecount10km', 'integration10km', 'choice100km', 'nodecount100km', 'integration100km', 'choice2kmrank', 'choice10kmrank', 'integration10kmrank', 'integration2kmrank', 'choice2kmlog', 'choice10kmlog', 'choice100kmlog']\", None, 'primal', 'False', True, 50, False)...\n",
      "Loading Sunderland from SSx\n"
     ]
    }
   ],
   "source": [
    "def construct_ssx_dataset(places, **kwargs):\n",
    "    dataset = [ load_graph(place, reset=True, **kwargs) for place in places ]\n",
    "    return dataset\n",
    "\n",
    "for agg in [\n",
    "    'std',\n",
    "    'median'\n",
    "]:\n",
    "    dataset = construct_ssx_dataset(included_places, \n",
    "                                    feature_fields=all_feature_fields, \n",
    "                                    approach='primal', \n",
    "                                    clean='False', \n",
    "                                    agg=agg, \n",
    "                                    verbose=True)\n",
    "    for data in dataset:\n",
    "        data.node_attrs = list(data.node_attrs)\n",
    "    torch.save(dataset, f'{dataset_root}/ssx_dataset_{agg}.pt')"
   ]
  },
  {
   "cell_type": "code",
   "execution_count": null,
   "metadata": {},
   "outputs": [],
   "source": [
    "g = load_graph('Poole', all_feature_fields, approach='primal', verbose=True)\n",
    "print(g)"
   ]
  },
  {
   "cell_type": "code",
   "execution_count": null,
   "metadata": {},
   "outputs": [],
   "source": [
    "  \n",
    "def build_network_df():\n",
    "    records =[]\n",
    "    for place in included_places:\n",
    "        primal_G = load_graph(place, return_nx=True)\n",
    "        gdf = load_gdf(place)\n",
    "        \n",
    "        graph_stats = {\n",
    "            'place': place,\n",
    "            'average_degree_connectivity': nx.average_degree_connectivity(primal_G),\n",
    "            'average_degree': sum(val for (node, val) in primal_G.degree()) / primal_G.number_of_nodes(),\n",
    "            'num_nodes': primal_G.number_of_nodes(),\n",
    "            'num_edges': primal_G.number_of_edges(),\n",
    "            'density': nx.density(primal_G),\n",
    "            'transitivity': nx.transitivity(primal_G),\n",
    "            'average_shortest_path_length': nx.average_shortest_path_length(primal_G),\n",
    "            'diameter': nx.algorithms.distance_measures.diameter(primal_G)\n",
    "        }\n",
    "        ssx_measures = all_feature_fields\n",
    "        average_ssx_metrics  = {\n",
    "            measure: gdf[measure].mean() \n",
    "            for measure in ssx_measures\n",
    "        }\n",
    "        records.append({ **graph_stats, **average_ssx_metrics })\n",
    "    return pd.DataFrame.from_records(records)\n",
    "        \n",
    "net_df = pd.read_pickle(f'{dataset_root}/network_df.pt')\n",
    "dep_df = load_deprivation_df()\n",
    "gva_df = load_gva_df()\n",
    "# gva_data_list = load_graphs(load_gva_df(), 'LA_name', target_attrs=[2015])\n",
    "# torch.save(gva_data_list, 'datasets/ssx_gva_dataset.pt')\n",
    "\n",
    "# city_cluster_data_list = load_graphs(load_city_cluster_df(), 'Name', feature_fields=all_feature_fields,\n",
    "#                             target_attrs=['Supergroup Code', 'Group Code', 'Subgroup Code'])\n",
    "\n",
    "# torch.save(city_cluster_data_list, 'datasets/ssx_cities_dataset_norm.pt')\n",
    "\n",
    "# df = load_gva_df()\n",
    "# df"
   ]
  },
  {
   "cell_type": "markdown",
   "metadata": {},
   "source": [
    "## Load saved dataset and process into dataloader"
   ]
  },
  {
   "cell_type": "code",
   "execution_count": 17,
   "metadata": {},
   "outputs": [],
   "source": [
    "from torch_geometric.loader import DataLoader\n",
    "torch.manual_seed(12345)\n",
    "\n",
    "def print_dataset_stats(dataset):\n",
    "    print(f'Number of graphs: {len(dataset)}')\n",
    "    data = dataset[0]  # Get the first graph object.\n",
    "    print()\n",
    "    print(data)\n",
    "    print('=============================================================')\n",
    "\n",
    "    # Gather some statistics about the first graph.\n",
    "    print(f'Number of nodes: {data.num_nodes}')\n",
    "    print(f'Number of node features: {data.num_node_features}')\n",
    "    print(f'Number of edges: {data.num_edges}')\n",
    "    print(f'Number of edge features: {data.num_edge_features}')\n",
    "    print(f'Average node degree: {data.num_edges / data.num_nodes:.2f}')\n",
    "    print(f'Has isolated nodes: {data.has_isolated_nodes()}')\n",
    "    print(f'Has self-loops: {data.has_self_loops()}')\n",
    "    print(f'Is undirected: {data.is_undirected()}')\n",
    "\n",
    "def process_dataset(dataset, split=0.8, batch_size=64, verbose=False):\n",
    "    # Train-test split\n",
    "    idx = torch.randperm(len(dataset))\n",
    "    split_idx = math.floor(split * len(dataset))\n",
    "    train_idx = idx[:split_idx]\n",
    "    test_idx = idx[split_idx:]\n",
    "    train_dataset = [dataset[i] for i in train_idx]\n",
    "    test_dataset = [dataset[i] for i in test_idx]\n",
    "    if verbose:\n",
    "        print(f'Number of training graphs: {len(train_dataset)}')\n",
    "        print(f'Number of test graphs: {len(test_dataset)}')\n",
    "    \n",
    "    # Load graphs into dataloader\n",
    "    train_loader = DataLoader(train_dataset, batch_size=64, shuffle=True)\n",
    "    test_loader = DataLoader(test_dataset, batch_size=64, shuffle=False)\n",
    "    if verbose:\n",
    "        for step, data in enumerate(train_loader):\n",
    "            print(f'Step {step + 1}:')\n",
    "            print('=======')\n",
    "            print(f'Number of graphs in the current batch: {data.num_graphs}')\n",
    "            print(data)\n",
    "            print()\n",
    "\n",
    "    return dataset, train_loader, test_loader\n",
    "\n",
    "def get_data_stats(dataset, target_index):\n",
    "    num_node_features = dataset[0].num_node_features\n",
    "    try:\n",
    "        targets = [data.y[0][target_index].item() for data in dataset]\n",
    "    except IndexError:\n",
    "        return num_node_features, 1\n",
    "    return num_node_features, max(targets) + 1 # 0-indexed\n",
    "\n"
   ]
  },
  {
   "cell_type": "markdown",
   "metadata": {},
   "source": [
    "## OLS with Mean SSx Metrics"
   ]
  },
  {
   "cell_type": "code",
   "execution_count": 15,
   "metadata": {},
   "outputs": [
    {
     "ename": "NameError",
     "evalue": "name 'dataset' is not defined",
     "output_type": "error",
     "traceback": [
      "\u001b[0;31m---------------------------------------------------------------------------\u001b[0m",
      "\u001b[0;31mNameError\u001b[0m                                 Traceback (most recent call last)",
      "Input \u001b[0;32mIn [15]\u001b[0m, in \u001b[0;36m<module>\u001b[0;34m\u001b[0m\n\u001b[1;32m      1\u001b[0m \u001b[38;5;28;01mfrom\u001b[39;00m \u001b[38;5;21;01msklearn\u001b[39;00m\u001b[38;5;21;01m.\u001b[39;00m\u001b[38;5;21;01mlinear_model\u001b[39;00m \u001b[38;5;28;01mimport\u001b[39;00m LinearRegression\n\u001b[0;32m----> 3\u001b[0m num_node_features \u001b[38;5;241m=\u001b[39m \u001b[43mdataset\u001b[49m[\u001b[38;5;241m0\u001b[39m]\u001b[38;5;241m.\u001b[39mnum_node_features\n\u001b[1;32m      4\u001b[0m X \u001b[38;5;241m=\u001b[39m np\u001b[38;5;241m.\u001b[39mzeros((\u001b[38;5;28mlen\u001b[39m(dataset), num_node_features))\n\u001b[1;32m      5\u001b[0m y \u001b[38;5;241m=\u001b[39m np\u001b[38;5;241m.\u001b[39mzeros(\u001b[38;5;28mlen\u001b[39m(dataset))\n",
      "\u001b[0;31mNameError\u001b[0m: name 'dataset' is not defined"
     ]
    }
   ],
   "source": [
    "from sklearn.linear_model import LinearRegression\n",
    "\n",
    "num_node_features = dataset[0].num_node_features\n",
    "X = np.zeros((len(dataset), num_node_features))\n",
    "y = np.zeros(len(dataset))\n",
    "\n",
    "# Get mean vectors for each graph\n",
    "for i, graph in enumerate(dataset):\n",
    "    X[i] = graph.x.mean(dim=0) # shape [17]\n",
    "    y[i] = graph.y[0]\n",
    "\n",
    "reg = LinearRegression().fit(X, y)\n",
    "print(reg.score(X, y)) # transductive\n",
    "pd.DataFrame({ 'features': feature_fields, 'coefficients': reg.coef_ })"
   ]
  },
  {
   "cell_type": "code",
   "execution_count": 2,
   "metadata": {},
   "outputs": [
    {
     "ename": "NameError",
     "evalue": "name 'link_pred_dataset1' is not defined",
     "output_type": "error",
     "traceback": [
      "\u001b[0;31m---------------------------------------------------------------------------\u001b[0m",
      "\u001b[0;31mNameError\u001b[0m                                 Traceback (most recent call last)",
      "Input \u001b[0;32mIn [2]\u001b[0m, in \u001b[0;36m<module>\u001b[0;34m\u001b[0m\n\u001b[1;32m      1\u001b[0m \u001b[38;5;66;03m# link_pred_dataset1 = torch.load(f'{dataset_root}/link_pred_metrics_1_iter1.pt')\u001b[39;00m\n\u001b[1;32m      2\u001b[0m \n\u001b[1;32m      3\u001b[0m \u001b[38;5;66;03m# link_pred_dataset2 = torch.load(f'{dataset_root}/link_pred_metrics_1_iter2.pt')\u001b[39;00m\n\u001b[1;32m      5\u001b[0m link_pred_dataset3 \u001b[38;5;241m=\u001b[39m torch\u001b[38;5;241m.\u001b[39mload(\u001b[38;5;124mf\u001b[39m\u001b[38;5;124m'\u001b[39m\u001b[38;5;132;01m{\u001b[39;00mdataset_root\u001b[38;5;132;01m}\u001b[39;00m\u001b[38;5;124m/link_pred_metrics_1_iter3.pt\u001b[39m\u001b[38;5;124m'\u001b[39m)\n\u001b[0;32m----> 6\u001b[0m \u001b[43mlink_pred_dataset1\u001b[49m\u001b[38;5;241m.\u001b[39mkeys(), link_pred_dataset2\u001b[38;5;241m.\u001b[39mkeys(), link_pred_dataset3\u001b[38;5;241m.\u001b[39mkeys()\n",
      "\u001b[0;31mNameError\u001b[0m: name 'link_pred_dataset1' is not defined"
     ]
    }
   ],
   "source": [
    "# link_pred_dataset1 = torch.load(f'{dataset_root}/link_pred_metrics_1_iter1.pt')\n",
    "\n",
    "# link_pred_dataset2 = torch.load(f'{dataset_root}/link_pred_metrics_1_iter2.pt')\n",
    "\n",
    "link_pred_dataset3 = torch.load(f'{dataset_root}/link_pred_metrics_1_iter3.pt')\n",
    "link_pred_dataset1.keys(), link_pred_dataset2.keys(), link_pred_dataset3.keys()"
   ]
  },
  {
   "cell_type": "code",
   "execution_count": 7,
   "metadata": {},
   "outputs": [
    {
     "data": {
      "text/plain": [
       "{'total_loss': [1.0783421993255615],\n",
       " 'recon_loss': [1.0783421993255615],\n",
       " 'kl_loss': [0.0],\n",
       " 'train_auc': [0.773520039092519],\n",
       " 'train_ap': [0.39502647439489635],\n",
       " 'test_auc': [0.7118659379084014],\n",
       " 'test_ap': [0.3069965326448055],\n",
       " 'transductive': {'z': [tensor([[ 0.0346,  0.1279,  0.6907,  ...,  0.6256, -0.0979,  0.2236],\n",
       "           [ 0.2389,  0.3416,  0.9530,  ...,  0.8733, -0.3116,  0.1675],\n",
       "           [ 0.3257,  0.3255,  0.7886,  ...,  0.7748, -0.3417,  0.0769],\n",
       "           ...,\n",
       "           [ 0.4678,  0.8063, -0.7783,  ..., -0.8199, -0.2907, -0.5933],\n",
       "           [ 0.3466,  0.7134, -0.7816,  ..., -0.8577, -0.2493, -0.6122],\n",
       "           [ 0.2637,  0.6214, -0.7959,  ..., -0.8275, -0.2254, -0.6304]],\n",
       "          device='cuda:0', requires_grad=True)],\n",
       "  'auc': 0.8477167630057804,\n",
       "  'ap': 0.8893990221597325,\n",
       "  'precision': 0.8215215061992959,\n",
       "  'recall': 0.8614767255216693,\n",
       "  'f1': 0.8410248374206691},\n",
       " 'inductive-avg': {'auc': 0.7739426236111394,\n",
       "  'ap': 0.8327926211512312,\n",
       "  'precision': 0.7746086994891086,\n",
       "  'recall': 0.8931418250915304,\n",
       "  'f1': 0.828408559640029}}"
      ]
     },
     "execution_count": 7,
     "metadata": {},
     "output_type": "execute_result"
    }
   ],
   "source": [
    "import copy\n",
    "metrics = ['auc', 'ap', 'precision', 'recall', 'f1']\n",
    "def transform_dataset(link_pred_dataset):\n",
    "    new_dataset = {}\n",
    "    for key in link_pred_dataset:\n",
    "        new_dataset[key] = copy.deepcopy(link_pred_dataset[key])\n",
    "        avg_dict = { metric: 0 for metric in metrics }\n",
    "        self_dict = new_dataset[key]['tests'][key]\n",
    "        for place2 in new_dataset[key]['tests']:\n",
    "            for metric in metrics:\n",
    "                avg_dict[metric] += new_dataset[key]['tests'][place2][metric]\n",
    "        for metric in metrics:\n",
    "            avg_dict[metric] /= len(new_dataset[key]['tests'])\n",
    "        new_dataset[key]['transductive'] = self_dict\n",
    "        new_dataset[key]['inductive-avg'] = avg_dict\n",
    "        del new_dataset[key]['tests']\n",
    "    return new_dataset\n",
    "\n",
    "# link_pred1 = transform_dataset(link_pred_dataset1)\n",
    "# link_pred2 = transform_dataset(link_pred_dataset2)\n",
    "link_pred['Southwark']"
   ]
  },
  {
   "cell_type": "markdown",
   "metadata": {},
   "source": [
    "# OLS with Link Pred Metrics"
   ]
  },
  {
   "cell_type": "code",
   "execution_count": 37,
   "metadata": {},
   "outputs": [
    {
     "name": "stdout",
     "output_type": "stream",
     "text": [
      "Regressing with 326 local authorities\n",
      "R score for train_ap against 2015: 0.0006001691644418328\n",
      "Transductive ap against 2015: 0.001998363420081861\n",
      "Inductive ap against 2015: 0.0011737585067838063\n",
      "Transductive f1 against 2015: 0.0046496865102853\n",
      "Inductive f1 against 2015: 0.0017167343070328966\n",
      "{('train_ap', 2015): 0.0006001691644418328, ('ap_transductive', 2015): 0.001998363420081861, ('ap_inductive', 2015): 0.0011737585067838063, ('f1_transductive', 2015): 0.0046496865102853, ('f1_inductive', 2015): 0.0017167343070328966}\n",
      "Regressing with 326 local authorities\n",
      "R score for train_ap against 2015: 0.014212745529654791\n"
     ]
    },
    {
     "ename": "ValueError",
     "evalue": "All arrays must be of the same length",
     "output_type": "error",
     "traceback": [
      "\u001b[0;31m---------------------------------------------------------------------------\u001b[0m",
      "\u001b[0;31mValueError\u001b[0m                                Traceback (most recent call last)",
      "Input \u001b[0;32mIn [37]\u001b[0m, in \u001b[0;36m<cell line: 101>\u001b[0;34m()\u001b[0m\n\u001b[1;32m     99\u001b[0m link_pred_datasetb \u001b[38;5;241m=\u001b[39m torch\u001b[38;5;241m.\u001b[39mload(\u001b[38;5;124mf\u001b[39m\u001b[38;5;124m'\u001b[39m\u001b[38;5;132;01m{\u001b[39;00mdataset_root\u001b[38;5;132;01m}\u001b[39;00m\u001b[38;5;124m/link_pred_metrics_GAIN_iter2.pt\u001b[39m\u001b[38;5;124m'\u001b[39m)\n\u001b[1;32m    100\u001b[0m link_pred_dataset \u001b[38;5;241m=\u001b[39m {\u001b[38;5;241m*\u001b[39m\u001b[38;5;241m*\u001b[39mlink_pred_dataseta, \u001b[38;5;241m*\u001b[39m\u001b[38;5;241m*\u001b[39mlink_pred_datasetb}\n\u001b[0;32m--> 101\u001b[0m scores1 \u001b[38;5;241m=\u001b[39m \u001b[43mlink_pred_regression\u001b[49m\u001b[43m(\u001b[49m\u001b[43mlink_pred_dataset\u001b[49m\u001b[43m,\u001b[49m\u001b[43m \u001b[49m\u001b[43mmetrics\u001b[49m\u001b[43m,\u001b[49m\u001b[43m \u001b[49m\u001b[43mcity_stats\u001b[49m\u001b[43m,\u001b[49m\u001b[43m \u001b[49m\u001b[43mplot_graph\u001b[49m\u001b[38;5;241;43m=\u001b[39;49m\u001b[38;5;28;43;01mTrue\u001b[39;49;00m\u001b[43m)\u001b[49m\n\u001b[1;32m    102\u001b[0m \u001b[38;5;28mprint\u001b[39m(scores1)\n",
      "Input \u001b[0;32mIn [37]\u001b[0m, in \u001b[0;36mlink_pred_regression\u001b[0;34m(link_pred_dataset, link_pred_metrics, city_stats, plot_graph)\u001b[0m\n\u001b[1;32m     57\u001b[0m         \u001b[38;5;28;01mif\u001b[39;00m plot_graph:\n\u001b[1;32m     58\u001b[0m             X \u001b[38;5;241m=\u001b[39m np\u001b[38;5;241m.\u001b[39marray(X)\u001b[38;5;241m.\u001b[39mflatten()\n\u001b[0;32m---> 59\u001b[0m             \u001b[43mplot\u001b[49m\u001b[43m(\u001b[49m\u001b[43mX\u001b[49m\u001b[43m,\u001b[49m\u001b[43m \u001b[49m\u001b[43mY\u001b[49m\u001b[43m,\u001b[49m\u001b[43m \u001b[49m\u001b[43mlink_pred_metric\u001b[49m\u001b[43m,\u001b[49m\u001b[43m \u001b[49m\u001b[43mcity_stat\u001b[49m\u001b[43m)\u001b[49m\n\u001b[1;32m     60\u001b[0m \u001b[38;5;28;01melse\u001b[39;00m:\n\u001b[1;32m     61\u001b[0m     \u001b[38;5;66;03m# Retrieve both the transductive and inductive result\u001b[39;00m\n\u001b[1;32m     62\u001b[0m     X_trans \u001b[38;5;241m=\u001b[39m [[link_pred_dataset[place][\u001b[38;5;124m'\u001b[39m\u001b[38;5;124mtransductive\u001b[39m\u001b[38;5;124m'\u001b[39m][link_pred_metric]] \\\n\u001b[1;32m     63\u001b[0m                \u001b[38;5;28;01mfor\u001b[39;00m place \u001b[38;5;129;01min\u001b[39;00m valid_places]\n",
      "Input \u001b[0;32mIn [37]\u001b[0m, in \u001b[0;36mplot\u001b[0;34m(X, Y, x_label, y_label)\u001b[0m\n\u001b[1;32m     20\u001b[0m \u001b[38;5;28;01mdef\u001b[39;00m \u001b[38;5;21mplot\u001b[39m(X, Y, x_label\u001b[38;5;241m=\u001b[39m\u001b[38;5;124m'\u001b[39m\u001b[38;5;124mx\u001b[39m\u001b[38;5;124m'\u001b[39m, y_label\u001b[38;5;241m=\u001b[39m\u001b[38;5;124m'\u001b[39m\u001b[38;5;124my\u001b[39m\u001b[38;5;124m'\u001b[39m):\n\u001b[0;32m---> 21\u001b[0m     temp_df \u001b[38;5;241m=\u001b[39m \u001b[43mpd\u001b[49m\u001b[38;5;241;43m.\u001b[39;49m\u001b[43mDataFrame\u001b[49m\u001b[38;5;241;43m.\u001b[39;49m\u001b[43mfrom_dict\u001b[49m\u001b[43m(\u001b[49m\u001b[43m{\u001b[49m\u001b[43mx_label\u001b[49m\u001b[43m:\u001b[49m\u001b[43m \u001b[49m\u001b[43mX\u001b[49m\u001b[43m,\u001b[49m\u001b[43m \u001b[49m\u001b[43my_label\u001b[49m\u001b[43m:\u001b[49m\u001b[43m \u001b[49m\u001b[43mY\u001b[49m\u001b[43m}\u001b[49m\u001b[43m)\u001b[49m\n\u001b[1;32m     22\u001b[0m     sns\u001b[38;5;241m.\u001b[39mjointplot(data\u001b[38;5;241m=\u001b[39mtemp_df, x\u001b[38;5;241m=\u001b[39mx_label, y\u001b[38;5;241m=\u001b[39my_label, kind\u001b[38;5;241m=\u001b[39m\u001b[38;5;124m'\u001b[39m\u001b[38;5;124mreg\u001b[39m\u001b[38;5;124m'\u001b[39m)\n\u001b[1;32m     23\u001b[0m     plt\u001b[38;5;241m.\u001b[39mshow()\n",
      "File \u001b[0;32m/vol/bitbucket/wwc4618/venv/lib/python3.8/site-packages/pandas/core/frame.py:1677\u001b[0m, in \u001b[0;36mDataFrame.from_dict\u001b[0;34m(cls, data, orient, dtype, columns)\u001b[0m\n\u001b[1;32m   1674\u001b[0m     \u001b[38;5;28;01mraise\u001b[39;00m \u001b[38;5;167;01mValueError\u001b[39;00m(\u001b[38;5;124m\"\u001b[39m\u001b[38;5;124monly recognize index or columns for orient\u001b[39m\u001b[38;5;124m\"\u001b[39m)\n\u001b[1;32m   1676\u001b[0m \u001b[38;5;28;01mif\u001b[39;00m orient \u001b[38;5;241m!=\u001b[39m \u001b[38;5;124m\"\u001b[39m\u001b[38;5;124mtight\u001b[39m\u001b[38;5;124m\"\u001b[39m:\n\u001b[0;32m-> 1677\u001b[0m     \u001b[38;5;28;01mreturn\u001b[39;00m \u001b[38;5;28;43mcls\u001b[39;49m\u001b[43m(\u001b[49m\u001b[43mdata\u001b[49m\u001b[43m,\u001b[49m\u001b[43m \u001b[49m\u001b[43mindex\u001b[49m\u001b[38;5;241;43m=\u001b[39;49m\u001b[43mindex\u001b[49m\u001b[43m,\u001b[49m\u001b[43m \u001b[49m\u001b[43mcolumns\u001b[49m\u001b[38;5;241;43m=\u001b[39;49m\u001b[43mcolumns\u001b[49m\u001b[43m,\u001b[49m\u001b[43m \u001b[49m\u001b[43mdtype\u001b[49m\u001b[38;5;241;43m=\u001b[39;49m\u001b[43mdtype\u001b[49m\u001b[43m)\u001b[49m\n\u001b[1;32m   1678\u001b[0m \u001b[38;5;28;01melse\u001b[39;00m:\n\u001b[1;32m   1679\u001b[0m     realdata \u001b[38;5;241m=\u001b[39m data[\u001b[38;5;124m\"\u001b[39m\u001b[38;5;124mdata\u001b[39m\u001b[38;5;124m\"\u001b[39m]\n",
      "File \u001b[0;32m/vol/bitbucket/wwc4618/venv/lib/python3.8/site-packages/pandas/core/frame.py:636\u001b[0m, in \u001b[0;36mDataFrame.__init__\u001b[0;34m(self, data, index, columns, dtype, copy)\u001b[0m\n\u001b[1;32m    630\u001b[0m     mgr \u001b[38;5;241m=\u001b[39m \u001b[38;5;28mself\u001b[39m\u001b[38;5;241m.\u001b[39m_init_mgr(\n\u001b[1;32m    631\u001b[0m         data, axes\u001b[38;5;241m=\u001b[39m{\u001b[38;5;124m\"\u001b[39m\u001b[38;5;124mindex\u001b[39m\u001b[38;5;124m\"\u001b[39m: index, \u001b[38;5;124m\"\u001b[39m\u001b[38;5;124mcolumns\u001b[39m\u001b[38;5;124m\"\u001b[39m: columns}, dtype\u001b[38;5;241m=\u001b[39mdtype, copy\u001b[38;5;241m=\u001b[39mcopy\n\u001b[1;32m    632\u001b[0m     )\n\u001b[1;32m    634\u001b[0m \u001b[38;5;28;01melif\u001b[39;00m \u001b[38;5;28misinstance\u001b[39m(data, \u001b[38;5;28mdict\u001b[39m):\n\u001b[1;32m    635\u001b[0m     \u001b[38;5;66;03m# GH#38939 de facto copy defaults to False only in non-dict cases\u001b[39;00m\n\u001b[0;32m--> 636\u001b[0m     mgr \u001b[38;5;241m=\u001b[39m \u001b[43mdict_to_mgr\u001b[49m\u001b[43m(\u001b[49m\u001b[43mdata\u001b[49m\u001b[43m,\u001b[49m\u001b[43m \u001b[49m\u001b[43mindex\u001b[49m\u001b[43m,\u001b[49m\u001b[43m \u001b[49m\u001b[43mcolumns\u001b[49m\u001b[43m,\u001b[49m\u001b[43m \u001b[49m\u001b[43mdtype\u001b[49m\u001b[38;5;241;43m=\u001b[39;49m\u001b[43mdtype\u001b[49m\u001b[43m,\u001b[49m\u001b[43m \u001b[49m\u001b[43mcopy\u001b[49m\u001b[38;5;241;43m=\u001b[39;49m\u001b[43mcopy\u001b[49m\u001b[43m,\u001b[49m\u001b[43m \u001b[49m\u001b[43mtyp\u001b[49m\u001b[38;5;241;43m=\u001b[39;49m\u001b[43mmanager\u001b[49m\u001b[43m)\u001b[49m\n\u001b[1;32m    637\u001b[0m \u001b[38;5;28;01melif\u001b[39;00m \u001b[38;5;28misinstance\u001b[39m(data, ma\u001b[38;5;241m.\u001b[39mMaskedArray):\n\u001b[1;32m    638\u001b[0m     \u001b[38;5;28;01mimport\u001b[39;00m \u001b[38;5;21;01mnumpy\u001b[39;00m\u001b[38;5;21;01m.\u001b[39;00m\u001b[38;5;21;01mma\u001b[39;00m\u001b[38;5;21;01m.\u001b[39;00m\u001b[38;5;21;01mmrecords\u001b[39;00m \u001b[38;5;28;01mas\u001b[39;00m \u001b[38;5;21;01mmrecords\u001b[39;00m\n",
      "File \u001b[0;32m/vol/bitbucket/wwc4618/venv/lib/python3.8/site-packages/pandas/core/internals/construction.py:502\u001b[0m, in \u001b[0;36mdict_to_mgr\u001b[0;34m(data, index, columns, dtype, typ, copy)\u001b[0m\n\u001b[1;32m    494\u001b[0m     arrays \u001b[38;5;241m=\u001b[39m [\n\u001b[1;32m    495\u001b[0m         x\n\u001b[1;32m    496\u001b[0m         \u001b[38;5;28;01mif\u001b[39;00m \u001b[38;5;129;01mnot\u001b[39;00m \u001b[38;5;28mhasattr\u001b[39m(x, \u001b[38;5;124m\"\u001b[39m\u001b[38;5;124mdtype\u001b[39m\u001b[38;5;124m\"\u001b[39m) \u001b[38;5;129;01mor\u001b[39;00m \u001b[38;5;129;01mnot\u001b[39;00m \u001b[38;5;28misinstance\u001b[39m(x\u001b[38;5;241m.\u001b[39mdtype, ExtensionDtype)\n\u001b[1;32m    497\u001b[0m         \u001b[38;5;28;01melse\u001b[39;00m x\u001b[38;5;241m.\u001b[39mcopy()\n\u001b[1;32m    498\u001b[0m         \u001b[38;5;28;01mfor\u001b[39;00m x \u001b[38;5;129;01min\u001b[39;00m arrays\n\u001b[1;32m    499\u001b[0m     ]\n\u001b[1;32m    500\u001b[0m     \u001b[38;5;66;03m# TODO: can we get rid of the dt64tz special case above?\u001b[39;00m\n\u001b[0;32m--> 502\u001b[0m \u001b[38;5;28;01mreturn\u001b[39;00m \u001b[43marrays_to_mgr\u001b[49m\u001b[43m(\u001b[49m\u001b[43marrays\u001b[49m\u001b[43m,\u001b[49m\u001b[43m \u001b[49m\u001b[43mcolumns\u001b[49m\u001b[43m,\u001b[49m\u001b[43m \u001b[49m\u001b[43mindex\u001b[49m\u001b[43m,\u001b[49m\u001b[43m \u001b[49m\u001b[43mdtype\u001b[49m\u001b[38;5;241;43m=\u001b[39;49m\u001b[43mdtype\u001b[49m\u001b[43m,\u001b[49m\u001b[43m \u001b[49m\u001b[43mtyp\u001b[49m\u001b[38;5;241;43m=\u001b[39;49m\u001b[43mtyp\u001b[49m\u001b[43m,\u001b[49m\u001b[43m \u001b[49m\u001b[43mconsolidate\u001b[49m\u001b[38;5;241;43m=\u001b[39;49m\u001b[43mcopy\u001b[49m\u001b[43m)\u001b[49m\n",
      "File \u001b[0;32m/vol/bitbucket/wwc4618/venv/lib/python3.8/site-packages/pandas/core/internals/construction.py:120\u001b[0m, in \u001b[0;36marrays_to_mgr\u001b[0;34m(arrays, columns, index, dtype, verify_integrity, typ, consolidate)\u001b[0m\n\u001b[1;32m    117\u001b[0m \u001b[38;5;28;01mif\u001b[39;00m verify_integrity:\n\u001b[1;32m    118\u001b[0m     \u001b[38;5;66;03m# figure out the index, if necessary\u001b[39;00m\n\u001b[1;32m    119\u001b[0m     \u001b[38;5;28;01mif\u001b[39;00m index \u001b[38;5;129;01mis\u001b[39;00m \u001b[38;5;28;01mNone\u001b[39;00m:\n\u001b[0;32m--> 120\u001b[0m         index \u001b[38;5;241m=\u001b[39m \u001b[43m_extract_index\u001b[49m\u001b[43m(\u001b[49m\u001b[43marrays\u001b[49m\u001b[43m)\u001b[49m\n\u001b[1;32m    121\u001b[0m     \u001b[38;5;28;01melse\u001b[39;00m:\n\u001b[1;32m    122\u001b[0m         index \u001b[38;5;241m=\u001b[39m ensure_index(index)\n",
      "File \u001b[0;32m/vol/bitbucket/wwc4618/venv/lib/python3.8/site-packages/pandas/core/internals/construction.py:674\u001b[0m, in \u001b[0;36m_extract_index\u001b[0;34m(data)\u001b[0m\n\u001b[1;32m    672\u001b[0m lengths \u001b[38;5;241m=\u001b[39m \u001b[38;5;28mlist\u001b[39m(\u001b[38;5;28mset\u001b[39m(raw_lengths))\n\u001b[1;32m    673\u001b[0m \u001b[38;5;28;01mif\u001b[39;00m \u001b[38;5;28mlen\u001b[39m(lengths) \u001b[38;5;241m>\u001b[39m \u001b[38;5;241m1\u001b[39m:\n\u001b[0;32m--> 674\u001b[0m     \u001b[38;5;28;01mraise\u001b[39;00m \u001b[38;5;167;01mValueError\u001b[39;00m(\u001b[38;5;124m\"\u001b[39m\u001b[38;5;124mAll arrays must be of the same length\u001b[39m\u001b[38;5;124m\"\u001b[39m)\n\u001b[1;32m    676\u001b[0m \u001b[38;5;28;01mif\u001b[39;00m have_dicts:\n\u001b[1;32m    677\u001b[0m     \u001b[38;5;28;01mraise\u001b[39;00m \u001b[38;5;167;01mValueError\u001b[39;00m(\n\u001b[1;32m    678\u001b[0m         \u001b[38;5;124m\"\u001b[39m\u001b[38;5;124mMixing dicts with non-Series may lead to ambiguous ordering.\u001b[39m\u001b[38;5;124m\"\u001b[39m\n\u001b[1;32m    679\u001b[0m     )\n",
      "\u001b[0;31mValueError\u001b[0m: All arrays must be of the same length"
     ]
    }
   ],
   "source": [
    "from sklearn.linear_model import LinearRegression\n",
    "\n",
    "\n",
    "all_metrics = ['train_auc', 'train_ap', 'f1', 'precision', 'recall', 'auc', 'ap']\n",
    "all_city_stats = ['IMD - Average rank', 'IMD - Average score', 'Income - Average rank',\n",
    "    'Income - Average score', 'Employment - Average rank', 'Employment - Average score',\n",
    "    'Education, Skills and Training - Average rank',\n",
    "    'Education, Skills and Training - Average score',\n",
    "    'Health Deprivation and Disability - Average rank',\n",
    "    'Health Deprivation and Disability - Average score',\n",
    "    'Crime - Average rank', 'Crime - Average score',\n",
    "    'Barriers to Housing and Services - Average rank',\n",
    "    'Barriers to Housing and Services - Average score',\n",
    "    'Living Environment - Average rank', 'Living Environment - Average score',\n",
    "    'Income Deprivation Affecting Children Index (IDACI) - Average rank',\n",
    "    'Income Deprivation Affecting Children Index (IDACI) - Average score',\n",
    "    'Income Deprivation Affecting Older People (IDAOPI) - Average rank',\n",
    "    'Income Deprivation Affecting Older People (IDAOPI) - Average score']\n",
    "\n",
    "def plot(X, Y, x_label='x', y_label='y'):\n",
    "    temp_df = pd.DataFrame.from_dict({x_label: X, y_label: Y})\n",
    "    sns.jointplot(data=temp_df, x=x_label, y=y_label, kind='reg')\n",
    "    plt.show()\n",
    "\n",
    "def link_pred_regression(link_pred_dataset, link_pred_metrics=metrics,\n",
    "                         city_stats=all_city_stats,\n",
    "                         plot_graph=False):\n",
    "    dep_df = load_deprivation_df()\n",
    "    gva_df = load_gva_df()\n",
    "    \n",
    "    id_cols = ['Local Authority District name (2013)', 'Local Authority District code (2013)']\n",
    "    scores = {}\n",
    "    valid_places = [place for place in dep_df[id_cols[0]] \\\n",
    "                    if place in link_pred_dataset]\n",
    "    print(f'Regressing with {len(valid_places)} local authorities')\n",
    "    \n",
    "    # Obtain GVA and deprivation statistics corresponding to retrieved metrics\n",
    "    dep_df = dep_df.query(f'`{id_cols[0]}` == @valid_places')\n",
    "    gva_df = gva_df.query(f'`LA name` == @valid_places')\n",
    "    dva_stats = list(dep_df.select_dtypes(include=['int', 'float']).columns)\n",
    "    gva_stats = list(gva_df.select_dtypes(include=['int', 'float']).columns)\n",
    "\n",
    "    Ys = [dep_df[stat].values for stat in city_stats if stat in dva_stats]\n",
    "    Ys += [gva_df[stat].values for stat in city_stats if stat in gva_stats]\n",
    "\n",
    "    for link_pred_metric in link_pred_metrics:\n",
    "        if link_pred_metric in list(link_pred_dataset.values())[0]:\n",
    "            # Retrieve the run-level results\n",
    "            X = [link_pred_dataset[place][link_pred_metric] for place in valid_places]\n",
    "            # Regress each city statistic against each run metric\n",
    "            for stat_idx, city_stat in enumerate(city_stats):\n",
    "                Y = Ys[stat_idx]\n",
    "                reg = LinearRegression().fit(X, Y)\n",
    "                score = reg.score(X, Y)\n",
    "                scores[link_pred_metric, city_stat] = score\n",
    "                print(f'R score for {link_pred_metric} against {city_stat}: {score}')\n",
    "                if plot_graph:\n",
    "                    X = np.array(X).flatten()\n",
    "                    plot(X, Y, link_pred_metric, city_stat)\n",
    "        else:\n",
    "            # Retrieve both the transductive and inductive result\n",
    "            X_trans = [[link_pred_dataset[place]['transductive'][link_pred_metric]] \\\n",
    "                       for place in valid_places]\n",
    "            X_ind = [[link_pred_dataset[place]['inductive-avg'][link_pred_metric]] \\\n",
    "                     for place in valid_places]\n",
    "            \n",
    "            for stat_idx, city_stat in enumerate(city_stats):\n",
    "                Y = Ys[stat_idx]\n",
    "                reg = LinearRegression().fit(X_trans, Y)\n",
    "                score = reg.score(X_trans, Y)\n",
    "                scores[f'{link_pred_metric}_transductive', city_stat] = score\n",
    "                print(f'Transductive {link_pred_metric} against {city_stat}: {score}')\n",
    "                if plot_graph:\n",
    "                    X_trans = np.array(X_trans).flatten()\n",
    "                    plot(X_trans, Y, x_label=f'Transductive {link_pred_metric}',\n",
    "                         y_label=city_stat)\n",
    "                \n",
    "                reg = LinearRegression().fit(X_ind, Y)\n",
    "                score = reg.score(X_ind, Y)\n",
    "                scores[f'{link_pred_metric}_inductive', city_stat] = score\n",
    "                print(f'Inductive {link_pred_metric} against {city_stat}: {score}')\n",
    "                if plot_graph:\n",
    "                    X_ind = np.array(X_ind).flatten()\n",
    "                    plot(X_ind, Y, x_label=f'Inductive {link_pred_metric}',\n",
    "                         y_label=city_stat)\n",
    "        \n",
    "        \n",
    "    return scores\n",
    "\n",
    "metrics = ['train_ap', 'ap', 'f1']\n",
    "city_stats = [2015]\n",
    "link_pred_dataset2a = torch.load(f'{dataset_root}/link_pred_metrics_2_iter1.pt')\n",
    "link_pred_dataset2b = torch.load(f'{dataset_root}/link_pred_metrics_2_iter2.pt')\n",
    "link_pred_dataset2 = {**link_pred_dataset2a, **link_pred_dataset2b}\n",
    "scores2 = link_pred_regression(link_pred_dataset2, metrics, city_stats)\n",
    "print(scores2)\n",
    "\n",
    "link_pred_dataseta = torch.load(f'{dataset_root}/link_pred_metrics_GAIN_iter1.pt')\n",
    "link_pred_datasetb = torch.load(f'{dataset_root}/link_pred_metrics_GAIN_iter2.pt')\n",
    "link_pred_dataset = {**link_pred_dataseta, **link_pred_datasetb}\n",
    "scores1 = link_pred_regression(link_pred_dataset, metrics, city_stats, plot_graph=True)\n",
    "print(scores1)\n",
    "# df = pd.Series(scores).unstack()\n",
    "# df.to_excel(\"output.xlsx\")  "
   ]
  },
  {
   "cell_type": "markdown",
   "metadata": {},
   "source": [
    "# Network-level TSNE visualizations"
   ]
  },
  {
   "cell_type": "code",
   "execution_count": 77,
   "metadata": {},
   "outputs": [
    {
     "name": "stdout",
     "output_type": "stream",
     "text": [
      "True\n"
     ]
    }
   ],
   "source": [
    "cluster_df = load_city_cluster_df(numeric=False)\n",
    "q = cluster_df.query(f'Name == \"The Vale of Glamorgan\"')\n",
    "print(q.empty)"
   ]
  },
  {
   "cell_type": "code",
   "execution_count": 3,
   "metadata": {},
   "outputs": [
    {
     "name": "stdout",
     "output_type": "stream",
     "text": [
      "torch.Size([347, 19])\n",
      "[t-SNE] Computing 91 nearest neighbors...\n",
      "[t-SNE] Indexed 347 samples in 0.000s...\n",
      "[t-SNE] Computed neighbors for 347 samples in 0.021s...\n",
      "[t-SNE] Computed conditional probabilities for sample 347 / 347\n",
      "[t-SNE] Mean sigma: 2416812.531442\n"
     ]
    },
    {
     "name": "stderr",
     "output_type": "stream",
     "text": [
      "/vol/bitbucket/wwc4618/venv/lib/python3.8/site-packages/sklearn/manifold/_t_sne.py:780: FutureWarning: The default initialization in TSNE will change from 'random' to 'pca' in 1.2.\n",
      "  warnings.warn(\n"
     ]
    },
    {
     "name": "stdout",
     "output_type": "stream",
     "text": [
      "[t-SNE] KL divergence after 250 iterations with early exaggeration: 43.818298\n",
      "[t-SNE] KL divergence after 1000 iterations: 0.131809\n"
     ]
    },
    {
     "data": {
      "image/png": "[encoded data removed]",
      "text/plain": [
       "<Figure size 720x720 with 1 Axes>"
      ]
     },
     "metadata": {
      "needs_background": "light"
     },
     "output_type": "display_data"
    },
    {
     "name": "stdout",
     "output_type": "stream",
     "text": [
      "torch.Size([347, 4])\n",
      "[t-SNE] Computing 91 nearest neighbors...\n",
      "[t-SNE] Indexed 347 samples in 0.000s...\n",
      "[t-SNE] Computed neighbors for 347 samples in 0.004s...\n",
      "[t-SNE] Computed conditional probabilities for sample 347 / 347\n",
      "[t-SNE] Mean sigma: 0.017340\n",
      "[t-SNE] KL divergence after 250 iterations with early exaggeration: 48.698982\n"
     ]
    },
    {
     "name": "stderr",
     "output_type": "stream",
     "text": [
      "/vol/bitbucket/wwc4618/venv/lib/python3.8/site-packages/sklearn/manifold/_t_sne.py:780: FutureWarning: The default initialization in TSNE will change from 'random' to 'pca' in 1.2.\n",
      "  warnings.warn(\n"
     ]
    },
    {
     "name": "stdout",
     "output_type": "stream",
     "text": [
      "[t-SNE] KL divergence after 1000 iterations: 0.314228\n"
     ]
    },
    {
     "data": {
      "image/png": "[encoded data removed]",
      "text/plain": [
       "<Figure size 720x720 with 1 Axes>"
      ]
     },
     "metadata": {
      "needs_background": "light"
     },
     "output_type": "display_data"
    },
    {
     "name": "stdout",
     "output_type": "stream",
     "text": [
      "torch.Size([318, 10])\n",
      "[t-SNE] Computing 91 nearest neighbors...\n",
      "[t-SNE] Indexed 318 samples in 0.000s...\n",
      "[t-SNE] Computed neighbors for 318 samples in 0.006s...\n",
      "[t-SNE] Computed conditional probabilities for sample 318 / 318\n",
      "[t-SNE] Mean sigma: 0.040887\n"
     ]
    },
    {
     "name": "stderr",
     "output_type": "stream",
     "text": [
      "/vol/bitbucket/wwc4618/venv/lib/python3.8/site-packages/sklearn/manifold/_t_sne.py:780: FutureWarning: The default initialization in TSNE will change from 'random' to 'pca' in 1.2.\n",
      "  warnings.warn(\n"
     ]
    },
    {
     "name": "stdout",
     "output_type": "stream",
     "text": [
      "[t-SNE] KL divergence after 250 iterations with early exaggeration: 56.945492\n",
      "[t-SNE] KL divergence after 1000 iterations: 1.154983\n"
     ]
    },
    {
     "data": {
      "image/png": "[encoded data removed]",
      "text/plain": [
       "<Figure size 720x720 with 1 Axes>"
      ]
     },
     "metadata": {
      "needs_background": "light"
     },
     "output_type": "display_data"
    },
    {
     "data": {
      "text/plain": [
       "tensor([[ 0.0178, -0.0580,  0.0069,  ..., -0.0231, -0.0755,  0.0661],\n",
       "        [ 0.0442,  0.0385,  0.0222,  ..., -0.0119, -0.0292, -0.0303],\n",
       "        [-0.0517, -0.0416,  0.0124,  ..., -0.0051,  0.0206, -0.0736],\n",
       "        ...,\n",
       "        [ 0.0009, -0.0275,  0.0323,  ..., -0.0448, -0.0172, -0.0174],\n",
       "        [ 0.0557, -0.0108,  0.0125,  ...,  0.0180, -0.0092, -0.0053],\n",
       "        [-0.0568,  0.0460,  0.0377,  ...,  0.0204,  0.0315,  0.0361]])"
      ]
     },
     "execution_count": 3,
     "metadata": {},
     "output_type": "execute_result"
    }
   ],
   "source": [
    "# Original features\n",
    "from sklearn.manifold import TSNE\n",
    "\n",
    "def plot_tsne(tsne, labels, title=''):\n",
    "    data = pd.DataFrame({'x':tsne[:, 0], 'y':tsne[:, 1], 'label':labels})\n",
    "    groups = data.groupby('label')\n",
    "    plt.figure(figsize=(10, 10))\n",
    "    for name, group in groups:\n",
    "        plt.plot(group.x, group.y, marker='o', linestyle='', ms=10, label=name)\n",
    "    plt.legend()\n",
    "    plt.title(title)\n",
    "    plt.show()\n",
    "\n",
    "def tsne(dataset, category_name, feat_idx=None):    \n",
    "    cluster_df = load_city_cluster_df(numeric=False)\n",
    "    labels = []\n",
    "    features = []\n",
    "    for data in dataset:\n",
    "        query = cluster_df.query(f'Name == \"{data[\"place\"]}\"')\n",
    "        if (query.empty):\n",
    "            continue\n",
    "        else:\n",
    "            labels.append(query[category_name].values[0])\n",
    "            if feat_idx is not None:\n",
    "                features.append(torch.index_select(data['x'], 1, feat_idx))\n",
    "            else:\n",
    "                features.append(data['x'])\n",
    "    avg_feats = [torch.mean(feats, dim=0).detach().cpu() for feats in features]\n",
    "    avg_feats = torch.stack(avg_feats)\n",
    "    print(avg_feats.shape)\n",
    "    tsne = TSNE(learning_rate='auto', verbose=1).fit_transform(avg_feats)\n",
    "\n",
    "    plot_tsne(tsne, labels, title=f'Spread of {category_name}')\n",
    "    return avg_feats\n",
    "\n",
    "# Cluster based on original features\n",
    "# include_feats = rank_fields # CHANGE THIS\n",
    "# feat_idx = torch.tensor([feats.index(feat) for feat in include_feats])\n",
    "# dataset = torch.load(f'{dataset_root}/ssx_dataset.pt')\n",
    "# tsne(dataset, 'Supergroup Name')\n",
    "# tsne(dataset, 'Supergroup Name', feat_idx)\n",
    "\n",
    "# Cluster based on embedded/latent features\n",
    "single_dataset = torch.load(f'{dataset_root}/link_pred_dataset_transformed.pt')\n",
    "avg_z_dataset = []\n",
    "for place in single_dataset:\n",
    "    zs = single_dataset[place]['transductive']['z'][0]\n",
    "    avg_z_dataset.append({ 'x': zs, 'place': place })\n",
    "tsne(avg_z_dataset, 'Supergroup Name')"
   ]
  },
  {
   "cell_type": "markdown",
   "metadata": {},
   "source": [
    "# Standard MLP For Classification"
   ]
  },
  {
   "cell_type": "code",
   "execution_count": null,
   "metadata": {},
   "outputs": [],
   "source": [
    "link_pred_dataset = torch.load(f'{dataset_root}/link_pred_dataset_transformed.pt')\n",
    "link_pred_dataset2a = torch.load(f'{dataset_root}/link_pred_metrics_2_iter1.pt')\n",
    "link_pred_dataset2b = torch.load(f'{dataset_root}/link_pred_metrics_2_iter2.pt')\n",
    "link_pred_dataset2 = {**link_pred_dataset2a, **link_pred_dataset2b}\n",
    "zipfile = f'zip://{dataset_root}/infuse_dist_lyr_2011_clipped.zip'\n",
    "LA_gdf = gpd.read_file(zipfile)\n",
    "\n",
    "for place in link_pred_dataset:\n",
    "    if place not in LA_gdf.geo_label.values:\n",
    "        print(place)\n",
    "print('NEXT')\n",
    "        \n",
    "for place in LA_gdf.geo_label.values:\n",
    "    if place not in link_pred_dataset:\n",
    "        print(place)"
   ]
  },
  {
   "cell_type": "markdown",
   "metadata": {},
   "source": [
    "### Models"
   ]
  },
  {
   "cell_type": "code",
   "execution_count": 20,
   "metadata": {},
   "outputs": [],
   "source": [
    "from torch.nn import Linear, Module, Sequential, ModuleList, Conv1d, MaxPool1d\n",
    "from torch.nn import Identity, ReLU, Sigmoid, Tanh, LogSoftmax\n",
    "import torch.nn.functional as F\n",
    "from torch_geometric.nn import GCNConv, GCN2Conv, GraphConv, DynamicEdgeConv, TopKPooling, MLP\n",
    "from torch_geometric.nn import global_max_pool as gmp\n",
    "from torch_geometric.nn import global_mean_pool as gap\n",
    "from torch_geometric.nn import global_sort_pool as gsp\n",
    "\n",
    "activations = {\n",
    "    'none': (lambda x: x),\n",
    "    'relu': F.relu,\n",
    "    'sigmoid': F.sigmoid,\n",
    "    'tanh': F.tanh,\n",
    "    'logsoft': (lambda x: F.log_softmax(x, dim=-1))\n",
    "}\n",
    "\n",
    "gnn_layers = {\n",
    "    'gcn': GCNConv,\n",
    "    'gcnii': GCN2Conv,\n",
    "    'graph': GraphConv\n",
    "}\n",
    "\n",
    "# agg_layers = {\n",
    "#     'max': global_max_pool,\n",
    "#     'avg': global_mean_pool\n",
    "# }\n",
    "\n",
    "\n",
    "class LinearRegression(Module):\n",
    "    def __init__(self, in_feats, num_classes):\n",
    "        super(LinearRegression, self).__init__()\n",
    "        self.layer = Linear(in_feats, num_classes)\n",
    "\n",
    "    def forward(self, data):\n",
    "        x, batch = data.x, data.batch\n",
    "        x = gap(x, batch)\n",
    "        \n",
    "        out = self.layer(x)\n",
    "        return out\n",
    "\n",
    "class GraphLinear(Linear):\n",
    "    def forward(self, data, _):\n",
    "        return super().forward(data)\n",
    "    \n",
    "class GraphMLP(Module):\n",
    "    def __init__(self, in_feats, h_feats, num_layers, num_classes, act=None):\n",
    "        super(GraphMLP, self).__init__()\n",
    "        assert num_layers >= 1\n",
    "        channel_list = [h_feats] * (num_layers - 1)\n",
    "        channel_list = [in_feats] + channel_list + [num_classes]\n",
    "        \n",
    "        layers = []\n",
    "        for dims in zip(channel_list[:-1], channel_list[1:]):\n",
    "            layers.append(Linear(*dims))\n",
    "            layers.append(ReLU())\n",
    "        self.act = activations[act]\n",
    "        self.layer = Sequential(*layers)\n",
    "\n",
    "    def forward(self, data):\n",
    "        x, batch = data.x, data.batch\n",
    "        x = gap(x, batch)\n",
    "        \n",
    "        out = self.act(self.layer(x))\n",
    "        return out\n",
    "\n",
    "\n",
    "class GNN(Module):\n",
    "    def __init__(self, in_feats, h_feats, num_classes, num_layers, \n",
    "                 act='none', dropout=0.5, type='gcn'):\n",
    "        super(GNN, self).__init__()\n",
    "        assert num_layers >= 1\n",
    "        layer = gnn_layers[type]\n",
    "        \n",
    "        self.num_layers = num_layers\n",
    "        self.lin = Linear(h_feats, num_classes)\n",
    "        self.dropout = dropout\n",
    "        self.act = activations[act]\n",
    "        self.layers = ModuleList()\n",
    "        channel_list = [h_feats] * num_layers\n",
    "        channel_list = [in_feats] + channel_list\n",
    "        for dims in zip(channel_list[:-1], channel_list[1:]):\n",
    "            self.layers.append(layer(*dims))\n",
    "\n",
    "    def forward(self, data):\n",
    "        # data should have the following 3 attributes\n",
    "        x, edge_index, batch = data.x, data.edge_index, data.batch\n",
    "\n",
    "        for layer in self.layers:\n",
    "            x = layer(x, edge_index)\n",
    "            x = F.relu(x)\n",
    "            x = F.dropout(x, p=self.dropout, training=self.training)            \n",
    "            \n",
    "        x = gap(x, batch)\n",
    "        x = F.dropout(x, p=self.dropout, training=self.training)\n",
    "        x = self.act(self.lin(x))\n",
    "        \n",
    "        return x\n",
    "    \n",
    "\n",
    "class TopKGNN(Module):\n",
    "    def __init__(self, in_feats, h_feats, num_classes, type='graph', act='none'):\n",
    "        super().__init__()\n",
    "        gnn_layer = gnn_layers[type]\n",
    "        \n",
    "        self.conv1 = gnn_layer(in_feats, h_feats)\n",
    "        self.pool1 = TopKPooling(h_feats, ratio=0.8)\n",
    "        self.conv2 = gnn_layer(h_feats, h_feats)\n",
    "        self.pool2 = TopKPooling(h_feats, ratio=0.8)\n",
    "        self.conv3 = gnn_layer(h_feats, h_feats)\n",
    "        self.pool3 = TopKPooling(h_feats, ratio=0.8)\n",
    "\n",
    "        self.lin1 = torch.nn.Linear(h_feats * 2, h_feats)\n",
    "        self.lin2 = torch.nn.Linear(h_feats, h_feats // 2)\n",
    "        self.lin3 = torch.nn.Linear(h_feats // 2, num_classes)\n",
    "        \n",
    "        self.act = activations[act]\n",
    "\n",
    "    def forward(self, data):\n",
    "        x, edge_index, batch = data.x, data.edge_index, data.batch\n",
    "\n",
    "        x = F.relu(self.conv1(x, edge_index))\n",
    "        x, edge_index, _, batch, _, _ = self.pool1(x, edge_index, None, batch)\n",
    "        x1 = torch.cat([gmp(x, batch), gap(x, batch)], dim=1)\n",
    "\n",
    "        x = F.relu(self.conv2(x, edge_index))\n",
    "        x, edge_index, _, batch, _, _ = self.pool2(x, edge_index, None, batch)\n",
    "        x2 = torch.cat([gmp(x, batch), gap(x, batch)], dim=1)\n",
    "\n",
    "        x = F.relu(self.conv3(x, edge_index))\n",
    "        x, edge_index, _, batch, _, _ = self.pool3(x, edge_index, None, batch)\n",
    "        x3 = torch.cat([gmp(x, batch), gap(x, batch)], dim=1)\n",
    "\n",
    "        x = x1 + x2 + x3\n",
    "\n",
    "        x = F.relu(self.lin1(x))\n",
    "        x = F.dropout(x, p=0.5, training=self.training)\n",
    "        x = F.relu(self.lin2(x))\n",
    "        # x = self.lin3(x)\n",
    "        x = self.act(self.lin3(x))\n",
    "        return x\n",
    "\n",
    "class DGCNN(torch.nn.Module):\n",
    "    def __init__(self, in_feats, hidden_channels, num_classes, num_layers,\n",
    "                 train_dataset, GNN=GCNConv, k=0.6, act='none'):\n",
    "        super().__init__()\n",
    "\n",
    "        if k < 1:  # Transform percentile to number.\n",
    "            num_nodes = sorted([data.num_nodes for data in train_dataset])\n",
    "            k = num_nodes[int(math.ceil(k * len(num_nodes))) - 1]\n",
    "            k = max(10, k)\n",
    "        self.k = int(k)\n",
    "\n",
    "        self.convs = ModuleList()\n",
    "        self.convs.append(GNN(in_feats, hidden_channels))\n",
    "        for i in range(0, num_layers - 1):\n",
    "            self.convs.append(GNN(hidden_channels, hidden_channels))\n",
    "        self.convs.append(GNN(hidden_channels, 1))\n",
    "\n",
    "        conv1d_channels = [16, 32]\n",
    "        total_latent_dim = hidden_channels * num_layers + 1\n",
    "        conv1d_kws = [total_latent_dim, 5]\n",
    "        self.conv1 = Conv1d(1, conv1d_channels[0], conv1d_kws[0],\n",
    "                            conv1d_kws[0])\n",
    "        self.maxpool1d = MaxPool1d(2, 2)\n",
    "        self.conv2 = Conv1d(conv1d_channels[0], conv1d_channels[1],\n",
    "                            conv1d_kws[1], 1)\n",
    "        dense_dim = int((self.k - 2) / 2 + 1)\n",
    "        dense_dim = (dense_dim - conv1d_kws[1] + 1) * conv1d_channels[1]\n",
    "        self.mlp = MLP([dense_dim, 128, num_classes], dropout=0.5, batch_norm=False)\n",
    "        self.act = activations[act]\n",
    "\n",
    "    def forward(self, data):\n",
    "        x, edge_index, batch = data.x, data.edge_index, data.batch\n",
    "        xs = [x]\n",
    "        for conv in self.convs:\n",
    "            xs += [conv(xs[-1], edge_index).tanh()]\n",
    "        x = torch.cat(xs[1:], dim=-1)\n",
    "\n",
    "        # Global pooling.\n",
    "        x = gsp(x, batch, self.k)\n",
    "        x = x.unsqueeze(1)  # [num_graphs, 1, k * hidden]\n",
    "        x = self.conv1(x).relu()\n",
    "        x = self.maxpool1d(x)\n",
    "        x = self.conv2(x).relu()\n",
    "        x = x.view(x.size(0), -1)  # [num_graphs, dense_dim]\n",
    "\n",
    "        return self.act(self.mlp(x))\n",
    "\n",
    "\n",
    "class GNNBetMLP(Module):\n",
    "    def __init__(self, nhid,dropout):\n",
    "        super(GNNBetMLP, self).__init__()\n",
    "        self.dropout = dropout\n",
    "        self.linear1 = torch.nn.Linear(nhid,2*nhid)\n",
    "        self.linear2 = torch.nn.Linear(2*nhid,2*nhid)\n",
    "        self.linear3 = torch.nn.Linear(2*nhid,1)\n",
    "\n",
    "\n",
    "    def forward(self,input_vec,dropout):\n",
    "\n",
    "        score_temp = F.relu(self.linear1(input_vec))\n",
    "        score_temp = F.dropout(score_temp,self.dropout)\n",
    "        score_temp = F.relu(self.linear2(score_temp))\n",
    "        score_temp = F.dropout(score_temp,self.dropout)\n",
    "        score_temp = self.linear3(score_temp)\n",
    "\n",
    "        return score_temp\n",
    "    \n",
    "\n",
    "# Only for single output\n",
    "class GNNBetFullMLP(GNN):\n",
    "    def __init__(self, in_feats, h_feats, num_layers, dropout, agg='gcn'):\n",
    "        super(GNNBetFullMLP, self).__init__(in_feats, h_feats, h_feats, \n",
    "                                            num_layers, dropout=dropout, type=agg)\n",
    "        self.score_layer = GNNBetMLP(h_feats * num_layers, self.dropout)\n",
    "\n",
    "    def forward(self, data):\n",
    "        # data should have the following 3 attributes\n",
    "        x, edge_index, batch = data.x, data.edge_index, data.batch\n",
    "        embeddings = []\n",
    "        \n",
    "        #Layers for aggregation operation\n",
    "        for layer in self.layers:\n",
    "            x = layer(x, edge_index)\n",
    "            x = F.relu(x)\n",
    "            x = F.dropout(x, p=self.dropout, training=self.training)\n",
    "            x = F.normalize(x, p=2, dim=1)\n",
    "            x_agg = gap(x, batch)\n",
    "            embeddings.append(x_agg)\n",
    "            \n",
    "        \n",
    "        full_embedding = torch.cat(embeddings, dim=1)\n",
    "        score = self.score_layer(full_embedding, self.dropout)\n",
    "        \n",
    "        return score"
   ]
  },
  {
   "cell_type": "markdown",
   "metadata": {
    "id": "s8XIVW32RQXB"
   },
   "source": [
    "## Graph Regression/Classification"
   ]
  },
  {
   "cell_type": "code",
   "execution_count": null,
   "metadata": {},
   "outputs": [],
   "source": [
    "from sklearn.metrics import r2_score\n",
    "\n",
    "learning_rate = 0.0002\n",
    "h_feats = 32\n",
    "target_index = 0\n",
    "dropout = 0.6\n",
    "num_node_features, num_classes = get_data_stats(train_loader.dataset, target_index)\n",
    "num_layers = 3\n",
    "\n",
    "model = DGCNN(num_node_features, h_feats, num_classes, num_layers, train_loader.dataset)\n",
    "# model = GNNBetFullMLP(num_node_features, h_feats, num_layers, dropout)\n",
    "# model = GNN(num_node_features, h_feats, num_classes, num_layers, act='logsoft')\n",
    "# model = TopKGNN(num_node_features, h_feats, num_classes)\n",
    "# model = GraphMLP(num_node_features, h_feats, num_layers, num_classes)\n",
    "# model = LinearRegression(num_node_features, num_classes)\n",
    "print(model)\n",
    "optimizer = torch.optim.Adam(model.parameters(), lr=learning_rate)\n",
    "criterion = torch.nn.MSELoss() if num_classes == 1 else torch.nn.NLLLoss()\n",
    "\n",
    "def train():\n",
    "    model.train()\n",
    "\n",
    "    for data in train_loader:  # Iterate in batches over the training dataset.\n",
    "        optimizer.zero_grad()  # Clear gradients.\n",
    "        out = model(data)  # Perform a single forward pass.\n",
    "        target = data.y.unsqueeze(1).float() if num_classes == 1 else data.y[:,target_index].long()\n",
    "        loss = criterion(out, target)  # Compute the loss.\n",
    "        loss.backward()  # Derive gradients.\n",
    "        optimizer.step()  # Update parameters based on gradients.\n",
    "\n",
    "def test(loader):\n",
    "    model.eval()\n",
    "\n",
    "    correct = 0\n",
    "    for data in loader:  # Iterate in batches over the training/test dataset.\n",
    "        out = model(data)\n",
    "        if num_classes == 1:\n",
    "            out = out.squeeze(1).cpu().detach()\n",
    "            correct += r2_score(data.y.cpu().detach(), out)  # Check correlation against ground-truth.\n",
    "        else:\n",
    "            pred = out.argmax(dim=1)  # Use the class with highest probability.\n",
    "            correct += int((pred == data.y[:,target_index]).sum())  # Check against ground-truth labels.\n",
    "    return correct / len(loader.dataset)  # Derive average correlation.\n",
    "\n",
    "num_epochs = 100\n",
    "print_every = 1\n",
    "train_losses = []\n",
    "test_losses = []\n",
    "for epoch in range(num_epochs):\n",
    "    train()\n",
    "    train_acc = test(train_loader)\n",
    "    test_acc = test(test_loader)\n",
    "    if (epoch + 1) % print_every == 0:\n",
    "            start = len(train_losses) - print_every\n",
    "            mean_train = np.mean(train_losses[start:])\n",
    "            mean_test = np.mean(test_losses[start:])\n",
    "            print(f'Epoch: {epoch + 1:03d}, Train: {mean_train:.4f}, Val: {mean_test:.4f}')\n",
    "    train_losses.append(train_acc)\n",
    "    test_losses.append(test_acc)"
   ]
  },
  {
   "cell_type": "markdown",
   "metadata": {},
   "source": [
    "# .."
   ]
  },
  {
   "cell_type": "code",
   "execution_count": 32,
   "metadata": {},
   "outputs": [],
   "source": [
    "from torch_geometric.loader import DataLoader \n",
    "import torch_geometric.transforms as T\n",
    "\n",
    "def create_dual_cities_dataset(normalize=True):\n",
    "    ssx_dual_dataset = torch.load(f'{dataset_root}/ssx_dataset_dual.pt')\n",
    "    traffic_df = pd.read_csv(f'{dataset_root}/local_authority_traffic.csv')\n",
    "    traffic_places = traffic_df[traffic_df['year']==2011]['local_authority_name'].values\n",
    "    ssx_places = [data.place for data in ssx_dual_dataset]\n",
    "    \n",
    "    traffic_2011 = traffic_df[traffic_df['year']==2011]\n",
    "    traffic = traffic_2011[traffic_2011['local_authority_name'].isin(ssx_places)]\n",
    "    dataset = []\n",
    "    stat_names = ['cars_and_taxis', 'all_motor_vehicles']\n",
    "    \n",
    "    traffic.loc[:,stat_names] = traffic.loc[:,stat_names].apply(lambda x: (x-x.mean())/ x.std(), axis=0)\n",
    "    for data in ssx_dual_dataset:\n",
    "        if data.place in traffic_places:\n",
    "            data.y = torch.tensor([\n",
    "                traffic[traffic['local_authority_name'] == data.place][stat].values[0] \\\n",
    "                for stat in stat_names\n",
    "            ])\n",
    "            dataset.append(data)\n",
    "    return dataset\n",
    "\n",
    "def process_dataset(dataset, include_feats=None, split=0.8, batch_size=64, verbose=False):\n",
    "    # Reduce data.x to only include_feats if desired\n",
    "    node_attrs = dataset[0].node_attrs\n",
    "    if include_feats and include_feats != node_attrs:\n",
    "        feat_idx = torch.tensor([node_attrs.index(feat) for feat in include_feats])\n",
    "        for data in dataset:\n",
    "            data.num_nodes = data.x.size(0)\n",
    "            data.x = torch.index_select(data.x, 1, feat_idx).float() \\\n",
    "                     if len(feat_idx) > 0 else None\n",
    "    \n",
    "    transform = T.Compose([\n",
    "        T.NormalizeFeatures(),\n",
    "        T.ToDevice(device)\n",
    "    ])\n",
    "\n",
    "    # Train-test split\n",
    "    idx = torch.randperm(len(dataset))\n",
    "    split_idx = math.floor(split * len(dataset))\n",
    "    train_idx = idx[:split_idx]\n",
    "    test_idx = idx[split_idx:]\n",
    "    train_dataset = [transform(dataset[i]) for i in train_idx]\n",
    "    test_dataset = [transform(dataset[i]) for i in test_idx]\n",
    "    if verbose:\n",
    "        print(f'Number of training graphs: {len(train_dataset)}')\n",
    "        print(f'Number of test graphs: {len(test_dataset)}')\n",
    "    \n",
    "    # Load graphs into dataloader\n",
    "    train_loader = DataLoader(train_dataset, batch_size=batch_size, shuffle=True)\n",
    "    test_loader = DataLoader(test_dataset, batch_size=batch_size, shuffle=False)\n",
    "    if verbose:\n",
    "        for step, data in enumerate(train_loader):\n",
    "            print(f'Step {step + 1}:')\n",
    "            print('=======')\n",
    "            print(f'Number of graphs in the current batch: {data.num_graphs}')\n",
    "            print(data)\n",
    "            print()\n",
    "\n",
    "    return train_dataset, test_dataset, train_loader, test_loader\n"
   ]
  },
  {
   "cell_type": "code",
   "execution_count": 33,
   "metadata": {},
   "outputs": [],
   "source": [
    "from sklearn.metrics import r2_score\n",
    "\n",
    "# model = DGCNN(num_node_features, h_feats, num_classes, num_layers, train_loader.dataset)\n",
    "# model = GNNBetFullMLP(num_node_features, h_feats, num_layers, dropout)\n",
    "# model = GNN(num_node_features, h_feats, num_classes, num_layers, act='logsoft')\n",
    "# model = TopKGNN(num_node_features, h_feats, num_classes)\n",
    "# model = GraphMLP(num_node_features, h_feats, num_layers, num_classes)\n",
    "# model = LinearRegression(num_node_features, num_classes)\n",
    "# print(model)\n",
    "\n",
    "def train(model, train_loader, optimizer, criterion):\n",
    "    model.train()\n",
    "    total_loss = 0\n",
    "    for data in train_loader:  # Iterate in batches over the training dataset.\n",
    "        optimizer.zero_grad()  # Clear gradients.\n",
    "        out = model(data.x, data.edge_index, data.batch) # Perform a single forward pass.\n",
    "        # target = data.y.unsqueeze(1).float() if num_classes == 1 else data.y[:,target_index].long()\n",
    "        loss = criterion(out.squeeze(), data.y.float())  # Compute the loss.\n",
    "        loss.backward()  # Derive gradients.\n",
    "        optimizer.step()  # Update parameters based on gradients.\n",
    "        total_loss += loss.item()\n",
    "    return total_loss / len(train_loader)\n",
    "\n",
    "def test(model, loader, criterion):\n",
    "    model.eval()\n",
    "\n",
    "    correct = 0\n",
    "    for data in loader:  # Iterate in batches over the training/test dataset.\n",
    "        out = model(data.x, data.edge_index, data.batch)\n",
    "        # if num_classes == 1:\n",
    "        out = out.squeeze().cpu().detach()\n",
    "        correct += criterion(data.y.cpu().detach(), out)  # Check correlation against ground-truth.\n",
    "        # else:\n",
    "        #     pred = out.argmax(dim=1)  # Use the class with highest probability.\n",
    "        #     correct += int((pred == data.y[:,target_index]).sum())  # Check against ground-truth labels.\n",
    "    return correct / len(loader)  # Derive average correlation.\n",
    "\n",
    "# num_epochs = 100\n",
    "# print_every = 1\n",
    "# train_losses = []\n",
    "# test_losses = []\n",
    "# for epoch in range(num_epochs):\n",
    "#     train()\n",
    "#     train_acc = test(train_loader)\n",
    "#     test_acc = test(test_loader)\n",
    "#     if (epoch + 1) % print_every == 0:\n",
    "#             start = len(train_losses) - print_every\n",
    "#             mean_train = np.mean(train_losses[start:])\n",
    "#             mean_test = np.mean(test_losses[start:])\n",
    "#             print(f'Epoch: {epoch + 1:03d}, Train: {mean_train:.4f}, Val: {mean_test:.4f}')\n",
    "#     train_losses.append(train_acc)\n",
    "#     test_losses.append(test_acc)"
   ]
  },
  {
   "cell_type": "code",
   "execution_count": 38,
   "metadata": {},
   "outputs": [],
   "source": [
    "from models.pool import PoolGNN\n",
    "from utils.seed import seed_everything\n",
    "import time\n",
    "\n",
    "def run(\n",
    "    dataset,\n",
    "    data_process_args = {},\n",
    "    model_args = {\n",
    "        'model_type': 'gat', \n",
    "        'pool_type': 'add', \n",
    "        'model_kwargs': {\n",
    "            'hidden_channels': 10,\n",
    "            'num_layers': 2\n",
    "        },\n",
    "        'pool_kwargs': {}\n",
    "    },\n",
    "    seed=42,\n",
    "    num_iter=5,\n",
    "    epochs=1000,\n",
    "    print_every=10,\n",
    "    lr=0.001,\n",
    "    schedule_lr=True\n",
    "):\n",
    "    \"\"\"\n",
    "        Trainer for batched graph train-test split.\n",
    "        \n",
    "        Args:\n",
    "        data_process_args (dict): Optional keywords for data preprocessing/batching\n",
    "            split, hold_out_edge_ratio, batch_size, include_feats, add_deg_feats\n",
    "        model_args (dict): Keyword arguments to modify the model including:\n",
    "            out_channels (int): Latent variable dimension.\n",
    "                (default: 10)\n",
    "            model_type (str, optional): Type of gnn layer to use in the encoder.\n",
    "                (default: 'gat')\n",
    "            distmult (bool, optional): To set the decoder to DistMult. Defaults \n",
    "            to inner product.\n",
    "                (default: False)\n",
    "            linear (bool, optional): (default: False)\n",
    "            variational (bool, optional): (default False)\n",
    "            + Parameters to pass to torch's BasicGNN models (jk, num_layers, etc.)\n",
    "    \"\"\"\n",
    "    if seed:\n",
    "        seed_everything(seed)\n",
    "        \n",
    "    data_process_args.update({\n",
    "        'split': 0.8,\n",
    "        'batch_size': 1,\n",
    "        'verbose': False\n",
    "    })\n",
    "    if type(dataset) is tuple:\n",
    "        # Assume already processed via process_dataset\n",
    "        train_dataset, test_dataset, train_loader, test_loader = dataset\n",
    "    else:\n",
    "        train_dataset, test_dataset, train_loader, test_loader = process_dataset(dataset, **data_process_args)\n",
    "    in_channels = train_dataset[0].num_node_features\n",
    "    out_channels = len(train_dataset[0].y)\n",
    "    model_args['model_kwargs']['in_channels'] = in_channels\n",
    "    model_args['model_kwargs']['out_channels'] = out_channels\n",
    "    criterion = torch.nn.MSELoss()\n",
    "    \n",
    "    # Logging\n",
    "    results = []\n",
    "    models = []\n",
    "    \n",
    "    for i in range(1, num_iter + 1):\n",
    "        print(f'Running iteration {i} of expt {data_process_args}, {model_args}')\n",
    "        start_time = time.time()\n",
    "        epoch_start_time = start_time\n",
    "        \n",
    "        # Initialize a new model every iteration\n",
    "        model = PoolGNN(**model_args)\n",
    "        model = model.to(device)\n",
    "        model.data_process_args = data_process_args\n",
    "        optimizer = torch.optim.Adam(model.parameters(), lr=lr)\n",
    "        if schedule_lr:\n",
    "            scheduler = torch.optim.lr_scheduler.ReduceLROnPlateau(optimizer, 'min', factor=0.5, min_lr=0.00001)\n",
    "        \n",
    "        result_dict = {'Train Loss': [], 'Test Loss': []}\n",
    "        for epoch in range(1, epochs + 1):\n",
    "            loss = train(model, train_loader, optimizer, criterion)\n",
    "            # Transductive metrics\n",
    "            val_loss = test(model, test_dataset, criterion)\n",
    "            \n",
    "            # Logging\n",
    "            result_dict['Train Loss'].append(loss)\n",
    "            result_dict['Test Loss'].append(val_loss)\n",
    "             \n",
    "            if schedule_lr:\n",
    "                # Reduce LR if the target metric decreased\n",
    "                scheduler.step(val_loss)\n",
    "                \n",
    "            if epoch % print_every == 0:\n",
    "                sec_per_epoch = (time.time() - epoch_start_time) / print_every\n",
    "                epoch_start_time = time.time()\n",
    "                epoch_feed = (f'Epoch {epoch:03d} ({sec_per_epoch:.2f}s/epoch): '\n",
    "                f'Train Loss: {loss:.4f}, Test Loss: {val_loss:.4f}')\n",
    "                print(epoch_feed)\n",
    "        \n",
    "        result_df = pd.DataFrame.from_records([{\n",
    "            key: result_dict[key][-1]\n",
    "            for key in result_dict\n",
    "            if len(result_dict[key]) > 0\n",
    "        }])\n",
    "        \n",
    "        sec_per_epoch = (time.time() - start_time) / epochs\n",
    "        print(f'Iteration {i} done, averaged {sec_per_epoch:.3f}s per epoch. Results:')\n",
    "        display(result_df)\n",
    "        # roc_curve, pr_curve = test_curve(model, )\n",
    "        # result_dict['roc_curve'] = roc_curve\n",
    "        # result_dict['pr_curve'] = pr_curve\n",
    "        result_dict['sec_per_epoch'] = sec_per_epoch\n",
    "        result_dict['model_details'] = model.__repr__()\n",
    "        results.append(result_dict)\n",
    "        models.append(model)\n",
    "    \n",
    "    return models, results"
   ]
  },
  {
   "cell_type": "code",
   "execution_count": 1,
   "metadata": {},
   "outputs": [
    {
     "ename": "NameError",
     "evalue": "name 'create_dual_cities_dataset' is not defined",
     "output_type": "error",
     "traceback": [
      "\u001b[0;31m---------------------------------------------------------------------------\u001b[0m",
      "\u001b[0;31mNameError\u001b[0m                                 Traceback (most recent call last)",
      "Input \u001b[0;32mIn [1]\u001b[0m, in \u001b[0;36m<cell line: 1>\u001b[0;34m()\u001b[0m\n\u001b[1;32m      2\u001b[0m data_process_args \u001b[38;5;241m=\u001b[39m {\n\u001b[1;32m      3\u001b[0m     \u001b[38;5;124m'\u001b[39m\u001b[38;5;124minclude_feats\u001b[39m\u001b[38;5;124m'\u001b[39m: [\u001b[38;5;124m'\u001b[39m\u001b[38;5;124mchoice2kmrank\u001b[39m\u001b[38;5;124m'\u001b[39m, \u001b[38;5;124m'\u001b[39m\u001b[38;5;124mchoice10kmrank\u001b[39m\u001b[38;5;124m'\u001b[39m,\u001b[38;5;124m'\u001b[39m\u001b[38;5;124mintegration10kmrank\u001b[39m\u001b[38;5;124m'\u001b[39m, \u001b[38;5;124m'\u001b[39m\u001b[38;5;124mintegration2kmrank\u001b[39m\u001b[38;5;124m'\u001b[39m]\n\u001b[1;32m      4\u001b[0m }\n\u001b[1;32m      6\u001b[0m model_args \u001b[38;5;241m=\u001b[39m {\n\u001b[1;32m      7\u001b[0m     \u001b[38;5;124m'\u001b[39m\u001b[38;5;124mmodel_type\u001b[39m\u001b[38;5;124m'\u001b[39m: model_type,\n\u001b[1;32m      8\u001b[0m     \u001b[38;5;124m'\u001b[39m\u001b[38;5;124mpool_type\u001b[39m\u001b[38;5;124m'\u001b[39m: \u001b[38;5;124m'\u001b[39m\u001b[38;5;124madd\u001b[39m\u001b[38;5;124m'\u001b[39m, \n\u001b[0;32m   (...)\u001b[0m\n\u001b[1;32m     13\u001b[0m     \u001b[38;5;124m'\u001b[39m\u001b[38;5;124mpool_kwargs\u001b[39m\u001b[38;5;124m'\u001b[39m: {}\n\u001b[1;32m     14\u001b[0m }\n\u001b[0;32m---> 15\u001b[0m dataset \u001b[38;5;241m=\u001b[39m \u001b[43mcreate_dual_cities_dataset\u001b[49m()\n\u001b[1;32m     16\u001b[0m run(dataset, \n\u001b[1;32m     17\u001b[0m     data_process_args, \n\u001b[1;32m     18\u001b[0m     model_args\u001b[38;5;241m=\u001b[39mmodel_args, \n\u001b[1;32m     19\u001b[0m     num_iter\u001b[38;5;241m=\u001b[39m\u001b[38;5;241m3\u001b[39m)\n",
      "\u001b[0;31mNameError\u001b[0m: name 'create_dual_cities_dataset' is not defined"
     ]
    }
   ],
   "source": [
    "for model_type in ['gat', 'gcn', 'gain']:\n",
    "    data_process_args = {\n",
    "        'include_feats': ['choice2kmrank', 'choice10kmrank','integration10kmrank', 'integration2kmrank']\n",
    "    }\n",
    "\n",
    "    model_args = {\n",
    "        'model_type': model_type,\n",
    "        'pool_type': 'add', \n",
    "        'model_kwargs': {\n",
    "            'hidden_channels': 10,\n",
    "            'num_layers': 2\n",
    "        },\n",
    "        'pool_kwargs': {}\n",
    "    }\n",
    "    dataset = create_dual_cities_dataset()\n",
    "    run(dataset, \n",
    "        data_process_args, \n",
    "        model_args=model_args, \n",
    "        num_iter=3)"
   ]
  },
  {
   "cell_type": "code",
   "execution_count": null,
   "metadata": {},
   "outputs": [],
   "source": []
  }
 ],
 "metadata": {
  "accelerator": "GPU",
  "colab": {
   "collapsed_sections": [],
   "name": "project.ipynb",
   "provenance": []
  },
  "kernelspec": {
   "display_name": "Python 3 (ipykernel)",
   "language": "python",
   "name": "python3"
  },
  "language_info": {
   "codemirror_mode": {
    "name": "ipython",
    "version": 3
   },
   "file_extension": ".py",
   "mimetype": "text/x-python",
   "name": "python",
   "nbconvert_exporter": "python",
   "pygments_lexer": "ipython3",
   "version": "3.8.10"
  }
 },
 "nbformat": 4,
 "nbformat_minor": 4
}
