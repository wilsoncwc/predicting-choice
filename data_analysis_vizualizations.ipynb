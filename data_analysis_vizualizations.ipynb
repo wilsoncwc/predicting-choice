{
 "cells": [
  {
   "cell_type": "code",
   "execution_count": 2,
   "id": "81d03eb4-bd6d-47f5-b98a-6948c21eef82",
   "metadata": {},
   "outputs": [
    {
     "data": {
      "text/plain": [
       "tensor([[0, 1, 1, 2, 3, 4, 3, 5],\n",
       "        [1, 0, 2, 1, 4, 3, 5, 3]])"
      ]
     },
     "execution_count": 2,
     "metadata": {},
     "output_type": "execute_result"
    }
   ],
   "source": [
    "import torch\n",
    "import torch.nn as nn\n",
    "import torch.nn.functional as F\n",
    "import matplotlib.pyplot as plt\n",
    "import numpy as np\n",
    "import math\n",
    "import torch_geometric\n",
    "import geopandas as gpd\n",
    "import pandas as pd\n",
    "import osmnx as ox\n",
    "import momepy\n",
    "import fiona\n",
    "import networkx as nx\n",
    "from torch_geometric.data import Data, Batch\n",
    "from torch_geometric.transforms import RandomLinkSplit, LocalDegreeProfile\n",
    "# from \n",
    "\n",
    "edge_index = torch.tensor([[0, 1, 1, 2],\n",
    "                           [1, 0, 2, 1]], dtype=torch.long)\n",
    "x = torch.tensor([[-1], [0], [1]], dtype=torch.float)\n",
    "\n",
    "data1 = Data(x=x, edge_index=edge_index)\n",
    "\n",
    "edge_index2 = torch.tensor([[0, 1, 0, 2],\n",
    "                           [1, 0, 2, 0]], dtype=torch.long)\n",
    "\n",
    "data2 = Data(x=x, edge_index=edge_index2)\n",
    "\n",
    "data_batch = Batch.from_data_list([data1, data2])\n",
    "data_batch.edge_index"
   ]
  },
  {
   "cell_type": "code",
   "execution_count": 2,
   "id": "04e26e05-f1dc-4820-be66-85494eec97dd",
   "metadata": {},
   "outputs": [
    {
     "data": {
      "text/plain": [
       "(tensor([[0, 1, 3, 3],\n",
       "         [1, 2, 5, 4]]),\n",
       " tensor([[0, 2, 4, 5],\n",
       "         [2, 0, 5, 4]]))"
      ]
     },
     "execution_count": 2,
     "metadata": {},
     "output_type": "execute_result"
    }
   ],
   "source": [
    "# Experiment to confirm that batching increments pos and neg edge indexes\n",
    "t = RandomLinkSplit(num_val=0, num_test=0, is_undirected=True, split_labels=True)\n",
    "t_data1, t_data2 = t(data1)[0], t(data2)[0]\n",
    "data_batch = Batch.from_data_list([t_data1, t_data2])\n",
    "data_batch.pos_edge_label_index, data_batch.neg_edge_label_index"
   ]
  },
  {
   "cell_type": "code",
   "execution_count": 5,
   "id": "15840deb-8240-4b4d-8f73-b64c73513702",
   "metadata": {},
   "outputs": [
    {
     "name": "stdout",
     "output_type": "stream",
     "text": [
      "6\n",
      "tensor([[-2.0000,  3.0000,  1.0000,  2.0000,  1.3333,  0.5774],\n",
      "        [-1.0000,  2.0000,  2.0000,  3.0000,  2.5000,  0.7071],\n",
      "        [ 0.0000,  1.0000,  3.0000,  3.0000,  3.0000,  0.0000],\n",
      "        [ 1.0000,  1.0000,  3.0000,  3.0000,  3.0000,  0.0000],\n",
      "        [ 2.0000,  1.0000,  2.0000,  2.0000,  2.0000,  0.0000],\n",
      "        [ 3.0000,  2.0000,  1.0000,  2.0000,  1.5000,  0.7071]])\n",
      "tensor([[-2.0000,  3.0000,  1.0000,  2.0000,  1.3333,  0.5774,  2.0000,  1.0000,\n",
      "          2.0000,  1.5000,  0.7071],\n",
      "        [-1.0000,  2.0000,  2.0000,  3.0000,  2.5000,  0.7071,  2.0000,  2.0000,\n",
      "          2.0000,  2.0000,  0.0000],\n",
      "        [ 0.0000,  1.0000,  3.0000,  3.0000,  3.0000,  0.0000,  0.0000,  0.0000,\n",
      "          0.0000,  0.0000,  0.0000],\n",
      "        [ 1.0000,  1.0000,  3.0000,  3.0000,  3.0000,  0.0000,  1.0000,  2.0000,\n",
      "          2.0000,  2.0000,  0.0000],\n",
      "        [ 2.0000,  1.0000,  2.0000,  2.0000,  2.0000,  0.0000,  1.0000,  2.0000,\n",
      "          2.0000,  2.0000,  0.0000],\n",
      "        [ 3.0000,  2.0000,  1.0000,  2.0000,  1.5000,  0.7071,  2.0000,  1.0000,\n",
      "          2.0000,  1.5000,  0.7071]])\n"
     ]
    }
   ],
   "source": [
    "# Using LDP before and after split\n",
    "\n",
    "disjoint_ratio=0.2\n",
    "neg_sampling_ratio=1/disjoint_ratio\n",
    "\n",
    "x = torch.tensor([[-2], [-1], [0], [1], [2], [3]], dtype=torch.float)\n",
    "\n",
    "edge_index2 = torch.tensor([[0, 1, 0, 2, 4, 5, 0, 3, 1, 5],\n",
    "                            [1, 0, 2, 0, 5, 4, 3, 0, 5, 1]], dtype=torch.long)\n",
    "\n",
    "data = Data(x=x, edge_index=edge_index2)\n",
    "\n",
    "t = RandomLinkSplit(num_val=0, num_test=0, disjoint_train_ratio=disjoint_ratio,\n",
    "                          neg_sampling_ratio=neg_sampling_ratio, split_labels=True, is_undirected=True)\n",
    "print(data.num_nodes)\n",
    "t_deg = LocalDegreeProfile()\n",
    "t_data1 = t_deg(data)\n",
    "print(t_data1.x)\n",
    "t_data2 = t_deg(t(data)[0])\n",
    "print(t_data2.x)"
   ]
  },
  {
   "cell_type": "code",
   "execution_count": null,
   "id": "0702e8d4-1e10-4e70-b232-88bec939aba1",
   "metadata": {},
   "outputs": [],
   "source": [
    "t = RandomLinkSplit(num_val=0, num_test=0, is_undirected=True, split_labels=True)\n",
    "t_data1, t_data2 = t(data1)[0], t(data2)[0]\n",
    "data_batch = Batch.from_data_list([t_data1, t_data2])\n",
    "data_batch.pos_edge_label_index, data_batch.neg_edge_label_index"
   ]
  },
  {
   "cell_type": "code",
   "execution_count": 2,
   "id": "e7e9c74c-6beb-4764-ac96-0375d9156dc6",
   "metadata": {},
   "outputs": [
    {
     "data": {
      "text/plain": [
       "(0.6666666666666665, 0.6, 0.75)"
      ]
     },
     "execution_count": 2,
     "metadata": {},
     "output_type": "execute_result"
    }
   ],
   "source": [
    "y = torch.tensor([0, 1, 1, 1, 0, 0, 1])\n",
    "pred = torch.tensor([1, 1, 0, 1, 0, 1, 1])\n",
    "from sklearn.metrics import f1_score, precision_score, recall_score\n",
    "\n",
    "f1_score(y, pred), precision_score(y, pred), recall_score(y, pred)"
   ]
  },
  {
   "cell_type": "code",
   "execution_count": 4,
   "id": "2228d88a-f55a-45d0-b369-832adae83f1f",
   "metadata": {},
   "outputs": [
    {
     "name": "stdout",
     "output_type": "stream",
     "text": [
      "tensor([[4, 0, 0, 1, 5, 2, 1, 5],\n",
      "        [5, 2, 1, 5, 4, 0, 0, 1]])\n",
      "tensor([1.])\n",
      "tensor([[0],\n",
      "        [3]])\n",
      "tensor([0., 0., 0., 0., 0.])\n",
      "tensor([[0, 1, 4, 1, 3],\n",
      "        [4, 4, 0, 2, 2]])\n",
      "tensor(4) tensor(5)\n",
      "tensor(0) tensor(2)\n",
      "tensor(0) tensor(1)\n",
      "tensor(1) tensor(5)\n",
      "tensor(5) tensor(4)\n",
      "tensor(2) tensor(0)\n",
      "tensor(1) tensor(0)\n",
      "tensor(5) tensor(1)\n"
     ]
    }
   ],
   "source": [
    "disjoint_ratio=0.2\n",
    "neg_sampling_ratio=1/disjoint_ratio\n",
    "\n",
    "x = torch.tensor([[-2], [-1], [0], [1], [2]], dtype=torch.float)\n",
    "\n",
    "edge_index2 = torch.tensor([[0, 1, 0, 2, 4, 5, 0, 3, 1, 5],\n",
    "                            [1, 0, 2, 0, 5, 4, 3, 0, 5, 1]], dtype=torch.long)\n",
    "\n",
    "data = Data(x=x, edge_index=edge_index2)\n",
    "\n",
    "t = RandomLinkSplit(num_val=0, num_test=0, disjoint_train_ratio=disjoint_ratio,\n",
    "                          neg_sampling_ratio=neg_sampling_ratio, split_labels=True, is_undirected=True)\n",
    "t_data1 = t(data)[0]\n",
    "print(t_data1.edge_index)\n",
    "print(t_data1.pos_edge_label)\n",
    "print(t_data1.pos_edge_label_index)\n",
    "print(t_data1.neg_edge_label)\n",
    "print(t_data1.neg_edge_label_index)\n",
    "for u, v in zip(t_data1.edge_index[0], t_data1.edge_index[1]):\n",
    "    print(u, v)"
   ]
  },
  {
   "cell_type": "code",
   "execution_count": null,
   "id": "4e1deaa4-b1de-4187-b6e7-0d159c68200a",
   "metadata": {},
   "outputs": [],
   "source": []
  }
 ],
 "metadata": {
  "kernelspec": {
   "display_name": "Python 3 (ipykernel)",
   "language": "python",
   "name": "python3"
  },
  "language_info": {
   "codemirror_mode": {
    "name": "ipython",
    "version": 3
   },
   "file_extension": ".py",
   "mimetype": "text/x-python",
   "name": "python",
   "nbconvert_exporter": "python",
   "pygments_lexer": "ipython3",
   "version": "3.8.10"
  }
 },
 "nbformat": 4,
 "nbformat_minor": 5
}
